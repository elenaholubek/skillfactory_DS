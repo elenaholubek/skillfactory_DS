{
 "cells": [
  {
   "cell_type": "code",
   "execution_count": 76,
   "metadata": {},
   "outputs": [],
   "source": [
    "from pandas import Series\n",
    "import pandas as pd\n",
    "import numpy as np\n",
    "\n",
    "import matplotlib.pyplot as plt\n",
    "import seaborn as sns\n",
    "\n",
    "from sklearn.feature_selection import f_classif, mutual_info_classif\n",
    "from sklearn.preprocessing import LabelEncoder, OneHotEncoder, StandardScaler\n",
    "\n",
    "from sklearn.model_selection import train_test_split\n",
    "from sklearn.linear_model import LogisticRegression\n",
    "\n",
    "from sklearn.metrics import confusion_matrix\n",
    "from sklearn.metrics import auc, roc_auc_score, roc_curve\n"
   ]
  },
  {
   "cell_type": "code",
   "execution_count": 77,
   "metadata": {},
   "outputs": [],
   "source": [
    "data = pd.read_csv(\"train.csv\")\n",
    "data_test = pd.read_csv(\"test.csv\")\n"
   ]
  },
  {
   "cell_type": "code",
   "execution_count": 78,
   "metadata": {},
   "outputs": [
    {
     "name": "stdout",
     "output_type": "stream",
     "text": [
      "<class 'pandas.core.frame.DataFrame'>\n",
      "RangeIndex: 73799 entries, 0 to 73798\n",
      "Data columns (total 19 columns):\n",
      " #   Column            Non-Null Count  Dtype  \n",
      "---  ------            --------------  -----  \n",
      " 0   client_id         73799 non-null  int64  \n",
      " 1   app_date          73799 non-null  object \n",
      " 2   education         73492 non-null  object \n",
      " 3   sex               73799 non-null  object \n",
      " 4   age               73799 non-null  int64  \n",
      " 5   car               73799 non-null  object \n",
      " 6   car_type          73799 non-null  object \n",
      " 7   decline_app_cnt   73799 non-null  int64  \n",
      " 8   good_work         73799 non-null  int64  \n",
      " 9   score_bki         73799 non-null  float64\n",
      " 10  bki_request_cnt   73799 non-null  int64  \n",
      " 11  region_rating     73799 non-null  int64  \n",
      " 12  home_address      73799 non-null  int64  \n",
      " 13  work_address      73799 non-null  int64  \n",
      " 14  income            73799 non-null  int64  \n",
      " 15  sna               73799 non-null  int64  \n",
      " 16  first_time        73799 non-null  int64  \n",
      " 17  foreign_passport  73799 non-null  object \n",
      " 18  default           73799 non-null  int64  \n",
      "dtypes: float64(1), int64(12), object(6)\n",
      "memory usage: 10.7+ MB\n"
     ]
    }
   ],
   "source": [
    "data.info()\n"
   ]
  },
  {
   "cell_type": "code",
   "execution_count": 79,
   "metadata": {},
   "outputs": [
    {
     "name": "stdout",
     "output_type": "stream",
     "text": [
      "<class 'pandas.core.frame.DataFrame'>\n",
      "RangeIndex: 36349 entries, 0 to 36348\n",
      "Data columns (total 18 columns):\n",
      " #   Column            Non-Null Count  Dtype  \n",
      "---  ------            --------------  -----  \n",
      " 0   client_id         36349 non-null  int64  \n",
      " 1   app_date          36349 non-null  object \n",
      " 2   education         36178 non-null  object \n",
      " 3   sex               36349 non-null  object \n",
      " 4   age               36349 non-null  int64  \n",
      " 5   car               36349 non-null  object \n",
      " 6   car_type          36349 non-null  object \n",
      " 7   decline_app_cnt   36349 non-null  int64  \n",
      " 8   good_work         36349 non-null  int64  \n",
      " 9   score_bki         36349 non-null  float64\n",
      " 10  bki_request_cnt   36349 non-null  int64  \n",
      " 11  region_rating     36349 non-null  int64  \n",
      " 12  home_address      36349 non-null  int64  \n",
      " 13  work_address      36349 non-null  int64  \n",
      " 14  income            36349 non-null  int64  \n",
      " 15  sna               36349 non-null  int64  \n",
      " 16  first_time        36349 non-null  int64  \n",
      " 17  foreign_passport  36349 non-null  object \n",
      "dtypes: float64(1), int64(11), object(6)\n",
      "memory usage: 5.0+ MB\n"
     ]
    }
   ],
   "source": [
    "data_test.info()\n"
   ]
  },
  {
   "cell_type": "markdown",
   "metadata": {},
   "source": [
    "поле education имеет пропуски"
   ]
  },
  {
   "cell_type": "code",
   "execution_count": 80,
   "metadata": {},
   "outputs": [
    {
     "data": {
      "text/plain": [
       "(307, 171)"
      ]
     },
     "execution_count": 80,
     "metadata": {},
     "output_type": "execute_result"
    }
   ],
   "source": [
    "data[\"education\"].isnull().sum(), data_test[\"education\"].isnull().sum()\n"
   ]
  },
  {
   "cell_type": "code",
   "execution_count": 81,
   "metadata": {},
   "outputs": [
    {
     "data": {
      "text/plain": [
       "(0.41599479667746175, 0.2317104567812572)"
      ]
     },
     "execution_count": 81,
     "metadata": {},
     "output_type": "execute_result"
    }
   ],
   "source": [
    "data[\"education\"].isnull().sum()/len(data)*100, \\\n",
    "data_test[\"education\"].isnull().sum()/len(data)*100\n"
   ]
  },
  {
   "cell_type": "markdown",
   "metadata": {},
   "source": [
    "4% и 2% соответственно "
   ]
  },
  {
   "cell_type": "markdown",
   "metadata": {},
   "source": [
    "## EDA + PREPROCESSING"
   ]
  },
  {
   "cell_type": "markdown",
   "metadata": {},
   "source": [
    "проведем ускоренный предварительный анализ данных с помощью pandas_profiling, сохранив результат в формате html"
   ]
  },
  {
   "cell_type": "code",
   "execution_count": 82,
   "metadata": {},
   "outputs": [],
   "source": [
    "from pandas_profiling import ProfileReport\n"
   ]
  },
  {
   "cell_type": "code",
   "execution_count": 83,
   "metadata": {},
   "outputs": [],
   "source": [
    "profile = data.profile_report()\n",
    "profile_test = data_test.profile_report()\n"
   ]
  },
  {
   "cell_type": "code",
   "execution_count": 84,
   "metadata": {
    "scrolled": false
   },
   "outputs": [
    {
     "data": {
      "application/vnd.jupyter.widget-view+json": {
       "model_id": "bd4575495a0b40538bdc5550b6bb96a2",
       "version_major": 2,
       "version_minor": 0
      },
      "text/plain": [
       "Summarize dataset:   0%|          | 0/32 [00:00<?, ?it/s]"
      ]
     },
     "metadata": {},
     "output_type": "display_data"
    },
    {
     "data": {
      "application/vnd.jupyter.widget-view+json": {
       "model_id": "570af25931244d42bcff9c1e4ce4d168",
       "version_major": 2,
       "version_minor": 0
      },
      "text/plain": [
       "Generate report structure:   0%|          | 0/1 [00:00<?, ?it/s]"
      ]
     },
     "metadata": {},
     "output_type": "display_data"
    },
    {
     "data": {
      "application/vnd.jupyter.widget-view+json": {
       "model_id": "",
       "version_major": 2,
       "version_minor": 0
      },
      "text/plain": [
       "Render widgets:   0%|          | 0/1 [00:00<?, ?it/s]"
      ]
     },
     "metadata": {},
     "output_type": "display_data"
    },
    {
     "data": {
      "application/vnd.jupyter.widget-view+json": {
       "model_id": "fbcdae207b154103bec79646d3afa371",
       "version_major": 2,
       "version_minor": 0
      },
      "text/plain": [
       "VBox(children=(Tab(children=(Tab(children=(GridBox(children=(VBox(children=(GridspecLayout(children=(HTML(valu…"
      ]
     },
     "metadata": {},
     "output_type": "display_data"
    }
   ],
   "source": [
    "profile.to_widgets()\n"
   ]
  },
  {
   "cell_type": "code",
   "execution_count": 85,
   "metadata": {},
   "outputs": [
    {
     "data": {
      "application/vnd.jupyter.widget-view+json": {
       "model_id": "d63929852deb45bb834ac934d4016972",
       "version_major": 2,
       "version_minor": 0
      },
      "text/plain": [
       "Summarize dataset:   0%|          | 0/31 [00:00<?, ?it/s]"
      ]
     },
     "metadata": {},
     "output_type": "display_data"
    },
    {
     "data": {
      "application/vnd.jupyter.widget-view+json": {
       "model_id": "3eb451282fdf4579b680a802598d83b5",
       "version_major": 2,
       "version_minor": 0
      },
      "text/plain": [
       "Generate report structure:   0%|          | 0/1 [00:00<?, ?it/s]"
      ]
     },
     "metadata": {},
     "output_type": "display_data"
    },
    {
     "data": {
      "application/vnd.jupyter.widget-view+json": {
       "model_id": "",
       "version_major": 2,
       "version_minor": 0
      },
      "text/plain": [
       "Render widgets:   0%|          | 0/1 [00:00<?, ?it/s]"
      ]
     },
     "metadata": {},
     "output_type": "display_data"
    },
    {
     "data": {
      "application/vnd.jupyter.widget-view+json": {
       "model_id": "5683344c446343ae87db14333751d50c",
       "version_major": 2,
       "version_minor": 0
      },
      "text/plain": [
       "VBox(children=(Tab(children=(Tab(children=(GridBox(children=(VBox(children=(GridspecLayout(children=(HTML(valu…"
      ]
     },
     "metadata": {},
     "output_type": "display_data"
    }
   ],
   "source": [
    "profile_test.to_widgets()\n"
   ]
  },
  {
   "cell_type": "code",
   "execution_count": 10,
   "metadata": {},
   "outputs": [
    {
     "data": {
      "application/vnd.jupyter.widget-view+json": {
       "model_id": "958a86c2bc5d49b684d3eabcc6eb2930",
       "version_major": 2,
       "version_minor": 0
      },
      "text/plain": [
       "Render HTML:   0%|          | 0/1 [00:00<?, ?it/s]"
      ]
     },
     "metadata": {},
     "output_type": "display_data"
    },
    {
     "data": {
      "application/vnd.jupyter.widget-view+json": {
       "model_id": "3df93cbf34314af185166befd9146dad",
       "version_major": 2,
       "version_minor": 0
      },
      "text/plain": [
       "Export report to file:   0%|          | 0/1 [00:00<?, ?it/s]"
      ]
     },
     "metadata": {},
     "output_type": "display_data"
    }
   ],
   "source": [
    "# сохраним\n",
    "profile.to_file(\"pred_analysis.html\")\n",
    "profile_test.to_file(\"pred_analysis_test.html\")\n"
   ]
  },
  {
   "cell_type": "markdown",
   "metadata": {},
   "source": [
    "На основе предварительного анализа отметим следующие важные моменты\n",
    "1. Пропуски встречаются только в поле education\n",
    "2. Числовые признаки \"age\", \"decline_app_cnt\",\"bki_request_cnt\", \"income\" имеют распределение с длинным правым хвостом\n",
    "3. Бинарные признаки \"car\", \"car_type\" можно заменить одним категориальным\n",
    "4. Существует корреляция признаков \"home_address\" и \"work_address\""
   ]
  },
  {
   "cell_type": "markdown",
   "metadata": {},
   "source": [
    "******************"
   ]
  },
  {
   "cell_type": "code",
   "execution_count": 86,
   "metadata": {},
   "outputs": [],
   "source": [
    "# прочитаем данные:\n",
    "data_train = pd.read_csv(\"train.csv\")\n",
    "data_test = pd.read_csv(\"test.csv\")\n",
    "\n",
    "# объединяем трейн и тест в один датасет:\n",
    "data_train['train_flag'] = 1 # помечаем где у нас трейн\n",
    "data_test['train_flag'] = 0 # помечаем где у нас тест\n",
    "data_test['default'] = 0 # в тесте у нас нет значения default, мы его должны предсказать, поэтому пока просто заполняем нулями\n",
    "\n",
    "data = data_test.append(data_train, sort=False).reset_index(drop=True) # объединяем"
   ]
  },
  {
   "cell_type": "markdown",
   "metadata": {},
   "source": [
    "## 0. client_id\n",
    "не несет никакой смысловой нагрузки, кроме идентификации, удалим"
   ]
  },
  {
   "cell_type": "code",
   "execution_count": 87,
   "metadata": {},
   "outputs": [],
   "source": [
    "data = data.drop([\"client_id\"], axis = 1)"
   ]
  },
  {
   "cell_type": "markdown",
   "metadata": {},
   "source": [
    "## 1. app_date\n",
    "преобразуем дату в количество дней,  прошедших от даты подачи заявки до условной даты \"сеггодня\", которую определим как дату последней заявки (data_app_date_max)\n",
    "- добавим новый признак \"days_passed\"\n",
    "- удалим \"app_date\""
   ]
  },
  {
   "cell_type": "code",
   "execution_count": 88,
   "metadata": {},
   "outputs": [
    {
     "data": {
      "text/plain": [
       "Timestamp('2014-04-30 00:00:00')"
      ]
     },
     "execution_count": 88,
     "metadata": {},
     "output_type": "execute_result"
    }
   ],
   "source": [
    "# преобразуем даты в числовой признак:\n",
    "data[\"app_date\"] = pd.to_datetime(data[\"app_date\"])\n",
    "data_app_date_max = data.app_date.max()\n",
    "data_app_date_max\n"
   ]
  },
  {
   "cell_type": "markdown",
   "metadata": {},
   "source": [
    "## NEW FEATURE: \"days_passed\""
   ]
  },
  {
   "cell_type": "code",
   "execution_count": 89,
   "metadata": {},
   "outputs": [],
   "source": [
    "data[\"days_passed\"] = (data_app_date_max - data[\"app_date\"]).dt.days + 1\n"
   ]
  },
  {
   "cell_type": "markdown",
   "metadata": {},
   "source": [
    "распределение нового признака \"days_passed\" выглядит так:\n",
    "    "
   ]
  },
  {
   "cell_type": "code",
   "execution_count": 90,
   "metadata": {},
   "outputs": [
    {
     "data": {
      "text/plain": [
       "<matplotlib.axes._subplots.AxesSubplot at 0x7fe8140def10>"
      ]
     },
     "execution_count": 90,
     "metadata": {},
     "output_type": "execute_result"
    },
    {
     "data": {
      "image/png": "[encoded data removed]",
      "text/plain": [
       "<Figure size 432x288 with 1 Axes>"
      ]
     },
     "metadata": {
      "needs_background": "light"
     },
     "output_type": "display_data"
    }
   ],
   "source": [
    "data[\"days_passed\"].hist()\n"
   ]
  },
  {
   "cell_type": "code",
   "execution_count": 91,
   "metadata": {},
   "outputs": [],
   "source": [
    "data = data.drop([\"app_date\"], axis = 1)"
   ]
  },
  {
   "cell_type": "markdown",
   "metadata": {},
   "source": [
    "## 2. education\n",
    "заменим пропуски на \"WOE\"\n",
    "перекодируем признак с помощью OrdinalEncoder"
   ]
  },
  {
   "cell_type": "code",
   "execution_count": 92,
   "metadata": {},
   "outputs": [],
   "source": [
    "data.fillna(\"WOE\", inplace=True)\n"
   ]
  },
  {
   "cell_type": "code",
   "execution_count": 93,
   "metadata": {},
   "outputs": [
    {
     "data": {
      "text/plain": [
       "<matplotlib.axes._subplots.AxesSubplot at 0x7fe81410c280>"
      ]
     },
     "execution_count": 93,
     "metadata": {},
     "output_type": "execute_result"
    },
    {
     "data": {
      "image/png": "[encoded data removed]",
      "text/plain": [
       "<Figure size 432x288 with 1 Axes>"
      ]
     },
     "metadata": {
      "needs_background": "light"
     },
     "output_type": "display_data"
    }
   ],
   "source": [
    "data[\"education\"].hist()"
   ]
  },
  {
   "cell_type": "code",
   "execution_count": 94,
   "metadata": {},
   "outputs": [],
   "source": [
    "from sklearn.preprocessing import OrdinalEncoder\n",
    "ordinal_enc = OrdinalEncoder(categories=[['WOE', 'SCH', 'GRD', 'UGR', 'PGR', 'ACD'],])\n",
    "data[['education']] = ordinal_enc.fit_transform(data[['education']])\n"
   ]
  },
  {
   "cell_type": "code",
   "execution_count": 95,
   "metadata": {},
   "outputs": [
    {
     "data": {
      "text/plain": [
       "1.0    57998\n",
       "2.0    34768\n",
       "3.0    14748\n",
       "4.0     1865\n",
       "0.0      478\n",
       "5.0      291\n",
       "Name: education, dtype: int64"
      ]
     },
     "execution_count": 95,
     "metadata": {},
     "output_type": "execute_result"
    }
   ],
   "source": [
    "data[\"education\"].value_counts()\n"
   ]
  },
  {
   "cell_type": "markdown",
   "metadata": {},
   "source": [
    "## 3. sex\n",
    "бинарный признак, обработаем его ниже одновременно с другими бинарными признаками с помощью LabelEncoder()"
   ]
  },
  {
   "cell_type": "markdown",
   "metadata": {},
   "source": [
    "## 4. age \n",
    "длинный правый хвост, логарифмируем признак вместе с другими числовыми признаками, имеющими такое же распределение"
   ]
  },
  {
   "cell_type": "markdown",
   "metadata": {},
   "source": [
    "## 5. \"car\" \n",
    "бинарный признак - удалим после трансформации\n"
   ]
  },
  {
   "cell_type": "markdown",
   "metadata": {},
   "source": [
    "## 6. \"car_type\"\n",
    "бинарный признак - удалим после трансформации\n"
   ]
  },
  {
   "cell_type": "markdown",
   "metadata": {},
   "source": [
    "## 7. decline_app_cnt\n",
    " "
   ]
  },
  {
   "cell_type": "markdown",
   "metadata": {},
   "source": [
    "прологарифмируем одновременно с другими числовыми признаками, имеющими длинный правый хвост распределения"
   ]
  },
  {
   "cell_type": "markdown",
   "metadata": {},
   "source": [
    "## 8. good_work \n"
   ]
  },
  {
   "cell_type": "markdown",
   "metadata": {},
   "source": [
    "бинарный признак, обработаем вместе с бинарными"
   ]
  },
  {
   "cell_type": "markdown",
   "metadata": {},
   "source": [
    "## 9.   score_bki        \n",
    " "
   ]
  },
  {
   "cell_type": "markdown",
   "metadata": {},
   "source": [
    "оставляем как есть"
   ]
  },
  {
   "cell_type": "markdown",
   "metadata": {},
   "source": [
    "## 10.  bki_request_cnt\n",
    " "
   ]
  },
  {
   "cell_type": "markdown",
   "metadata": {},
   "source": [
    "логарифмируем "
   ]
  },
  {
   "cell_type": "markdown",
   "metadata": {},
   "source": [
    "## 11.  region_rating \n"
   ]
  },
  {
   "cell_type": "markdown",
   "metadata": {},
   "source": [
    "оставляем как есть"
   ]
  },
  {
   "cell_type": "markdown",
   "metadata": {},
   "source": [
    "## 12.  home_address \n",
    " "
   ]
  },
  {
   "cell_type": "markdown",
   "metadata": {},
   "source": [
    "оставляем без изменений"
   ]
  },
  {
   "cell_type": "markdown",
   "metadata": {},
   "source": [
    "## 13.  work_address\n",
    "оставим\n"
   ]
  },
  {
   "cell_type": "markdown",
   "metadata": {},
   "source": [
    "## 14.  income \n",
    "логарифмируем"
   ]
  },
  {
   "cell_type": "markdown",
   "metadata": {},
   "source": [
    "## 15. sna\n",
    " "
   ]
  },
  {
   "cell_type": "code",
   "execution_count": 96,
   "metadata": {},
   "outputs": [
    {
     "data": {
      "text/plain": [
       "<matplotlib.axes._subplots.AxesSubplot at 0x7fe817b1ff40>"
      ]
     },
     "execution_count": 96,
     "metadata": {},
     "output_type": "execute_result"
    },
    {
     "data": {
      "image/png": "[encoded data removed]",
      "text/plain": [
       "<Figure size 432x288 with 1 Axes>"
      ]
     },
     "metadata": {
      "needs_background": "light"
     },
     "output_type": "display_data"
    }
   ],
   "source": [
    "data[\"sna\"].hist()"
   ]
  },
  {
   "cell_type": "markdown",
   "metadata": {},
   "source": [
    "## 16.  first_time\n",
    " "
   ]
  },
  {
   "cell_type": "code",
   "execution_count": 97,
   "metadata": {},
   "outputs": [
    {
     "data": {
      "text/plain": [
       "<matplotlib.axes._subplots.AxesSubplot at 0x7fe817708ca0>"
      ]
     },
     "execution_count": 97,
     "metadata": {},
     "output_type": "execute_result"
    },
    {
     "data": {
      "image/png": "[encoded data removed]",
      "text/plain": [
       "<Figure size 432x288 with 1 Axes>"
      ]
     },
     "metadata": {
      "needs_background": "light"
     },
     "output_type": "display_data"
    }
   ],
   "source": [
    "data[\"first_time\"].hist()"
   ]
  },
  {
   "cell_type": "markdown",
   "metadata": {},
   "source": [
    "## 17.  foreign_passport  \n",
    "обработаем с бинарными признаками"
   ]
  },
  {
   "cell_type": "code",
   "execution_count": 98,
   "metadata": {},
   "outputs": [
    {
     "data": {
      "text/plain": [
       "<matplotlib.axes._subplots.AxesSubplot at 0x7fe817acc280>"
      ]
     },
     "execution_count": 98,
     "metadata": {},
     "output_type": "execute_result"
    },
    {
     "data": {
      "image/png": "[encoded data removed]",
      "text/plain": [
       "<Figure size 432x288 with 1 Axes>"
      ]
     },
     "metadata": {
      "needs_background": "light"
     },
     "output_type": "display_data"
    }
   ],
   "source": [
    "data[\"foreign_passport\"].hist()"
   ]
  },
  {
   "cell_type": "markdown",
   "metadata": {},
   "source": [
    "## 18. train_flag\n",
    "используем для разделения датасетов"
   ]
  },
  {
   "cell_type": "markdown",
   "metadata": {},
   "source": [
    "## 19. default\n",
    "целевая переменная"
   ]
  },
  {
   "cell_type": "code",
   "execution_count": 99,
   "metadata": {},
   "outputs": [
    {
     "data": {
      "text/plain": [
       "<matplotlib.axes._subplots.AxesSubplot at 0x7fe8141128e0>"
      ]
     },
     "execution_count": 99,
     "metadata": {},
     "output_type": "execute_result"
    },
    {
     "data": {
      "image/png": "[encoded data removed]",
      "text/plain": [
       "<Figure size 432x288 with 1 Axes>"
      ]
     },
     "metadata": {
      "needs_background": "light"
     },
     "output_type": "display_data"
    }
   ],
   "source": [
    "data[\"default\"].hist()"
   ]
  },
  {
   "cell_type": "code",
   "execution_count": 100,
   "metadata": {},
   "outputs": [
    {
     "name": "stdout",
     "output_type": "stream",
     "text": [
      "<class 'pandas.core.frame.DataFrame'>\n",
      "RangeIndex: 110148 entries, 0 to 110147\n",
      "Data columns (total 19 columns):\n",
      " #   Column            Non-Null Count   Dtype  \n",
      "---  ------            --------------   -----  \n",
      " 0   education         110148 non-null  float64\n",
      " 1   sex               110148 non-null  object \n",
      " 2   age               110148 non-null  int64  \n",
      " 3   car               110148 non-null  object \n",
      " 4   car_type          110148 non-null  object \n",
      " 5   decline_app_cnt   110148 non-null  int64  \n",
      " 6   good_work         110148 non-null  int64  \n",
      " 7   score_bki         110148 non-null  float64\n",
      " 8   bki_request_cnt   110148 non-null  int64  \n",
      " 9   region_rating     110148 non-null  int64  \n",
      " 10  home_address      110148 non-null  int64  \n",
      " 11  work_address      110148 non-null  int64  \n",
      " 12  income            110148 non-null  int64  \n",
      " 13  sna               110148 non-null  int64  \n",
      " 14  first_time        110148 non-null  int64  \n",
      " 15  foreign_passport  110148 non-null  object \n",
      " 16  train_flag        110148 non-null  int64  \n",
      " 17  default           110148 non-null  int64  \n",
      " 18  days_passed       110148 non-null  int64  \n",
      "dtypes: float64(2), int64(13), object(4)\n",
      "memory usage: 16.0+ MB\n"
     ]
    }
   ],
   "source": [
    "data.info()"
   ]
  },
  {
   "cell_type": "markdown",
   "metadata": {},
   "source": [
    "распределим признаки по типам"
   ]
  },
  {
   "cell_type": "code",
   "execution_count": 101,
   "metadata": {},
   "outputs": [],
   "source": [
    "# binary\n",
    "bin_cols = [\"sex\", \"car\", \"car_type\", \"good_work\", \"foreign_passport\" ] \n",
    "\n",
    "# categorical\n",
    "cat_cols = [\"education\", \"home_address\", \"work_address\", \\\n",
    "            \"sna\", \"first_time\", \"car_cat\"]\n",
    "# numeric\n",
    "num_cols = [\"age\", \"decline_app_cnt\", \"score_bki\", \\\n",
    "            \"bki_request_cnt\", \"region_rating\", \"income\", \"days_passed\"]\n"
   ]
  },
  {
   "cell_type": "markdown",
   "metadata": {},
   "source": [
    "## БИНАРНЫЕ ПРИЗНАКИ:"
   ]
  },
  {
   "cell_type": "code",
   "execution_count": 102,
   "metadata": {},
   "outputs": [],
   "source": [
    "# binary\n",
    "bin_cols = [\"sex\", \"car\", \"car_type\", \"good_work\", \"foreign_passport\" ] \n"
   ]
  },
  {
   "cell_type": "code",
   "execution_count": 103,
   "metadata": {},
   "outputs": [
    {
     "name": "stdout",
     "output_type": "stream",
     "text": [
      "sex {0: 'F', 1: 'M'}\n",
      "car {0: 'N', 1: 'Y'}\n",
      "car_type {0: 'N', 1: 'Y'}\n",
      "good_work {0: 0, 1: 1}\n",
      "foreign_passport {0: 'N', 1: 'Y'}\n"
     ]
    }
   ],
   "source": [
    "label_encoder = LabelEncoder()\n",
    "for column in bin_cols:\n",
    "    data[column] = label_encoder.fit_transform(data[column])\n",
    "    data_test[column] = label_encoder.fit_transform(data_test[column])\n",
    "    print(column, dict(enumerate(label_encoder.classes_)))\n"
   ]
  },
  {
   "cell_type": "markdown",
   "metadata": {},
   "source": [
    "## ЧИСЛОВЫЕ ПРИЗНАКИ \n",
    "логарифмируем \"age\", \"decline_app_cnt\",\"bki_request_cnt\", \"income\""
   ]
  },
  {
   "cell_type": "code",
   "execution_count": 104,
   "metadata": {},
   "outputs": [],
   "source": [
    "# numeric\n",
    "num_cols = [\"age\", \"decline_app_cnt\", \"score_bki\", \\\n",
    "            \"bki_request_cnt\", \"region_rating\", \"income\", \"days_passed\"]\n",
    "\n",
    "# to logarithm\n",
    "num_cols_log = [\"age\", \"decline_app_cnt\", \"bki_request_cnt\", \"income\"]\n"
   ]
  },
  {
   "cell_type": "code",
   "execution_count": 105,
   "metadata": {
    "scrolled": false
   },
   "outputs": [
    {
     "data": {
      "image/png": "[encoded data removed]",
      "text/plain": [
       "<Figure size 432x288 with 1 Axes>"
      ]
     },
     "metadata": {
      "needs_background": "light"
     },
     "output_type": "display_data"
    },
    {
     "data": {
      "image/png": "[encoded data removed]",
      "text/plain": [
       "<Figure size 432x288 with 1 Axes>"
      ]
     },
     "metadata": {
      "needs_background": "light"
     },
     "output_type": "display_data"
    },
    {
     "data": {
      "image/png": "[encoded data removed]",
      "text/plain": [
       "<Figure size 432x288 with 1 Axes>"
      ]
     },
     "metadata": {
      "needs_background": "light"
     },
     "output_type": "display_data"
    },
    {
     "data": {
      "image/png": "[encoded data removed]",
      "text/plain": [
       "<Figure size 432x288 with 1 Axes>"
      ]
     },
     "metadata": {
      "needs_background": "light"
     },
     "output_type": "display_data"
    },
    {
     "data": {
      "image/png": "[encoded data removed]",
      "text/plain": [
       "<Figure size 432x288 with 1 Axes>"
      ]
     },
     "metadata": {
      "needs_background": "light"
     },
     "output_type": "display_data"
    },
    {
     "data": {
      "image/png": "[encoded data removed]",
      "text/plain": [
       "<Figure size 432x288 with 1 Axes>"
      ]
     },
     "metadata": {
      "needs_background": "light"
     },
     "output_type": "display_data"
    },
    {
     "data": {
      "image/png": "[encoded data removed]",
      "text/plain": [
       "<Figure size 432x288 with 1 Axes>"
      ]
     },
     "metadata": {
      "needs_background": "light"
     },
     "output_type": "display_data"
    },
    {
     "data": {
      "image/png": "[encoded data removed]",
      "text/plain": [
       "<Figure size 432x288 with 1 Axes>"
      ]
     },
     "metadata": {
      "needs_background": "light"
     },
     "output_type": "display_data"
    }
   ],
   "source": [
    "for i in num_cols_log:\n",
    "    \n",
    "    plt.figure()\n",
    "    sns.distplot(data[i][data[i] > 0].dropna(), kde = False, rug=False)\n",
    "    plt.title(i+\" - BEFORE:\")\n",
    "    plt.show()\n",
    "    data[i] = np.log(data[i] + 1)\n",
    "    plt.figure()\n",
    "    sns.distplot(data[i][data[i] > 0].dropna(), kde = False, rug=False)\n",
    "    plt.title(i+\" - AFTER:\")\n",
    "    plt.show()\n",
    "    "
   ]
  },
  {
   "cell_type": "markdown",
   "metadata": {},
   "source": [
    "### Оценка корреляций"
   ]
  },
  {
   "cell_type": "code",
   "execution_count": 106,
   "metadata": {},
   "outputs": [
    {
     "data": {
      "text/plain": [
       "<matplotlib.axes._subplots.AxesSubplot at 0x7fe817701bb0>"
      ]
     },
     "execution_count": 106,
     "metadata": {},
     "output_type": "execute_result"
    },
    {
     "data": {
      "image/png": "[encoded data removed]",
      "text/plain": [
       "<Figure size 432x288 with 2 Axes>"
      ]
     },
     "metadata": {
      "needs_background": "light"
     },
     "output_type": "display_data"
    }
   ],
   "source": [
    "sns.heatmap(data[num_cols].corr().abs(), vmin=0, vmax=1)\n"
   ]
  },
  {
   "cell_type": "code",
   "execution_count": 107,
   "metadata": {},
   "outputs": [
    {
     "data": {
      "text/html": [
       "<div>\n",
       "<style scoped>\n",
       "    .dataframe tbody tr th:only-of-type {\n",
       "        vertical-align: middle;\n",
       "    }\n",
       "\n",
       "    .dataframe tbody tr th {\n",
       "        vertical-align: top;\n",
       "    }\n",
       "\n",
       "    .dataframe thead th {\n",
       "        text-align: right;\n",
       "    }\n",
       "</style>\n",
       "<table border=\"1\" class=\"dataframe\">\n",
       "  <thead>\n",
       "    <tr style=\"text-align: right;\">\n",
       "      <th></th>\n",
       "      <th>age</th>\n",
       "      <th>decline_app_cnt</th>\n",
       "      <th>score_bki</th>\n",
       "      <th>bki_request_cnt</th>\n",
       "      <th>region_rating</th>\n",
       "      <th>income</th>\n",
       "      <th>days_passed</th>\n",
       "    </tr>\n",
       "  </thead>\n",
       "  <tbody>\n",
       "    <tr>\n",
       "      <th>age</th>\n",
       "      <td>1.000000</td>\n",
       "      <td>0.128624</td>\n",
       "      <td>0.109169</td>\n",
       "      <td>0.050241</td>\n",
       "      <td>0.090629</td>\n",
       "      <td>0.090734</td>\n",
       "      <td>0.017643</td>\n",
       "    </tr>\n",
       "    <tr>\n",
       "      <th>decline_app_cnt</th>\n",
       "      <td>0.128624</td>\n",
       "      <td>1.000000</td>\n",
       "      <td>0.207342</td>\n",
       "      <td>0.127531</td>\n",
       "      <td>0.042188</td>\n",
       "      <td>0.013959</td>\n",
       "      <td>0.022499</td>\n",
       "    </tr>\n",
       "    <tr>\n",
       "      <th>score_bki</th>\n",
       "      <td>0.109169</td>\n",
       "      <td>0.207342</td>\n",
       "      <td>1.000000</td>\n",
       "      <td>0.141600</td>\n",
       "      <td>0.007132</td>\n",
       "      <td>0.002592</td>\n",
       "      <td>0.061969</td>\n",
       "    </tr>\n",
       "    <tr>\n",
       "      <th>bki_request_cnt</th>\n",
       "      <td>0.050241</td>\n",
       "      <td>0.127531</td>\n",
       "      <td>0.141600</td>\n",
       "      <td>1.000000</td>\n",
       "      <td>0.015935</td>\n",
       "      <td>0.078649</td>\n",
       "      <td>0.008747</td>\n",
       "    </tr>\n",
       "    <tr>\n",
       "      <th>region_rating</th>\n",
       "      <td>0.090629</td>\n",
       "      <td>0.042188</td>\n",
       "      <td>0.007132</td>\n",
       "      <td>0.015935</td>\n",
       "      <td>1.000000</td>\n",
       "      <td>0.313187</td>\n",
       "      <td>0.004645</td>\n",
       "    </tr>\n",
       "    <tr>\n",
       "      <th>income</th>\n",
       "      <td>0.090734</td>\n",
       "      <td>0.013959</td>\n",
       "      <td>0.002592</td>\n",
       "      <td>0.078649</td>\n",
       "      <td>0.313187</td>\n",
       "      <td>1.000000</td>\n",
       "      <td>0.002498</td>\n",
       "    </tr>\n",
       "    <tr>\n",
       "      <th>days_passed</th>\n",
       "      <td>0.017643</td>\n",
       "      <td>0.022499</td>\n",
       "      <td>0.061969</td>\n",
       "      <td>0.008747</td>\n",
       "      <td>0.004645</td>\n",
       "      <td>0.002498</td>\n",
       "      <td>1.000000</td>\n",
       "    </tr>\n",
       "  </tbody>\n",
       "</table>\n",
       "</div>"
      ],
      "text/plain": [
       "                      age  decline_app_cnt  score_bki  bki_request_cnt  \\\n",
       "age              1.000000         0.128624   0.109169         0.050241   \n",
       "decline_app_cnt  0.128624         1.000000   0.207342         0.127531   \n",
       "score_bki        0.109169         0.207342   1.000000         0.141600   \n",
       "bki_request_cnt  0.050241         0.127531   0.141600         1.000000   \n",
       "region_rating    0.090629         0.042188   0.007132         0.015935   \n",
       "income           0.090734         0.013959   0.002592         0.078649   \n",
       "days_passed      0.017643         0.022499   0.061969         0.008747   \n",
       "\n",
       "                 region_rating    income  days_passed  \n",
       "age                   0.090629  0.090734     0.017643  \n",
       "decline_app_cnt       0.042188  0.013959     0.022499  \n",
       "score_bki             0.007132  0.002592     0.061969  \n",
       "bki_request_cnt       0.015935  0.078649     0.008747  \n",
       "region_rating         1.000000  0.313187     0.004645  \n",
       "income                0.313187  1.000000     0.002498  \n",
       "days_passed           0.004645  0.002498     1.000000  "
      ]
     },
     "execution_count": 107,
     "metadata": {},
     "output_type": "execute_result"
    }
   ],
   "source": [
    "data[num_cols].corr().abs()\n"
   ]
  },
  {
   "cell_type": "markdown",
   "metadata": {},
   "source": [
    "признаки не скореллированы, за исключением region_rating и income (0.313186)"
   ]
  },
  {
   "cell_type": "markdown",
   "metadata": {},
   "source": [
    "### Значимость  числовых переменных"
   ]
  },
  {
   "cell_type": "code",
   "execution_count": 108,
   "metadata": {},
   "outputs": [
    {
     "data": {
      "text/plain": [
       "<matplotlib.axes._subplots.AxesSubplot at 0x7fe83b5c1040>"
      ]
     },
     "execution_count": 108,
     "metadata": {},
     "output_type": "execute_result"
    },
    {
     "data": {
      "image/png": "[encoded data removed]",
      "text/plain": [
       "<Figure size 432x288 with 1 Axes>"
      ]
     },
     "metadata": {
      "needs_background": "light"
     },
     "output_type": "display_data"
    }
   ],
   "source": [
    "imp_num = pd.Series(f_classif(data[num_cols],\n",
    "                    data['default'])[0], index=num_cols)\n",
    "imp_num.sort_values(inplace=True)\n",
    "imp_num.plot(kind='barh')\n"
   ]
  },
  {
   "cell_type": "markdown",
   "metadata": {},
   "source": [
    "Самые важные признаки:\n",
    "- score_bki\n",
    "- decline_app_cnt\n",
    "\n",
    "Самый малозначимый:\n",
    "- age"
   ]
  },
  {
   "cell_type": "markdown",
   "metadata": {},
   "source": [
    "## КАТЕГОРИАЛЬНЫЕ ПРИЗНАКИ"
   ]
  },
  {
   "cell_type": "markdown",
   "metadata": {},
   "source": [
    "## NEW FEATURE: \"car_cat\""
   ]
  },
  {
   "cell_type": "code",
   "execution_count": 111,
   "metadata": {},
   "outputs": [],
   "source": [
    "# создаем\n",
    "data[\"car_cat\"] = data[\"car\"] + data[\"car_type\"]\n",
    "# удаляем:\n",
    "data.drop([\"car\", \"car_type\"], axis=1, inplace=True)\n"
   ]
  },
  {
   "cell_type": "code",
   "execution_count": 112,
   "metadata": {},
   "outputs": [],
   "source": [
    "# categorical\n",
    "cat_cols = [\"education\", \"home_address\", \"work_address\",\n",
    "            \"sna\", \"first_time\", \"car_cat\"]\n"
   ]
  },
  {
   "cell_type": "code",
   "execution_count": 113,
   "metadata": {},
   "outputs": [
    {
     "name": "stdout",
     "output_type": "stream",
     "text": [
      "[2. 1. 3. 4. 0. 5.]\n",
      "[1 2 3]\n",
      "[2 3 1]\n",
      "[1 4 2 3]\n",
      "[4 3 1 2]\n",
      "[2 0 1]\n"
     ]
    }
   ],
   "source": [
    "# убедимся, что категориальные признаки являются числами\n",
    "for col in cat_cols:\n",
    "    print (data[col].unique())\n"
   ]
  },
  {
   "cell_type": "code",
   "execution_count": 28,
   "metadata": {},
   "outputs": [
    {
     "data": {
      "image/png": "[encoded data removed]",
      "text/plain": [
       "<Figure size 432x288 with 1 Axes>"
      ]
     },
     "metadata": {
      "needs_background": "light"
     },
     "output_type": "display_data"
    },
    {
     "data": {
      "image/png": "[encoded data removed]",
      "text/plain": [
       "<Figure size 432x288 with 1 Axes>"
      ]
     },
     "metadata": {
      "needs_background": "light"
     },
     "output_type": "display_data"
    },
    {
     "data": {
      "image/png": "[encoded data removed]",
      "text/plain": [
       "<Figure size 432x288 with 1 Axes>"
      ]
     },
     "metadata": {
      "needs_background": "light"
     },
     "output_type": "display_data"
    },
    {
     "data": {
      "image/png": "[encoded data removed]",
      "text/plain": [
       "<Figure size 432x288 with 1 Axes>"
      ]
     },
     "metadata": {
      "needs_background": "light"
     },
     "output_type": "display_data"
    },
    {
     "data": {
      "image/png": "[encoded data removed]",
      "text/plain": [
       "<Figure size 432x288 with 1 Axes>"
      ]
     },
     "metadata": {
      "needs_background": "light"
     },
     "output_type": "display_data"
    },
    {
     "data": {
      "image/png": "[encoded data removed]",
      "text/plain": [
       "<Figure size 432x288 with 1 Axes>"
      ]
     },
     "metadata": {
      "needs_background": "light"
     },
     "output_type": "display_data"
    }
   ],
   "source": [
    "for column in cat_cols:\n",
    "    plt.figure()\n",
    "    sns.countplot(data[column])\n",
    "    plt.title(column)\n",
    "    plt.show()\n"
   ]
  },
  {
   "cell_type": "markdown",
   "metadata": {},
   "source": [
    "### Значимость категориальных и бинарных признаков"
   ]
  },
  {
   "cell_type": "markdown",
   "metadata": {},
   "source": [
    "Для оценки значимости категориальных и бинарных переменных будем использовать функцию mutual_info_classif из библиотеки sklearn. Данная функция опирается на непараметрические методы, основанные на оценке энтропии в группах категориальных переменных.\n",
    "\n"
   ]
  },
  {
   "cell_type": "code",
   "execution_count": 114,
   "metadata": {},
   "outputs": [
    {
     "data": {
      "text/plain": [
       "<matplotlib.axes._subplots.AxesSubplot at 0x7fe83c3f9c70>"
      ]
     },
     "execution_count": 114,
     "metadata": {},
     "output_type": "execute_result"
    },
    {
     "data": {
      "image/png": "[encoded data removed]",
      "text/plain": [
       "<Figure size 432x288 with 1 Axes>"
      ]
     },
     "metadata": {
      "needs_background": "light"
     },
     "output_type": "display_data"
    }
   ],
   "source": [
    "# categorical\n",
    "cat_cols = [\"education\", \"home_address\", \"work_address\",\n",
    "            \"sna\", \"first_time\", \"car_cat\"]\n",
    "# binary\n",
    "bin_cols = [\"sex\", \"good_work\", \"foreign_passport\"]\n",
    "\n",
    "imp_cat = Series(mutual_info_classif(\n",
    "    data[bin_cols + cat_cols], data['default'], discrete_features=True),\n",
    "    index=bin_cols+cat_cols)\n",
    "imp_cat.sort_values(inplace=True)\n",
    "imp_cat.plot(kind='barh')\n"
   ]
  },
  {
   "cell_type": "markdown",
   "metadata": {},
   "source": [
    "## Подготовка данных к машинному обучению"
   ]
  },
  {
   "cell_type": "code",
   "execution_count": 31,
   "metadata": {},
   "outputs": [],
   "source": [
    "# Теперь выделим тестовую часть\n",
    "data_train = data.query('train_flag == 1').drop(['train_flag'], axis=1)\n",
    "data_test = data.query('train_flag == 0').drop(['train_flag'], axis=1)\n"
   ]
  },
  {
   "cell_type": "code",
   "execution_count": 34,
   "metadata": {},
   "outputs": [],
   "source": [
    "y = data_train[\"default\"].values       # наш таргет\n",
    "X = data_train.drop([\"default\"], axis=1)\n",
    "     "
   ]
  },
  {
   "cell_type": "markdown",
   "metadata": {},
   "source": [
    "для категориальных признаков добавим новые колонки для обоих датасетов:"
   ]
  },
  {
   "cell_type": "code",
   "execution_count": 35,
   "metadata": {},
   "outputs": [],
   "source": [
    "train_cat = OneHotEncoder(sparse=False).fit_transform(\n",
    "    data_train[cat_cols].values)\n",
    "test_cat = OneHotEncoder(sparse=False).fit_transform(\n",
    "    data_test[cat_cols].values)\n"
   ]
  },
  {
   "cell_type": "code",
   "execution_count": 38,
   "metadata": {},
   "outputs": [],
   "source": [
    "# Стандартизация числовых переменных\n",
    "train_num = StandardScaler().fit_transform(data_train[num_cols].values)\n",
    "test_num = StandardScaler().fit_transform(data_test[num_cols].values)\n"
   ]
  },
  {
   "cell_type": "code",
   "execution_count": 54,
   "metadata": {},
   "outputs": [],
   "source": [
    "# Объединяем\n",
    "\n",
    "X = np.hstack([train_num, data_train[bin_cols].values, train_cat])\n",
    "y = data_train[\"default\"].values\n",
    "\n",
    "X_test = np.hstack([test_num, data_test[bin_cols].values, test_cat])\n"
   ]
  },
  {
   "cell_type": "markdown",
   "metadata": {},
   "source": [
    "## Подготовка признаков для модели завершена. "
   ]
  },
  {
   "cell_type": "code",
   "execution_count": 47,
   "metadata": {},
   "outputs": [],
   "source": [
    "# Разделим данные для обучения следующим образом:\n",
    "\n",
    "X_train, X_valid, y_train, y_valid = train_test_split(\n",
    "    X, y, test_size=0.20, random_state=42)\n"
   ]
  },
  {
   "cell_type": "markdown",
   "metadata": {},
   "source": [
    "Обучим модель на стандартных настройках логистической регрессии:"
   ]
  },
  {
   "cell_type": "code",
   "execution_count": 48,
   "metadata": {},
   "outputs": [],
   "source": [
    "model1 = LogisticRegression(\n",
    "    random_state=42, solver='liblinear').fit(X_train, y_train)\n"
   ]
  },
  {
   "cell_type": "markdown",
   "metadata": {},
   "source": [
    "##  Оценка качества модели"
   ]
  },
  {
   "cell_type": "code",
   "execution_count": 49,
   "metadata": {},
   "outputs": [
    {
     "data": {
      "image/png": "[encoded data removed]",
      "text/plain": [
       "<Figure size 432x288 with 1 Axes>"
      ]
     },
     "metadata": {
      "needs_background": "light"
     },
     "output_type": "display_data"
    }
   ],
   "source": [
    "probs = model1.predict_proba(X_valid)\n",
    "probs = probs[:, 1]\n",
    "\n",
    "\n",
    "fpr, tpr, threshold = roc_curve(y_valid, probs)\n",
    "roc_auc = roc_auc_score(y_valid, probs)\n",
    "\n",
    "plt.figure()\n",
    "plt.plot([0, 1], label='Baseline', linestyle='--')\n",
    "plt.plot(fpr, tpr, label='Regression')\n",
    "plt.title('Logistic Regression ROC AUC = %0.3f' % roc_auc)\n",
    "plt.ylabel('True Positive Rate')\n",
    "plt.xlabel('False Positive Rate')\n",
    "plt.legend(loc='lower right')\n",
    "plt.show()\n"
   ]
  },
  {
   "cell_type": "markdown",
   "metadata": {},
   "source": [
    "Первое значение метрики при 0.677, то есть удалось немного ее улучшить"
   ]
  },
  {
   "cell_type": "markdown",
   "metadata": {},
   "source": [
    "## РЕГУЛЯРИЗАЦИЯ"
   ]
  },
  {
   "cell_type": "code",
   "execution_count": 50,
   "metadata": {
    "scrolled": false
   },
   "outputs": [
    {
     "name": "stdout",
     "output_type": "stream",
     "text": [
      "Лучшее Penalty: l1\n",
      "Лучшее C: 21.544346900318832\n"
     ]
    }
   ],
   "source": [
    "from sklearn.model_selection import GridSearchCV\n",
    "\n",
    "# Добавим типы регуляризации\n",
    "penalty = ['l1', 'l2']\n",
    "\n",
    "# Зададим ограничения для параметра регуляризации\n",
    "C = np.logspace(0, 4, 10)\n",
    "\n",
    "# Создадим гиперпараметры\n",
    "hyperparameters = dict(C=C, penalty=penalty)\n",
    "\n",
    "# model = LogisticRegression()\n",
    "# model.fit(X_train, y_train)\n",
    "\n",
    "# Создаем сетку поиска с использованием 5-кратной перекрестной проверки\n",
    "clf = GridSearchCV(model1, hyperparameters, cv=5, verbose=0)\n",
    "\n",
    "best_model = clf.fit(X_train, y_train)\n",
    "\n",
    "# View best hyperparameters\n",
    "print('Лучшее Penalty:', best_model.best_estimator_.get_params()['penalty'])\n",
    "print('Лучшее C:', best_model.best_estimator_.get_params()['C'])\n"
   ]
  },
  {
   "cell_type": "code",
   "execution_count": 52,
   "metadata": {},
   "outputs": [
    {
     "data": {
      "text/plain": [
       "LogisticRegression(C=21.544346900318832, class_weight='balanced', max_iter=2000,\n",
       "                   penalty='l1', solver='liblinear')"
      ]
     },
     "execution_count": 52,
     "metadata": {},
     "output_type": "execute_result"
    }
   ],
   "source": [
    "model2 = LogisticRegression(penalty=\"l1\",\n",
    "                            C=21.544346900318832,\n",
    "                            fit_intercept=True,\n",
    "                            intercept_scaling=1,\n",
    "                            class_weight=\"balanced\",\n",
    "                            solver=\"liblinear\",\n",
    "                            max_iter=2000,\n",
    "                            multi_class=\"auto\")\n",
    "model2.fit(X_train, y_train)\n"
   ]
  },
  {
   "cell_type": "code",
   "execution_count": 55,
   "metadata": {},
   "outputs": [
    {
     "data": {
      "image/png": "[encoded data removed]",
      "text/plain": [
       "<Figure size 432x288 with 1 Axes>"
      ]
     },
     "metadata": {
      "needs_background": "light"
     },
     "output_type": "display_data"
    }
   ],
   "source": [
    "y_pred = model2.predict(X_valid)\n",
    "y_pred_prob = model2.predict_proba(X_valid)[:, 1]\n",
    "\n",
    "y_pred_test = model2.predict(X_test)\n",
    "y_pred_prob_test = model2.predict_proba(X_test)[:, 1]\n",
    "\n",
    "fpr, tpr, threshold = roc_curve(y_valid, y_pred_prob)\n",
    "roc_auc = roc_auc_score(y_valid, y_pred_prob)\n",
    "\n",
    "plt.figure()\n",
    "plt.plot([0, 1], label='Baseline', linestyle='--')\n",
    "plt.plot(fpr, tpr, label='Regression')\n",
    "plt.title('Logistic Regression ROC AUC = %0.3f' % roc_auc)\n",
    "plt.ylabel('True Positive Rate')\n",
    "plt.xlabel('False Positive Rate')\n",
    "plt.legend(loc='lower right')\n",
    "plt.show()\n"
   ]
  },
  {
   "cell_type": "code",
   "execution_count": 56,
   "metadata": {},
   "outputs": [
    {
     "data": {
      "text/plain": [
       "LogisticRegression(C=21.544346900318832, class_weight='balanced', max_iter=2000,\n",
       "                   penalty='l1', solver='liblinear')"
      ]
     },
     "execution_count": 56,
     "metadata": {},
     "output_type": "execute_result"
    }
   ],
   "source": [
    "# новая модель на всех данных\n",
    "model3 = LogisticRegression(penalty=\"l1\",\n",
    "                            C=21.544346900318832,\n",
    "                            fit_intercept=True,\n",
    "                            intercept_scaling=1,\n",
    "                            class_weight=\"balanced\",\n",
    "                            solver=\"liblinear\",\n",
    "                            max_iter=2000,\n",
    "                            multi_class=\"auto\")\n",
    "model3.fit(X, y)\n"
   ]
  },
  {
   "cell_type": "code",
   "execution_count": 59,
   "metadata": {},
   "outputs": [],
   "source": [
    "y_pred_test = model3.predict(X_test)\n",
    "y_pred_prob_test = model3.predict_proba(X_test)[:, 1]\n"
   ]
  },
  {
   "cell_type": "code",
   "execution_count": 60,
   "metadata": {},
   "outputs": [
    {
     "data": {
      "text/plain": [
       "array([0.20630757, 0.80404628, 0.3102911 , ..., 0.78978761, 0.64688966,\n",
       "       0.71129452])"
      ]
     },
     "execution_count": 60,
     "metadata": {},
     "output_type": "execute_result"
    }
   ],
   "source": [
    "y_pred_prob_test\n"
   ]
  },
  {
   "cell_type": "code",
   "execution_count": 71,
   "metadata": {},
   "outputs": [
    {
     "data": {
      "text/html": [
       "<div>\n",
       "<style scoped>\n",
       "    .dataframe tbody tr th:only-of-type {\n",
       "        vertical-align: middle;\n",
       "    }\n",
       "\n",
       "    .dataframe tbody tr th {\n",
       "        vertical-align: top;\n",
       "    }\n",
       "\n",
       "    .dataframe thead th {\n",
       "        text-align: right;\n",
       "    }\n",
       "</style>\n",
       "<table border=\"1\" class=\"dataframe\">\n",
       "  <thead>\n",
       "    <tr style=\"text-align: right;\">\n",
       "      <th></th>\n",
       "      <th>client_id</th>\n",
       "      <th>default</th>\n",
       "    </tr>\n",
       "  </thead>\n",
       "  <tbody>\n",
       "    <tr>\n",
       "      <th>0</th>\n",
       "      <td>66799</td>\n",
       "      <td>0.441004</td>\n",
       "    </tr>\n",
       "    <tr>\n",
       "      <th>1</th>\n",
       "      <td>25379</td>\n",
       "      <td>0.138092</td>\n",
       "    </tr>\n",
       "    <tr>\n",
       "      <th>2</th>\n",
       "      <td>28825</td>\n",
       "      <td>0.373370</td>\n",
       "    </tr>\n",
       "    <tr>\n",
       "      <th>3</th>\n",
       "      <td>37530</td>\n",
       "      <td>0.476501</td>\n",
       "    </tr>\n",
       "    <tr>\n",
       "      <th>4</th>\n",
       "      <td>4264</td>\n",
       "      <td>0.304640</td>\n",
       "    </tr>\n",
       "  </tbody>\n",
       "</table>\n",
       "</div>"
      ],
      "text/plain": [
       "   client_id   default\n",
       "0      66799  0.441004\n",
       "1      25379  0.138092\n",
       "2      28825  0.373370\n",
       "3      37530  0.476501\n",
       "4       4264  0.304640"
      ]
     },
     "execution_count": 71,
     "metadata": {},
     "output_type": "execute_result"
    }
   ],
   "source": [
    "sample_submission = pd.read_csv('sample_submission.csv')\n",
    "sample_submission.head()\n"
   ]
  },
  {
   "cell_type": "markdown",
   "metadata": {},
   "source": [
    "считаем \"client_id\" еще раз"
   ]
  },
  {
   "cell_type": "code",
   "execution_count": 115,
   "metadata": {},
   "outputs": [],
   "source": [
    "client_id = pd.read_csv(\"test.csv\")[\"client_id\"]\n"
   ]
  },
  {
   "cell_type": "code",
   "execution_count": 75,
   "metadata": {},
   "outputs": [
    {
     "data": {
      "text/html": [
       "<div>\n",
       "<style scoped>\n",
       "    .dataframe tbody tr th:only-of-type {\n",
       "        vertical-align: middle;\n",
       "    }\n",
       "\n",
       "    .dataframe tbody tr th {\n",
       "        vertical-align: top;\n",
       "    }\n",
       "\n",
       "    .dataframe thead th {\n",
       "        text-align: right;\n",
       "    }\n",
       "</style>\n",
       "<table border=\"1\" class=\"dataframe\">\n",
       "  <thead>\n",
       "    <tr style=\"text-align: right;\">\n",
       "      <th></th>\n",
       "      <th>client_id</th>\n",
       "      <th>default</th>\n",
       "    </tr>\n",
       "  </thead>\n",
       "  <tbody>\n",
       "    <tr>\n",
       "      <th>0</th>\n",
       "      <td>74835</td>\n",
       "      <td>0.206308</td>\n",
       "    </tr>\n",
       "    <tr>\n",
       "      <th>1</th>\n",
       "      <td>17527</td>\n",
       "      <td>0.804046</td>\n",
       "    </tr>\n",
       "    <tr>\n",
       "      <th>2</th>\n",
       "      <td>75683</td>\n",
       "      <td>0.310291</td>\n",
       "    </tr>\n",
       "    <tr>\n",
       "      <th>3</th>\n",
       "      <td>26883</td>\n",
       "      <td>0.414762</td>\n",
       "    </tr>\n",
       "    <tr>\n",
       "      <th>4</th>\n",
       "      <td>28862</td>\n",
       "      <td>0.145758</td>\n",
       "    </tr>\n",
       "  </tbody>\n",
       "</table>\n",
       "</div>"
      ],
      "text/plain": [
       "   client_id   default\n",
       "0      74835  0.206308\n",
       "1      17527  0.804046\n",
       "2      75683  0.310291\n",
       "3      26883  0.414762\n",
       "4      28862  0.145758"
      ]
     },
     "execution_count": 75,
     "metadata": {},
     "output_type": "execute_result"
    }
   ],
   "source": [
    "submission = pd.DataFrame({'client_id': client_id, \"default\": y_pred_prob_test})\n",
    "submission.to_csv('submission.csv', index=False)\n",
    "submission.head()\n"
   ]
  },
  {
   "cell_type": "code",
   "execution_count": null,
   "metadata": {},
   "outputs": [],
   "source": []
  }
 ],
 "metadata": {
  "kernelspec": {
   "display_name": "Python 3",
   "language": "python",
   "name": "python3"
  },
  "language_info": {
   "codemirror_mode": {
    "name": "ipython",
    "version": 3
   },
   "file_extension": ".py",
   "mimetype": "text/x-python",
   "name": "python",
   "nbconvert_exporter": "python",
   "pygments_lexer": "ipython3",
   "version": "3.8.3"
  }
 },
 "nbformat": 4,
 "nbformat_minor": 4
}
