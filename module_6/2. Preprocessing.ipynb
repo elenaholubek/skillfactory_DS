{
  "nbformat": 4,
  "nbformat_minor": 0,
  "metadata": {
    "kernelspec": {
      "display_name": "Python 3 (ipykernel)",
      "language": "python",
      "name": "python3"
    },
    "language_info": {
      "codemirror_mode": {
        "name": "ipython",
        "version": 3
      },
      "file_extension": ".py",
      "mimetype": "text/x-python",
      "name": "python",
      "nbconvert_exporter": "python",
      "pygments_lexer": "ipython3",
      "version": "3.8.8"
    },
    "colab": {
      "name": "2. Preprocessing.ipynb",
      "provenance": []
    }
  },
  "cells": [
    {
      "cell_type": "code",
      "metadata": {
        "id": "jiIjeKGSO-Yl"
      },
      "source": [
        "import numpy as np\n",
        "import pandas as pd\n",
        "import glob\n",
        "import re\n",
        "from datetime import datetime\n",
        "from sklearn.preprocessing import LabelEncoder\n"
      ],
      "execution_count": 273,
      "outputs": []
    },
    {
      "cell_type": "code",
      "metadata": {
        "id": "wl3eGyd9O-Yo"
      },
      "source": [
        "def is_top_model(x, models):\n",
        "    if models.count(x)==0:\n",
        "        x = \"other\"\n",
        "    return x\n"
      ],
      "execution_count": 274,
      "outputs": []
    },
    {
      "cell_type": "markdown",
      "metadata": {
        "id": "CC8uc_g3O-Yo"
      },
      "source": [
        "## TEST DATA\n"
      ]
    },
    {
      "cell_type": "code",
      "metadata": {
        "id": "AbjBGtEOO-Yp",
        "outputId": "083e27ed-6a69-4480-da08-d4c0995fdad2",
        "colab": {
          "base_uri": "https://localhost:8080/"
        }
      },
      "source": [
        "# kaggle only:\n",
        "\n",
        "'''\n",
        "import os\n",
        "for dirname, _, filenames in os.walk('/kaggle/input'):\n",
        "    for filename in filenames:\n",
        "        print(os.path.join(dirname, filename))\n",
        "\n",
        "df_test = pd.read_csv('../input/sf-dst-car-price-prediction/test.csv')\n",
        "df_train = pd.read_csv('../input/parsed-auto/train.csv')\n",
        "df_sub = pd.read_csv('../input/sf-dst-car-price-prediction/sample_submission.csv')\n",
        "\n",
        "'''\n",
        "\n",
        "\n",
        "#local:\n",
        "#path = \"/\"\n",
        "\n",
        "# remote:\n",
        "from google.colab import drive\n",
        "drive.mount('/content/drive')\n",
        "path = \"/content/drive/My Drive/module_6/\"\n",
        "\n",
        "\n",
        "df_test = pd.read_csv(path + 'test.csv')\n",
        "df_sub = pd.read_csv(path + 'sample_submission.csv')\n"
      ],
      "execution_count": 275,
      "outputs": [
        {
          "output_type": "stream",
          "name": "stdout",
          "text": [
            "Drive already mounted at /content/drive; to attempt to forcibly remount, call drive.mount(\"/content/drive\", force_remount=True).\n"
          ]
        }
      ]
    },
    {
      "cell_type": "markdown",
      "metadata": {
        "id": "rHFmXfznO-Yq"
      },
      "source": [
        "## COLLECT TRAIN DATA:\n"
      ]
    },
    {
      "cell_type": "code",
      "metadata": {
        "id": "MVYw3hFwO-Yq",
        "outputId": "565b0363-c9c6-4b1a-a42b-71cb248e1119",
        "colab": {
          "base_uri": "https://localhost:8080/"
        }
      },
      "source": [
        "# collect data from files in CONTENT folder:\n",
        "filenames = glob.glob(path + \"CONTENT/*content.csv\")\n",
        "lst_df_train = []\n",
        "for filename in filenames:\n",
        "    df_cur = pd.read_csv(filename, header=None)\n",
        "    lst_df_train.append(df_cur)\n",
        "df_train =  pd.concat(lst_df_train, axis=0, ignore_index=True)    \n",
        "\n",
        "# get rid of duplicates and small check:   \n",
        "df_train.drop_duplicates(inplace=True)\n",
        "df_train.shape\n"
      ],
      "execution_count": 276,
      "outputs": [
        {
          "output_type": "execute_result",
          "data": {
            "text/plain": [
              "(35265, 23)"
            ]
          },
          "metadata": {},
          "execution_count": 276
        }
      ]
    },
    {
      "cell_type": "markdown",
      "metadata": {
        "id": "Qt1GfKiwO-Yr"
      },
      "source": [
        "## SAVE DF_TRAIN"
      ]
    },
    {
      "cell_type": "code",
      "metadata": {
        "id": "ruD8VigwO-Ys"
      },
      "source": [
        "# save to file:\n",
        "df_train.to_csv(path + \"train.csv\", index=False)\n"
      ],
      "execution_count": 277,
      "outputs": []
    },
    {
      "cell_type": "code",
      "metadata": {
        "id": "kMoIX5RHO-Ys",
        "outputId": "0b26477c-33e8-4a85-8b42-d774470ab1ec",
        "colab": {
          "base_uri": "https://localhost:8080/",
          "height": 277
        }
      },
      "source": [
        "df_train.sample(3)\n"
      ],
      "execution_count": 278,
      "outputs": [
        {
          "output_type": "execute_result",
          "data": {
            "text/html": [
              "<div>\n",
              "<style scoped>\n",
              "    .dataframe tbody tr th:only-of-type {\n",
              "        vertical-align: middle;\n",
              "    }\n",
              "\n",
              "    .dataframe tbody tr th {\n",
              "        vertical-align: top;\n",
              "    }\n",
              "\n",
              "    .dataframe thead th {\n",
              "        text-align: right;\n",
              "    }\n",
              "</style>\n",
              "<table border=\"1\" class=\"dataframe\">\n",
              "  <thead>\n",
              "    <tr style=\"text-align: right;\">\n",
              "      <th></th>\n",
              "      <th>0</th>\n",
              "      <th>1</th>\n",
              "      <th>2</th>\n",
              "      <th>3</th>\n",
              "      <th>4</th>\n",
              "      <th>5</th>\n",
              "      <th>6</th>\n",
              "      <th>7</th>\n",
              "      <th>8</th>\n",
              "      <th>9</th>\n",
              "      <th>10</th>\n",
              "      <th>11</th>\n",
              "      <th>12</th>\n",
              "      <th>13</th>\n",
              "      <th>14</th>\n",
              "      <th>15</th>\n",
              "      <th>16</th>\n",
              "      <th>17</th>\n",
              "      <th>18</th>\n",
              "      <th>19</th>\n",
              "      <th>20</th>\n",
              "      <th>21</th>\n",
              "      <th>22</th>\n",
              "    </tr>\n",
              "  </thead>\n",
              "  <tbody>\n",
              "    <tr>\n",
              "      <th>754</th>\n",
              "      <td>SKODA</td>\n",
              "      <td>Skoda Kodiaq I</td>\n",
              "      <td>внедорожник 5 дв.</td>\n",
              "      <td>5</td>\n",
              "      <td>2016</td>\n",
              "      <td>2018</td>\n",
              "      <td>серый</td>\n",
              "      <td>1.4 LTR</td>\n",
              "      <td>150 N12</td>\n",
              "      <td>бензин</td>\n",
              "      <td>https://autoru.naydex.net/Lr84PuH52/0ca95dIpb/...</td>\n",
              "      <td>105 000 км</td>\n",
              "      <td>1.4 AMT</td>\n",
              "      <td>ALLROAD_5_DOORS ROBOT 1.4</td>\n",
              "      <td>роботизированная</td>\n",
              "      <td>2 владельца</td>\n",
              "      <td>Оригинал</td>\n",
              "      <td>передний</td>\n",
              "      <td>Левый</td>\n",
              "      <td>Не требует ремонта</td>\n",
              "      <td>Растаможен</td>\n",
              "      <td>https://auto.ru/cars/used/sale/skoda/kodiaq/11...</td>\n",
              "      <td>1 849 000 ₽</td>\n",
              "    </tr>\n",
              "    <tr>\n",
              "      <th>5338</th>\n",
              "      <td>AUDI</td>\n",
              "      <td>Audi A6 III (C6) Рестайлинг</td>\n",
              "      <td>седан</td>\n",
              "      <td>4</td>\n",
              "      <td>2008</td>\n",
              "      <td>2010</td>\n",
              "      <td>чёрный</td>\n",
              "      <td>3.0 LTR</td>\n",
              "      <td>239 N12</td>\n",
              "      <td>дизель</td>\n",
              "      <td>https://avatars.mds.yandex.net/get-autoru-vos/...</td>\n",
              "      <td>244 000 км</td>\n",
              "      <td>3.0 AT</td>\n",
              "      <td>SEDAN AUTOMATIC 3.0</td>\n",
              "      <td>автоматическая</td>\n",
              "      <td>3 или более</td>\n",
              "      <td>Оригинал</td>\n",
              "      <td>полный</td>\n",
              "      <td>Левый</td>\n",
              "      <td>Не требует ремонта</td>\n",
              "      <td>Растаможен</td>\n",
              "      <td>https://auto.ru/cars/used/sale/audi/a6/1105443...</td>\n",
              "      <td>1 210 000 ₽</td>\n",
              "    </tr>\n",
              "    <tr>\n",
              "      <th>6780</th>\n",
              "      <td>HONDA</td>\n",
              "      <td>Honda Odyssey (North America) V</td>\n",
              "      <td>минивэн</td>\n",
              "      <td>5</td>\n",
              "      <td>2017</td>\n",
              "      <td>2018</td>\n",
              "      <td>серый</td>\n",
              "      <td>3.5 LTR</td>\n",
              "      <td>280 N12</td>\n",
              "      <td>бензин</td>\n",
              "      <td>https://avatars.mds.yandex.net/get-autoru-vos/...</td>\n",
              "      <td>29 800 км</td>\n",
              "      <td>3.5 AT</td>\n",
              "      <td>MINIVAN AUTOMATIC 3.5</td>\n",
              "      <td>автоматическая</td>\n",
              "      <td>1 владелец</td>\n",
              "      <td>Оригинал</td>\n",
              "      <td>передний</td>\n",
              "      <td>Левый</td>\n",
              "      <td>Не требует ремонта</td>\n",
              "      <td>Растаможен</td>\n",
              "      <td>https://auto.ru/cars/used/sale/honda/odyssey_n...</td>\n",
              "      <td>2 495 000 ₽</td>\n",
              "    </tr>\n",
              "  </tbody>\n",
              "</table>\n",
              "</div>"
            ],
            "text/plain": [
              "         0   ...           22\n",
              "754   SKODA  ...  1 849 000 ₽\n",
              "5338   AUDI  ...  1 210 000 ₽\n",
              "6780  HONDA  ...  2 495 000 ₽\n",
              "\n",
              "[3 rows x 23 columns]"
            ]
          },
          "metadata": {},
          "execution_count": 278
        }
      ]
    },
    {
      "cell_type": "code",
      "metadata": {
        "id": "w95D_DUkO-Yt",
        "outputId": "77629088-dbd5-4efc-c464-23fd03a60383",
        "colab": {
          "base_uri": "https://localhost:8080/",
          "height": 488
        }
      },
      "source": [
        "df_test.head()\n"
      ],
      "execution_count": 279,
      "outputs": [
        {
          "output_type": "execute_result",
          "data": {
            "text/html": [
              "<div>\n",
              "<style scoped>\n",
              "    .dataframe tbody tr th:only-of-type {\n",
              "        vertical-align: middle;\n",
              "    }\n",
              "\n",
              "    .dataframe tbody tr th {\n",
              "        vertical-align: top;\n",
              "    }\n",
              "\n",
              "    .dataframe thead th {\n",
              "        text-align: right;\n",
              "    }\n",
              "</style>\n",
              "<table border=\"1\" class=\"dataframe\">\n",
              "  <thead>\n",
              "    <tr style=\"text-align: right;\">\n",
              "      <th></th>\n",
              "      <th>bodyType</th>\n",
              "      <th>brand</th>\n",
              "      <th>car_url</th>\n",
              "      <th>color</th>\n",
              "      <th>complectation_dict</th>\n",
              "      <th>description</th>\n",
              "      <th>engineDisplacement</th>\n",
              "      <th>enginePower</th>\n",
              "      <th>equipment_dict</th>\n",
              "      <th>fuelType</th>\n",
              "      <th>image</th>\n",
              "      <th>mileage</th>\n",
              "      <th>modelDate</th>\n",
              "      <th>model_info</th>\n",
              "      <th>model_name</th>\n",
              "      <th>name</th>\n",
              "      <th>numberOfDoors</th>\n",
              "      <th>parsing_unixtime</th>\n",
              "      <th>priceCurrency</th>\n",
              "      <th>productionDate</th>\n",
              "      <th>sell_id</th>\n",
              "      <th>super_gen</th>\n",
              "      <th>vehicleConfiguration</th>\n",
              "      <th>vehicleTransmission</th>\n",
              "      <th>vendor</th>\n",
              "      <th>Владельцы</th>\n",
              "      <th>Владение</th>\n",
              "      <th>ПТС</th>\n",
              "      <th>Привод</th>\n",
              "      <th>Руль</th>\n",
              "      <th>Состояние</th>\n",
              "      <th>Таможня</th>\n",
              "    </tr>\n",
              "  </thead>\n",
              "  <tbody>\n",
              "    <tr>\n",
              "      <th>0</th>\n",
              "      <td>лифтбек</td>\n",
              "      <td>SKODA</td>\n",
              "      <td>https://auto.ru/cars/used/sale/skoda/octavia/1...</td>\n",
              "      <td>синий</td>\n",
              "      <td>NaN</td>\n",
              "      <td>Все автомобили, представленные в продаже, прох...</td>\n",
              "      <td>1.2 LTR</td>\n",
              "      <td>105 N12</td>\n",
              "      <td>{\"engine-proof\":true,\"tinted-glass\":true,\"airb...</td>\n",
              "      <td>бензин</td>\n",
              "      <td>https://autoru.naydex.net/o9DBXQ270/5ac010hAY0...</td>\n",
              "      <td>74000</td>\n",
              "      <td>2013</td>\n",
              "      <td>{\"code\":\"OCTAVIA\",\"name\":\"Octavia\",\"ru_name\":\"...</td>\n",
              "      <td>OCTAVIA</td>\n",
              "      <td>1.2 AMT (105 л.с.)</td>\n",
              "      <td>5</td>\n",
              "      <td>1603226273</td>\n",
              "      <td>RUB</td>\n",
              "      <td>2014</td>\n",
              "      <td>1100575026</td>\n",
              "      <td>{\"id\":\"10373605\",\"displacement\":1197,\"engine_t...</td>\n",
              "      <td>LIFTBACK ROBOT 1.2</td>\n",
              "      <td>роботизированная</td>\n",
              "      <td>EUROPEAN</td>\n",
              "      <td>3 или более</td>\n",
              "      <td>NaN</td>\n",
              "      <td>Оригинал</td>\n",
              "      <td>передний</td>\n",
              "      <td>Левый</td>\n",
              "      <td>Не требует ремонта</td>\n",
              "      <td>Растаможен</td>\n",
              "    </tr>\n",
              "    <tr>\n",
              "      <th>1</th>\n",
              "      <td>лифтбек</td>\n",
              "      <td>SKODA</td>\n",
              "      <td>https://auto.ru/cars/used/sale/skoda/octavia/1...</td>\n",
              "      <td>чёрный</td>\n",
              "      <td>NaN</td>\n",
              "      <td>ЛОТ: 01217195\\nАвтопрага Север\\nДанный автомоб...</td>\n",
              "      <td>1.6 LTR</td>\n",
              "      <td>110 N12</td>\n",
              "      <td>{\"cruise-control\":true,\"asr\":true,\"esp\":true,\"...</td>\n",
              "      <td>бензин</td>\n",
              "      <td>https://autoru.naydex.net/o9DBXQ270/5ac010hAY0...</td>\n",
              "      <td>60563</td>\n",
              "      <td>2017</td>\n",
              "      <td>{\"code\":\"OCTAVIA\",\"name\":\"Octavia\",\"ru_name\":\"...</td>\n",
              "      <td>OCTAVIA</td>\n",
              "      <td>1.6 MT (110 л.с.)</td>\n",
              "      <td>5</td>\n",
              "      <td>1603226277</td>\n",
              "      <td>RUB</td>\n",
              "      <td>2017</td>\n",
              "      <td>1100549428</td>\n",
              "      <td>{\"id\":\"20913311\",\"displacement\":1598,\"engine_t...</td>\n",
              "      <td>LIFTBACK MECHANICAL 1.6</td>\n",
              "      <td>механическая</td>\n",
              "      <td>EUROPEAN</td>\n",
              "      <td>1 владелец</td>\n",
              "      <td>NaN</td>\n",
              "      <td>Оригинал</td>\n",
              "      <td>передний</td>\n",
              "      <td>Левый</td>\n",
              "      <td>Не требует ремонта</td>\n",
              "      <td>Растаможен</td>\n",
              "    </tr>\n",
              "    <tr>\n",
              "      <th>2</th>\n",
              "      <td>лифтбек</td>\n",
              "      <td>SKODA</td>\n",
              "      <td>https://auto.ru/cars/used/sale/skoda/superb/11...</td>\n",
              "      <td>серый</td>\n",
              "      <td>{\"id\":\"20026336\",\"name\":\"Ambition\",\"available_...</td>\n",
              "      <td>Все автомобили, представленные в продаже, прох...</td>\n",
              "      <td>1.8 LTR</td>\n",
              "      <td>152 N12</td>\n",
              "      <td>{\"cruise-control\":true,\"tinted-glass\":true,\"es...</td>\n",
              "      <td>бензин</td>\n",
              "      <td>https://avatars.mds.yandex.net/get-autoru-vos/...</td>\n",
              "      <td>88000</td>\n",
              "      <td>2013</td>\n",
              "      <td>{\"code\":\"SUPERB\",\"name\":\"Superb\",\"ru_name\":\"Су...</td>\n",
              "      <td>SUPERB</td>\n",
              "      <td>DSG 1.8 AMT (152 л.с.)</td>\n",
              "      <td>5</td>\n",
              "      <td>1603226280</td>\n",
              "      <td>RUB</td>\n",
              "      <td>2014</td>\n",
              "      <td>1100658222</td>\n",
              "      <td>{\"id\":\"20026323\",\"nameplate\":\"DSG\",\"displaceme...</td>\n",
              "      <td>LIFTBACK ROBOT 1.8</td>\n",
              "      <td>роботизированная</td>\n",
              "      <td>EUROPEAN</td>\n",
              "      <td>1 владелец</td>\n",
              "      <td>NaN</td>\n",
              "      <td>Оригинал</td>\n",
              "      <td>передний</td>\n",
              "      <td>Левый</td>\n",
              "      <td>Не требует ремонта</td>\n",
              "      <td>Растаможен</td>\n",
              "    </tr>\n",
              "    <tr>\n",
              "      <th>3</th>\n",
              "      <td>лифтбек</td>\n",
              "      <td>SKODA</td>\n",
              "      <td>https://auto.ru/cars/used/sale/skoda/octavia/1...</td>\n",
              "      <td>коричневый</td>\n",
              "      <td>{\"id\":\"20803582\",\"name\":\"Ambition\",\"available_...</td>\n",
              "      <td>КОМПЛЕКТ ЗИМНЕЙ (ЛЕТНЕЙ) РЕЗИНЫ ПО СЕЗОНУ В ПО...</td>\n",
              "      <td>1.6 LTR</td>\n",
              "      <td>110 N12</td>\n",
              "      <td>{\"cruise-control\":true,\"roller-blind-for-rear-...</td>\n",
              "      <td>бензин</td>\n",
              "      <td>https://autoru.naydex.net/o9DBXQ270/5ac010hAY0...</td>\n",
              "      <td>95000</td>\n",
              "      <td>2013</td>\n",
              "      <td>{\"code\":\"OCTAVIA\",\"name\":\"Octavia\",\"ru_name\":\"...</td>\n",
              "      <td>OCTAVIA</td>\n",
              "      <td>1.6 AT (110 л.с.)</td>\n",
              "      <td>5</td>\n",
              "      <td>1603226284</td>\n",
              "      <td>RUB</td>\n",
              "      <td>2014</td>\n",
              "      <td>1100937408</td>\n",
              "      <td>{\"id\":\"20105521\",\"displacement\":1598,\"engine_t...</td>\n",
              "      <td>LIFTBACK AUTOMATIC 1.6</td>\n",
              "      <td>автоматическая</td>\n",
              "      <td>EUROPEAN</td>\n",
              "      <td>1 владелец</td>\n",
              "      <td>NaN</td>\n",
              "      <td>Оригинал</td>\n",
              "      <td>передний</td>\n",
              "      <td>Левый</td>\n",
              "      <td>Не требует ремонта</td>\n",
              "      <td>Растаможен</td>\n",
              "    </tr>\n",
              "    <tr>\n",
              "      <th>4</th>\n",
              "      <td>лифтбек</td>\n",
              "      <td>SKODA</td>\n",
              "      <td>https://auto.ru/cars/used/sale/skoda/octavia/1...</td>\n",
              "      <td>белый</td>\n",
              "      <td>NaN</td>\n",
              "      <td>ЛОТ: 01220889\\nАвтопрага Север\\n\\nВы можете по...</td>\n",
              "      <td>1.8 LTR</td>\n",
              "      <td>152 N12</td>\n",
              "      <td>{\"cruise-control\":true,\"asr\":true,\"esp\":true,\"...</td>\n",
              "      <td>бензин</td>\n",
              "      <td>https://autoru.naydex.net/o9DBXQ270/5ac010hAY0...</td>\n",
              "      <td>58536</td>\n",
              "      <td>2008</td>\n",
              "      <td>{\"code\":\"OCTAVIA\",\"name\":\"Octavia\",\"ru_name\":\"...</td>\n",
              "      <td>OCTAVIA</td>\n",
              "      <td>1.8 AT (152 л.с.)</td>\n",
              "      <td>5</td>\n",
              "      <td>1603226288</td>\n",
              "      <td>RUB</td>\n",
              "      <td>2012</td>\n",
              "      <td>1101037972</td>\n",
              "      <td>{\"id\":\"4561004\",\"displacement\":1798,\"engine_ty...</td>\n",
              "      <td>LIFTBACK AUTOMATIC 1.8</td>\n",
              "      <td>автоматическая</td>\n",
              "      <td>EUROPEAN</td>\n",
              "      <td>1 владелец</td>\n",
              "      <td>NaN</td>\n",
              "      <td>Оригинал</td>\n",
              "      <td>передний</td>\n",
              "      <td>Левый</td>\n",
              "      <td>Не требует ремонта</td>\n",
              "      <td>Растаможен</td>\n",
              "    </tr>\n",
              "  </tbody>\n",
              "</table>\n",
              "</div>"
            ],
            "text/plain": [
              "  bodyType  brand  ...           Состояние     Таможня\n",
              "0  лифтбек  SKODA  ...  Не требует ремонта  Растаможен\n",
              "1  лифтбек  SKODA  ...  Не требует ремонта  Растаможен\n",
              "2  лифтбек  SKODA  ...  Не требует ремонта  Растаможен\n",
              "3  лифтбек  SKODA  ...  Не требует ремонта  Растаможен\n",
              "4  лифтбек  SKODA  ...  Не требует ремонта  Растаможен\n",
              "\n",
              "[5 rows x 32 columns]"
            ]
          },
          "metadata": {},
          "execution_count": 279
        }
      ]
    },
    {
      "cell_type": "code",
      "metadata": {
        "id": "MAq8uIEMVOt6",
        "outputId": "b0023cda-9f1d-4660-d73d-5fee79983e31",
        "colab": {
          "base_uri": "https://localhost:8080/",
          "height": 202
        }
      },
      "source": [
        "df_sub.head()"
      ],
      "execution_count": 280,
      "outputs": [
        {
          "output_type": "execute_result",
          "data": {
            "text/html": [
              "<div>\n",
              "<style scoped>\n",
              "    .dataframe tbody tr th:only-of-type {\n",
              "        vertical-align: middle;\n",
              "    }\n",
              "\n",
              "    .dataframe tbody tr th {\n",
              "        vertical-align: top;\n",
              "    }\n",
              "\n",
              "    .dataframe thead th {\n",
              "        text-align: right;\n",
              "    }\n",
              "</style>\n",
              "<table border=\"1\" class=\"dataframe\">\n",
              "  <thead>\n",
              "    <tr style=\"text-align: right;\">\n",
              "      <th></th>\n",
              "      <th>sell_id</th>\n",
              "      <th>price</th>\n",
              "    </tr>\n",
              "  </thead>\n",
              "  <tbody>\n",
              "    <tr>\n",
              "      <th>0</th>\n",
              "      <td>1100575026</td>\n",
              "      <td>0</td>\n",
              "    </tr>\n",
              "    <tr>\n",
              "      <th>1</th>\n",
              "      <td>1100549428</td>\n",
              "      <td>0</td>\n",
              "    </tr>\n",
              "    <tr>\n",
              "      <th>2</th>\n",
              "      <td>1100658222</td>\n",
              "      <td>0</td>\n",
              "    </tr>\n",
              "    <tr>\n",
              "      <th>3</th>\n",
              "      <td>1100937408</td>\n",
              "      <td>0</td>\n",
              "    </tr>\n",
              "    <tr>\n",
              "      <th>4</th>\n",
              "      <td>1101037972</td>\n",
              "      <td>0</td>\n",
              "    </tr>\n",
              "  </tbody>\n",
              "</table>\n",
              "</div>"
            ],
            "text/plain": [
              "      sell_id  price\n",
              "0  1100575026      0\n",
              "1  1100549428      0\n",
              "2  1100658222      0\n",
              "3  1100937408      0\n",
              "4  1101037972      0"
            ]
          },
          "metadata": {},
          "execution_count": 280
        }
      ]
    },
    {
      "cell_type": "markdown",
      "metadata": {
        "id": "yqfk3U1jO-Yu"
      },
      "source": [
        "## COLUMNS:\n"
      ]
    },
    {
      "cell_type": "markdown",
      "metadata": {
        "id": "mvFxJNvBO-Yu"
      },
      "source": [
        "- compare columns in train and test datasets, rename where necessary and drop from train if needed\n",
        "- mark test and train data\n",
        "- join datasets\n"
      ]
    },
    {
      "cell_type": "code",
      "metadata": {
        "id": "TrThaMwzO-Yu",
        "outputId": "672b9670-04d9-4689-937a-a960b5e0d3b0",
        "colab": {
          "base_uri": "https://localhost:8080/"
        }
      },
      "source": [
        "# take a look at test columns:\n",
        "test_columns = df_test.columns\n",
        "test_columns\n"
      ],
      "execution_count": 281,
      "outputs": [
        {
          "output_type": "execute_result",
          "data": {
            "text/plain": [
              "Index(['bodyType', 'brand', 'car_url', 'color', 'complectation_dict',\n",
              "       'description', 'engineDisplacement', 'enginePower', 'equipment_dict',\n",
              "       'fuelType', 'image', 'mileage', 'modelDate', 'model_info', 'model_name',\n",
              "       'name', 'numberOfDoors', 'parsing_unixtime', 'priceCurrency',\n",
              "       'productionDate', 'sell_id', 'super_gen', 'vehicleConfiguration',\n",
              "       'vehicleTransmission', 'vendor', 'Владельцы', 'Владение', 'ПТС',\n",
              "       'Привод', 'Руль', 'Состояние', 'Таможня'],\n",
              "      dtype='object')"
            ]
          },
          "metadata": {},
          "execution_count": 281
        }
      ]
    },
    {
      "cell_type": "code",
      "metadata": {
        "id": "tGHRIbd6O-Yu",
        "outputId": "f28ad386-06c2-4b31-881a-14cff0f9da97",
        "colab": {
          "base_uri": "https://localhost:8080/"
        }
      },
      "source": [
        "# take a look at train columns:\n",
        "train_columns = df_train.columns\n",
        "train_columns\n"
      ],
      "execution_count": 282,
      "outputs": [
        {
          "output_type": "execute_result",
          "data": {
            "text/plain": [
              "Int64Index([ 0,  1,  2,  3,  4,  5,  6,  7,  8,  9, 10, 11, 12, 13, 14, 15, 16,\n",
              "            17, 18, 19, 20, 21, 22],\n",
              "           dtype='int64')"
            ]
          },
          "metadata": {},
          "execution_count": 282
        }
      ]
    },
    {
      "cell_type": "code",
      "metadata": {
        "id": "HtTaN4VVO-Yv",
        "outputId": "b77ba560-a259-4c28-9aaf-ee225bf9f258",
        "colab": {
          "base_uri": "https://localhost:8080/",
          "height": 754
        }
      },
      "source": [
        "# ooops... take another look at data to figure out how to name them:\n",
        "df_train.head().T\n"
      ],
      "execution_count": 283,
      "outputs": [
        {
          "output_type": "execute_result",
          "data": {
            "text/html": [
              "<div>\n",
              "<style scoped>\n",
              "    .dataframe tbody tr th:only-of-type {\n",
              "        vertical-align: middle;\n",
              "    }\n",
              "\n",
              "    .dataframe tbody tr th {\n",
              "        vertical-align: top;\n",
              "    }\n",
              "\n",
              "    .dataframe thead th {\n",
              "        text-align: right;\n",
              "    }\n",
              "</style>\n",
              "<table border=\"1\" class=\"dataframe\">\n",
              "  <thead>\n",
              "    <tr style=\"text-align: right;\">\n",
              "      <th></th>\n",
              "      <th>0</th>\n",
              "      <th>1</th>\n",
              "      <th>2</th>\n",
              "      <th>3</th>\n",
              "      <th>4</th>\n",
              "    </tr>\n",
              "  </thead>\n",
              "  <tbody>\n",
              "    <tr>\n",
              "      <th>0</th>\n",
              "      <td>SKODA</td>\n",
              "      <td>SKODA</td>\n",
              "      <td>SKODA</td>\n",
              "      <td>SKODA</td>\n",
              "      <td>SKODA</td>\n",
              "    </tr>\n",
              "    <tr>\n",
              "      <th>1</th>\n",
              "      <td>Skoda Fabia II</td>\n",
              "      <td>Skoda Fabia I</td>\n",
              "      <td>Skoda Octavia III (A7) Рестайлинг</td>\n",
              "      <td>Skoda Fabia RS II</td>\n",
              "      <td>Skoda Fabia II Рестайлинг</td>\n",
              "    </tr>\n",
              "    <tr>\n",
              "      <th>2</th>\n",
              "      <td>универсал 5 дв.</td>\n",
              "      <td>универсал 5 дв.</td>\n",
              "      <td>лифтбек</td>\n",
              "      <td>хэтчбек 5 дв.</td>\n",
              "      <td>хэтчбек 5 дв.</td>\n",
              "    </tr>\n",
              "    <tr>\n",
              "      <th>3</th>\n",
              "      <td>5</td>\n",
              "      <td>5</td>\n",
              "      <td>5</td>\n",
              "      <td>5</td>\n",
              "      <td>5</td>\n",
              "    </tr>\n",
              "    <tr>\n",
              "      <th>4</th>\n",
              "      <td>2007</td>\n",
              "      <td>1999</td>\n",
              "      <td>2017</td>\n",
              "      <td>2010</td>\n",
              "      <td>2010</td>\n",
              "    </tr>\n",
              "    <tr>\n",
              "      <th>5</th>\n",
              "      <td>2009</td>\n",
              "      <td>2001</td>\n",
              "      <td>2017</td>\n",
              "      <td>2012</td>\n",
              "      <td>2011</td>\n",
              "    </tr>\n",
              "    <tr>\n",
              "      <th>6</th>\n",
              "      <td>чёрный</td>\n",
              "      <td>серебристый</td>\n",
              "      <td>белый</td>\n",
              "      <td>синий</td>\n",
              "      <td>чёрный</td>\n",
              "    </tr>\n",
              "    <tr>\n",
              "      <th>7</th>\n",
              "      <td>1.4 LTR</td>\n",
              "      <td>1.4 LTR</td>\n",
              "      <td>1.6 LTR</td>\n",
              "      <td>1.4 LTR</td>\n",
              "      <td>1.2 LTR</td>\n",
              "    </tr>\n",
              "    <tr>\n",
              "      <th>8</th>\n",
              "      <td>86 N12</td>\n",
              "      <td>68 N12</td>\n",
              "      <td>110 N12</td>\n",
              "      <td>180 N12</td>\n",
              "      <td>70 N12</td>\n",
              "    </tr>\n",
              "    <tr>\n",
              "      <th>9</th>\n",
              "      <td>бензин</td>\n",
              "      <td>бензин</td>\n",
              "      <td>бензин</td>\n",
              "      <td>бензин</td>\n",
              "      <td>бензин</td>\n",
              "    </tr>\n",
              "    <tr>\n",
              "      <th>10</th>\n",
              "      <td>https://avatars.mds.yandex.net/get-autoru-vos/...</td>\n",
              "      <td>https://autoru.naydex.net/Lr84PuH52/0ca95dIpb/...</td>\n",
              "      <td>https://autoru.naydex.net/Lr84PuH52/0ca95dIpb/...</td>\n",
              "      <td>https://autoru.naydex.net/Lr84PuH52/0ca95dIpb/...</td>\n",
              "      <td>https://avatars.mds.yandex.net/get-autoru-vos/...</td>\n",
              "    </tr>\n",
              "    <tr>\n",
              "      <th>11</th>\n",
              "      <td>182 200 км</td>\n",
              "      <td>296 000 км</td>\n",
              "      <td>131 807 км</td>\n",
              "      <td>192 000 км</td>\n",
              "      <td>190 000 км</td>\n",
              "    </tr>\n",
              "    <tr>\n",
              "      <th>12</th>\n",
              "      <td>1.4 MT</td>\n",
              "      <td>1.4 MT</td>\n",
              "      <td>1.6 AT</td>\n",
              "      <td>1.4 AMT</td>\n",
              "      <td>1.2 MT</td>\n",
              "    </tr>\n",
              "    <tr>\n",
              "      <th>13</th>\n",
              "      <td>WAGON_5_DOORS MECHANICAL 1.4</td>\n",
              "      <td>WAGON_5_DOORS MECHANICAL 1.4</td>\n",
              "      <td>LIFTBACK AUTOMATIC 1.6</td>\n",
              "      <td>HATCHBACK_5_DOORS ROBOT 1.4</td>\n",
              "      <td>HATCHBACK_5_DOORS MECHANICAL 1.2</td>\n",
              "    </tr>\n",
              "    <tr>\n",
              "      <th>14</th>\n",
              "      <td>механическая</td>\n",
              "      <td>механическая</td>\n",
              "      <td>автоматическая</td>\n",
              "      <td>роботизированная</td>\n",
              "      <td>механическая</td>\n",
              "    </tr>\n",
              "    <tr>\n",
              "      <th>15</th>\n",
              "      <td>2 владельца</td>\n",
              "      <td>3 или более</td>\n",
              "      <td>1 владелец</td>\n",
              "      <td>3 или более</td>\n",
              "      <td>2 владельца</td>\n",
              "    </tr>\n",
              "    <tr>\n",
              "      <th>16</th>\n",
              "      <td>Оригинал</td>\n",
              "      <td>Дубликат</td>\n",
              "      <td>Оригинал</td>\n",
              "      <td>Оригинал</td>\n",
              "      <td>Оригинал</td>\n",
              "    </tr>\n",
              "    <tr>\n",
              "      <th>17</th>\n",
              "      <td>передний</td>\n",
              "      <td>передний</td>\n",
              "      <td>передний</td>\n",
              "      <td>передний</td>\n",
              "      <td>передний</td>\n",
              "    </tr>\n",
              "    <tr>\n",
              "      <th>18</th>\n",
              "      <td>Левый</td>\n",
              "      <td>Левый</td>\n",
              "      <td>Левый</td>\n",
              "      <td>Левый</td>\n",
              "      <td>Левый</td>\n",
              "    </tr>\n",
              "    <tr>\n",
              "      <th>19</th>\n",
              "      <td>Не требует ремонта</td>\n",
              "      <td>Не требует ремонта</td>\n",
              "      <td>Не требует ремонта</td>\n",
              "      <td>Не требует ремонта</td>\n",
              "      <td>Не требует ремонта</td>\n",
              "    </tr>\n",
              "    <tr>\n",
              "      <th>20</th>\n",
              "      <td>Растаможен</td>\n",
              "      <td>Растаможен</td>\n",
              "      <td>Растаможен</td>\n",
              "      <td>Растаможен</td>\n",
              "      <td>Растаможен</td>\n",
              "    </tr>\n",
              "    <tr>\n",
              "      <th>21</th>\n",
              "      <td>https://auto.ru/cars/used/sale/skoda/fabia/110...</td>\n",
              "      <td>https://auto.ru/cars/used/sale/skoda/fabia/110...</td>\n",
              "      <td>https://auto.ru/cars/used/sale/skoda/octavia/1...</td>\n",
              "      <td>https://auto.ru/cars/used/sale/skoda/fabia_rs/...</td>\n",
              "      <td>https://auto.ru/cars/used/sale/skoda/fabia/110...</td>\n",
              "    </tr>\n",
              "    <tr>\n",
              "      <th>22</th>\n",
              "      <td>370 000 ₽</td>\n",
              "      <td>155 000 ₽</td>\n",
              "      <td>840 000 ₽</td>\n",
              "      <td>470 000 ₽</td>\n",
              "      <td>290 000 ₽</td>\n",
              "    </tr>\n",
              "  </tbody>\n",
              "</table>\n",
              "</div>"
            ],
            "text/plain": [
              "                                                    0  ...                                                  4\n",
              "0                                               SKODA  ...                                              SKODA\n",
              "1                                      Skoda Fabia II  ...                          Skoda Fabia II Рестайлинг\n",
              "2                                     универсал 5 дв.  ...                                      хэтчбек 5 дв.\n",
              "3                                                   5  ...                                                  5\n",
              "4                                                2007  ...                                               2010\n",
              "5                                                2009  ...                                               2011\n",
              "6                                              чёрный  ...                                             чёрный\n",
              "7                                             1.4 LTR  ...                                            1.2 LTR\n",
              "8                                              86 N12  ...                                             70 N12\n",
              "9                                              бензин  ...                                             бензин\n",
              "10  https://avatars.mds.yandex.net/get-autoru-vos/...  ...  https://avatars.mds.yandex.net/get-autoru-vos/...\n",
              "11                                         182 200 км  ...                                         190 000 км\n",
              "12                                             1.4 MT  ...                                             1.2 MT\n",
              "13                       WAGON_5_DOORS MECHANICAL 1.4  ...                   HATCHBACK_5_DOORS MECHANICAL 1.2\n",
              "14                                       механическая  ...                                       механическая\n",
              "15                                        2 владельца  ...                                        2 владельца\n",
              "16                                           Оригинал  ...                                           Оригинал\n",
              "17                                           передний  ...                                           передний\n",
              "18                                              Левый  ...                                              Левый\n",
              "19                                 Не требует ремонта  ...                                 Не требует ремонта\n",
              "20                                         Растаможен  ...                                         Растаможен\n",
              "21  https://auto.ru/cars/used/sale/skoda/fabia/110...  ...  https://auto.ru/cars/used/sale/skoda/fabia/110...\n",
              "22                                          370 000 ₽  ...                                          290 000 ₽\n",
              "\n",
              "[23 rows x 5 columns]"
            ]
          },
          "metadata": {},
          "execution_count": 283
        }
      ]
    },
    {
      "cell_type": "code",
      "metadata": {
        "id": "zwHtcWU7O-Yv"
      },
      "source": [
        "# rename train columns:\n",
        "train_columns = train_columns.map({0 : 'brand', \n",
        "                                   1 : 'model_name', \n",
        "                                   2 : 'bodyType',\n",
        "                                   3 : 'numberOfDoors',\n",
        "                                   4 : 'modelDate',\n",
        "                                   5 : 'productionDate',\n",
        "                                   6 : 'color',\n",
        "                                   7 : 'engineDisplacement',\n",
        "                                   8 : 'enginePower',\n",
        "                                   9 : 'fuelType',\n",
        "                                   10 : 'image',\n",
        "                                   11 : 'mileage',\n",
        "                                   12 : 'name',\n",
        "                                   13 : 'vehicleConfiguration',\n",
        "                                   14 : 'vehicleTransmission',\n",
        "                                   15 : 'Владельцы',\n",
        "                                   16 : 'ПТС',\n",
        "                                   17 : 'Привод',\n",
        "                                   18 : 'Руль',\n",
        "                                   19 : 'Состояние',\n",
        "                                   20 : 'Таможня', \n",
        "                                   21 : 'car_url',\n",
        "                                   22 : 'price'})\n",
        "df_train.columns = train_columns\n"
      ],
      "execution_count": 284,
      "outputs": []
    },
    {
      "cell_type": "code",
      "metadata": {
        "id": "Ixt-gyULO-Yw",
        "outputId": "4dca697d-e082-4ead-e52b-94c0ccd81d97",
        "colab": {
          "base_uri": "https://localhost:8080/",
          "height": 754
        }
      },
      "source": [
        "# take a look if all good now:\n",
        "df_train.sample().T\n"
      ],
      "execution_count": 285,
      "outputs": [
        {
          "output_type": "execute_result",
          "data": {
            "text/html": [
              "<div>\n",
              "<style scoped>\n",
              "    .dataframe tbody tr th:only-of-type {\n",
              "        vertical-align: middle;\n",
              "    }\n",
              "\n",
              "    .dataframe tbody tr th {\n",
              "        vertical-align: top;\n",
              "    }\n",
              "\n",
              "    .dataframe thead th {\n",
              "        text-align: right;\n",
              "    }\n",
              "</style>\n",
              "<table border=\"1\" class=\"dataframe\">\n",
              "  <thead>\n",
              "    <tr style=\"text-align: right;\">\n",
              "      <th></th>\n",
              "      <th>17292</th>\n",
              "    </tr>\n",
              "  </thead>\n",
              "  <tbody>\n",
              "    <tr>\n",
              "      <th>brand</th>\n",
              "      <td>NISSAN</td>\n",
              "    </tr>\n",
              "    <tr>\n",
              "      <th>model_name</th>\n",
              "      <td>Nissan Qashqai II Рестайлинг</td>\n",
              "    </tr>\n",
              "    <tr>\n",
              "      <th>bodyType</th>\n",
              "      <td>внедорожник 5 дв.</td>\n",
              "    </tr>\n",
              "    <tr>\n",
              "      <th>numberOfDoors</th>\n",
              "      <td>5</td>\n",
              "    </tr>\n",
              "    <tr>\n",
              "      <th>modelDate</th>\n",
              "      <td>2017</td>\n",
              "    </tr>\n",
              "    <tr>\n",
              "      <th>productionDate</th>\n",
              "      <td>2020</td>\n",
              "    </tr>\n",
              "    <tr>\n",
              "      <th>color</th>\n",
              "      <td>серый</td>\n",
              "    </tr>\n",
              "    <tr>\n",
              "      <th>engineDisplacement</th>\n",
              "      <td>2.0 LTR</td>\n",
              "    </tr>\n",
              "    <tr>\n",
              "      <th>enginePower</th>\n",
              "      <td>144 N12</td>\n",
              "    </tr>\n",
              "    <tr>\n",
              "      <th>fuelType</th>\n",
              "      <td>бензин</td>\n",
              "    </tr>\n",
              "    <tr>\n",
              "      <th>image</th>\n",
              "      <td>https://autoru.naydex.net/9ODTi2i70/5f8c800E/3...</td>\n",
              "    </tr>\n",
              "    <tr>\n",
              "      <th>mileage</th>\n",
              "      <td>20 000 км</td>\n",
              "    </tr>\n",
              "    <tr>\n",
              "      <th>name</th>\n",
              "      <td>2.0 MT</td>\n",
              "    </tr>\n",
              "    <tr>\n",
              "      <th>vehicleConfiguration</th>\n",
              "      <td>ALLROAD_5_DOORS MECHANICAL 2.0</td>\n",
              "    </tr>\n",
              "    <tr>\n",
              "      <th>vehicleTransmission</th>\n",
              "      <td>механическая</td>\n",
              "    </tr>\n",
              "    <tr>\n",
              "      <th>Владельцы</th>\n",
              "      <td>1 владелец</td>\n",
              "    </tr>\n",
              "    <tr>\n",
              "      <th>ПТС</th>\n",
              "      <td>Оригинал</td>\n",
              "    </tr>\n",
              "    <tr>\n",
              "      <th>Привод</th>\n",
              "      <td>передний</td>\n",
              "    </tr>\n",
              "    <tr>\n",
              "      <th>Руль</th>\n",
              "      <td>Левый</td>\n",
              "    </tr>\n",
              "    <tr>\n",
              "      <th>Состояние</th>\n",
              "      <td>Не требует ремонта</td>\n",
              "    </tr>\n",
              "    <tr>\n",
              "      <th>Таможня</th>\n",
              "      <td>Растаможен</td>\n",
              "    </tr>\n",
              "    <tr>\n",
              "      <th>car_url</th>\n",
              "      <td>https://auto.ru/cars/used/sale/nissan/qashqai/...</td>\n",
              "    </tr>\n",
              "    <tr>\n",
              "      <th>price</th>\n",
              "      <td>1 707 000 ₽</td>\n",
              "    </tr>\n",
              "  </tbody>\n",
              "</table>\n",
              "</div>"
            ],
            "text/plain": [
              "                                                                  17292\n",
              "brand                                                            NISSAN\n",
              "model_name                                 Nissan Qashqai II Рестайлинг\n",
              "bodyType                                              внедорожник 5 дв.\n",
              "numberOfDoors                                                         5\n",
              "modelDate                                                          2017\n",
              "productionDate                                                     2020\n",
              "color                                                             серый\n",
              "engineDisplacement                                              2.0 LTR\n",
              "enginePower                                                     144 N12\n",
              "fuelType                                                         бензин\n",
              "image                 https://autoru.naydex.net/9ODTi2i70/5f8c800E/3...\n",
              "mileage                                                       20 000 км\n",
              "name                                                             2.0 MT\n",
              "vehicleConfiguration                     ALLROAD_5_DOORS MECHANICAL 2.0\n",
              "vehicleTransmission                                        механическая\n",
              "Владельцы                                                    1 владелец\n",
              "ПТС                                                            Оригинал\n",
              "Привод                                                         передний\n",
              "Руль                                                              Левый\n",
              "Состояние                                            Не требует ремонта\n",
              "Таможня                                                      Растаможен\n",
              "car_url               https://auto.ru/cars/used/sale/nissan/qashqai/...\n",
              "price                                                       1 707 000 ₽"
            ]
          },
          "metadata": {},
          "execution_count": 285
        }
      ]
    },
    {
      "cell_type": "code",
      "metadata": {
        "id": "f_SdnfCoO-Yw",
        "outputId": "d99d3677-9056-41e3-8b27-b141e35d9e6f",
        "colab": {
          "base_uri": "https://localhost:8080/"
        }
      },
      "source": [
        "# find columns in test not being presented in train:\n",
        "cols_to_drop_from_test = list(set(test_columns) - set(train_columns))\n",
        "cols_to_drop_from_test\n"
      ],
      "execution_count": 286,
      "outputs": [
        {
          "output_type": "execute_result",
          "data": {
            "text/plain": [
              "['priceCurrency',\n",
              " 'equipment_dict',\n",
              " 'model_info',\n",
              " 'super_gen',\n",
              " 'description',\n",
              " 'Владение',\n",
              " 'vendor',\n",
              " 'sell_id',\n",
              " 'parsing_unixtime',\n",
              " 'complectation_dict']"
            ]
          },
          "metadata": {},
          "execution_count": 286
        }
      ]
    },
    {
      "cell_type": "code",
      "metadata": {
        "id": "vur0y1svO-Yw",
        "outputId": "7b57018e-31c8-4d75-b714-72c8406375f7",
        "colab": {
          "base_uri": "https://localhost:8080/"
        }
      },
      "source": [
        "# hmmmm ))) interesting, how old test dataset is:\n",
        "datetime.fromtimestamp(df_test[\"parsing_unixtime\"].min()).strftime('%Y-%b-%d'),\\\n",
        "datetime.fromtimestamp(df_test[\"parsing_unixtime\"].max()).strftime('%Y-%b-%d')\n"
      ],
      "execution_count": 287,
      "outputs": [
        {
          "output_type": "execute_result",
          "data": {
            "text/plain": [
              "('2020-Oct-19', '2020-Oct-26')"
            ]
          },
          "metadata": {},
          "execution_count": 287
        }
      ]
    },
    {
      "cell_type": "markdown",
      "metadata": {
        "id": "Y7q927wRO-Yx"
      },
      "source": [
        "Данным ровно год. Цены выросли. По данным статистики, на автомобили - на 15% Возможно, следует промасштабировать цену..."
      ]
    },
    {
      "cell_type": "code",
      "metadata": {
        "id": "3hZoBwaZO-Yx",
        "outputId": "1f66f96f-623a-42d8-f434-506bcf5509bf",
        "colab": {
          "base_uri": "https://localhost:8080/"
        }
      },
      "source": [
        "# priceCurrency - hopefulyy, the same everywhere:\n",
        "df_test.priceCurrency.value_counts()\n"
      ],
      "execution_count": 288,
      "outputs": [
        {
          "output_type": "execute_result",
          "data": {
            "text/plain": [
              "RUB    34686\n",
              "Name: priceCurrency, dtype: int64"
            ]
          },
          "metadata": {},
          "execution_count": 288
        }
      ]
    },
    {
      "cell_type": "markdown",
      "metadata": {
        "id": "k56ZmR4hO-Yx"
      },
      "source": [
        "OK, as in train dataset all prices are in RUB "
      ]
    },
    {
      "cell_type": "code",
      "metadata": {
        "id": "nlOxUg7QO-Yx",
        "outputId": "ddd102d0-cbf3-4417-f10d-681146c48db0",
        "colab": {
          "base_uri": "https://localhost:8080/"
        }
      },
      "source": [
        "# check if we've got new columns during parsing:\n",
        "new_columns = list(set(train_columns) - set(test_columns))\n",
        "new_columns\n"
      ],
      "execution_count": 289,
      "outputs": [
        {
          "output_type": "execute_result",
          "data": {
            "text/plain": [
              "['price']"
            ]
          },
          "metadata": {},
          "execution_count": 289
        }
      ]
    },
    {
      "cell_type": "markdown",
      "metadata": {
        "id": "2R9a6gDAO-Yy"
      },
      "source": [
        "that's ok, we are not supposed to know the price in test dataset\n"
      ]
    },
    {
      "cell_type": "code",
      "metadata": {
        "id": "jadFeb3aO-Yy",
        "outputId": "8bc76cdf-82c4-431e-d2b9-083515ce28cf",
        "colab": {
          "base_uri": "https://localhost:8080/"
        }
      },
      "source": [
        "# compare main values in test and train to make sure we have good data:\n",
        "df_test.brand.value_counts(), \"==================\", df_train.brand.value_counts()\n"
      ],
      "execution_count": 290,
      "outputs": [
        {
          "output_type": "execute_result",
          "data": {
            "text/plain": [
              "(BMW           4473\n",
              " VOLKSWAGEN    4404\n",
              " NISSAN        4393\n",
              " MERCEDES      4180\n",
              " TOYOTA        3913\n",
              " AUDI          3421\n",
              " MITSUBISHI    2843\n",
              " SKODA         2741\n",
              " VOLVO         1463\n",
              " HONDA         1150\n",
              " INFINITI       871\n",
              " LEXUS          834\n",
              " Name: brand, dtype: int64, '==================', AUDI          3383\n",
              " SKODA         3383\n",
              " HONDA         3377\n",
              " BMW           3162\n",
              " NISSAN        3160\n",
              " MERCEDES      3083\n",
              " MITSUBISHI    3065\n",
              " TOYOTA        2992\n",
              " VOLKSWAGEN    2980\n",
              " LEXUS         2926\n",
              " VOLVO         2411\n",
              " INFINITI      1343\n",
              " Name: brand, dtype: int64)"
            ]
          },
          "metadata": {},
          "execution_count": 290
        }
      ]
    },
    {
      "cell_type": "markdown",
      "metadata": {
        "id": "li1B1aHUO-Yy"
      },
      "source": [
        "There are only 12 brands represented in test dataset , for now therefore no need to process others"
      ]
    },
    {
      "cell_type": "code",
      "metadata": {
        "id": "SFiYGBu0O-Yy",
        "outputId": "a19dfac3-9e1a-43b8-ee8a-ac70318dfe3b",
        "colab": {
          "base_uri": "https://localhost:8080/"
        }
      },
      "source": [
        "# join datasets marking them for future split:\n",
        "df_test['price'] = 0\n",
        "df_test['test_train'] = \"test\"\n",
        "df_train['test_train'] = \"train\"\n",
        "data = df_train.append(df_test, sort=False).reset_index(drop=True) # объединяем\n",
        "data.shape\n"
      ],
      "execution_count": 291,
      "outputs": [
        {
          "output_type": "execute_result",
          "data": {
            "text/plain": [
              "(69951, 34)"
            ]
          },
          "metadata": {},
          "execution_count": 291
        }
      ]
    },
    {
      "cell_type": "code",
      "metadata": {
        "id": "HV42ZjgDVBDj"
      },
      "source": [
        ""
      ],
      "execution_count": 291,
      "outputs": []
    },
    {
      "cell_type": "code",
      "metadata": {
        "id": "UITcD76KO-Yz",
        "outputId": "ea55a977-aba9-438b-f3ea-e06bb197d43b",
        "colab": {
          "base_uri": "https://localhost:8080/"
        }
      },
      "source": [
        "# remove columns we dot't have in train:\n",
        "data.drop(cols_to_drop_from_test, axis=1, inplace=True)\n",
        "data.shape\n"
      ],
      "execution_count": 292,
      "outputs": [
        {
          "output_type": "execute_result",
          "data": {
            "text/plain": [
              "(69951, 24)"
            ]
          },
          "metadata": {},
          "execution_count": 292
        }
      ]
    },
    {
      "cell_type": "code",
      "metadata": {
        "id": "_-776OYFO-Yz",
        "outputId": "082d642a-85d1-446c-a7a5-dfc164c73327",
        "colab": {
          "base_uri": "https://localhost:8080/"
        }
      },
      "source": [
        "# rename columns to make their names more commfortable to use:\n",
        "col_replacement = {'bodyType' : 'body_type', \n",
        "                   'numberOfDoors': 'doors',\n",
        "                  'modelDate':'model_date',\n",
        "                  'productionDate': 'prod_date',\n",
        "                  'engineDisplacement':'engine_V',\n",
        "                  'enginePower' : 'power',\n",
        "                  'fuelType': 'fuel',\n",
        "                  'vehicleConfiguration' : 'config',\n",
        "                  'vehicleTransmission' : 'transmission',\n",
        "                  'Владельцы' : 'owners',\n",
        "                   'ПТС' : 'pass',\n",
        "                   'Привод' : 'drive',\n",
        "                   'Руль' : 'wheel',\n",
        "                   'Состояние' : 'state',\n",
        "                   'Таможня' : 'custom'\n",
        "                  }\n",
        "data.rename(columns=col_replacement, inplace=True)\n",
        "data.info()\n"
      ],
      "execution_count": 293,
      "outputs": [
        {
          "output_type": "stream",
          "name": "stdout",
          "text": [
            "<class 'pandas.core.frame.DataFrame'>\n",
            "RangeIndex: 69951 entries, 0 to 69950\n",
            "Data columns (total 24 columns):\n",
            " #   Column        Non-Null Count  Dtype \n",
            "---  ------        --------------  ----- \n",
            " 0   brand         69951 non-null  object\n",
            " 1   model_name    69951 non-null  object\n",
            " 2   body_type     69951 non-null  object\n",
            " 3   doors         69951 non-null  int64 \n",
            " 4   model_date    69951 non-null  int64 \n",
            " 5   prod_date     69951 non-null  int64 \n",
            " 6   color         69951 non-null  object\n",
            " 7   engine_V      69951 non-null  object\n",
            " 8   power         69951 non-null  object\n",
            " 9   fuel          69951 non-null  object\n",
            " 10  image         69951 non-null  object\n",
            " 11  mileage       69951 non-null  object\n",
            " 12  name          69951 non-null  object\n",
            " 13  config        69951 non-null  object\n",
            " 14  transmission  69951 non-null  object\n",
            " 15  owners        69951 non-null  object\n",
            " 16  pass          69950 non-null  object\n",
            " 17  drive         69951 non-null  object\n",
            " 18  wheel         69951 non-null  object\n",
            " 19  state         69951 non-null  object\n",
            " 20  custom        69951 non-null  object\n",
            " 21  car_url       69951 non-null  object\n",
            " 22  price         69951 non-null  object\n",
            " 23  test_train    69951 non-null  object\n",
            "dtypes: int64(3), object(21)\n",
            "memory usage: 12.8+ MB\n"
          ]
        }
      ]
    },
    {
      "cell_type": "markdown",
      "metadata": {
        "id": "Xqkcdlb4O-Y0"
      },
      "source": [
        "## VALUE CLEANUP\n"
      ]
    },
    {
      "cell_type": "markdown",
      "metadata": {
        "id": "cDRmC3BWO-Y0"
      },
      "source": [
        "- process columns manually one by one\n",
        "- split column names into 3 lists: categorian, numeric and binary\n",
        "- add new columns\n",
        "- drop some columns\n"
      ]
    },
    {
      "cell_type": "code",
      "metadata": {
        "id": "1Nn7nA2fO-Y0"
      },
      "source": [
        "# lists to sort out columns for future processing:\n",
        "cat_columns = []\n",
        "num_columns = []\n",
        "bin_columns = []\n"
      ],
      "execution_count": 294,
      "outputs": []
    },
    {
      "cell_type": "code",
      "metadata": {
        "id": "vrO6XNDrO-Y0"
      },
      "source": [
        "# when necesssary turn this on:\n",
        "# pd.set_option('display.max_rows', None)\n"
      ],
      "execution_count": 295,
      "outputs": []
    },
    {
      "cell_type": "markdown",
      "metadata": {
        "id": "K7sHwbZHO-Y0"
      },
      "source": [
        "### 0. brand"
      ]
    },
    {
      "cell_type": "code",
      "metadata": {
        "id": "z7ObTumkO-Y0",
        "outputId": "6c6d85c0-4519-4842-e637-40ea8334c4f8",
        "colab": {
          "base_uri": "https://localhost:8080/"
        }
      },
      "source": [
        "# how many cars of each brand do we have:\n",
        "data.brand.value_counts()\n"
      ],
      "execution_count": 296,
      "outputs": [
        {
          "output_type": "execute_result",
          "data": {
            "text/plain": [
              "BMW           7635\n",
              "NISSAN        7553\n",
              "VOLKSWAGEN    7384\n",
              "MERCEDES      7263\n",
              "TOYOTA        6905\n",
              "AUDI          6804\n",
              "SKODA         6124\n",
              "MITSUBISHI    5908\n",
              "HONDA         4527\n",
              "VOLVO         3874\n",
              "LEXUS         3760\n",
              "INFINITI      2214\n",
              "Name: brand, dtype: int64"
            ]
          },
          "metadata": {},
          "execution_count": 296
        }
      ]
    },
    {
      "cell_type": "code",
      "metadata": {
        "id": "HyV2ekYhO-Y1"
      },
      "source": [
        "cat_columns.append(\"brand\")\n"
      ],
      "execution_count": 297,
      "outputs": []
    },
    {
      "cell_type": "markdown",
      "metadata": {
        "id": "il5bN80wO-Y1"
      },
      "source": [
        "### 1. model_name"
      ]
    },
    {
      "cell_type": "code",
      "metadata": {
        "id": "kzuavmtIO-Y1",
        "outputId": "6fb5597a-c38f-4642-f5ad-aaf1369bb317",
        "colab": {
          "base_uri": "https://localhost:8080/"
        }
      },
      "source": [
        "data.model_name.value_counts()\n"
      ],
      "execution_count": 298,
      "outputs": [
        {
          "output_type": "execute_result",
          "data": {
            "text/plain": [
              "OCTAVIA                                    1418\n",
              "5ER                                        1026\n",
              "LANCER                                      855\n",
              "E_KLASSE                                    809\n",
              "PASSAT                                      782\n",
              "                                           ... \n",
              "Mercedes-Benz S-Класс 600 Long V (W221)       1\n",
              "Mercedes-Benz C-Класс 300 IV (W205)           1\n",
              "Mercedes-Benz Vito 109 CDI L1 II (W639)       1\n",
              "BMW Z4 35i II (E89)                           1\n",
              "100_SERIES                                    1\n",
              "Name: model_name, Length: 2861, dtype: int64"
            ]
          },
          "metadata": {},
          "execution_count": 298
        }
      ]
    },
    {
      "cell_type": "code",
      "metadata": {
        "id": "xA19TBZAO-Y1",
        "outputId": "e66e05a2-2bcc-4931-9f0f-0f5b669f8b6b",
        "colab": {
          "base_uri": "https://localhost:8080/"
        }
      },
      "source": [
        "models_to_numbers = dict(data.model_name.value_counts())\n",
        "models_to_numbers\n"
      ],
      "execution_count": 299,
      "outputs": [
        {
          "output_type": "execute_result",
          "data": {
            "text/plain": [
              "{'OCTAVIA': 1418,\n",
              " '5ER': 1026,\n",
              " 'LANCER': 855,\n",
              " 'E_KLASSE': 809,\n",
              " 'PASSAT': 782,\n",
              " 'A6': 757,\n",
              " '3ER': 752,\n",
              " 'POLO': 724,\n",
              " 'CAMRY': 709,\n",
              " 'X5': 675,\n",
              " 'X_TRAIL': 654,\n",
              " 'A4': 626,\n",
              " 'QASHQAI': 609,\n",
              " 'S_KLASSE': 549,\n",
              " 'OUTLANDER': 544,\n",
              " 'LAND_CRUISER': 514,\n",
              " 'ALMERA': 502,\n",
              " 'TIGUAN': 491,\n",
              " 'Volkswagen Polo V Рестайлинг': 473,\n",
              " 'TOUAREG': 469,\n",
              " 'COROLLA': 456,\n",
              " 'RAV_4': 447,\n",
              " 'C_KLASSE': 428,\n",
              " 'GOLF': 424,\n",
              " 'Skoda Octavia II (A5) Рестайлинг': 400,\n",
              " 'LAND_CRUISER_PRADO': 387,\n",
              " 'TEANA': 374,\n",
              " 'RAPID': 370,\n",
              " 'Skoda Octavia III (A7) Рестайлинг': 361,\n",
              " 'Skoda Octavia III (A7)': 356,\n",
              " 'M_KLASSE': 343,\n",
              " '7ER': 343,\n",
              " 'XC90': 340,\n",
              " 'JETTA': 324,\n",
              " 'X6': 317,\n",
              " 'CIVIC': 316,\n",
              " 'Volkswagen Tiguan I Рестайлинг': 311,\n",
              " 'PAJERO': 306,\n",
              " 'Nissan Qashqai II': 305,\n",
              " 'Q7': 302,\n",
              " 'FX': 297,\n",
              " 'X3': 283,\n",
              " 'Volvo XC90 I Рестайлинг': 277,\n",
              " 'Nissan X-Trail III': 272,\n",
              " 'JUKE': 268,\n",
              " 'Volkswagen Tiguan II': 267,\n",
              " 'Skoda Rapid I Рестайлинг': 262,\n",
              " 'ACCORD': 260,\n",
              " 'SUPERB': 248,\n",
              " 'Mitsubishi Outlander III Рестайлинг 2': 247,\n",
              " 'S60': 246,\n",
              " 'Q5': 246,\n",
              " 'FABIA': 245,\n",
              " 'Volkswagen Polo V': 244,\n",
              " 'Skoda Fabia II Рестайлинг': 244,\n",
              " 'Skoda Rapid I': 244,\n",
              " 'Mitsubishi Outlander III': 242,\n",
              " 'YETI': 241,\n",
              " 'MURANO': 239,\n",
              " 'CR_V': 235,\n",
              " 'RX': 235,\n",
              " 'GL_KLASSE': 233,\n",
              " 'A3': 225,\n",
              " 'Honda Civic VIII': 221,\n",
              " 'Skoda Kodiaq I': 219,\n",
              " '1ER': 218,\n",
              " 'PRIMERA': 217,\n",
              " 'X1': 215,\n",
              " 'A5': 211,\n",
              " 'A8': 204,\n",
              " 'Nissan X-Trail II Рестайлинг': 201,\n",
              " 'XC60': 195,\n",
              " 'Nissan Qashqai I Рестайлинг': 194,\n",
              " 'Nissan Juke I': 190,\n",
              " 'Mitsubishi Lancer IX Рестайлинг': 186,\n",
              " 'PAJERO_SPORT': 186,\n",
              " '80': 185,\n",
              " 'TRANSPORTER': 182,\n",
              " 'ALMERA_CLASSIC': 176,\n",
              " 'S80': 176,\n",
              " 'Toyota RAV4 IV (CA40) Рестайлинг': 172,\n",
              " 'Nissan Terrano III (D10)': 171,\n",
              " 'Skoda Octavia I (A4) Рестайлинг': 170,\n",
              " 'Audi Q7 II (4M)': 169,\n",
              " 'Toyota Camry VIII (XV70)': 167,\n",
              " 'GALANT': 167,\n",
              " 'PATHFINDER': 167,\n",
              " 'Lexus LX 570 III Рестайлинг 2': 163,\n",
              " 'MULTIVAN': 161,\n",
              " 'TIIDA': 161,\n",
              " 'Skoda Rapid II': 160,\n",
              " 'Audi Q5 I (8R) Рестайлинг': 155,\n",
              " 'LX': 154,\n",
              " 'PASSAT_CC': 152,\n",
              " 'CARAVELLE': 151,\n",
              " 'Skoda Yeti I': 151,\n",
              " 'Q3': 147,\n",
              " 'Infiniti QX70': 147,\n",
              " 'Mercedes-Benz E-Класс 200 V (W213, S213, C238)': 145,\n",
              " 'Toyota Land Cruiser 200 Series Рестайлинг 2': 145,\n",
              " 'Audi A6 IV (C7) Рестайлинг': 140,\n",
              " 'Toyota RAV4 IV (CA40)': 140,\n",
              " 'ASX': 139,\n",
              " 'AVENSIS': 139,\n",
              " 'Nissan Almera III (G15)': 137,\n",
              " 'Mitsubishi Lancer X': 136,\n",
              " 'Mitsubishi Lancer IX': 136,\n",
              " 'Volvo XC70 II': 135,\n",
              " 'Honda CR-V IV': 135,\n",
              " 'NOTE': 134,\n",
              " 'Mitsubishi Outlander III Рестайлинг 3': 132,\n",
              " 'Volvo XC60 I Рестайлинг': 132,\n",
              " 'CARISMA': 130,\n",
              " 'Volvo S60 II': 129,\n",
              " 'Audi A4 V (B9)': 129,\n",
              " 'G_KLASSE': 128,\n",
              " 'Lexus RX 350 II Рестайлинг': 126,\n",
              " 'Audi Q5 I (8R)': 125,\n",
              " 'Honda CR-V III': 124,\n",
              " 'Volvo XC60 I': 123,\n",
              " 'Volvo XC90 II': 123,\n",
              " 'TERRANO': 122,\n",
              " '6ER': 122,\n",
              " 'Audi Q3 I (8U)': 122,\n",
              " 'Audi A6 IV (C7)': 122,\n",
              " 'S40': 121,\n",
              " 'Skoda Yeti I Рестайлинг': 121,\n",
              " 'Audi Q5 II (FY)': 120,\n",
              " 'Audi Q7 I (4L) Рестайлинг': 118,\n",
              " 'Mitsubishi Pajero IV Рестайлинг 1': 117,\n",
              " 'PATROL': 115,\n",
              " 'Volkswagen Polo VI': 113,\n",
              " 'Volvo XC90 I': 111,\n",
              " 'Toyota Camry VII (XV50)': 109,\n",
              " '100': 109,\n",
              " 'CADDY': 108,\n",
              " 'Lexus LX 570 III': 108,\n",
              " 'Toyota Land Cruiser Prado 150 Series Рестайлинг 1': 108,\n",
              " 'Mitsubishi Pajero Sport III': 106,\n",
              " 'GLK_KLASSE': 105,\n",
              " 'Lexus NX 200 I': 105,\n",
              " 'HIGHLANDER': 104,\n",
              " 'Lexus LX 570 III Рестайлинг': 104,\n",
              " 'Mitsubishi ASX I Рестайлинг': 102,\n",
              " 'KODIAQ': 102,\n",
              " 'Mitsubishi Outlander II Рестайлинг': 100,\n",
              " 'MAXIMA': 99,\n",
              " 'G35': 99,\n",
              " 'Volkswagen Touareg II': 99,\n",
              " 'Honda CR-V III Рестайлинг': 99,\n",
              " 'CLS_KLASSE': 97,\n",
              " 'Nissan Qashqai I': 97,\n",
              " 'XC70': 97,\n",
              " 'Lexus RX 350 III': 97,\n",
              " 'X4': 96,\n",
              " 'Lexus LX 450d III Рестайлинг 2': 95,\n",
              " 'Mitsubishi Outlander II': 95,\n",
              " 'Audi A6 III (C6)': 94,\n",
              " 'Audi A3 III (8V)': 94,\n",
              " 'Volvo S60 I Рестайлинг': 93,\n",
              " 'Audi 80 IV (B3)': 92,\n",
              " 'Toyota RAV4 III (XA30) Рестайлинг': 91,\n",
              " 'L200': 90,\n",
              " 'Skoda Superb III': 90,\n",
              " 'GS': 90,\n",
              " 'Volkswagen Jetta VI Рестайлинг': 90,\n",
              " 'Nissan X-Trail II': 90,\n",
              " 'GLE_KLASSE': 89,\n",
              " 'Lexus RX 200t IV': 89,\n",
              " 'Honda Accord VIII': 87,\n",
              " 'Mitsubishi ASX I': 87,\n",
              " 'Toyota Land Cruiser Prado 150 Series': 86,\n",
              " 'Toyota Camry VII (XV50) Рестайлинг': 86,\n",
              " 'Audi A4 IV (B8) Рестайлинг': 86,\n",
              " 'Nissan Almera Classic I': 86,\n",
              " 'ALLROAD': 85,\n",
              " 'Toyota Land Cruiser 200 Series Рестайлинг 1': 85,\n",
              " 'Nissan Qashqai II Рестайлинг': 84,\n",
              " 'GLC_KLASSE': 84,\n",
              " 'QX56': 83,\n",
              " 'Lexus RX 350 III Рестайлинг': 82,\n",
              " 'Volvo XC60 II': 82,\n",
              " 'Lexus RX 270 III Рестайлинг': 81,\n",
              " 'A_KLASSE': 80,\n",
              " 'QX70': 80,\n",
              " 'A7': 80,\n",
              " 'Skoda Fabia II': 79,\n",
              " 'Nissan Tiida I Рестайлинг': 79,\n",
              " 'Volkswagen Touareg II Рестайлинг': 79,\n",
              " 'Lexus NX 200 I Рестайлинг': 78,\n",
              " 'X6_M': 78,\n",
              " 'Infiniti QX56 II': 78,\n",
              " 'Audi A4 IV (B8)': 78,\n",
              " 'Audi A6 II (C5)': 77,\n",
              " 'Mitsubishi Pajero IV': 77,\n",
              " 'Volvo S40 II Рестайлинг': 77,\n",
              " 'Lexus RX 350 IV': 77,\n",
              " 'NX': 76,\n",
              " 'Volkswagen Passat B6': 76,\n",
              " 'CLA_KLASSE': 75,\n",
              " 'ES': 75,\n",
              " 'AURIS': 75,\n",
              " 'GLS_KLASSE': 75,\n",
              " 'M': 74,\n",
              " 'Honda CR-V I': 74,\n",
              " 'Toyota Land Cruiser Prado 150 Series Рестайлинг 2': 74,\n",
              " 'V_KLASSE': 74,\n",
              " 'Lexus RX 300 IV': 74,\n",
              " 'Audi Q7 I (4L)': 73,\n",
              " 'Skoda Superb II': 73,\n",
              " 'LS': 73,\n",
              " 'Nissan X-Trail III Рестайлинг': 73,\n",
              " 'BMW X6 30d II (F16)': 72,\n",
              " 'VIANO': 72,\n",
              " 'Mitsubishi Carisma I Рестайлинг': 72,\n",
              " 'Honda Accord VII Рестайлинг': 72,\n",
              " 'TOURAN': 71,\n",
              " 'BMW X5 30d IV (G05)': 71,\n",
              " 'Audi 100 IV (C4)': 70,\n",
              " 'Mercedes-Benz GLS 350 d I (X166)': 70,\n",
              " 'Honda Freed I': 69,\n",
              " 'Volkswagen Jetta VI': 69,\n",
              " 'Mitsubishi Pajero Sport II': 69,\n",
              " 'Volkswagen Tiguan I': 69,\n",
              " 'Volkswagen Passat B8': 69,\n",
              " 'G_KLASSE_AMG': 69,\n",
              " 'Honda HR-V I': 69,\n",
              " 'Volvo S80 II Рестайлинг': 68,\n",
              " 'Volkswagen Passat B7': 68,\n",
              " 'Lexus RX 300 I': 68,\n",
              " 'GLA_CLASS': 67,\n",
              " 'Audi Q3 I (8U) Рестайлинг': 67,\n",
              " 'Volvo 850': 66,\n",
              " 'S_KLASSE_AMG': 66,\n",
              " 'Mitsubishi Lancer X Рестайлинг': 66,\n",
              " '4': 66,\n",
              " 'Volvo S80 II': 65,\n",
              " 'Mitsubishi Outlander I': 65,\n",
              " 'Lexus ES 250 VI': 64,\n",
              " 'VITO': 64,\n",
              " 'MARK_II': 64,\n",
              " 'B_KLASSE': 64,\n",
              " 'GOLF_PLUS': 63,\n",
              " 'Honda Shuttle II': 63,\n",
              " 'Honda Fit III': 63,\n",
              " 'Audi A7 I (4G)': 63,\n",
              " 'Audi A4 III (B7)': 62,\n",
              " 'Lexus RX 300 IV Рестайлинг': 62,\n",
              " 'Lexus NX 200t I': 62,\n",
              " 'Mercedes-Benz E-Класс 200 IV (W212, S212, C207) Рестайлинг': 61,\n",
              " 'Infiniti FX FX37 II (S51) Рестайлинг': 60,\n",
              " 'Audi A5 I (8T) Рестайлинг': 60,\n",
              " 'Lexus GX 460 II': 59,\n",
              " 'Infiniti Q50 I': 59,\n",
              " 'Mitsubishi Pajero Sport II Рестайлинг': 59,\n",
              " 'Honda Civic VI': 58,\n",
              " 'MICRA': 58,\n",
              " 'IS': 58,\n",
              " 'Infiniti FX FX35 I (S50)': 58,\n",
              " 'Honda Fit I': 57,\n",
              " 'Toyota RAV4 V (XA50)': 56,\n",
              " 'Honda CR-V II': 56,\n",
              " 'Audi A4 II (B6)': 56,\n",
              " 'Lexus GX 470 I': 56,\n",
              " 'Mitsubishi Outlander III Рестайлинг': 55,\n",
              " 'Honda Civic VIII Рестайлинг': 55,\n",
              " 'Toyota RAV4 III (XA30)': 55,\n",
              " 'Volvo S80 I': 55,\n",
              " 'Volkswagen Golf VI': 54,\n",
              " 'Skoda Karoq I': 54,\n",
              " 'Lexus RX 330 II': 54,\n",
              " 'Infiniti FX FX37 II (S51)': 53,\n",
              " 'CELICA': 53,\n",
              " 'GX': 53,\n",
              " 'S_CLASS_MAYBACH': 53,\n",
              " 'Audi A5 II (F5)': 53,\n",
              " 'Skoda Octavia II (A5)': 52,\n",
              " 'Honda Accord VIII Рестайлинг': 52,\n",
              " 'Lexus NX 300 I Рестайлинг': 52,\n",
              " 'Honda Vezel I': 52,\n",
              " 'HILUX': 52,\n",
              " 'GLE_KLASSE_COUPE': 51,\n",
              " 'Volkswagen Golf VII': 51,\n",
              " 'AMAROK': 51,\n",
              " 'SHARAN': 51,\n",
              " 'Toyota Highlander II (U40) Рестайлинг': 51,\n",
              " 'EX': 51,\n",
              " 'BMW X3 30d xDrive III (G01)': 50,\n",
              " 'Nissan Murano II (Z51) Рестайлинг 2': 50,\n",
              " 'BMW 5 серии 520d xDrive VII (G30/G31)': 50,\n",
              " 'X5_M': 50,\n",
              " 'BMW X5 30d III (F15)': 49,\n",
              " 'Audi A6 III (C6) Рестайлинг': 49,\n",
              " 'Mercedes-Benz GL-Класс 350 CDI BlueTEC II (X166)': 49,\n",
              " 'Lexus GX 460 II Рестайлинг': 49,\n",
              " 'Toyota Hilux VIII': 49,\n",
              " 'Mitsubishi Colt VI (Z20/Z30)': 49,\n",
              " 'Nissan Primera III (P12)': 49,\n",
              " 'Mitsubishi L200 IV': 49,\n",
              " 'Infiniti FX FX35 I (S50) Рестайлинг': 49,\n",
              " 'X7': 49,\n",
              " 'Toyota Corolla X (E140, E150) Рестайлинг': 48,\n",
              " 'Nissan Note I Рестайлинг': 48,\n",
              " 'Nissan Pathfinder III Рестайлинг': 48,\n",
              " 'Nissan Tiida I': 48,\n",
              " 'Mercedes-Benz GLC 250 I (X253)': 48,\n",
              " 'Audi A3 II (8P) Рестайлинг 2': 48,\n",
              " 'Lexus LX 470 II Рестайлинг': 48,\n",
              " 'Audi A5 I (8T)': 48,\n",
              " 'Toyota Corolla XI (E160, E170)': 48,\n",
              " 'Infiniti QX80 I Рестайлинг': 48,\n",
              " 'Nissan Murano III (Z52)': 48,\n",
              " 'COLT': 48,\n",
              " 'FELICIA': 48,\n",
              " 'Volkswagen Touareg III': 47,\n",
              " 'BMW X5 25d III (F15)': 47,\n",
              " 'Audi A6 II (C5) Рестайлинг': 47,\n",
              " 'Lexus ES 250 VII': 46,\n",
              " 'Honda Civic VII': 46,\n",
              " 'Toyota Land Cruiser 200 Series': 46,\n",
              " 'Lexus IS 250 II': 46,\n",
              " 'Toyota Auris I': 46,\n",
              " 'W124': 46,\n",
              " 'PILOT': 46,\n",
              " 'CL_KLASSE': 46,\n",
              " 'Volvo XC70 II Рестайлинг': 45,\n",
              " 'Infiniti G G35 IV': 45,\n",
              " 'Toyota Camry VI (XV40)': 45,\n",
              " 'Lexus GS 300 III': 45,\n",
              " 'Honda Accord VI': 45,\n",
              " 'Volvo S60 II Рестайлинг': 45,\n",
              " 'YARIS': 45,\n",
              " 'Honda Freed II': 45,\n",
              " 'QASHQAI_PLUS_2': 45,\n",
              " 'BMW X3 20d xDrive III (G01)': 44,\n",
              " 'TT': 44,\n",
              " 'PRIUS': 44,\n",
              " 'Mercedes-Benz GLE 350 d I (W166)': 44,\n",
              " 'Mitsubishi Pajero IV Рестайлинг 2': 44,\n",
              " 'Honda Freed Spike I': 43,\n",
              " 'Volvo S80 I Рестайлинг': 43,\n",
              " 'Honda Accord IX': 43,\n",
              " 'Mercedes-Benz GLE Coupe 350 d I (C292)': 43,\n",
              " 'HR_V': 43,\n",
              " 'Nissan Juke I Рестайлинг': 43,\n",
              " 'Q50': 43,\n",
              " 'BMW 5 серии 530d xDrive VII (G30/G31)': 43,\n",
              " 'Mitsubishi Pajero Sport I Рестайлинг': 43,\n",
              " 'Mercedes-Benz E-Класс 200 7G-Tronic IV (W212, S212, C207)': 43,\n",
              " 'Lexus GS 350 IV': 42,\n",
              " 'Infiniti FX FX35 II (S51)': 42,\n",
              " 'Volkswagen Touareg I Рестайлинг': 42,\n",
              " 'Infiniti QX50 I': 42,\n",
              " 'Skoda Fabia I': 42,\n",
              " 'Volvo S40 II': 41,\n",
              " 'Toyota Corolla X (E140, E150)': 41,\n",
              " 'Audi A3 III (8V) Рестайлинг': 41,\n",
              " 'Volvo S60 I': 41,\n",
              " 'SENTRA': 41,\n",
              " 'Honda CR-V V': 41,\n",
              " 'Nissan Teana II': 41,\n",
              " 'Infiniti G G25 IV': 41,\n",
              " 'Nissan Teana III': 41,\n",
              " 'Infiniti QX50 II': 40,\n",
              " 'M5': 40,\n",
              " 'BMW 5 серии 530i xDrive VII (G30/G31)': 40,\n",
              " 'LEAF': 40,\n",
              " 'SERENA': 40,\n",
              " 'HIACE': 39,\n",
              " 'CLK_KLASSE': 39,\n",
              " 'Honda Civic V': 39,\n",
              " 'Toyota Corolla IX (E120, E130) Рестайлинг': 39,\n",
              " 'Lexus RX 300 II': 39,\n",
              " 'Mercedes-Benz S-Класс 500 Long VI (W222, C217)': 39,\n",
              " 'Toyota Land Cruiser Prado 120 Series': 39,\n",
              " 'Lexus ES 200 VI Рестайлинг': 39,\n",
              " 'Infiniti M M37 IV': 39,\n",
              " 'Lexus LX 470 II': 39,\n",
              " 'BMW 3 серии 320d xDrive VII (G2x)': 38,\n",
              " 'Nissan Note I': 38,\n",
              " 'Honda Stream I': 38,\n",
              " 'BMW 3 серии 320i VI (F3x)': 37,\n",
              " 'BMW X5 35i III (F15)': 37,\n",
              " 'Audi A4 I (B5)': 37,\n",
              " 'Honda Civic X': 37,\n",
              " 'OCTAVIA_RS': 37,\n",
              " 'Volvo C30 I': 37,\n",
              " 'Lexus RX 400h II Рестайлинг': 37,\n",
              " 'Honda Accord VII': 37,\n",
              " 'Toyota Highlander III (U50)': 37,\n",
              " 'Infiniti QX80 I Рестайлинг 2': 37,\n",
              " 'BMW X5 35i II (E70) Рестайлинг': 37,\n",
              " 'Volvo S40 I Рестайлинг': 37,\n",
              " 'Lexus RX 450h III': 37,\n",
              " 'Volvo S90 II': 37,\n",
              " 'Mercedes-Benz CLA 200 I (C117, X117) Рестайлинг': 37,\n",
              " 'A1': 36,\n",
              " 'Volvo XC40 I': 36,\n",
              " 'Volkswagen Tiguan II Рестайлинг': 36,\n",
              " 'MONTERO_SPORT': 36,\n",
              " 'Honda CR-V I Рестайлинг': 36,\n",
              " 'NAVARA': 36,\n",
              " 'Nissan Almera II (N16) Рестайлинг': 36,\n",
              " 'CROWN': 36,\n",
              " 'E_KLASSE_AMG': 36,\n",
              " 'Toyota Corolla AMT X (E140, E150)': 35,\n",
              " 'Skoda Fabia I Рестайлинг': 35,\n",
              " 'Mercedes-Benz V-Класс L 250 d длинный II': 35,\n",
              " 'Skoda Octavia DSG7 II (A5) Рестайлинг': 35,\n",
              " 'VERSO': 35,\n",
              " 'Skoda Octavia IV (A8)': 35,\n",
              " 'Mercedes-Benz C-Класс 180 IV (W205)': 35,\n",
              " 'BMW X5 40d III (F15)': 34,\n",
              " 'GLC_COUPE': 34,\n",
              " 'Honda HR-V I Рестайлинг': 34,\n",
              " 'Volvo 940': 34,\n",
              " 'BMW X6 35i I (E71)': 34,\n",
              " 'Volvo XC90 II Рестайлинг': 34,\n",
              " 'Toyota Land Cruiser Prado 150 Series Рестайлинг 3': 34,\n",
              " 'Nissan Micra III (K12)': 33,\n",
              " 'Volkswagen Passat B3': 33,\n",
              " 'Honda Jazz I Рестайлинг': 33,\n",
              " 'Mitsubishi Pajero II': 33,\n",
              " 'BMW 3 серии 316i VI (F3x)': 33,\n",
              " '850': 33,\n",
              " 'Volkswagen Passat B5 Рестайлинг': 33,\n",
              " 'Mitsubishi Galant VIII Рестайлинг': 33,\n",
              " 'QX50': 33,\n",
              " 'TUNDRA': 33,\n",
              " 'Volkswagen Jetta V': 33,\n",
              " 'Nissan Murano II (Z51) Рестайлинг': 33,\n",
              " 'C30': 33,\n",
              " 'Lexus ES 250 VI Рестайлинг': 32,\n",
              " 'Mercedes-Benz M-Класс 350 CDI III (W166)': 32,\n",
              " 'BMW 3 серии 320i xDrive VI (F3x) Рестайлинг': 32,\n",
              " 'Honda Fit III Рестайлинг': 32,\n",
              " 'BORA': 32,\n",
              " 'Toyota Camry VI (XV40) Рестайлинг': 32,\n",
              " 'Toyota Avensis II Рестайлинг': 31,\n",
              " 'BMW 3 серии 320d xDrive VI (F3x) Рестайлинг': 31,\n",
              " 'Audi A1 I (8X)': 31,\n",
              " 'A4_ALLROAD': 31,\n",
              " 'Mercedes-Benz GLA 250 I (X156)': 31,\n",
              " 'Audi Q7 45 TDI II (4M) Рестайлинг': 31,\n",
              " 'Mercedes-Benz C-Класс 180 III (W204) Рестайлинг': 31,\n",
              " 'Mercedes-Benz C-Класс 180 IV (W205) Рестайлинг': 31,\n",
              " 'GRANDIS': 31,\n",
              " 'Infiniti EX EX35 I (J50)': 30,\n",
              " 'Honda Accord V': 30,\n",
              " 'Audi 80 V (B4)': 30,\n",
              " 'SKYLINE': 30,\n",
              " 'Lexus IS 250 III': 30,\n",
              " 'Nissan X-Trail I Рестайлинг': 30,\n",
              " 'ALPHARD': 30,\n",
              " 'SL_KLASSE': 30,\n",
              " 'Honda Civic Ferio II': 30,\n",
              " 'BMW 1 серии 116i II (F20/F21)': 30,\n",
              " 'BMW X6 35i II (F16)': 30,\n",
              " 'Mercedes-Benz GLE 300 d II (V167)': 29,\n",
              " 'BMW X3 20i xDrive III (G01)': 29,\n",
              " 'Lexus RX 270 III': 29,\n",
              " 'CARINA': 29,\n",
              " 'Audi Q5 8tiptronic I (8R)': 29,\n",
              " 'BMW 5 серии 520d VII (G30/G31)': 29,\n",
              " 'Mitsubishi Pajero III Рестайлинг': 29,\n",
              " 'Lexus LS 460 IV': 29,\n",
              " 'Infiniti EX EX25 I (J50)': 29,\n",
              " 'Honda Fit II': 29,\n",
              " 'QX80': 29,\n",
              " 'CHASER': 29,\n",
              " 'Mercedes-Benz E-Класс 200 V (W213, S213, C238) Рестайлинг': 29,\n",
              " 'SLK_KLASSE': 29,\n",
              " 'Audi A7 I (4G) Рестайлинг': 29,\n",
              " 'Toyota Fortuner II': 29,\n",
              " 'Volvo 740': 29,\n",
              " 'Infiniti QX60 I': 29,\n",
              " 'Volvo V40 Cross Country I': 28,\n",
              " 'Honda Pilot II Рестайлинг': 28,\n",
              " 'Honda Civic Ferio III': 28,\n",
              " 'ECLIPSE': 28,\n",
              " 'GOLF_GTI': 28,\n",
              " 'R_KLASSE': 28,\n",
              " 'Audi 100 III (C3)': 28,\n",
              " 'Honda Pilot II': 28,\n",
              " 'Infiniti JX JX35': 28,\n",
              " 'Infiniti QX60 I Рестайлинг': 28,\n",
              " 'Lexus GS 250 IV': 28,\n",
              " 'Nissan Teana II Рестайлинг': 28,\n",
              " 'Mercedes-Benz C-Класс 200 IV (W205)': 28,\n",
              " 'BMW 3 серии 318i VI (F3x) Рестайлинг': 27,\n",
              " 'BMW X3 20i xDrive II (F25) Рестайлинг': 27,\n",
              " 'Infiniti QX56 I Рестайлинг': 27,\n",
              " 'BMW X1 20i I (E84) Рестайлинг': 27,\n",
              " 'Volkswagen Multivan T6': 27,\n",
              " 'BMW 5 серии 520i VI (F10/F11/F07) Рестайлинг': 27,\n",
              " 'Nissan Patrol VI (Y62)': 27,\n",
              " 'MONTERO': 27,\n",
              " 'Mitsubishi ASX I Рестайлинг 2': 26,\n",
              " 'Volkswagen Passat CC I Рестайлинг': 26,\n",
              " 'CALDINA': 26,\n",
              " 'Toyota Venza I Рестайлинг': 26,\n",
              " 'M_KLASSE_AMG': 26,\n",
              " 'Audi A8 Long III (D4)': 26,\n",
              " 'Audi Q8 45 TDI I': 26,\n",
              " 'Infiniti QX50 I Рестайлинг': 26,\n",
              " 'Volvo S40 I': 26,\n",
              " 'Toyota Camry VIII (XV70) Рестайлинг': 26,\n",
              " 'BMW X3 28i xDrive II (F25)': 26,\n",
              " 'Mercedes-Benz GLC 250 d I (X253)': 25,\n",
              " 'SPACE_STAR': 25,\n",
              " 'QX60': 25,\n",
              " 'JX': 25,\n",
              " 'Toyota Corolla XI (E160, E170) Рестайлинг': 25,\n",
              " 'Mercedes-Benz A-Класс 180 III (W176)': 25,\n",
              " 'BMW X3 20d xDrive II (F25)': 25,\n",
              " 'Honda Odyssey II': 25,\n",
              " 'JAZZ': 25,\n",
              " 'Volvo V90 Cross Country I': 25,\n",
              " 'Infiniti FX FX30d II (S51) Рестайлинг': 25,\n",
              " 'Infiniti QX56 I': 25,\n",
              " '940': 25,\n",
              " 'Mercedes-Benz S-Класс 500 VI (W222, C217)': 25,\n",
              " 'Mitsubishi Eclipse Cross I': 25,\n",
              " 'BMW X3 20d xDrive II (F25) Рестайлинг': 24,\n",
              " 'Toyota Corolla XII (E210)': 24,\n",
              " 'Honda Stepwgn Spada V': 24,\n",
              " 'Honda Integra III Рестайлинг': 24,\n",
              " 'BMW X6 35i I (E71) Рестайлинг': 24,\n",
              " 'Honda CR-V II Рестайлинг': 24,\n",
              " 'Mitsubishi L200 V': 24,\n",
              " 'BMW X4 20d I (F26)': 24,\n",
              " 'Mercedes-Benz M-Класс 350 III (W166)': 24,\n",
              " 'Volkswagen Golf Plus II': 24,\n",
              " 'Nissan Murano I (Z50)': 24,\n",
              " 'SPACE_WAGON': 24,\n",
              " 'Mercedes-Benz GL-Класс 350 I (X164) Рестайлинг': 24,\n",
              " 'SCIROCCO': 23,\n",
              " 'Mercedes-Benz GL-Класс 500 II (X166)': 23,\n",
              " 'Mercedes-Benz E-Класс 220 d V (W213, S213, C238)': 23,\n",
              " 'Toyota Avensis II': 23,\n",
              " 'Audi A6 45 TFSI V (C8)': 23,\n",
              " 'Honda Accord X': 23,\n",
              " 'Audi Q8 55 TFSI I': 23,\n",
              " 'Skoda Felicia I': 23,\n",
              " 'Toyota Camry VII (XV50) Рестайлинг 2': 23,\n",
              " 'BMW X7 30d I (G07)': 23,\n",
              " 'Mercedes-Benz A-Класс 200 IV (W177)': 23,\n",
              " 'Nissan Qashqai+2 I Рестайлинг': 22,\n",
              " 'Mercedes-Benz E-Класс 350 IV (W212, S212, C207)': 22,\n",
              " 'Mercedes-Benz G-Класс AMG 63 AMG II (W463)': 22,\n",
              " 'V40_CC': 22,\n",
              " '8ER': 22,\n",
              " 'Infiniti M M35 III': 22,\n",
              " '4RUNNER': 22,\n",
              " 'Honda CR-V IV Рестайлинг': 22,\n",
              " 'BMW X5 40i IV (G05)': 22,\n",
              " 'Mercedes-Benz M-Класс 350 II (W164) Рестайлинг': 22,\n",
              " 'Toyota Corolla IX (E120, E130)': 22,\n",
              " 'Toyota Hilux VII Рестайлинг': 21,\n",
              " 'Nissan Leaf I (ZE0/AZE0)': 21,\n",
              " 'Honda Odyssey I': 21,\n",
              " 'Infiniti G G37 IV': 21,\n",
              " 'Honda Prelude V': 21,\n",
              " 'Honda Stepwgn V': 21,\n",
              " 'Volvo S70': 21,\n",
              " 'Honda Partner I': 21,\n",
              " 'ROOMSTER': 21,\n",
              " 'VENZA': 21,\n",
              " 'Skoda Superb DSG II': 21,\n",
              " 'CARINA_E': 21,\n",
              " 'Honda Accord Type-S Type S VIII': 21,\n",
              " 'Volkswagen Teramont I': 21,\n",
              " 'BMW 5 серии 520d VI (F10/F11/F07) Рестайлинг': 21,\n",
              " 'Mitsubishi Montero Sport': 21,\n",
              " 'FIT': 21,\n",
              " 'BMW X5 3.0si II (E70)': 20,\n",
              " 'Volvo S80 II Рестайлинг 2': 20,\n",
              " 'Audi A8 Long III (D4) Рестайлинг': 20,\n",
              " 'Audi 100 III (C3) Рестайлинг': 20,\n",
              " 'Audi A8 III (D4)': 20,\n",
              " 'Mitsubishi Carisma I': 20,\n",
              " 'Honda N-WGN I Рестайлинг': 20,\n",
              " 'GLE_KLASSE_COUPE_AMG': 20,\n",
              " 'Honda Stepwgn Spada V Рестайлинг': 20,\n",
              " 'Volkswagen Multivan T5 Рестайлинг': 20,\n",
              " 'BMW X1 18i I (E84) Рестайлинг': 20,\n",
              " 'Honda Accord Type-S Type S VII Рестайлинг': 20,\n",
              " 'Skoda Superb DSG II Рестайлинг': 20,\n",
              " 'Honda Civic Hybrid VIII': 20,\n",
              " 'Volkswagen Caravelle T6': 20,\n",
              " 'SIENNA': 20,\n",
              " 'BMW 1 серии 116i I (E81/E82/E87/E88) Рестайлинг': 20,\n",
              " 'Mercedes-Benz CLA 200 I (C117, X117)': 20,\n",
              " 'VITZ': 20,\n",
              " 'BMW X6 M II (F86)': 20,\n",
              " 'BMW 5 серии 520i III (E34)': 20,\n",
              " 'Volkswagen Passat CC I': 20,\n",
              " 'Q8': 20,\n",
              " 'Honda Fit Shuttle I': 20,\n",
              " 'BMW X6 30d III (G06)': 20,\n",
              " 'BEETLE': 20,\n",
              " 'Volvo 240 Series': 20,\n",
              " 'PAJERO_PININ': 20,\n",
              " 'Honda Civic IX': 20,\n",
              " 'Mercedes-Benz GLS 400 d II (X167)': 20,\n",
              " 'Volvo 960 I Рестайлинг': 19,\n",
              " 'Infiniti QX80 I': 19,\n",
              " 'Mercedes-Benz GLS 400 I (X166)': 19,\n",
              " 'Volvo XC70 I Рестайлинг': 19,\n",
              " 'LANCER_EVOLUTION': 19,\n",
              " 'Infiniti M M35 III Рестайлинг': 19,\n",
              " 'BMW X3 20i xDrive II (F25)': 19,\n",
              " 'Lexus LS Long 600h L IV': 19,\n",
              " 'Mercedes-Benz S-Класс 350 CDI BlueTEC Long VI (W222, C217)': 19,\n",
              " 'BMW 3 серии 318i V (E90/E91/E92/E93) Рестайлинг': 19,\n",
              " 'BMW 7 серии 730d xDrive VI (G11/G12) Рестайлинг': 19,\n",
              " 'Mercedes-Benz C-Класс 200 IV (W205) Рестайлинг': 19,\n",
              " 'Lexus LS Long 460 L IV': 19,\n",
              " 'Volkswagen Passat B5': 19,\n",
              " 'BMW 3 серии 320i xDrive VI (F3x)': 19,\n",
              " 'Infiniti Q70 I Рестайлинг': 19,\n",
              " 'Mercedes-Benz GLK-Класс 300 I (X204) Рестайлинг': 19,\n",
              " 'Z4': 19,\n",
              " 'Toyota Land Cruiser 100 Series Рестайлинг 2': 19,\n",
              " 'Nissan Pathfinder III': 19,\n",
              " 'V40': 18,\n",
              " 'Mercedes-Benz V-Класс XL 250 d экстра длинный II': 18,\n",
              " 'Lexus GX 460 II Рестайлинг 2': 18,\n",
              " 'I3': 18,\n",
              " 'Volkswagen Caravelle T5 Рестайлинг': 18,\n",
              " 'PRELUDE': 18,\n",
              " 'Volkswagen Golf IV': 18,\n",
              " '960': 18,\n",
              " 'STEPWAGON': 18,\n",
              " 'BMW X6 40d II (F16)': 18,\n",
              " 'Lexus GS 300 II': 18,\n",
              " 'PHAETON': 18,\n",
              " 'Nissan Maxima V (A33)': 18,\n",
              " 'Honda Civic Hybrid VIII Рестайлинг': 18,\n",
              " 'Honda Crosstour I': 18,\n",
              " 'W201': 18,\n",
              " 'V70': 18,\n",
              " 'Toyota Avensis III': 18,\n",
              " 'BMW 5 серии 520i IV (E39)': 18,\n",
              " 'BMW 1 серии 118i II (F20/F21) Рестайлинг 2': 18,\n",
              " 'Lexus RX 450h III Рестайлинг': 18,\n",
              " 'Lexus LS 500 V': 18,\n",
              " 'Audi A6 I (C4)': 18,\n",
              " 'Skoda Octavia I (A4)': 18,\n",
              " 'Honda Prelude IV': 18,\n",
              " 'Mercedes-Benz E-Класс 200 5G-Tronic IV (W212, S212, C207)': 18,\n",
              " 'BMW 5 серии 523i VI (F10/F11/F07)': 18,\n",
              " 'BMW X3 30i xDrive III (G01)': 18,\n",
              " 'Volvo V40 Cross Country I Рестайлинг': 18,\n",
              " 'C_KLASSE_AMG': 17,\n",
              " 'BMW X5 30d II (E70) Рестайлинг': 17,\n",
              " 'BMW 5 серии 520i VI (F10/F11/F07)': 17,\n",
              " 'BMW 3 серии 320i VI (F3x) Рестайлинг': 17,\n",
              " 'Lexus NX 300h I': 17,\n",
              " 'BMW 5 серии 528i xDrive VI (F10/F11/F07) Рестайлинг': 17,\n",
              " 'Volkswagen Golf V': 17,\n",
              " 'CEFIRO': 17,\n",
              " 'Nissan Note II Рестайлинг': 17,\n",
              " 'FORTUNER': 17,\n",
              " 'BMW X4 20i I (F26)': 17,\n",
              " 'Infiniti QX4 I': 17,\n",
              " 'Mercedes-Benz GLA 200 I (X156)': 17,\n",
              " 'Mercedes-Benz M-Класс 300 III (W166)': 17,\n",
              " 'Nissan Pathfinder IV': 17,\n",
              " 'BMW 1 серии 118i II (F20/F21) Рестайлинг': 17,\n",
              " 'Honda Crossroad': 17,\n",
              " 'Honda Torneo': 17,\n",
              " 'CRESTA': 17,\n",
              " 'Infiniti G G35 III': 17,\n",
              " 'Honda Legend IV': 17,\n",
              " 'Lexus ES 350 V Рестайлинг': 17,\n",
              " 'Skoda Roomster I Рестайлинг': 17,\n",
              " 'M3': 16,\n",
              " 'SEQUOIA': 16,\n",
              " 'Honda N-WGN I': 16,\n",
              " 'Toyota Land Cruiser Prado 120 Series Рестайлинг': 16,\n",
              " 'Nissan Teana I Рестайлинг': 16,\n",
              " 'BMW X4 20d II (G02)': 16,\n",
              " 'BMW X1 18d xDrive II (F48)': 16,\n",
              " 'Infiniti FX FX50 II (S51)': 16,\n",
              " 'SUNNY': 16,\n",
              " 'Honda Orthia I': 16,\n",
              " 'Nissan Serena IV (C26)': 16,\n",
              " 'BMW X4 30d I (F26)': 16,\n",
              " 'Volvo S60 III': 16,\n",
              " 'Lexus IS 250 II Рестайлинг': 16,\n",
              " 'Honda Avancier I': 16,\n",
              " 'BMW X5 30i II (E70)': 16,\n",
              " 'Infiniti FX FX45 I (S50)': 16,\n",
              " 'Honda Accord Type-S Type S VIII Рестайлинг': 16,\n",
              " 'BMW 5 серии 520d xDrive VII (G30/G31) Рестайлинг': 16,\n",
              " 'Mercedes-Benz E-Класс 300 IV (W212, S212, C207) Рестайлинг': 16,\n",
              " 'S90': 16,\n",
              " 'TERAMONT': 16,\n",
              " 'Volkswagen Touareg I': 16,\n",
              " 'S8': 16,\n",
              " 'Mercedes-Benz GLE Coupe 400 I (C292)': 16,\n",
              " 'LITE_ACE': 16,\n",
              " 'BMW X5 48i II (E70)': 16,\n",
              " 'ESTIMA': 16,\n",
              " 'Lexus RX 350L IV': 16,\n",
              " 'Volkswagen Caddy IV': 16,\n",
              " 'Nissan Sentra VII (B17)': 16,\n",
              " 'Mercedes-Benz S-Класс 350 d Long VI (W222, C217) Рестайлинг': 16,\n",
              " 'CUBE': 15,\n",
              " 'Honda Fit Shuttle I Рестайлинг': 15,\n",
              " 'BMW X5 M50d IV (G05)': 15,\n",
              " 'BMW 5 серии 530d xDrive VI (F10/F11/F07)': 15,\n",
              " 'W123': 15,\n",
              " 'Lexus GS 300 III Рестайлинг': 15,\n",
              " 'Mercedes-Benz S-Класс 400 Long VI (W222, C217)': 15,\n",
              " 'PAJERO_IO': 15,\n",
              " 'DELICA': 15,\n",
              " 'X2': 15,\n",
              " 'Mitsubishi Grandis': 15,\n",
              " 'Volvo V50 I Рестайлинг': 15,\n",
              " 'TOWN_ACE': 15,\n",
              " 'Mercedes-Benz GLA 200 I (X156) Рестайлинг': 15,\n",
              " 'STREAM': 15,\n",
              " 'BMW X1 18i I (E84)': 15,\n",
              " 'Audi TT III (8S)': 15,\n",
              " 'Q70': 15,\n",
              " 'BMW 3 серии 320d VI (F3x)': 15,\n",
              " 'Volkswagen Jetta VII': 15,\n",
              " 'Lexus LS 430 III Рестайлинг': 15,\n",
              " 'Mercedes-Benz CLA 200 II (C118, X118)': 15,\n",
              " 'Mitsubishi Libero I Рестайлинг': 15,\n",
              " 'Audi A4 I (B5) Рестайлинг': 15,\n",
              " 'Mercedes-Benz GLC 200 I (X253) Рестайлинг': 15,\n",
              " 'Mercedes-Benz G-Класс AMG 63 AMG I (W463) Рестайлинг 2': 15,\n",
              " 'Mercedes-Benz C-Класс 180 BlueEFFICIENCY III (W204) Рестайлинг': 15,\n",
              " 'Mercedes-Benz GLC 220 d I (X253)': 15,\n",
              " 'GLE_KLASSE_AMG': 15,\n",
              " '740': 15,\n",
              " 'Lexus RX 450h IV': 15,\n",
              " 'Volkswagen Touran II': 15,\n",
              " 'CHARIOT': 14,\n",
              " 'Honda Domani I': 14,\n",
              " 'Mercedes-Benz G-Класс 500 II (W463) Рестайлинг 4': 14,\n",
              " 'Mercedes-Benz GLK-Класс 220 CDI I (X204)': 14,\n",
              " 'Skoda Roomster I': 14,\n",
              " 'Mercedes-Benz E-Класс 400 V (W213, S213, C238)': 14,\n",
              " 'BMW 5 серии 523i IV (E39)': 14,\n",
              " 'Mitsubishi Diamante II': 14,\n",
              " 'C70': 14,\n",
              " 'BMW X6 M I (E71)': 14,\n",
              " 'Mercedes-Benz GLK-Класс 220 CDI I (X204) Рестайлинг': 14,\n",
              " 'Mitsubishi Mirage V': 14,\n",
              " 'BMW X6 M Competition III (F96)': 14,\n",
              " 'Mitsubishi Space Star I': 14,\n",
              " 'Honda Insight II': 14,\n",
              " 'BMW 5 серии 528i VI (F10/F11/F07)': 14,\n",
              " 'Mercedes-Benz S-Класс AMG 63 AMG Long III (W222, C217)': 14,\n",
              " 'CORONA': 14,\n",
              " 'BMW 7 серии Long 730Ld xDrive VI (G11/G12)': 14,\n",
              " 'MATRIX': 14,\n",
              " 'Volkswagen Amarok Double Cab full-time I': 14,\n",
              " 'Mercedes-Benz M-Класс 350 II (W164)': 14,\n",
              " 'Mitsubishi Pajero III': 14,\n",
              " 'Lexus GS 450h III Рестайлинг': 14,\n",
              " 'Lexus IS 200 I': 14,\n",
              " 'Mercedes-Benz GLE Coupe AMG 63 AMG S I (C292)': 14,\n",
              " 'S70': 14,\n",
              " 'BMW 5 серии 530d xDrive VII (G30/G31) Рестайлинг': 14,\n",
              " 'BMW X1 20i xDrive II (F48)': 14,\n",
              " 'Mercedes-Benz G-Класс AMG 63 AMG I (W463) Рестайлинг 3': 14,\n",
              " 'CLS_KLASSE_AMG': 13,\n",
              " 'NP300': 13,\n",
              " 'Mitsubishi Airtrek': 13,\n",
              " 'Mercedes-Benz S-Класс 350 d Long 4MATIC VII (W223)': 13,\n",
              " 'Mitsubishi Lancer Cedia IX': 13,\n",
              " 'BMW X3 30i I (E83) Рестайлинг': 13,\n",
              " 'Mitsubishi Delica D:5 I': 13,\n",
              " 'Honda Logo': 13,\n",
              " 'BMW X5 M50d III (F15)': 13,\n",
              " 'Toyota Yaris Multimode II': 13,\n",
              " 'Volvo 460': 13,\n",
              " 'Honda Accord IX Рестайлинг': 13,\n",
              " 'Honda Civic VII Рестайлинг': 13,\n",
              " 'Mercedes-Benz V-Класс L 220 d длинный II': 13,\n",
              " 'Mercedes-Benz GLE 300 I (W166)': 13,\n",
              " 'Honda Odyssey V Рестайлинг': 13,\n",
              " 'Honda Stepwgn I Рестайлинг': 13,\n",
              " 'Nissan X-Trail I': 13,\n",
              " 'BMW 7 серии 730i VI (G11/G12)': 13,\n",
              " 'Toyota Mark II VII (X90)': 13,\n",
              " 'LEGEND': 13,\n",
              " 'LEGNUM': 13,\n",
              " 'Mitsubishi Lancer VII': 13,\n",
              " 'Volvo C30 I Рестайлинг': 13,\n",
              " 'Mitsubishi Montero III': 13,\n",
              " 'Honda Pilot III': 13,\n",
              " 'BMW 3 серии 320i xDrive VII (G2x)': 13,\n",
              " 'Mercedes-Benz GL-Класс 400 II (X166)': 13,\n",
              " 'BMW 3 серии 325xi V (E90/E91/E92/E93)': 12,\n",
              " 'Audi A3 II (8P) Рестайлинг 1': 12,\n",
              " 'Volkswagen Golf III': 12,\n",
              " 'BMW 5 серии 528i xDrive VI (F10/F11/F07)': 12,\n",
              " 'Volkswagen Transporter T5': 12,\n",
              " 'ECLIPSE_CROSS': 12,\n",
              " 'RS6': 12,\n",
              " 'PAJERO_MINI': 12,\n",
              " 'Audi A6 allroad I (C5)': 12,\n",
              " 'Mercedes-Benz S-Класс AMG 63 AMG III (W222, C217)': 12,\n",
              " 'Mercedes-Benz CLS 350 d III (C257)': 12,\n",
              " 'Lexus CT 200h I': 12,\n",
              " 'AMG_GT': 12,\n",
              " 'LAUREL': 12,\n",
              " 'Audi A3 I (8L)': 12,\n",
              " 'Mercedes-Benz GL-Класс 500 I (X164)': 12,\n",
              " 'Audi Q3 35 TFSI II (F3)': 12,\n",
              " 'Volkswagen Transporter T4': 12,\n",
              " 'Audi RS 5 I (8T)': 12,\n",
              " 'BMW 3 серии 318d VII (G2x)': 12,\n",
              " 'Toyota Highlander III (U50) Рестайлинг': 12,\n",
              " 'BMW X5 3.0i I (E53) Рестайлинг': 12,\n",
              " 'BMW X6 50i I (E71)': 12,\n",
              " 'Mercedes-Benz 190 (W201)': 12,\n",
              " 'BMW X1 20d I (E84)': 12,\n",
              " 'Volkswagen Caddy III Рестайлинг': 12,\n",
              " 'BMW X6 30d I (E71)': 12,\n",
              " 'BMW 5 серии 520i VII (G30/G31)': 12,\n",
              " 'Honda Inspire II': 12,\n",
              " 'Audi A6 allroad II (C6)': 12,\n",
              " 'HARRIER': 12,\n",
              " 'Lexus GS 300 II Рестайлинг': 12,\n",
              " 'BMW X1 18i sDrive II (F48)': 12,\n",
              " 'S5': 12,\n",
              " 'Nissan Liberty': 12,\n",
              " 'Toyota Prius IV (XW50)': 12,\n",
              " 'Volkswagen Caravelle T6 Рестайлинг': 12,\n",
              " 'Volvo XC70 I': 12,\n",
              " 'Toyota Land Cruiser 300 Series': 12,\n",
              " 'Mercedes-Benz S-Класс 500 Long V (W221) Рестайлинг': 12,\n",
              " 'Mercedes-Benz GLC 300 I (X253)': 12,\n",
              " 'Lexus SC 430 II': 12,\n",
              " 'SPRINTER': 12,\n",
              " 'Honda Airwave I': 11,\n",
              " 'Honda Odyssey III': 11,\n",
              " 'Volvo V40 I': 11,\n",
              " 'Volkswagen Touran I Рестайлинг': 11,\n",
              " 'Lexus ES 350 VI': 11,\n",
              " 'Volkswagen Amarok I Рестайлинг': 11,\n",
              " 'Honda Capa': 11,\n",
              " '460': 11,\n",
              " 'Infiniti Q60 II': 11,\n",
              " 'Mitsubishi Pajero Mini II': 11,\n",
              " 'BMW 5 серии Gran Turismo 530d xDrive VI (F10/F11/F07)': 11,\n",
              " 'Skoda Superb II Рестайлинг': 11,\n",
              " 'V50': 11,\n",
              " 'Honda Ridgeline I': 11,\n",
              " 'VENTO': 11,\n",
              " 'MARCH': 11,\n",
              " 'BMW 7 серии Long 750Li xDrive V (F01/F02/F04)': 11,\n",
              " '2ER': 11,\n",
              " 'Honda Stepwgn IV Рестайлинг': 11,\n",
              " 'Mercedes-Benz S-Класс AMG 63 AMG Long III (W222, C217) Рестайлинг': 11,\n",
              " 'Volkswagen Multivan T5': 11,\n",
              " 'Volkswagen Amarok I': 11,\n",
              " 'Mercedes-Benz GLC Coupe 250 I (C253)': 11,\n",
              " 'Mercedes-Benz E-Класс 230 II (W210, S210)': 11,\n",
              " 'Mercedes-Benz GLS AMG 63 AMG I (X166)': 11,\n",
              " 'Honda Civic Ferio I': 11,\n",
              " 'Audi A7 S-tronic I (4G)': 11,\n",
              " 'BMW X7 M50d I (G07)': 11,\n",
              " 'Honda Crosstour I Рестайлинг': 11,\n",
              " 'Honda Stepwgn Spada IV': 11,\n",
              " 'Lexus UX 200 I': 11,\n",
              " 'POINTER': 11,\n",
              " 'BMW X1 20i xDrive II (F48) Рестайлинг': 11,\n",
              " 'Audi A8 II (D3) Рестайлинг 2': 11,\n",
              " 'Mercedes-Benz B-Класс 180 II (W246)': 11,\n",
              " 'Mercedes-Benz Maybach GLS 600 I': 11,\n",
              " 'Toyota C-HR I': 11,\n",
              " 'Mitsubishi Galant VIII': 11,\n",
              " 'Honda Stepwgn III': 11,\n",
              " 'Toyota RAV4 II (XA20)': 11,\n",
              " 'BMW 8 серии 840d xDrive II (G14/G15/G16)': 11,\n",
              " 'Mercedes-Benz GLE Coupe AMG 63 AMG I (C292)': 11,\n",
              " 'Mercedes-Benz B-Класс 200 II (W246)': 11,\n",
              " 'VISTA': 11,\n",
              " 'Audi A8 II (D3)': 11,\n",
              " 'Mitsubishi Galant IX Рестайлинг': 11,\n",
              " 'Mercedes-Benz GLK-Класс 300 I (X204)': 11,\n",
              " 'BMW X7 40i I (G07)': 10,\n",
              " 'Honda Accord Sport VII Рестайлинг': 10,\n",
              " 'Honda Element I': 10,\n",
              " 'Mercedes-Benz GLA 250 I (X156) Рестайлинг': 10,\n",
              " 'Mitsubishi Pajero Pinin': 10,\n",
              " 'Mitsubishi Dion I': 10,\n",
              " 'BMW X3 30d xDrive II (F25) Рестайлинг': 10,\n",
              " 'BMW M5 Competition VI (F90) Рестайлинг': 10,\n",
              " 'Nissan Navara (Frontier) III (D40) Рестайлинг': 10,\n",
              " 'Infiniti FX FX45 I (S50) Рестайлинг': 10,\n",
              " 'Mitsubishi Delica III': 10,\n",
              " 'Mercedes-Benz M-Класс AMG 63 AMG III (W166)': 10,\n",
              " 'Mercedes-Benz G-Класс 350 d III (W463)': 10,\n",
              " 'COROLLA_LEVIN': 10,\n",
              " 'Honda Fit Aria': 10,\n",
              " 'Lexus LS Long 460 L IV Рестайлинг 2': 10,\n",
              " 'Audi RS 6 III (C7) Рестайлинг': 10,\n",
              " 'Mercedes-Benz C-Класс 180 9G-TRONIC IV (W205)': 10,\n",
              " 'Nissan Leaf II (ZE1)': 10,\n",
              " 'Mercedes-Benz E-Класс 300 IV (W212, S212, C207)': 10,\n",
              " 'Honda Shuttle I': 10,\n",
              " 'Lexus LS 460 IV Рестайлинг 2': 10,\n",
              " 'Volvo 960 I': 10,\n",
              " 'Mercedes-Benz E-Класс 250 7G-Tronic IV (W212, S212, C207)': 10,\n",
              " 'Skoda Superb I Рестайлинг': 10,\n",
              " 'GOLF_R': 10,\n",
              " 'Mercedes-Benz G-Класс 350 CDI BlueTEC II (W463) Рестайлинг 3': 10,\n",
              " 'Honda Civic IX Рестайлинг': 10,\n",
              " 'Mercedes-Benz GLA 250 II (H247)': 10,\n",
              " 'Nissan Navara (Frontier) III (D40)': 10,\n",
              " 'Nissan Murano II (Z51)': 10,\n",
              " 'AIRTREK': 10,\n",
              " 'Audi RS 7 I (4G) Рестайлинг': 10,\n",
              " 'Volvo V40 II': 10,\n",
              " 'BMW X6 M50d II (F16)': 10,\n",
              " 'Honda Jade I': 10,\n",
              " 'Audi TT II (8J)': 10,\n",
              " 'Mercedes-Benz GLS 500 I (X166)': 10,\n",
              " 'Mercedes-Benz GLE 400 d II (V167)': 10,\n",
              " 'BMW 3 серии 320d xDrive VI (F3x)': 10,\n",
              " 'Honda Stream I Рестайлинг': 10,\n",
              " 'Mitsubishi Space Star I Рестайлинг': 10,\n",
              " 'BMW 5 серии 530d xDrive VI (F10/F11/F07) Рестайлинг': 10,\n",
              " 'Toyota Land Cruiser 100 Series Рестайлинг 1': 10,\n",
              " 'Lexus CT 200h I Рестайлинг': 9,\n",
              " 'Mercedes-Benz S-Класс 350 V (W221) Рестайлинг': 9,\n",
              " 'M6': 9,\n",
              " 'BMW 6 серии Gran Turismo 630d xDrive IV (G32)': 9,\n",
              " 'Audi A6 allroad III (C7) Рестайлинг': 9,\n",
              " 'BMW 3 серии 325i V (E90/E91/E92/E93)': 9,\n",
              " 'Mercedes-Benz S-Класс 450 4MATIC VI (W222, C217) Рестайлинг': 9,\n",
              " 'Mitsubishi Pajero Sport I': 9,\n",
              " 'CROSSTOUR': 9,\n",
              " 'Mercedes-Benz GLK-Класс 250 I (X204) Рестайлинг': 9,\n",
              " 'BMW X3 28i xDrive II (F25) Рестайлинг': 9,\n",
              " 'Toyota Land Cruiser 100 Series': 9,\n",
              " 'Toyota RAV4 I (XA10)': 9,\n",
              " 'Mercedes-Benz S-Класс 350 CDI BlueTEC VI (W222, C217)': 9,\n",
              " 'Lexus GS 450h IV': 9,\n",
              " '90': 9,\n",
              " 'Audi A7 55 TFSI II (4K)': 9,\n",
              " 'Mercedes-Benz A-Класс 180 II (W169) Рестайлинг': 9,\n",
              " 'Mercedes-Benz S-Класс 560 Long VI (W222, C217) Рестайлинг': 9,\n",
              " 'BMW 5 серии 530i xDrive VII (G30/G31) Рестайлинг': 9,\n",
              " 'VOXY': 9,\n",
              " 'ALTEZZA': 9,\n",
              " 'SHUTTLE': 9,\n",
              " 'Honda Ascot II (CE)': 9,\n",
              " 'HILUX_SURF': 9,\n",
              " 'Mercedes-Benz GLS 450 II (X167)': 9,\n",
              " 'Toyota Yaris II': 9,\n",
              " 'Mitsubishi Pajero iO': 9,\n",
              " 'Volvo V50 I': 9,\n",
              " 'BMW X6 30d I (E71) Рестайлинг': 9,\n",
              " 'Mercedes-Benz GLE 400 I (W166)': 9,\n",
              " 'Mercedes-Benz S-Класс 450 Long VI (W222, C217) Рестайлинг': 9,\n",
              " 'Lexus GS 350 III Рестайлинг': 9,\n",
              " 'Toyota Camry V (XV30)': 9,\n",
              " 'BMW X4 28i I (F26)': 9,\n",
              " 'ALTIMA': 9,\n",
              " 'Lexus LS Long 460 L IV Рестайлинг': 9,\n",
              " 'BMW 3 серии 320i V (E90/E91/E92/E93)': 9,\n",
              " 'BLUEBIRD': 9,\n",
              " 'Toyota Vitz I (P10)': 9,\n",
              " 'Mercedes-Benz GL-Класс 500 I (X164) Рестайлинг': 9,\n",
              " 'BMW 6 серии 630i II (E63/E64) Рестайлинг': 9,\n",
              " 'Honda Civic IV': 9,\n",
              " 'Volvo C70 II': 9,\n",
              " 'BMW X4 30d II (G02)': 9,\n",
              " 'Infiniti M M25 IV': 9,\n",
              " 'CT': 9,\n",
              " 'DIAMANTE': 9,\n",
              " 'Nissan March III (K12)': 9,\n",
              " 'Toyota Sienta II': 9,\n",
              " 'Mitsubishi Delica IV': 9,\n",
              " 'Infiniti Q50 I Рестайлинг': 9,\n",
              " 'Mercedes-Benz A-Класс 180 III (W176) Рестайлинг': 9,\n",
              " 'Mercedes-Benz M-Класс 320 I (W163)': 9,\n",
              " 'Mercedes-Benz GLC Coupe 220 d I (C253) Рестайлинг': 9,\n",
              " 'Mercedes-Benz GLK-Класс 350 I (X204)': 9,\n",
              " 'BMW 5 серии 525i IV (E39) Рестайлинг': 9,\n",
              " 'BMW X1 18d xDrive II (F48) Рестайлинг': 9,\n",
              " 'Honda Accord IV': 9,\n",
              " 'S4': 9,\n",
              " 'Mitsubishi Dingo': 9,\n",
              " 'Mitsubishi Galant VII': 9,\n",
              " 'BMW X6 M50d III (G06)': 9,\n",
              " 'Mercedes-Benz Viano L1 I (W639) Рестайлинг': 9,\n",
              " 'BMW 3 серии Gran Turismo 320i xDrive VI (F3x)': 9,\n",
              " 'BMW X1 20d I (E84) Рестайлинг': 9,\n",
              " 'Toyota RAV4 II (XA20) Рестайлинг': 9,\n",
              " ...}"
            ]
          },
          "metadata": {},
          "execution_count": 299
        }
      ]
    },
    {
      "cell_type": "code",
      "metadata": {
        "id": "5mBnQlllO-Y1",
        "outputId": "60c0361a-4e98-46b6-ab6b-3a3d94a0c505",
        "colab": {
          "base_uri": "https://localhost:8080/"
        }
      },
      "source": [
        "top_models = []\n",
        "for model in models_to_numbers:\n",
        "    if models_to_numbers[model]>=30:\n",
        "        top_models.append(model)\n",
        "top_models\n"
      ],
      "execution_count": 300,
      "outputs": [
        {
          "output_type": "execute_result",
          "data": {
            "text/plain": [
              "['OCTAVIA',\n",
              " '5ER',\n",
              " 'LANCER',\n",
              " 'E_KLASSE',\n",
              " 'PASSAT',\n",
              " 'A6',\n",
              " '3ER',\n",
              " 'POLO',\n",
              " 'CAMRY',\n",
              " 'X5',\n",
              " 'X_TRAIL',\n",
              " 'A4',\n",
              " 'QASHQAI',\n",
              " 'S_KLASSE',\n",
              " 'OUTLANDER',\n",
              " 'LAND_CRUISER',\n",
              " 'ALMERA',\n",
              " 'TIGUAN',\n",
              " 'Volkswagen Polo V Рестайлинг',\n",
              " 'TOUAREG',\n",
              " 'COROLLA',\n",
              " 'RAV_4',\n",
              " 'C_KLASSE',\n",
              " 'GOLF',\n",
              " 'Skoda Octavia II (A5) Рестайлинг',\n",
              " 'LAND_CRUISER_PRADO',\n",
              " 'TEANA',\n",
              " 'RAPID',\n",
              " 'Skoda Octavia III (A7) Рестайлинг',\n",
              " 'Skoda Octavia III (A7)',\n",
              " 'M_KLASSE',\n",
              " '7ER',\n",
              " 'XC90',\n",
              " 'JETTA',\n",
              " 'X6',\n",
              " 'CIVIC',\n",
              " 'Volkswagen Tiguan I Рестайлинг',\n",
              " 'PAJERO',\n",
              " 'Nissan Qashqai II',\n",
              " 'Q7',\n",
              " 'FX',\n",
              " 'X3',\n",
              " 'Volvo XC90 I Рестайлинг',\n",
              " 'Nissan X-Trail III',\n",
              " 'JUKE',\n",
              " 'Volkswagen Tiguan II',\n",
              " 'Skoda Rapid I Рестайлинг',\n",
              " 'ACCORD',\n",
              " 'SUPERB',\n",
              " 'Mitsubishi Outlander III Рестайлинг 2',\n",
              " 'S60',\n",
              " 'Q5',\n",
              " 'FABIA',\n",
              " 'Volkswagen Polo V',\n",
              " 'Skoda Fabia II Рестайлинг',\n",
              " 'Skoda Rapid I',\n",
              " 'Mitsubishi Outlander III',\n",
              " 'YETI',\n",
              " 'MURANO',\n",
              " 'CR_V',\n",
              " 'RX',\n",
              " 'GL_KLASSE',\n",
              " 'A3',\n",
              " 'Honda Civic VIII',\n",
              " 'Skoda Kodiaq I',\n",
              " '1ER',\n",
              " 'PRIMERA',\n",
              " 'X1',\n",
              " 'A5',\n",
              " 'A8',\n",
              " 'Nissan X-Trail II Рестайлинг',\n",
              " 'XC60',\n",
              " 'Nissan Qashqai I Рестайлинг',\n",
              " 'Nissan Juke I',\n",
              " 'Mitsubishi Lancer IX Рестайлинг',\n",
              " 'PAJERO_SPORT',\n",
              " '80',\n",
              " 'TRANSPORTER',\n",
              " 'ALMERA_CLASSIC',\n",
              " 'S80',\n",
              " 'Toyota RAV4 IV (CA40) Рестайлинг',\n",
              " 'Nissan Terrano III (D10)',\n",
              " 'Skoda Octavia I (A4) Рестайлинг',\n",
              " 'Audi Q7 II (4M)',\n",
              " 'Toyota Camry VIII (XV70)',\n",
              " 'GALANT',\n",
              " 'PATHFINDER',\n",
              " 'Lexus LX 570 III Рестайлинг 2',\n",
              " 'MULTIVAN',\n",
              " 'TIIDA',\n",
              " 'Skoda Rapid II',\n",
              " 'Audi Q5 I (8R) Рестайлинг',\n",
              " 'LX',\n",
              " 'PASSAT_CC',\n",
              " 'CARAVELLE',\n",
              " 'Skoda Yeti I',\n",
              " 'Q3',\n",
              " 'Infiniti QX70',\n",
              " 'Mercedes-Benz E-Класс 200 V (W213, S213, C238)',\n",
              " 'Toyota Land Cruiser 200 Series Рестайлинг 2',\n",
              " 'Audi A6 IV (C7) Рестайлинг',\n",
              " 'Toyota RAV4 IV (CA40)',\n",
              " 'ASX',\n",
              " 'AVENSIS',\n",
              " 'Nissan Almera III (G15)',\n",
              " 'Mitsubishi Lancer X',\n",
              " 'Mitsubishi Lancer IX',\n",
              " 'Volvo XC70 II',\n",
              " 'Honda CR-V IV',\n",
              " 'NOTE',\n",
              " 'Mitsubishi Outlander III Рестайлинг 3',\n",
              " 'Volvo XC60 I Рестайлинг',\n",
              " 'CARISMA',\n",
              " 'Volvo S60 II',\n",
              " 'Audi A4 V (B9)',\n",
              " 'G_KLASSE',\n",
              " 'Lexus RX 350 II Рестайлинг',\n",
              " 'Audi Q5 I (8R)',\n",
              " 'Honda CR-V III',\n",
              " 'Volvo XC60 I',\n",
              " 'Volvo XC90 II',\n",
              " 'TERRANO',\n",
              " '6ER',\n",
              " 'Audi Q3 I (8U)',\n",
              " 'Audi A6 IV (C7)',\n",
              " 'S40',\n",
              " 'Skoda Yeti I Рестайлинг',\n",
              " 'Audi Q5 II (FY)',\n",
              " 'Audi Q7 I (4L) Рестайлинг',\n",
              " 'Mitsubishi Pajero IV Рестайлинг 1',\n",
              " 'PATROL',\n",
              " 'Volkswagen Polo VI',\n",
              " 'Volvo XC90 I',\n",
              " 'Toyota Camry VII (XV50)',\n",
              " '100',\n",
              " 'CADDY',\n",
              " 'Lexus LX 570 III',\n",
              " 'Toyota Land Cruiser Prado 150 Series Рестайлинг 1',\n",
              " 'Mitsubishi Pajero Sport III',\n",
              " 'GLK_KLASSE',\n",
              " 'Lexus NX 200 I',\n",
              " 'HIGHLANDER',\n",
              " 'Lexus LX 570 III Рестайлинг',\n",
              " 'Mitsubishi ASX I Рестайлинг',\n",
              " 'KODIAQ',\n",
              " 'Mitsubishi Outlander II Рестайлинг',\n",
              " 'MAXIMA',\n",
              " 'G35',\n",
              " 'Volkswagen Touareg II',\n",
              " 'Honda CR-V III Рестайлинг',\n",
              " 'CLS_KLASSE',\n",
              " 'Nissan Qashqai I',\n",
              " 'XC70',\n",
              " 'Lexus RX 350 III',\n",
              " 'X4',\n",
              " 'Lexus LX 450d III Рестайлинг 2',\n",
              " 'Mitsubishi Outlander II',\n",
              " 'Audi A6 III (C6)',\n",
              " 'Audi A3 III (8V)',\n",
              " 'Volvo S60 I Рестайлинг',\n",
              " 'Audi 80 IV (B3)',\n",
              " 'Toyota RAV4 III (XA30) Рестайлинг',\n",
              " 'L200',\n",
              " 'Skoda Superb III',\n",
              " 'GS',\n",
              " 'Volkswagen Jetta VI Рестайлинг',\n",
              " 'Nissan X-Trail II',\n",
              " 'GLE_KLASSE',\n",
              " 'Lexus RX 200t IV',\n",
              " 'Honda Accord VIII',\n",
              " 'Mitsubishi ASX I',\n",
              " 'Toyota Land Cruiser Prado 150 Series',\n",
              " 'Toyota Camry VII (XV50) Рестайлинг',\n",
              " 'Audi A4 IV (B8) Рестайлинг',\n",
              " 'Nissan Almera Classic I',\n",
              " 'ALLROAD',\n",
              " 'Toyota Land Cruiser 200 Series Рестайлинг 1',\n",
              " 'Nissan Qashqai II Рестайлинг',\n",
              " 'GLC_KLASSE',\n",
              " 'QX56',\n",
              " 'Lexus RX 350 III Рестайлинг',\n",
              " 'Volvo XC60 II',\n",
              " 'Lexus RX 270 III Рестайлинг',\n",
              " 'A_KLASSE',\n",
              " 'QX70',\n",
              " 'A7',\n",
              " 'Skoda Fabia II',\n",
              " 'Nissan Tiida I Рестайлинг',\n",
              " 'Volkswagen Touareg II Рестайлинг',\n",
              " 'Lexus NX 200 I Рестайлинг',\n",
              " 'X6_M',\n",
              " 'Infiniti QX56 II',\n",
              " 'Audi A4 IV (B8)',\n",
              " 'Audi A6 II (C5)',\n",
              " 'Mitsubishi Pajero IV',\n",
              " 'Volvo S40 II Рестайлинг',\n",
              " 'Lexus RX 350 IV',\n",
              " 'NX',\n",
              " 'Volkswagen Passat B6',\n",
              " 'CLA_KLASSE',\n",
              " 'ES',\n",
              " 'AURIS',\n",
              " 'GLS_KLASSE',\n",
              " 'M',\n",
              " 'Honda CR-V I',\n",
              " 'Toyota Land Cruiser Prado 150 Series Рестайлинг 2',\n",
              " 'V_KLASSE',\n",
              " 'Lexus RX 300 IV',\n",
              " 'Audi Q7 I (4L)',\n",
              " 'Skoda Superb II',\n",
              " 'LS',\n",
              " 'Nissan X-Trail III Рестайлинг',\n",
              " 'BMW X6 30d II (F16)',\n",
              " 'VIANO',\n",
              " 'Mitsubishi Carisma I Рестайлинг',\n",
              " 'Honda Accord VII Рестайлинг',\n",
              " 'TOURAN',\n",
              " 'BMW X5 30d IV (G05)',\n",
              " 'Audi 100 IV (C4)',\n",
              " 'Mercedes-Benz GLS 350 d I (X166)',\n",
              " 'Honda Freed I',\n",
              " 'Volkswagen Jetta VI',\n",
              " 'Mitsubishi Pajero Sport II',\n",
              " 'Volkswagen Tiguan I',\n",
              " 'Volkswagen Passat B8',\n",
              " 'G_KLASSE_AMG',\n",
              " 'Honda HR-V I',\n",
              " 'Volvo S80 II Рестайлинг',\n",
              " 'Volkswagen Passat B7',\n",
              " 'Lexus RX 300 I',\n",
              " 'GLA_CLASS',\n",
              " 'Audi Q3 I (8U) Рестайлинг',\n",
              " 'Volvo 850',\n",
              " 'S_KLASSE_AMG',\n",
              " 'Mitsubishi Lancer X Рестайлинг',\n",
              " '4',\n",
              " 'Volvo S80 II',\n",
              " 'Mitsubishi Outlander I',\n",
              " 'Lexus ES 250 VI',\n",
              " 'VITO',\n",
              " 'MARK_II',\n",
              " 'B_KLASSE',\n",
              " 'GOLF_PLUS',\n",
              " 'Honda Shuttle II',\n",
              " 'Honda Fit III',\n",
              " 'Audi A7 I (4G)',\n",
              " 'Audi A4 III (B7)',\n",
              " 'Lexus RX 300 IV Рестайлинг',\n",
              " 'Lexus NX 200t I',\n",
              " 'Mercedes-Benz E-Класс 200 IV (W212, S212, C207) Рестайлинг',\n",
              " 'Infiniti FX FX37 II (S51) Рестайлинг',\n",
              " 'Audi A5 I (8T) Рестайлинг',\n",
              " 'Lexus GX 460 II',\n",
              " 'Infiniti Q50 I',\n",
              " 'Mitsubishi Pajero Sport II Рестайлинг',\n",
              " 'Honda Civic VI',\n",
              " 'MICRA',\n",
              " 'IS',\n",
              " 'Infiniti FX FX35 I (S50)',\n",
              " 'Honda Fit I',\n",
              " 'Toyota RAV4 V (XA50)',\n",
              " 'Honda CR-V II',\n",
              " 'Audi A4 II (B6)',\n",
              " 'Lexus GX 470 I',\n",
              " 'Mitsubishi Outlander III Рестайлинг',\n",
              " 'Honda Civic VIII Рестайлинг',\n",
              " 'Toyota RAV4 III (XA30)',\n",
              " 'Volvo S80 I',\n",
              " 'Volkswagen Golf VI',\n",
              " 'Skoda Karoq I',\n",
              " 'Lexus RX 330 II',\n",
              " 'Infiniti FX FX37 II (S51)',\n",
              " 'CELICA',\n",
              " 'GX',\n",
              " 'S_CLASS_MAYBACH',\n",
              " 'Audi A5 II (F5)',\n",
              " 'Skoda Octavia II (A5)',\n",
              " 'Honda Accord VIII Рестайлинг',\n",
              " 'Lexus NX 300 I Рестайлинг',\n",
              " 'Honda Vezel I',\n",
              " 'HILUX',\n",
              " 'GLE_KLASSE_COUPE',\n",
              " 'Volkswagen Golf VII',\n",
              " 'AMAROK',\n",
              " 'SHARAN',\n",
              " 'Toyota Highlander II (U40) Рестайлинг',\n",
              " 'EX',\n",
              " 'BMW X3 30d xDrive III (G01)',\n",
              " 'Nissan Murano II (Z51) Рестайлинг 2',\n",
              " 'BMW 5 серии 520d xDrive VII (G30/G31)',\n",
              " 'X5_M',\n",
              " 'BMW X5 30d III (F15)',\n",
              " 'Audi A6 III (C6) Рестайлинг',\n",
              " 'Mercedes-Benz GL-Класс 350 CDI BlueTEC II (X166)',\n",
              " 'Lexus GX 460 II Рестайлинг',\n",
              " 'Toyota Hilux VIII',\n",
              " 'Mitsubishi Colt VI (Z20/Z30)',\n",
              " 'Nissan Primera III (P12)',\n",
              " 'Mitsubishi L200 IV',\n",
              " 'Infiniti FX FX35 I (S50) Рестайлинг',\n",
              " 'X7',\n",
              " 'Toyota Corolla X (E140, E150) Рестайлинг',\n",
              " 'Nissan Note I Рестайлинг',\n",
              " 'Nissan Pathfinder III Рестайлинг',\n",
              " 'Nissan Tiida I',\n",
              " 'Mercedes-Benz GLC 250 I (X253)',\n",
              " 'Audi A3 II (8P) Рестайлинг 2',\n",
              " 'Lexus LX 470 II Рестайлинг',\n",
              " 'Audi A5 I (8T)',\n",
              " 'Toyota Corolla XI (E160, E170)',\n",
              " 'Infiniti QX80 I Рестайлинг',\n",
              " 'Nissan Murano III (Z52)',\n",
              " 'COLT',\n",
              " 'FELICIA',\n",
              " 'Volkswagen Touareg III',\n",
              " 'BMW X5 25d III (F15)',\n",
              " 'Audi A6 II (C5) Рестайлинг',\n",
              " 'Lexus ES 250 VII',\n",
              " 'Honda Civic VII',\n",
              " 'Toyota Land Cruiser 200 Series',\n",
              " 'Lexus IS 250 II',\n",
              " 'Toyota Auris I',\n",
              " 'W124',\n",
              " 'PILOT',\n",
              " 'CL_KLASSE',\n",
              " 'Volvo XC70 II Рестайлинг',\n",
              " 'Infiniti G G35 IV',\n",
              " 'Toyota Camry VI (XV40)',\n",
              " 'Lexus GS 300 III',\n",
              " 'Honda Accord VI',\n",
              " 'Volvo S60 II Рестайлинг',\n",
              " 'YARIS',\n",
              " 'Honda Freed II',\n",
              " 'QASHQAI_PLUS_2',\n",
              " 'BMW X3 20d xDrive III (G01)',\n",
              " 'TT',\n",
              " 'PRIUS',\n",
              " 'Mercedes-Benz GLE 350 d I (W166)',\n",
              " 'Mitsubishi Pajero IV Рестайлинг 2',\n",
              " 'Honda Freed Spike I',\n",
              " 'Volvo S80 I Рестайлинг',\n",
              " 'Honda Accord IX',\n",
              " 'Mercedes-Benz GLE Coupe 350 d I (C292)',\n",
              " 'HR_V',\n",
              " 'Nissan Juke I Рестайлинг',\n",
              " 'Q50',\n",
              " 'BMW 5 серии 530d xDrive VII (G30/G31)',\n",
              " 'Mitsubishi Pajero Sport I Рестайлинг',\n",
              " 'Mercedes-Benz E-Класс 200 7G-Tronic IV (W212, S212, C207)',\n",
              " 'Lexus GS 350 IV',\n",
              " 'Infiniti FX FX35 II (S51)',\n",
              " 'Volkswagen Touareg I Рестайлинг',\n",
              " 'Infiniti QX50 I',\n",
              " 'Skoda Fabia I',\n",
              " 'Volvo S40 II',\n",
              " 'Toyota Corolla X (E140, E150)',\n",
              " 'Audi A3 III (8V) Рестайлинг',\n",
              " 'Volvo S60 I',\n",
              " 'SENTRA',\n",
              " 'Honda CR-V V',\n",
              " 'Nissan Teana II',\n",
              " 'Infiniti G G25 IV',\n",
              " 'Nissan Teana III',\n",
              " 'Infiniti QX50 II',\n",
              " 'M5',\n",
              " 'BMW 5 серии 530i xDrive VII (G30/G31)',\n",
              " 'LEAF',\n",
              " 'SERENA',\n",
              " 'HIACE',\n",
              " 'CLK_KLASSE',\n",
              " 'Honda Civic V',\n",
              " 'Toyota Corolla IX (E120, E130) Рестайлинг',\n",
              " 'Lexus RX 300 II',\n",
              " 'Mercedes-Benz S-Класс 500 Long VI (W222, C217)',\n",
              " 'Toyota Land Cruiser Prado 120 Series',\n",
              " 'Lexus ES 200 VI Рестайлинг',\n",
              " 'Infiniti M M37 IV',\n",
              " 'Lexus LX 470 II',\n",
              " 'BMW 3 серии 320d xDrive VII (G2x)',\n",
              " 'Nissan Note I',\n",
              " 'Honda Stream I',\n",
              " 'BMW 3 серии 320i VI (F3x)',\n",
              " 'BMW X5 35i III (F15)',\n",
              " 'Audi A4 I (B5)',\n",
              " 'Honda Civic X',\n",
              " 'OCTAVIA_RS',\n",
              " 'Volvo C30 I',\n",
              " 'Lexus RX 400h II Рестайлинг',\n",
              " 'Honda Accord VII',\n",
              " 'Toyota Highlander III (U50)',\n",
              " 'Infiniti QX80 I Рестайлинг 2',\n",
              " 'BMW X5 35i II (E70) Рестайлинг',\n",
              " 'Volvo S40 I Рестайлинг',\n",
              " 'Lexus RX 450h III',\n",
              " 'Volvo S90 II',\n",
              " 'Mercedes-Benz CLA 200 I (C117, X117) Рестайлинг',\n",
              " 'A1',\n",
              " 'Volvo XC40 I',\n",
              " 'Volkswagen Tiguan II Рестайлинг',\n",
              " 'MONTERO_SPORT',\n",
              " 'Honda CR-V I Рестайлинг',\n",
              " 'NAVARA',\n",
              " 'Nissan Almera II (N16) Рестайлинг',\n",
              " 'CROWN',\n",
              " 'E_KLASSE_AMG',\n",
              " 'Toyota Corolla AMT X (E140, E150)',\n",
              " 'Skoda Fabia I Рестайлинг',\n",
              " 'Mercedes-Benz V-Класс L 250 d длинный II',\n",
              " 'Skoda Octavia DSG7 II (A5) Рестайлинг',\n",
              " 'VERSO',\n",
              " 'Skoda Octavia IV (A8)',\n",
              " 'Mercedes-Benz C-Класс 180 IV (W205)',\n",
              " 'BMW X5 40d III (F15)',\n",
              " 'GLC_COUPE',\n",
              " 'Honda HR-V I Рестайлинг',\n",
              " 'Volvo 940',\n",
              " 'BMW X6 35i I (E71)',\n",
              " 'Volvo XC90 II Рестайлинг',\n",
              " 'Toyota Land Cruiser Prado 150 Series Рестайлинг 3',\n",
              " 'Nissan Micra III (K12)',\n",
              " 'Volkswagen Passat B3',\n",
              " 'Honda Jazz I Рестайлинг',\n",
              " 'Mitsubishi Pajero II',\n",
              " 'BMW 3 серии 316i VI (F3x)',\n",
              " '850',\n",
              " 'Volkswagen Passat B5 Рестайлинг',\n",
              " 'Mitsubishi Galant VIII Рестайлинг',\n",
              " 'QX50',\n",
              " 'TUNDRA',\n",
              " 'Volkswagen Jetta V',\n",
              " 'Nissan Murano II (Z51) Рестайлинг',\n",
              " 'C30',\n",
              " 'Lexus ES 250 VI Рестайлинг',\n",
              " 'Mercedes-Benz M-Класс 350 CDI III (W166)',\n",
              " 'BMW 3 серии 320i xDrive VI (F3x) Рестайлинг',\n",
              " 'Honda Fit III Рестайлинг',\n",
              " 'BORA',\n",
              " 'Toyota Camry VI (XV40) Рестайлинг',\n",
              " 'Toyota Avensis II Рестайлинг',\n",
              " 'BMW 3 серии 320d xDrive VI (F3x) Рестайлинг',\n",
              " 'Audi A1 I (8X)',\n",
              " 'A4_ALLROAD',\n",
              " 'Mercedes-Benz GLA 250 I (X156)',\n",
              " 'Audi Q7 45 TDI II (4M) Рестайлинг',\n",
              " 'Mercedes-Benz C-Класс 180 III (W204) Рестайлинг',\n",
              " 'Mercedes-Benz C-Класс 180 IV (W205) Рестайлинг',\n",
              " 'GRANDIS',\n",
              " 'Infiniti EX EX35 I (J50)',\n",
              " 'Honda Accord V',\n",
              " 'Audi 80 V (B4)',\n",
              " 'SKYLINE',\n",
              " 'Lexus IS 250 III',\n",
              " 'Nissan X-Trail I Рестайлинг',\n",
              " 'ALPHARD',\n",
              " 'SL_KLASSE',\n",
              " 'Honda Civic Ferio II',\n",
              " 'BMW 1 серии 116i II (F20/F21)',\n",
              " 'BMW X6 35i II (F16)']"
            ]
          },
          "metadata": {},
          "execution_count": 300
        }
      ]
    },
    {
      "cell_type": "code",
      "metadata": {
        "id": "yaM6CRfIO-Y1"
      },
      "source": [
        "# reduce number of categories:\n",
        "# if number of records for a model less than 30, replace model_name with \"other\" ...\n",
        "data.model_name = data.model_name.apply(lambda x: is_top_model(x, top_models))\n"
      ],
      "execution_count": 301,
      "outputs": []
    },
    {
      "cell_type": "code",
      "metadata": {
        "id": "qqQmOBqlO-Y1"
      },
      "source": [
        "# sort out:\n",
        "cat_columns.append(\"model_name\")\n"
      ],
      "execution_count": 302,
      "outputs": []
    },
    {
      "cell_type": "markdown",
      "metadata": {
        "id": "zg-hMgcRO-Y2"
      },
      "source": [
        "### 2. body_type"
      ]
    },
    {
      "cell_type": "code",
      "metadata": {
        "id": "iZhqTjlvO-Y2",
        "outputId": "6281d312-2aba-48a7-ce61-cdfa9d156ae8",
        "colab": {
          "base_uri": "https://localhost:8080/"
        }
      },
      "source": [
        "data.body_type.value_counts()\n"
      ],
      "execution_count": 303,
      "outputs": [
        {
          "output_type": "execute_result",
          "data": {
            "text/plain": [
              "внедорожник 5 дв.          27985\n",
              "седан                      23726\n",
              "лифтбек                     4919\n",
              "хэтчбек 5 дв.               4270\n",
              "универсал 5 дв.             2526\n",
              "минивэн                     1684\n",
              "купе                        1460\n",
              "компактвэн                  1081\n",
              "хэтчбек 3 дв.                747\n",
              "пикап двойная кабина         551\n",
              "купе-хардтоп                 228\n",
              "внедорожник 3 дв.            198\n",
              "кабриолет                    170\n",
              "родстер                      152\n",
              "фургон                       143\n",
              "микровэн                      46\n",
              "седан-хардтоп                 19\n",
              "пикап одинарная кабина        14\n",
              "седан 2 дв.                    8\n",
              "лимузин                        8\n",
              "пикап полуторная кабина        7\n",
              "внедорожник открытый           6\n",
              "тарга                          2\n",
              "фастбек                        1\n",
              "Name: body_type, dtype: int64"
            ]
          },
          "metadata": {},
          "execution_count": 303
        }
      ]
    },
    {
      "cell_type": "code",
      "metadata": {
        "id": "p64w5i0kO-Y2"
      },
      "source": [
        "# translate body types:\n",
        "data.body_type = data.body_type.map(\n",
        "                {'седан' : 'sedan',\n",
        "                 'внедорожник 5 дв.' : 'SUV 5 doors.',\n",
        "                 'лифтбек' : 'liftback',\n",
        "                 'хэтчбек 5 дв.' : 'hatchback 5 doors.',\n",
        "                 'универсал 5 дв.' : 'station wagon 5 doors.',\n",
        "                 'минивэн' : 'minivan',\n",
        "                 'купе' : 'coupe',\n",
        "                 'компактвэн' : 'compact MPV',\n",
        "                 'хэтчбек 3 дв.' : 'hatchback 3 doors.',\n",
        "                 'пикап двойная кабина' : 'pickup double cab',\n",
        "                 'купе-хардтоп' : 'coupe-hardtop',\n",
        "                 'внедорожник 3 дв.' : 'off-road vehicle 3 doors.',\n",
        "                 'родстер' :  'roadster',\n",
        "                 'фургон' : 'van',\n",
        "                 'кабриолет' : 'cabriolet',\n",
        "                 'седан-хардтоп' : 'hardtop sedan',\n",
        "                 'микровэн' : 'microvan',\n",
        "                 'седан 2 дв.' : 'sedan 2 doors.',\n",
        "                 'лимузин' : 'limousine',\n",
        "                 'пикап одинарная кабина' : 'pickup single cab',\n",
        "                 'пикап полуторная кабина' : 'pickup one-and-a-half cab',\n",
        "                 'внедорожник открытый' :  'off-road vehicle open',\n",
        "                 'тарга' : 'targa',\n",
        "                 'фастбек' : 'fastback'})\n"
      ],
      "execution_count": 304,
      "outputs": []
    },
    {
      "cell_type": "code",
      "metadata": {
        "id": "amrNrU_IO-Y2",
        "outputId": "e992945f-28ad-45e4-ffd9-1a6627c0160b",
        "colab": {
          "base_uri": "https://localhost:8080/"
        }
      },
      "source": [
        "# sort out:\n",
        "cat_columns.append(\"body_type\")\n",
        "cat_columns\n"
      ],
      "execution_count": 305,
      "outputs": [
        {
          "output_type": "execute_result",
          "data": {
            "text/plain": [
              "['brand', 'model_name', 'body_type']"
            ]
          },
          "metadata": {},
          "execution_count": 305
        }
      ]
    },
    {
      "cell_type": "markdown",
      "metadata": {
        "id": "y7_8kEdzO-Y2"
      },
      "source": [
        "### 3. doors"
      ]
    },
    {
      "cell_type": "code",
      "metadata": {
        "id": "e56akAerO-Y2",
        "outputId": "ab09623c-7edb-4295-b256-c397891dade2",
        "colab": {
          "base_uri": "https://localhost:8080/"
        }
      },
      "source": [
        "data.doors.value_counts()\n"
      ],
      "execution_count": 306,
      "outputs": [
        {
          "output_type": "execute_result",
          "data": {
            "text/plain": [
              "5    41563\n",
              "4    25317\n",
              "2     2060\n",
              "3     1010\n",
              "0        1\n",
              "Name: doors, dtype: int64"
            ]
          },
          "metadata": {},
          "execution_count": 306
        }
      ]
    },
    {
      "cell_type": "code",
      "metadata": {
        "id": "LkFMEpeXO-Y2",
        "outputId": "583d442c-2f48-406b-c956-7c55a16c98bf",
        "colab": {
          "base_uri": "https://localhost:8080/"
        }
      },
      "source": [
        "# sort out:\n",
        "cat_columns.append(\"doors\")\n",
        "cat_columns\n"
      ],
      "execution_count": 307,
      "outputs": [
        {
          "output_type": "execute_result",
          "data": {
            "text/plain": [
              "['brand', 'model_name', 'body_type', 'doors']"
            ]
          },
          "metadata": {},
          "execution_count": 307
        }
      ]
    },
    {
      "cell_type": "markdown",
      "metadata": {
        "id": "cS9Lz05bO-Y3"
      },
      "source": [
        "### 4. model_date"
      ]
    },
    {
      "cell_type": "code",
      "metadata": {
        "id": "eG1sJcfqO-Y3",
        "outputId": "e4c2bdc4-9307-4460-ae4f-56e39c1a1378",
        "colab": {
          "base_uri": "https://localhost:8080/"
        }
      },
      "source": [
        "data.model_date.describe()\n"
      ],
      "execution_count": 308,
      "outputs": [
        {
          "output_type": "execute_result",
          "data": {
            "text/plain": [
              "count    69951.000000\n",
              "mean      2008.272619\n",
              "std          7.322240\n",
              "min       1904.000000\n",
              "25%       2005.000000\n",
              "50%       2010.000000\n",
              "75%       2013.000000\n",
              "max       2021.000000\n",
              "Name: model_date, dtype: float64"
            ]
          },
          "metadata": {},
          "execution_count": 308
        }
      ]
    },
    {
      "cell_type": "markdown",
      "metadata": {
        "id": "yLmWF0FLO-Y3"
      },
      "source": [
        "Dataset contains data about car model from year 1904... "
      ]
    },
    {
      "cell_type": "code",
      "metadata": {
        "id": "kZGeAi7cO-Y3",
        "outputId": "e8adb6f0-347b-4d3f-d893-04811090fa05",
        "colab": {
          "base_uri": "https://localhost:8080/"
        }
      },
      "source": [
        "# sort out:\n",
        "num_columns.append(\"model_date\")\n",
        "num_columns\n"
      ],
      "execution_count": 309,
      "outputs": [
        {
          "output_type": "execute_result",
          "data": {
            "text/plain": [
              "['model_date']"
            ]
          },
          "metadata": {},
          "execution_count": 309
        }
      ]
    },
    {
      "cell_type": "code",
      "metadata": {
        "id": "DlO1ZHl1O-Y3",
        "outputId": "49400825-595c-44c3-88eb-a4d049d00dee",
        "colab": {
          "base_uri": "https://localhost:8080/"
        }
      },
      "source": [
        "# to add year of collecting datasets, find it out: \n",
        "# for train and test data it is different:\n",
        "traindata_year = data[data.test_train==\"train\"][\"model_date\"].max()\n",
        "testdata_year = data[data.test_train==\"test\"][\"model_date\"].max()\n",
        "traindata_year, testdata_year\n"
      ],
      "execution_count": 310,
      "outputs": [
        {
          "output_type": "execute_result",
          "data": {
            "text/plain": [
              "(2021, 2020)"
            ]
          },
          "metadata": {},
          "execution_count": 310
        }
      ]
    },
    {
      "cell_type": "markdown",
      "metadata": {
        "id": "m-m4BtBbO-Y3"
      },
      "source": [
        "### ++++++ new column +++++"
      ]
    },
    {
      "cell_type": "code",
      "metadata": {
        "id": "PjlQgd8vO-Y3",
        "outputId": "2448eff3-2c21-4ef9-cc8c-6ad4754b39dc",
        "colab": {
          "base_uri": "https://localhost:8080/"
        }
      },
      "source": [
        "# create new column \"dataset_year\" (year of collecting datasets)\n",
        "data[\"dataset_year\"] = np.where(data.test_train==\"test\", testdata_year, traindata_year)\n",
        "data.dataset_year.sample(7)\n"
      ],
      "execution_count": 311,
      "outputs": [
        {
          "output_type": "execute_result",
          "data": {
            "text/plain": [
              "12308    2021\n",
              "35862    2020\n",
              "4563     2021\n",
              "1652     2021\n",
              "6542     2021\n",
              "28909    2021\n",
              "45290    2020\n",
              "Name: dataset_year, dtype: int64"
            ]
          },
          "metadata": {},
          "execution_count": 311
        }
      ]
    },
    {
      "cell_type": "code",
      "metadata": {
        "id": "0MakoctsO-Y4",
        "outputId": "c05d86d0-2913-4429-85cd-712f40f20ea5",
        "colab": {
          "base_uri": "https://localhost:8080/"
        }
      },
      "source": [
        "# sort out:\n",
        "bin_columns.append(\"dataset_year\")\n",
        "bin_columns\n"
      ],
      "execution_count": 312,
      "outputs": [
        {
          "output_type": "execute_result",
          "data": {
            "text/plain": [
              "['dataset_year']"
            ]
          },
          "metadata": {},
          "execution_count": 312
        }
      ]
    },
    {
      "cell_type": "markdown",
      "metadata": {
        "id": "TT5qXAWWO-Y4"
      },
      "source": [
        "### ++++++ new column +++++"
      ]
    },
    {
      "cell_type": "code",
      "metadata": {
        "id": "mQMnL_etO-Y4",
        "outputId": "19f438d9-b70a-42ba-935c-32a11005c0fa",
        "colab": {
          "base_uri": "https://localhost:8080/"
        }
      },
      "source": [
        "#### add model age:\n",
        "data[\"model_age\"]= data.dataset_year - data.model_date\n",
        "data.model_age.sample(7)\n"
      ],
      "execution_count": 313,
      "outputs": [
        {
          "output_type": "execute_result",
          "data": {
            "text/plain": [
              "63695    13\n",
              "35802    12\n",
              "41443    20\n",
              "9915     26\n",
              "44041     4\n",
              "6935      6\n",
              "28412     6\n",
              "Name: model_age, dtype: int64"
            ]
          },
          "metadata": {},
          "execution_count": 313
        }
      ]
    },
    {
      "cell_type": "code",
      "metadata": {
        "id": "gXKvlmY6O-Y4",
        "outputId": "53b59e64-997c-41dc-adca-80bbaf6c16ab",
        "colab": {
          "base_uri": "https://localhost:8080/"
        }
      },
      "source": [
        "# sort out:\n",
        "num_columns.append(\"model_age\")\n",
        "num_columns\n"
      ],
      "execution_count": 314,
      "outputs": [
        {
          "output_type": "execute_result",
          "data": {
            "text/plain": [
              "['model_date', 'model_age']"
            ]
          },
          "metadata": {},
          "execution_count": 314
        }
      ]
    },
    {
      "cell_type": "markdown",
      "metadata": {
        "id": "wYudEknsO-Y4"
      },
      "source": [
        "### ++++++ new column +++++"
      ]
    },
    {
      "cell_type": "code",
      "metadata": {
        "id": "1Rp8geljO-Y4"
      },
      "source": [
        "# new column-marker to show if it is a new model on a market:\n",
        "data[\"new_model\"] = np.where(data.model_age==0, \"yes\", \"no\")\n"
      ],
      "execution_count": 315,
      "outputs": []
    },
    {
      "cell_type": "code",
      "metadata": {
        "id": "TCcyoQqkO-Y4",
        "outputId": "40383014-6967-413a-f9e7-48dc03429a1f",
        "colab": {
          "base_uri": "https://localhost:8080/"
        }
      },
      "source": [
        "data.new_model.value_counts()\n"
      ],
      "execution_count": 316,
      "outputs": [
        {
          "output_type": "execute_result",
          "data": {
            "text/plain": [
              "no     69927\n",
              "yes       24\n",
              "Name: new_model, dtype: int64"
            ]
          },
          "metadata": {},
          "execution_count": 316
        }
      ]
    },
    {
      "cell_type": "code",
      "metadata": {
        "id": "anNLJqlFO-Y4",
        "outputId": "473f0338-aac9-40e9-ab1e-ca7a389d9636",
        "colab": {
          "base_uri": "https://localhost:8080/"
        }
      },
      "source": [
        "# sort out:\n",
        "bin_columns.append(\"new_model\")\n",
        "bin_columns\n"
      ],
      "execution_count": 317,
      "outputs": [
        {
          "output_type": "execute_result",
          "data": {
            "text/plain": [
              "['dataset_year', 'new_model']"
            ]
          },
          "metadata": {},
          "execution_count": 317
        }
      ]
    },
    {
      "cell_type": "markdown",
      "metadata": {
        "id": "94udPCLKO-Y5"
      },
      "source": [
        "### 5. prod_date"
      ]
    },
    {
      "cell_type": "code",
      "metadata": {
        "id": "ZYYDnsupO-Y5",
        "outputId": "c3db19ee-b6fa-4483-c852-aa0f31dcb51a",
        "colab": {
          "base_uri": "https://localhost:8080/"
        }
      },
      "source": [
        "data.prod_date.describe()\n"
      ],
      "execution_count": 318,
      "outputs": [
        {
          "output_type": "execute_result",
          "data": {
            "text/plain": [
              "count    69951.000000\n",
              "mean      2010.393576\n",
              "std          7.011943\n",
              "min       1904.000000\n",
              "25%       2007.000000\n",
              "50%       2012.000000\n",
              "75%       2016.000000\n",
              "max       2021.000000\n",
              "Name: prod_date, dtype: float64"
            ]
          },
          "metadata": {},
          "execution_count": 318
        }
      ]
    },
    {
      "cell_type": "code",
      "metadata": {
        "id": "m-Qc810tO-Y5",
        "outputId": "897239d0-cefa-43f0-9053-1bb5b22798a0",
        "colab": {
          "base_uri": "https://localhost:8080/"
        }
      },
      "source": [
        "# compare statistics for train and test datasets:\n",
        "[data[data.test_train==\"test\"].prod_date.describe(), \n",
        " \"===============================\",\n",
        " data[data.test_train==\"train\"].prod_date.describe()]\n",
        "\n"
      ],
      "execution_count": 319,
      "outputs": [
        {
          "output_type": "execute_result",
          "data": {
            "text/plain": [
              "[count    34686.000000\n",
              " mean      2009.264602\n",
              " std          7.047661\n",
              " min       1904.000000\n",
              " 25%       2006.000000\n",
              " 50%       2011.000000\n",
              " 75%       2014.000000\n",
              " max       2020.000000\n",
              " Name: prod_date, dtype: float64,\n",
              " '===============================',\n",
              " count    35265.000000\n",
              " mean      2011.504012\n",
              " std          6.796175\n",
              " min       1939.000000\n",
              " 25%       2008.000000\n",
              " 50%       2013.000000\n",
              " 75%       2017.000000\n",
              " max       2021.000000\n",
              " Name: prod_date, dtype: float64]"
            ]
          },
          "metadata": {},
          "execution_count": 319
        }
      ]
    },
    {
      "cell_type": "markdown",
      "metadata": {
        "id": "Xsu6TOJIO-Y5"
      },
      "source": [
        "test contains car produced in 1904, it will be no easy to predict  it's price on the base on train dataset..."
      ]
    },
    {
      "cell_type": "code",
      "metadata": {
        "id": "sRO3vheuO-Y5",
        "outputId": "54400ec2-73b8-4d26-a356-f0e3ac2ca0b3",
        "colab": {
          "base_uri": "https://localhost:8080/"
        }
      },
      "source": [
        "# sort out:\n",
        "num_columns.append(\"prod_date\")\n",
        "num_columns\n"
      ],
      "execution_count": 320,
      "outputs": [
        {
          "output_type": "execute_result",
          "data": {
            "text/plain": [
              "['model_date', 'model_age', 'prod_date']"
            ]
          },
          "metadata": {},
          "execution_count": 320
        }
      ]
    },
    {
      "cell_type": "markdown",
      "metadata": {
        "id": "qG7uGJNxO-Y5"
      },
      "source": [
        "test dataset is one year older. Adding a car age column Add columns \"raritet\" , \"new_model\" and make feature categorian by 10 years....."
      ]
    },
    {
      "cell_type": "markdown",
      "metadata": {
        "id": "6TQ34d8yO-Y5"
      },
      "source": [
        "### ++++++++ new column +++++++++"
      ]
    },
    {
      "cell_type": "code",
      "metadata": {
        "id": "2cCn9oJBO-Y5",
        "outputId": "f440b31a-a7b7-4ac0-da47-fc011a49d1e5",
        "colab": {
          "base_uri": "https://localhost:8080/"
        }
      },
      "source": [
        "data[\"car_age\"] = data.dataset_year - data.model_date\n",
        "data[\"car_age\"].describe()\n"
      ],
      "execution_count": 321,
      "outputs": [
        {
          "output_type": "execute_result",
          "data": {
            "text/plain": [
              "count    69951.000000\n",
              "mean        12.231519\n",
              "std          7.257905\n",
              "min          0.000000\n",
              "25%          7.000000\n",
              "50%         11.000000\n",
              "75%         15.000000\n",
              "max        116.000000\n",
              "Name: car_age, dtype: float64"
            ]
          },
          "metadata": {},
          "execution_count": 321
        }
      ]
    },
    {
      "cell_type": "markdown",
      "metadata": {
        "id": "FXIj7O4hO-Y6"
      },
      "source": [
        "There are new cars represented in both datasets, oldest car in test is much older then the oldest car in train, will be marked as raritet or even super raritet"
      ]
    },
    {
      "cell_type": "code",
      "metadata": {
        "id": "uW5a_N-3O-Y6",
        "outputId": "d9f3b0cc-282a-4847-b428-0602924c960d",
        "colab": {
          "base_uri": "https://localhost:8080/"
        }
      },
      "source": [
        "# sort out:\n",
        "num_columns.append(\"car_age\")\n",
        "num_columns\n"
      ],
      "execution_count": 322,
      "outputs": [
        {
          "output_type": "execute_result",
          "data": {
            "text/plain": [
              "['model_date', 'model_age', 'prod_date', 'car_age']"
            ]
          },
          "metadata": {},
          "execution_count": 322
        }
      ]
    },
    {
      "cell_type": "code",
      "metadata": {
        "id": "Y5CbMoz1O-Y6",
        "outputId": "3e89792e-bd97-4a60-a716-5e0937d0120e",
        "colab": {
          "base_uri": "https://localhost:8080/",
          "height": 0
        }
      },
      "source": [
        "# add new column \"new_car\" for cars with car_age=0:\n",
        "data[\"new_car\"] = np.where(data[\"car_age\"]==0, \"yes\", \"no\")\n",
        "# add new column \"retro\" for cars older then 30 years\n",
        "data[\"retro\"] = np.where(data[\"car_age\"]>30, \"yes\", \"no\")\n",
        "# and new column \"raritet\" for cars older then 50 years\n",
        "data[\"raritet\"] = np.where(data[\"car_age\"]>50, \"yes\", \"no\")\n",
        "data[data.car_age>30][[\"car_age\", \"retro\", \"raritet\"]].sample(10)\n"
      ],
      "execution_count": 323,
      "outputs": [
        {
          "output_type": "execute_result",
          "data": {
            "text/html": [
              "<div>\n",
              "<style scoped>\n",
              "    .dataframe tbody tr th:only-of-type {\n",
              "        vertical-align: middle;\n",
              "    }\n",
              "\n",
              "    .dataframe tbody tr th {\n",
              "        vertical-align: top;\n",
              "    }\n",
              "\n",
              "    .dataframe thead th {\n",
              "        text-align: right;\n",
              "    }\n",
              "</style>\n",
              "<table border=\"1\" class=\"dataframe\">\n",
              "  <thead>\n",
              "    <tr style=\"text-align: right;\">\n",
              "      <th></th>\n",
              "      <th>car_age</th>\n",
              "      <th>retro</th>\n",
              "      <th>raritet</th>\n",
              "    </tr>\n",
              "  </thead>\n",
              "  <tbody>\n",
              "    <tr>\n",
              "      <th>4151</th>\n",
              "      <td>35</td>\n",
              "      <td>yes</td>\n",
              "      <td>no</td>\n",
              "    </tr>\n",
              "    <tr>\n",
              "      <th>66088</th>\n",
              "      <td>32</td>\n",
              "      <td>yes</td>\n",
              "      <td>no</td>\n",
              "    </tr>\n",
              "    <tr>\n",
              "      <th>6204</th>\n",
              "      <td>35</td>\n",
              "      <td>yes</td>\n",
              "      <td>no</td>\n",
              "    </tr>\n",
              "    <tr>\n",
              "      <th>52525</th>\n",
              "      <td>38</td>\n",
              "      <td>yes</td>\n",
              "      <td>no</td>\n",
              "    </tr>\n",
              "    <tr>\n",
              "      <th>34702</th>\n",
              "      <td>35</td>\n",
              "      <td>yes</td>\n",
              "      <td>no</td>\n",
              "    </tr>\n",
              "    <tr>\n",
              "      <th>66573</th>\n",
              "      <td>32</td>\n",
              "      <td>yes</td>\n",
              "      <td>no</td>\n",
              "    </tr>\n",
              "    <tr>\n",
              "      <th>68741</th>\n",
              "      <td>31</td>\n",
              "      <td>yes</td>\n",
              "      <td>no</td>\n",
              "    </tr>\n",
              "    <tr>\n",
              "      <th>21757</th>\n",
              "      <td>46</td>\n",
              "      <td>yes</td>\n",
              "      <td>no</td>\n",
              "    </tr>\n",
              "    <tr>\n",
              "      <th>6245</th>\n",
              "      <td>34</td>\n",
              "      <td>yes</td>\n",
              "      <td>no</td>\n",
              "    </tr>\n",
              "    <tr>\n",
              "      <th>39554</th>\n",
              "      <td>34</td>\n",
              "      <td>yes</td>\n",
              "      <td>no</td>\n",
              "    </tr>\n",
              "  </tbody>\n",
              "</table>\n",
              "</div>"
            ],
            "text/plain": [
              "       car_age retro raritet\n",
              "4151        35   yes      no\n",
              "66088       32   yes      no\n",
              "6204        35   yes      no\n",
              "52525       38   yes      no\n",
              "34702       35   yes      no\n",
              "66573       32   yes      no\n",
              "68741       31   yes      no\n",
              "21757       46   yes      no\n",
              "6245        34   yes      no\n",
              "39554       34   yes      no"
            ]
          },
          "metadata": {},
          "execution_count": 323
        }
      ]
    },
    {
      "cell_type": "code",
      "metadata": {
        "id": "1p3HGTK2O-Y6",
        "outputId": "0939aeed-b31c-4672-a2b3-4c4dd43c27a1",
        "colab": {
          "base_uri": "https://localhost:8080/"
        }
      },
      "source": [
        "# sort out:\n",
        "bin_columns.append(\"new_car\")\n",
        "bin_columns.append(\"retro\")\n",
        "bin_columns.append(\"raritet\")\n",
        "bin_columns\n"
      ],
      "execution_count": 324,
      "outputs": [
        {
          "output_type": "execute_result",
          "data": {
            "text/plain": [
              "['dataset_year', 'new_model', 'new_car', 'retro', 'raritet']"
            ]
          },
          "metadata": {},
          "execution_count": 324
        }
      ]
    },
    {
      "cell_type": "markdown",
      "metadata": {
        "id": "khEftVOeO-Y6"
      },
      "source": [
        "### 6. color"
      ]
    },
    {
      "cell_type": "code",
      "metadata": {
        "id": "N3iuyTA8O-Y6",
        "outputId": "25dd4240-fc55-4a80-a615-4535f71adeca",
        "colab": {
          "base_uri": "https://localhost:8080/"
        }
      },
      "source": [
        "data.color.value_counts()\n"
      ],
      "execution_count": 325,
      "outputs": [
        {
          "output_type": "execute_result",
          "data": {
            "text/plain": [
              "чёрный         21181\n",
              "белый          14064\n",
              "серый           8830\n",
              "серебристый     7632\n",
              "синий           6346\n",
              "коричневый      3138\n",
              "красный         3092\n",
              "зелёный         1626\n",
              "бежевый         1290\n",
              "голубой          781\n",
              "золотистый       490\n",
              "пурпурный        482\n",
              "фиолетовый       398\n",
              "жёлтый           319\n",
              "оранжевый        258\n",
              "розовый           24\n",
              "Name: color, dtype: int64"
            ]
          },
          "metadata": {},
          "execution_count": 325
        }
      ]
    },
    {
      "cell_type": "code",
      "metadata": {
        "id": "m4jeFb0SO-Y7",
        "outputId": "6e782104-fe16-4068-815e-feab32733b7a",
        "colab": {
          "base_uri": "https://localhost:8080/"
        }
      },
      "source": [
        "data.color = data.color.map(\n",
        "                {\"чёрный\" : \"black\",\n",
        "                \"белый\" : \"white\",\n",
        "                \"серый\" : \"grey\",\n",
        "                \"серебристый\" : \"silver\",\n",
        "                \"синий\" : \"blue\",\n",
        "                \"красный\" : \"red\",\n",
        "                \"коричневый\" :\"braun\",\n",
        "                \"зелёный\" : \"green\",\n",
        "                \"бежевый\" : \"beige\",\n",
        "                \"голубой\" : \"light-blue\",\n",
        "                \"золотистый\" : \"gold\",\n",
        "                \"пурпурный\" : \"purple\",\n",
        "                \"фиолетовый\" : \"violet\",\n",
        "                \"жёлтый\" : \"yellow\",\n",
        "                \"оранжевый\" : \"orange\",\n",
        "                \"розовый\" : \"rose\"})\n",
        "\n",
        "data.color.value_counts()"
      ],
      "execution_count": 326,
      "outputs": [
        {
          "output_type": "execute_result",
          "data": {
            "text/plain": [
              "black         21181\n",
              "white         14064\n",
              "grey           8830\n",
              "silver         7632\n",
              "blue           6346\n",
              "braun          3138\n",
              "red            3092\n",
              "green          1626\n",
              "beige          1290\n",
              "light-blue      781\n",
              "gold            490\n",
              "purple          482\n",
              "violet          398\n",
              "yellow          319\n",
              "orange          258\n",
              "rose             24\n",
              "Name: color, dtype: int64"
            ]
          },
          "metadata": {},
          "execution_count": 326
        }
      ]
    },
    {
      "cell_type": "code",
      "metadata": {
        "id": "0xsDomNqO-Y7",
        "outputId": "5d43ec8d-dd86-4701-87c7-d2bfdb67d51e",
        "colab": {
          "base_uri": "https://localhost:8080/"
        }
      },
      "source": [
        "# sort out:\n",
        "cat_columns.append(\"color\")\n",
        "cat_columns\n"
      ],
      "execution_count": 327,
      "outputs": [
        {
          "output_type": "execute_result",
          "data": {
            "text/plain": [
              "['brand', 'model_name', 'body_type', 'doors', 'color']"
            ]
          },
          "metadata": {},
          "execution_count": 327
        }
      ]
    },
    {
      "cell_type": "markdown",
      "metadata": {
        "id": "f0ruwiNbO-Y7"
      },
      "source": [
        "### 7. engine_V"
      ]
    },
    {
      "cell_type": "code",
      "metadata": {
        "scrolled": true,
        "id": "s8UlYsT_O-Y7",
        "outputId": "41be1e91-9688-4472-8d3e-3df04f62c6c4",
        "colab": {
          "base_uri": "https://localhost:8080/"
        }
      },
      "source": [
        "data.engine_V.value_counts()\n"
      ],
      "execution_count": 328,
      "outputs": [
        {
          "output_type": "execute_result",
          "data": {
            "text/plain": [
              "2.0 LTR    16022\n",
              "1.6 LTR     9687\n",
              "3.0 LTR     7501\n",
              "1.8 LTR     5705\n",
              "2.5 LTR     4708\n",
              "2.4 LTR     3833\n",
              "1.4 LTR     3506\n",
              "3.5 LTR     3495\n",
              "1.5 LTR     1957\n",
              "1.2 LTR     1056\n",
              "1.3 LTR      914\n",
              "2.8 LTR      732\n",
              "4.7 LTR      701\n",
              "4.5 LTR      701\n",
              "4.4 LTR      700\n",
              "4.0 LTR      685\n",
              "3.2 LTR      554\n",
              "5.5 LTR      553\n",
              "2.1 LTR      532\n",
              "3.7 LTR      528\n",
              "5.7 LTR      528\n",
              "5.6 LTR      443\n",
              "2.2 LTR      432\n",
              "2.3 LTR      429\n",
              "2.7 LTR      411\n",
              "4.2 LTR      364\n",
              "4.6 LTR      360\n",
              "3.6 LTR      338\n",
              "2.9 LTR      332\n",
              "1.9 LTR      321\n",
              "5.0 LTR      265\n",
              "0.7 LTR      210\n",
              "1.7 LTR      173\n",
              "3.3 LTR      160\n",
              "3.1 LTR      136\n",
              " LTR         127\n",
              "4.8 LTR      110\n",
              "1.0 LTR      105\n",
              "3.8 LTR      101\n",
              "4.3 LTR       84\n",
              "2.6 LTR       80\n",
              "6.0 LTR       76\n",
              "3.4 LTR       69\n",
              "4.1 LTR       54\n",
              "5.4 LTR       45\n",
              "6.2 LTR       40\n",
              "5.2 LTR       23\n",
              "5.9 LTR       15\n",
              "6.3 LTR       13\n",
              "6.6 LTR       13\n",
              "1.1 LTR        9\n",
              "5.8 LTR        9\n",
              "4.9 LTR        4\n",
              "3.9 LTR        1\n",
              "5.3 LTR        1\n",
              "Name: engine_V, dtype: int64"
            ]
          },
          "metadata": {},
          "execution_count": 328
        }
      ]
    },
    {
      "cell_type": "code",
      "metadata": {
        "id": "ZHoQKsYIO-Y7"
      },
      "source": [
        "# remove \"LTR\"\n",
        "data.engine_V = data.engine_V.apply(lambda x: str(x).replace(\" LTR\", \"\"))\n"
      ],
      "execution_count": 329,
      "outputs": []
    },
    {
      "cell_type": "code",
      "metadata": {
        "id": "gy9QZ9y9O-Y7",
        "outputId": "178ab547-6341-4d3c-ef40-9144dd3d3cfc",
        "colab": {
          "base_uri": "https://localhost:8080/"
        }
      },
      "source": [
        "# wonder what has happend with value \"LTR\":\n",
        "data.engine_V.unique()\n"
      ],
      "execution_count": 330,
      "outputs": [
        {
          "output_type": "execute_result",
          "data": {
            "text/plain": [
              "array(['1.4', '1.6', '1.2', '2.5', '1.8', '2.0', '1.3', '3.6', '2.8',\n",
              "       '1.5', '1.9', '3.0', '3.1', '4.0', '2.7', '2.4', '4.2', '2.3',\n",
              "       '5.0', '6.0', '3.2', '2.1', '', '2.6', '6.3', '5.2', '4.1', '2.9',\n",
              "       '2.2', '5.9', '3.3', '3.7', '1.7', '3.5', '0.7', '4.4', '4.8',\n",
              "       '6.6', '4.6', '5.4', '3.4', '5.6', '1.0', '3.8', '4.5', '5.5',\n",
              "       '4.7', '6.2', '4.3', '5.8', '5.7', '1.1', '4.9', '3.9', '5.3'],\n",
              "      dtype=object)"
            ]
          },
          "metadata": {},
          "execution_count": 330
        }
      ]
    },
    {
      "cell_type": "markdown",
      "metadata": {
        "id": "nlSsdCQtO-Y8"
      },
      "source": [
        "There is an empty value instead. Take a look:"
      ]
    },
    {
      "cell_type": "code",
      "metadata": {
        "id": "UysqFmzmO-Y8",
        "outputId": "67787f6f-8faa-452d-baf2-74e7ed10555d",
        "colab": {
          "base_uri": "https://localhost:8080/",
          "height": 0
        }
      },
      "source": [
        "data[data.engine_V==\"\"]\n"
      ],
      "execution_count": 331,
      "outputs": [
        {
          "output_type": "execute_result",
          "data": {
            "text/html": [
              "<div>\n",
              "<style scoped>\n",
              "    .dataframe tbody tr th:only-of-type {\n",
              "        vertical-align: middle;\n",
              "    }\n",
              "\n",
              "    .dataframe tbody tr th {\n",
              "        vertical-align: top;\n",
              "    }\n",
              "\n",
              "    .dataframe thead th {\n",
              "        text-align: right;\n",
              "    }\n",
              "</style>\n",
              "<table border=\"1\" class=\"dataframe\">\n",
              "  <thead>\n",
              "    <tr style=\"text-align: right;\">\n",
              "      <th></th>\n",
              "      <th>brand</th>\n",
              "      <th>model_name</th>\n",
              "      <th>body_type</th>\n",
              "      <th>doors</th>\n",
              "      <th>model_date</th>\n",
              "      <th>prod_date</th>\n",
              "      <th>color</th>\n",
              "      <th>engine_V</th>\n",
              "      <th>power</th>\n",
              "      <th>fuel</th>\n",
              "      <th>image</th>\n",
              "      <th>mileage</th>\n",
              "      <th>name</th>\n",
              "      <th>config</th>\n",
              "      <th>transmission</th>\n",
              "      <th>owners</th>\n",
              "      <th>pass</th>\n",
              "      <th>drive</th>\n",
              "      <th>wheel</th>\n",
              "      <th>state</th>\n",
              "      <th>custom</th>\n",
              "      <th>car_url</th>\n",
              "      <th>price</th>\n",
              "      <th>test_train</th>\n",
              "      <th>dataset_year</th>\n",
              "      <th>model_age</th>\n",
              "      <th>new_model</th>\n",
              "      <th>car_age</th>\n",
              "      <th>new_car</th>\n",
              "      <th>retro</th>\n",
              "      <th>raritet</th>\n",
              "    </tr>\n",
              "  </thead>\n",
              "  <tbody>\n",
              "    <tr>\n",
              "      <th>3708</th>\n",
              "      <td>AUDI</td>\n",
              "      <td>other</td>\n",
              "      <td>SUV 5 doors.</td>\n",
              "      <td>5</td>\n",
              "      <td>2018</td>\n",
              "      <td>2019</td>\n",
              "      <td>blue</td>\n",
              "      <td></td>\n",
              "      <td>408 N12</td>\n",
              "      <td>электро</td>\n",
              "      <td>https://avatars.mds.yandex.net/get-autoru-vos/...</td>\n",
              "      <td>28 480 км</td>\n",
              "      <td>AT</td>\n",
              "      <td>ALLROAD_5_DOORS AUTOMATIC</td>\n",
              "      <td>автоматическая</td>\n",
              "      <td>1 владелец</td>\n",
              "      <td>Оригинал</td>\n",
              "      <td>полный</td>\n",
              "      <td>Левый</td>\n",
              "      <td>Не требует ремонта</td>\n",
              "      <td>Растаможен</td>\n",
              "      <td>https://auto.ru/cars/used/sale/audi/e_tron/110...</td>\n",
              "      <td>6 150 000 ₽</td>\n",
              "      <td>train</td>\n",
              "      <td>2021</td>\n",
              "      <td>3</td>\n",
              "      <td>no</td>\n",
              "      <td>3</td>\n",
              "      <td>no</td>\n",
              "      <td>no</td>\n",
              "      <td>no</td>\n",
              "    </tr>\n",
              "    <tr>\n",
              "      <th>3931</th>\n",
              "      <td>AUDI</td>\n",
              "      <td>other</td>\n",
              "      <td>SUV 5 doors.</td>\n",
              "      <td>5</td>\n",
              "      <td>2019</td>\n",
              "      <td>2020</td>\n",
              "      <td>blue</td>\n",
              "      <td></td>\n",
              "      <td>408 N12</td>\n",
              "      <td>электро</td>\n",
              "      <td>https://autoru.naydex.net/w17S7KB96/f11010lkSc...</td>\n",
              "      <td>1 111 км</td>\n",
              "      <td>AT</td>\n",
              "      <td>ALLROAD_5_DOORS AUTOMATIC</td>\n",
              "      <td>автоматическая</td>\n",
              "      <td>1 владелец</td>\n",
              "      <td>Оригинал</td>\n",
              "      <td>полный</td>\n",
              "      <td>Левый</td>\n",
              "      <td>Не требует ремонта</td>\n",
              "      <td>Растаможен</td>\n",
              "      <td>https://auto.ru/cars/used/sale/audi/e_tron_spo...</td>\n",
              "      <td>7 270 000 ₽</td>\n",
              "      <td>train</td>\n",
              "      <td>2021</td>\n",
              "      <td>2</td>\n",
              "      <td>no</td>\n",
              "      <td>2</td>\n",
              "      <td>no</td>\n",
              "      <td>no</td>\n",
              "      <td>no</td>\n",
              "    </tr>\n",
              "    <tr>\n",
              "      <th>4075</th>\n",
              "      <td>AUDI</td>\n",
              "      <td>other</td>\n",
              "      <td>SUV 5 doors.</td>\n",
              "      <td>5</td>\n",
              "      <td>2019</td>\n",
              "      <td>2020</td>\n",
              "      <td>silver</td>\n",
              "      <td></td>\n",
              "      <td>408 N12</td>\n",
              "      <td>электро</td>\n",
              "      <td>https://autoru.naydex.net/w17S7KB96/f11010lkSc...</td>\n",
              "      <td>2 700 км</td>\n",
              "      <td>AT</td>\n",
              "      <td>ALLROAD_5_DOORS AUTOMATIC</td>\n",
              "      <td>автоматическая</td>\n",
              "      <td>1 владелец</td>\n",
              "      <td>Оригинал</td>\n",
              "      <td>полный</td>\n",
              "      <td>Левый</td>\n",
              "      <td>Не требует ремонта</td>\n",
              "      <td>Растаможен</td>\n",
              "      <td>https://auto.ru/cars/used/sale/audi/e_tron_spo...</td>\n",
              "      <td>5 999 999 ₽</td>\n",
              "      <td>train</td>\n",
              "      <td>2021</td>\n",
              "      <td>2</td>\n",
              "      <td>no</td>\n",
              "      <td>2</td>\n",
              "      <td>no</td>\n",
              "      <td>no</td>\n",
              "      <td>no</td>\n",
              "    </tr>\n",
              "    <tr>\n",
              "      <th>4161</th>\n",
              "      <td>AUDI</td>\n",
              "      <td>other</td>\n",
              "      <td>SUV 5 doors.</td>\n",
              "      <td>5</td>\n",
              "      <td>2018</td>\n",
              "      <td>2019</td>\n",
              "      <td>light-blue</td>\n",
              "      <td></td>\n",
              "      <td>408 N12</td>\n",
              "      <td>электро</td>\n",
              "      <td>https://avatars.mds.yandex.net/get-autoru-vos/...</td>\n",
              "      <td>40 000 км</td>\n",
              "      <td>AT</td>\n",
              "      <td>ALLROAD_5_DOORS AUTOMATIC</td>\n",
              "      <td>автоматическая</td>\n",
              "      <td>1 владелец</td>\n",
              "      <td>Оригинал</td>\n",
              "      <td>полный</td>\n",
              "      <td>Левый</td>\n",
              "      <td>Не требует ремонта</td>\n",
              "      <td>Растаможен</td>\n",
              "      <td>https://auto.ru/cars/used/sale/audi/e_tron/110...</td>\n",
              "      <td>6 475 000 ₽</td>\n",
              "      <td>train</td>\n",
              "      <td>2021</td>\n",
              "      <td>3</td>\n",
              "      <td>no</td>\n",
              "      <td>3</td>\n",
              "      <td>no</td>\n",
              "      <td>no</td>\n",
              "      <td>no</td>\n",
              "    </tr>\n",
              "    <tr>\n",
              "      <th>4203</th>\n",
              "      <td>AUDI</td>\n",
              "      <td>other</td>\n",
              "      <td>sedan</td>\n",
              "      <td>4</td>\n",
              "      <td>2020</td>\n",
              "      <td>2021</td>\n",
              "      <td>grey</td>\n",
              "      <td></td>\n",
              "      <td>646 N12</td>\n",
              "      <td>электро</td>\n",
              "      <td>https://autoru.naydex.net/w17S7KB96/f11010lkSc...</td>\n",
              "      <td>250 км</td>\n",
              "      <td>AT</td>\n",
              "      <td>SEDAN AUTOMATIC</td>\n",
              "      <td>автоматическая</td>\n",
              "      <td>1 владелец</td>\n",
              "      <td>Оригинал</td>\n",
              "      <td>полный</td>\n",
              "      <td>Левый</td>\n",
              "      <td>Не требует ремонта</td>\n",
              "      <td>Растаможен</td>\n",
              "      <td>https://auto.ru/cars/used/sale/audi/rs_e_tron_...</td>\n",
              "      <td>17 055 000 ₽</td>\n",
              "      <td>train</td>\n",
              "      <td>2021</td>\n",
              "      <td>1</td>\n",
              "      <td>no</td>\n",
              "      <td>1</td>\n",
              "      <td>no</td>\n",
              "      <td>no</td>\n",
              "      <td>no</td>\n",
              "    </tr>\n",
              "    <tr>\n",
              "      <th>...</th>\n",
              "      <td>...</td>\n",
              "      <td>...</td>\n",
              "      <td>...</td>\n",
              "      <td>...</td>\n",
              "      <td>...</td>\n",
              "      <td>...</td>\n",
              "      <td>...</td>\n",
              "      <td>...</td>\n",
              "      <td>...</td>\n",
              "      <td>...</td>\n",
              "      <td>...</td>\n",
              "      <td>...</td>\n",
              "      <td>...</td>\n",
              "      <td>...</td>\n",
              "      <td>...</td>\n",
              "      <td>...</td>\n",
              "      <td>...</td>\n",
              "      <td>...</td>\n",
              "      <td>...</td>\n",
              "      <td>...</td>\n",
              "      <td>...</td>\n",
              "      <td>...</td>\n",
              "      <td>...</td>\n",
              "      <td>...</td>\n",
              "      <td>...</td>\n",
              "      <td>...</td>\n",
              "      <td>...</td>\n",
              "      <td>...</td>\n",
              "      <td>...</td>\n",
              "      <td>...</td>\n",
              "      <td>...</td>\n",
              "    </tr>\n",
              "    <tr>\n",
              "      <th>67933</th>\n",
              "      <td>NISSAN</td>\n",
              "      <td>LEAF</td>\n",
              "      <td>hatchback 5 doors.</td>\n",
              "      <td>5</td>\n",
              "      <td>2017</td>\n",
              "      <td>2018</td>\n",
              "      <td>black</td>\n",
              "      <td></td>\n",
              "      <td>150 N12</td>\n",
              "      <td>электро</td>\n",
              "      <td>https://autoru.naydex.net/1xsMU7627/eea2057RFg...</td>\n",
              "      <td>100</td>\n",
              "      <td>Electro AT (111 кВт)</td>\n",
              "      <td>HATCHBACK_5_DOORS AUTOMATIC</td>\n",
              "      <td>автоматическая</td>\n",
              "      <td>1 владелец</td>\n",
              "      <td>Оригинал</td>\n",
              "      <td>передний</td>\n",
              "      <td>Левый</td>\n",
              "      <td>Не требует ремонта</td>\n",
              "      <td>Растаможен</td>\n",
              "      <td>https://auto.ru/cars/used/sale/nissan/leaf/110...</td>\n",
              "      <td>0</td>\n",
              "      <td>test</td>\n",
              "      <td>2020</td>\n",
              "      <td>3</td>\n",
              "      <td>no</td>\n",
              "      <td>3</td>\n",
              "      <td>no</td>\n",
              "      <td>no</td>\n",
              "      <td>no</td>\n",
              "    </tr>\n",
              "    <tr>\n",
              "      <th>67965</th>\n",
              "      <td>NISSAN</td>\n",
              "      <td>LEAF</td>\n",
              "      <td>hatchback 5 doors.</td>\n",
              "      <td>5</td>\n",
              "      <td>2010</td>\n",
              "      <td>2011</td>\n",
              "      <td>light-blue</td>\n",
              "      <td></td>\n",
              "      <td>109 N12</td>\n",
              "      <td>электро</td>\n",
              "      <td>https://avatars.mds.yandex.net/get-autoru-vos/...</td>\n",
              "      <td>29500</td>\n",
              "      <td>Electro AT (81 кВт)</td>\n",
              "      <td>HATCHBACK_5_DOORS AUTOMATIC</td>\n",
              "      <td>автоматическая</td>\n",
              "      <td>1 владелец</td>\n",
              "      <td>Оригинал</td>\n",
              "      <td>передний</td>\n",
              "      <td>Правый</td>\n",
              "      <td>Не требует ремонта</td>\n",
              "      <td>Растаможен</td>\n",
              "      <td>https://auto.ru/cars/used/sale/nissan/leaf/110...</td>\n",
              "      <td>0</td>\n",
              "      <td>test</td>\n",
              "      <td>2020</td>\n",
              "      <td>10</td>\n",
              "      <td>no</td>\n",
              "      <td>10</td>\n",
              "      <td>no</td>\n",
              "      <td>no</td>\n",
              "      <td>no</td>\n",
              "    </tr>\n",
              "    <tr>\n",
              "      <th>68063</th>\n",
              "      <td>NISSAN</td>\n",
              "      <td>LEAF</td>\n",
              "      <td>hatchback 5 doors.</td>\n",
              "      <td>5</td>\n",
              "      <td>2010</td>\n",
              "      <td>2013</td>\n",
              "      <td>black</td>\n",
              "      <td></td>\n",
              "      <td>109 N12</td>\n",
              "      <td>электро</td>\n",
              "      <td>https://autoru.naydex.net/1xsMU7627/eea2057RFg...</td>\n",
              "      <td>50000</td>\n",
              "      <td>Electro AT (81 кВт)</td>\n",
              "      <td>HATCHBACK_5_DOORS AUTOMATIC</td>\n",
              "      <td>автоматическая</td>\n",
              "      <td>1 владелец</td>\n",
              "      <td>Оригинал</td>\n",
              "      <td>передний</td>\n",
              "      <td>Правый</td>\n",
              "      <td>Не требует ремонта</td>\n",
              "      <td>Растаможен</td>\n",
              "      <td>https://auto.ru/cars/used/sale/nissan/leaf/109...</td>\n",
              "      <td>0</td>\n",
              "      <td>test</td>\n",
              "      <td>2020</td>\n",
              "      <td>10</td>\n",
              "      <td>no</td>\n",
              "      <td>10</td>\n",
              "      <td>no</td>\n",
              "      <td>no</td>\n",
              "      <td>no</td>\n",
              "    </tr>\n",
              "    <tr>\n",
              "      <th>69424</th>\n",
              "      <td>MERCEDES</td>\n",
              "      <td>B_KLASSE</td>\n",
              "      <td>hatchback 5 doors.</td>\n",
              "      <td>5</td>\n",
              "      <td>2014</td>\n",
              "      <td>2016</td>\n",
              "      <td>white</td>\n",
              "      <td></td>\n",
              "      <td>179 N12</td>\n",
              "      <td>электро</td>\n",
              "      <td>https://autoru.naydex.net/O1Iap7626/e63034lCq/...</td>\n",
              "      <td>28900</td>\n",
              "      <td>250 e Electro AT (132 кВт)</td>\n",
              "      <td>HATCHBACK_5_DOORS AUTOMATIC</td>\n",
              "      <td>автоматическая</td>\n",
              "      <td>2 владельца</td>\n",
              "      <td>Оригинал</td>\n",
              "      <td>передний</td>\n",
              "      <td>Левый</td>\n",
              "      <td>Не требует ремонта</td>\n",
              "      <td>Растаможен</td>\n",
              "      <td>https://auto.ru/cars/used/sale/mercedes/b_klas...</td>\n",
              "      <td>0</td>\n",
              "      <td>test</td>\n",
              "      <td>2020</td>\n",
              "      <td>6</td>\n",
              "      <td>no</td>\n",
              "      <td>6</td>\n",
              "      <td>no</td>\n",
              "      <td>no</td>\n",
              "      <td>no</td>\n",
              "    </tr>\n",
              "    <tr>\n",
              "      <th>69769</th>\n",
              "      <td>NISSAN</td>\n",
              "      <td>LEAF</td>\n",
              "      <td>hatchback 5 doors.</td>\n",
              "      <td>5</td>\n",
              "      <td>2010</td>\n",
              "      <td>2013</td>\n",
              "      <td>black</td>\n",
              "      <td></td>\n",
              "      <td>109 N12</td>\n",
              "      <td>электро</td>\n",
              "      <td>https://autoru.naydex.net/16IvE9y79/a7f8demo/N...</td>\n",
              "      <td>103075</td>\n",
              "      <td>Electro AT (81 кВт)</td>\n",
              "      <td>HATCHBACK_5_DOORS AUTOMATIC</td>\n",
              "      <td>автоматическая</td>\n",
              "      <td>2 владельца</td>\n",
              "      <td>Оригинал</td>\n",
              "      <td>передний</td>\n",
              "      <td>Правый</td>\n",
              "      <td>Не требует ремонта</td>\n",
              "      <td>Растаможен</td>\n",
              "      <td>https://auto.ru/cars/used/sale/nissan/leaf/110...</td>\n",
              "      <td>0</td>\n",
              "      <td>test</td>\n",
              "      <td>2020</td>\n",
              "      <td>10</td>\n",
              "      <td>no</td>\n",
              "      <td>10</td>\n",
              "      <td>no</td>\n",
              "      <td>no</td>\n",
              "      <td>no</td>\n",
              "    </tr>\n",
              "  </tbody>\n",
              "</table>\n",
              "<p>127 rows × 31 columns</p>\n",
              "</div>"
            ],
            "text/plain": [
              "          brand model_name           body_type  ...  new_car  retro  raritet\n",
              "3708       AUDI      other        SUV 5 doors.  ...       no     no       no\n",
              "3931       AUDI      other        SUV 5 doors.  ...       no     no       no\n",
              "4075       AUDI      other        SUV 5 doors.  ...       no     no       no\n",
              "4161       AUDI      other        SUV 5 doors.  ...       no     no       no\n",
              "4203       AUDI      other               sedan  ...       no     no       no\n",
              "...         ...        ...                 ...  ...      ...    ...      ...\n",
              "67933    NISSAN       LEAF  hatchback 5 doors.  ...       no     no       no\n",
              "67965    NISSAN       LEAF  hatchback 5 doors.  ...       no     no       no\n",
              "68063    NISSAN       LEAF  hatchback 5 doors.  ...       no     no       no\n",
              "69424  MERCEDES   B_KLASSE  hatchback 5 doors.  ...       no     no       no\n",
              "69769    NISSAN       LEAF  hatchback 5 doors.  ...       no     no       no\n",
              "\n",
              "[127 rows x 31 columns]"
            ]
          },
          "metadata": {},
          "execution_count": 331
        }
      ]
    },
    {
      "cell_type": "code",
      "metadata": {
        "scrolled": true,
        "id": "mr6_jGdTO-Y8",
        "outputId": "b74b485f-2334-45e0-e8ba-c476cc3f2084",
        "colab": {
          "base_uri": "https://localhost:8080/"
        }
      },
      "source": [
        "data.isnull().sum()\n"
      ],
      "execution_count": 332,
      "outputs": [
        {
          "output_type": "execute_result",
          "data": {
            "text/plain": [
              "brand           0\n",
              "model_name      0\n",
              "body_type       0\n",
              "doors           0\n",
              "model_date      0\n",
              "prod_date       0\n",
              "color           0\n",
              "engine_V        0\n",
              "power           0\n",
              "fuel            0\n",
              "image           0\n",
              "mileage         0\n",
              "name            0\n",
              "config          0\n",
              "transmission    0\n",
              "owners          0\n",
              "pass            1\n",
              "drive           0\n",
              "wheel           0\n",
              "state           0\n",
              "custom          0\n",
              "car_url         0\n",
              "price           0\n",
              "test_train      0\n",
              "dataset_year    0\n",
              "model_age       0\n",
              "new_model       0\n",
              "car_age         0\n",
              "new_car         0\n",
              "retro           0\n",
              "raritet         0\n",
              "dtype: int64"
            ]
          },
          "metadata": {},
          "execution_count": 332
        }
      ]
    },
    {
      "cell_type": "code",
      "metadata": {
        "id": "0M6TnnzWO-Y8",
        "outputId": "04e140f0-b42d-4b5e-aa91-e9856362ce80",
        "colab": {
          "base_uri": "https://localhost:8080/"
        }
      },
      "source": [
        "# sort out:\n",
        "num_columns.append(\"engine_V\")\n",
        "num_columns\n"
      ],
      "execution_count": 333,
      "outputs": [
        {
          "output_type": "execute_result",
          "data": {
            "text/plain": [
              "['model_date', 'model_age', 'prod_date', 'car_age', 'engine_V']"
            ]
          },
          "metadata": {},
          "execution_count": 333
        }
      ]
    },
    {
      "cell_type": "markdown",
      "metadata": {
        "id": "_nPedMzqO-Y8"
      },
      "source": [
        "we received empty values for electrocars"
      ]
    },
    {
      "cell_type": "code",
      "metadata": {
        "id": "zBn2qXsWO-Y8"
      },
      "source": [
        "### +++++++++++++ new column +++++++++++++++"
      ],
      "execution_count": 334,
      "outputs": []
    },
    {
      "cell_type": "code",
      "metadata": {
        "id": "8v5WOKyJO-Y8",
        "outputId": "5d96688d-2b40-4e2a-a9bb-334b750964b6",
        "colab": {
          "base_uri": "https://localhost:8080/"
        }
      },
      "source": [
        "# create marker column for electrocars:\n",
        "data[\"electrocar\"] = np.where(data[\"engine_V\"]==\"\", \"yes\", \"no\")\n",
        "data.electrocar.value_counts()\n"
      ],
      "execution_count": 335,
      "outputs": [
        {
          "output_type": "execute_result",
          "data": {
            "text/plain": [
              "no     69824\n",
              "yes      127\n",
              "Name: electrocar, dtype: int64"
            ]
          },
          "metadata": {},
          "execution_count": 335
        }
      ]
    },
    {
      "cell_type": "code",
      "metadata": {
        "id": "uhDajsiXO-Y8",
        "outputId": "050d3bbb-0dd6-48e1-f487-35ab415c1181",
        "colab": {
          "base_uri": "https://localhost:8080/"
        }
      },
      "source": [
        "# sort out:\n",
        "bin_columns.append(\"electrocar\")\n",
        "bin_columns\n"
      ],
      "execution_count": 336,
      "outputs": [
        {
          "output_type": "execute_result",
          "data": {
            "text/plain": [
              "['dataset_year', 'new_model', 'new_car', 'retro', 'raritet', 'electrocar']"
            ]
          },
          "metadata": {},
          "execution_count": 336
        }
      ]
    },
    {
      "cell_type": "markdown",
      "metadata": {
        "id": "zpJVvwO6O-Y9"
      },
      "source": [
        "### 8. power"
      ]
    },
    {
      "cell_type": "code",
      "metadata": {
        "id": "OzNU5fuJO-Y9",
        "outputId": "78576f44-9470-4daf-e5fe-3322994565ac",
        "colab": {
          "base_uri": "https://localhost:8080/"
        }
      },
      "source": [
        "data.power.value_counts()\n"
      ],
      "execution_count": 337,
      "outputs": [
        {
          "output_type": "execute_result",
          "data": {
            "text/plain": [
              "150 N12    4104\n",
              "249 N12    4060\n",
              "110 N12    2557\n",
              "170 N12    1898\n",
              "140 N12    1845\n",
              "           ... \n",
              "537 N12       1\n",
              "187 N12       1\n",
              "480 N12       1\n",
              "61 N12        1\n",
              "301 N12       1\n",
              "Name: power, Length: 334, dtype: int64"
            ]
          },
          "metadata": {},
          "execution_count": 337
        }
      ]
    },
    {
      "cell_type": "code",
      "metadata": {
        "scrolled": true,
        "id": "6Xm-Us6UO-Y9",
        "outputId": "139d0076-99aa-4943-e303-9f866f800e29",
        "colab": {
          "base_uri": "https://localhost:8080/"
        }
      },
      "source": [
        "# remove \"N12\":\n",
        "data.power = data.power.apply(lambda x: str(x).replace(\" N12\", \"\")).astype(int)\n",
        "data.power.value_counts()\n"
      ],
      "execution_count": 338,
      "outputs": [
        {
          "output_type": "execute_result",
          "data": {
            "text/plain": [
              "150    4104\n",
              "249    4060\n",
              "110    2557\n",
              "170    1898\n",
              "140    1845\n",
              "       ... \n",
              "236       1\n",
              "301       1\n",
              "430       1\n",
              "324       1\n",
              "44        1\n",
              "Name: power, Length: 334, dtype: int64"
            ]
          },
          "metadata": {},
          "execution_count": 338
        }
      ]
    },
    {
      "cell_type": "code",
      "metadata": {
        "id": "S_H5hHaeO-Y9",
        "outputId": "8dd546e2-1571-4892-c422-0a61f26ac57b",
        "colab": {
          "base_uri": "https://localhost:8080/"
        }
      },
      "source": [
        "# sort out\n",
        "num_columns.append(\"power\")\n",
        "num_columns\n"
      ],
      "execution_count": 339,
      "outputs": [
        {
          "output_type": "execute_result",
          "data": {
            "text/plain": [
              "['model_date', 'model_age', 'prod_date', 'car_age', 'engine_V', 'power']"
            ]
          },
          "metadata": {},
          "execution_count": 339
        }
      ]
    },
    {
      "cell_type": "code",
      "metadata": {
        "id": "gI24aMzrO-Y9",
        "outputId": "c882e07a-9452-49ed-a53d-932e865438af",
        "colab": {
          "base_uri": "https://localhost:8080/",
          "height": 0
        }
      },
      "source": [
        "# check for empty values:\n",
        "data[data[\"power\"]==\"\"]\n"
      ],
      "execution_count": 340,
      "outputs": [
        {
          "output_type": "execute_result",
          "data": {
            "text/html": [
              "<div>\n",
              "<style scoped>\n",
              "    .dataframe tbody tr th:only-of-type {\n",
              "        vertical-align: middle;\n",
              "    }\n",
              "\n",
              "    .dataframe tbody tr th {\n",
              "        vertical-align: top;\n",
              "    }\n",
              "\n",
              "    .dataframe thead th {\n",
              "        text-align: right;\n",
              "    }\n",
              "</style>\n",
              "<table border=\"1\" class=\"dataframe\">\n",
              "  <thead>\n",
              "    <tr style=\"text-align: right;\">\n",
              "      <th></th>\n",
              "      <th>brand</th>\n",
              "      <th>model_name</th>\n",
              "      <th>body_type</th>\n",
              "      <th>doors</th>\n",
              "      <th>model_date</th>\n",
              "      <th>prod_date</th>\n",
              "      <th>color</th>\n",
              "      <th>engine_V</th>\n",
              "      <th>power</th>\n",
              "      <th>fuel</th>\n",
              "      <th>image</th>\n",
              "      <th>mileage</th>\n",
              "      <th>name</th>\n",
              "      <th>config</th>\n",
              "      <th>transmission</th>\n",
              "      <th>owners</th>\n",
              "      <th>pass</th>\n",
              "      <th>drive</th>\n",
              "      <th>wheel</th>\n",
              "      <th>state</th>\n",
              "      <th>custom</th>\n",
              "      <th>car_url</th>\n",
              "      <th>price</th>\n",
              "      <th>test_train</th>\n",
              "      <th>dataset_year</th>\n",
              "      <th>model_age</th>\n",
              "      <th>new_model</th>\n",
              "      <th>car_age</th>\n",
              "      <th>new_car</th>\n",
              "      <th>retro</th>\n",
              "      <th>raritet</th>\n",
              "      <th>electrocar</th>\n",
              "    </tr>\n",
              "  </thead>\n",
              "  <tbody>\n",
              "  </tbody>\n",
              "</table>\n",
              "</div>"
            ],
            "text/plain": [
              "Empty DataFrame\n",
              "Columns: [brand, model_name, body_type, doors, model_date, prod_date, color, engine_V, power, fuel, image, mileage, name, config, transmission, owners, pass, drive, wheel, state, custom, car_url, price, test_train, dataset_year, model_age, new_model, car_age, new_car, retro, raritet, electrocar]\n",
              "Index: []"
            ]
          },
          "metadata": {},
          "execution_count": 340
        }
      ]
    },
    {
      "cell_type": "code",
      "metadata": {
        "id": "0LNF9nVWO-Y9",
        "outputId": "9cef4d98-6dcd-479c-e942-905917d6c935",
        "colab": {
          "base_uri": "https://localhost:8080/"
        }
      },
      "source": [
        "data.power.sample(7)\n"
      ],
      "execution_count": 341,
      "outputs": [
        {
          "output_type": "execute_result",
          "data": {
            "text/plain": [
              "18252    190\n",
              "35762    152\n",
              "17876    171\n",
              "15253    184\n",
              "63238    144\n",
              "15577    245\n",
              "43865    100\n",
              "Name: power, dtype: int64"
            ]
          },
          "metadata": {},
          "execution_count": 341
        }
      ]
    },
    {
      "cell_type": "markdown",
      "metadata": {
        "id": "hXUVo6DDO-Y9"
      },
      "source": [
        "looks OK now"
      ]
    },
    {
      "cell_type": "markdown",
      "metadata": {
        "id": "EBMvRqXJO-Y9"
      },
      "source": [
        "### 9. fuel"
      ]
    },
    {
      "cell_type": "code",
      "metadata": {
        "id": "ltd2DeFYO-Y-",
        "outputId": "4b10d934-cb84-43b3-d25d-218ed87c1ee6",
        "colab": {
          "base_uri": "https://localhost:8080/"
        }
      },
      "source": [
        "data.fuel.value_counts()\n"
      ],
      "execution_count": 342,
      "outputs": [
        {
          "output_type": "execute_result",
          "data": {
            "text/plain": [
              "бензин     57409\n",
              "дизель     11415\n",
              "гибрид       992\n",
              "электро      127\n",
              "газ            8\n",
              "Name: fuel, dtype: int64"
            ]
          },
          "metadata": {},
          "execution_count": 342
        }
      ]
    },
    {
      "cell_type": "code",
      "metadata": {
        "id": "SzhntoMPO-Y-"
      },
      "source": [
        "data.fuel = data.fuel.map(\n",
        "            {\n",
        "                \"бензин\" : \"petrol\",\n",
        "                \"дизель\" : \"diesel\",\n",
        "                \"гибрид\" : \"hybrid\",\n",
        "                \"электро\" : \"electro\",\n",
        "                \"газ\" : \"gas\"\n",
        "            }\n",
        "                    )\n"
      ],
      "execution_count": 343,
      "outputs": []
    },
    {
      "cell_type": "code",
      "metadata": {
        "id": "sP_8fki2O-Y-",
        "outputId": "c89586ed-8068-435c-f3a6-37491044797a",
        "colab": {
          "base_uri": "https://localhost:8080/"
        }
      },
      "source": [
        "data.fuel.value_counts()\n"
      ],
      "execution_count": 344,
      "outputs": [
        {
          "output_type": "execute_result",
          "data": {
            "text/plain": [
              "petrol     57409\n",
              "diesel     11415\n",
              "hybrid       992\n",
              "electro      127\n",
              "gas            8\n",
              "Name: fuel, dtype: int64"
            ]
          },
          "metadata": {},
          "execution_count": 344
        }
      ]
    },
    {
      "cell_type": "markdown",
      "metadata": {
        "id": "Aj1bjJpzO-Y-"
      },
      "source": [
        "Too many petrol cars, too little of gas autos. "
      ]
    },
    {
      "cell_type": "markdown",
      "metadata": {
        "id": "UcTN0gITO-Y-"
      },
      "source": [
        "### ++++++++++++ new column ++++++++++++"
      ]
    },
    {
      "cell_type": "code",
      "metadata": {
        "id": "Yr5SSFtOO-Y-"
      },
      "source": [
        "# Add column \"petrol_car\", as it's the most wanted\n",
        "data[\"petrol_car\"] = np.where(data.fuel==\"petrol\", \"yes\", \"no\")\n"
      ],
      "execution_count": 345,
      "outputs": []
    },
    {
      "cell_type": "code",
      "metadata": {
        "id": "LRpSkv61O-Y-",
        "outputId": "c3b3406d-2544-4186-aee2-b25b625c660a",
        "colab": {
          "base_uri": "https://localhost:8080/"
        }
      },
      "source": [
        "# sort out\n",
        "cat_columns.append(\"fuel\")\n",
        "bin_columns.append(\"petrol_car\")\n",
        "[cat_columns, bin_columns, num_columns]\n"
      ],
      "execution_count": 346,
      "outputs": [
        {
          "output_type": "execute_result",
          "data": {
            "text/plain": [
              "[['brand', 'model_name', 'body_type', 'doors', 'color', 'fuel'],\n",
              " ['dataset_year',\n",
              "  'new_model',\n",
              "  'new_car',\n",
              "  'retro',\n",
              "  'raritet',\n",
              "  'electrocar',\n",
              "  'petrol_car'],\n",
              " ['model_date', 'model_age', 'prod_date', 'car_age', 'engine_V', 'power']]"
            ]
          },
          "metadata": {},
          "execution_count": 346
        }
      ]
    },
    {
      "cell_type": "markdown",
      "metadata": {
        "id": "XqYVc6x7O-Y-"
      },
      "source": [
        "### 10. image"
      ]
    },
    {
      "cell_type": "code",
      "metadata": {
        "id": "7qr6YZ7DO-Y-",
        "outputId": "732c3d55-c12a-4592-c6b5-015613edf4c0",
        "colab": {
          "base_uri": "https://localhost:8080/"
        }
      },
      "source": [
        "data.image.sample(7)\n"
      ],
      "execution_count": 347,
      "outputs": [
        {
          "output_type": "execute_result",
          "data": {
            "text/plain": [
              "62617    https://autoru.naydex.net/mcQh17801/f1b5751dCi...\n",
              "53124    https://autoru.naydex.net/mcQh17801/f1b5751dCi...\n",
              "60384    https://avatars.mds.yandex.net/get-autoru-vos/...\n",
              "10729    https://avatars.mds.yandex.net/get-autoru-vos/...\n",
              "41675    https://avatars.mds.yandex.net/get-autoru-vos/...\n",
              "3641     https://autoru.naydex.net/w17S7KB96/f11010lkSc...\n",
              "22124    https://avatars.mds.yandex.net/get-autoru-vos/...\n",
              "Name: image, dtype: object"
            ]
          },
          "metadata": {},
          "execution_count": 347
        }
      ]
    },
    {
      "cell_type": "code",
      "metadata": {
        "id": "Oeg_A9qHO-Y_",
        "outputId": "850895e3-9bd6-4249-aa54-22aa9095b126",
        "colab": {
          "base_uri": "https://localhost:8080/",
          "height": 0
        }
      },
      "source": [
        "# let's find out if there are empty or not valid values:\n",
        "data[data.image.str[:6]!=\"https:\"]\n"
      ],
      "execution_count": 348,
      "outputs": [
        {
          "output_type": "execute_result",
          "data": {
            "text/html": [
              "<div>\n",
              "<style scoped>\n",
              "    .dataframe tbody tr th:only-of-type {\n",
              "        vertical-align: middle;\n",
              "    }\n",
              "\n",
              "    .dataframe tbody tr th {\n",
              "        vertical-align: top;\n",
              "    }\n",
              "\n",
              "    .dataframe thead th {\n",
              "        text-align: right;\n",
              "    }\n",
              "</style>\n",
              "<table border=\"1\" class=\"dataframe\">\n",
              "  <thead>\n",
              "    <tr style=\"text-align: right;\">\n",
              "      <th></th>\n",
              "      <th>brand</th>\n",
              "      <th>model_name</th>\n",
              "      <th>body_type</th>\n",
              "      <th>doors</th>\n",
              "      <th>model_date</th>\n",
              "      <th>prod_date</th>\n",
              "      <th>color</th>\n",
              "      <th>engine_V</th>\n",
              "      <th>power</th>\n",
              "      <th>fuel</th>\n",
              "      <th>image</th>\n",
              "      <th>mileage</th>\n",
              "      <th>name</th>\n",
              "      <th>config</th>\n",
              "      <th>transmission</th>\n",
              "      <th>owners</th>\n",
              "      <th>pass</th>\n",
              "      <th>drive</th>\n",
              "      <th>wheel</th>\n",
              "      <th>state</th>\n",
              "      <th>custom</th>\n",
              "      <th>car_url</th>\n",
              "      <th>price</th>\n",
              "      <th>test_train</th>\n",
              "      <th>dataset_year</th>\n",
              "      <th>model_age</th>\n",
              "      <th>new_model</th>\n",
              "      <th>car_age</th>\n",
              "      <th>new_car</th>\n",
              "      <th>retro</th>\n",
              "      <th>raritet</th>\n",
              "      <th>electrocar</th>\n",
              "      <th>petrol_car</th>\n",
              "    </tr>\n",
              "  </thead>\n",
              "  <tbody>\n",
              "  </tbody>\n",
              "</table>\n",
              "</div>"
            ],
            "text/plain": [
              "Empty DataFrame\n",
              "Columns: [brand, model_name, body_type, doors, model_date, prod_date, color, engine_V, power, fuel, image, mileage, name, config, transmission, owners, pass, drive, wheel, state, custom, car_url, price, test_train, dataset_year, model_age, new_model, car_age, new_car, retro, raritet, electrocar, petrol_car]\n",
              "Index: []"
            ]
          },
          "metadata": {},
          "execution_count": 348
        }
      ]
    },
    {
      "cell_type": "code",
      "metadata": {
        "id": "pIOdSf1vO-Y_"
      },
      "source": [
        "data['image_len'] = data.image.astype(str).str.len()\n"
      ],
      "execution_count": 349,
      "outputs": []
    },
    {
      "cell_type": "code",
      "metadata": {
        "id": "g0StybfbO-Y_",
        "outputId": "63bf56b5-06c7-47f8-a9cd-621326bc436a",
        "colab": {
          "base_uri": "https://localhost:8080/"
        }
      },
      "source": [
        "data['image_len'].describe()\n"
      ],
      "execution_count": 350,
      "outputs": [
        {
          "output_type": "execute_result",
          "data": {
            "text/plain": [
              "count    69951.000000\n",
              "mean       156.511015\n",
              "std         63.468004\n",
              "min         94.000000\n",
              "25%         94.000000\n",
              "50%         95.000000\n",
              "75%        221.000000\n",
              "max        221.000000\n",
              "Name: image_len, dtype: float64"
            ]
          },
          "metadata": {},
          "execution_count": 350
        }
      ]
    },
    {
      "cell_type": "code",
      "metadata": {
        "id": "-OP6IowhO-Y_",
        "outputId": "50792ef6-fb04-4df0-9670-65b75f05b89e",
        "colab": {
          "base_uri": "https://localhost:8080/"
        }
      },
      "source": [
        "data[data.image_len==94][\"car_url\"].sample()\n"
      ],
      "execution_count": 351,
      "outputs": [
        {
          "output_type": "execute_result",
          "data": {
            "text/plain": [
              "2674    https://auto.ru/cars/used/sale/skoda/superb/11...\n",
              "Name: car_url, dtype: object"
            ]
          },
          "metadata": {},
          "execution_count": 351
        }
      ]
    },
    {
      "cell_type": "markdown",
      "metadata": {
        "id": "y3cpP-MwO-Y_"
      },
      "source": [
        "Looks like all ads have images, the colummn does not contain helpful infornation for feature analysis, will be removed "
      ]
    },
    {
      "cell_type": "markdown",
      "metadata": {
        "id": "kbpHj6RCO-Y_"
      },
      "source": [
        "### --------- remove column ---------"
      ]
    },
    {
      "cell_type": "code",
      "metadata": {
        "id": "tLy8RKbeO-Y_"
      },
      "source": [
        "# remove column:\n",
        "data.drop([\"image\"], axis=1, inplace=True)\n"
      ],
      "execution_count": 352,
      "outputs": []
    },
    {
      "cell_type": "markdown",
      "metadata": {
        "id": "hhWljaMZO-Y_"
      },
      "source": [
        "### 11. mileage"
      ]
    },
    {
      "cell_type": "code",
      "metadata": {
        "id": "RS8HbvAoO-ZA",
        "outputId": "be27d9dc-e53c-4e2d-a11c-ff083bb29052",
        "colab": {
          "base_uri": "https://localhost:8080/"
        }
      },
      "source": [
        "data.mileage.head()\n"
      ],
      "execution_count": 353,
      "outputs": [
        {
          "output_type": "execute_result",
          "data": {
            "text/plain": [
              "0    182 200 км\n",
              "1    296 000 км\n",
              "2    131 807 км\n",
              "3    192 000 км\n",
              "4    190 000 км\n",
              "Name: mileage, dtype: object"
            ]
          },
          "metadata": {},
          "execution_count": 353
        }
      ]
    },
    {
      "cell_type": "code",
      "metadata": {
        "id": "w5dsy04hO-ZA",
        "outputId": "9e6727e3-fa27-46c8-e9f8-59229420b0c3",
        "colab": {
          "base_uri": "https://localhost:8080/"
        }
      },
      "source": [
        "data.mileage.sample(10)\n"
      ],
      "execution_count": 354,
      "outputs": [
        {
          "output_type": "execute_result",
          "data": {
            "text/plain": [
              "10231    300 600 км\n",
              "7648     334 614 км\n",
              "33440    110 000 км\n",
              "66830         53898\n",
              "34812    115 000 км\n",
              "25315    222 000 км\n",
              "62259         17169\n",
              "28456    235 144 км\n",
              "25032    106 000 км\n",
              "1784     178 000 км\n",
              "Name: mileage, dtype: object"
            ]
          },
          "metadata": {},
          "execution_count": 354
        }
      ]
    },
    {
      "cell_type": "code",
      "metadata": {
        "id": "0LV58sEJO-ZA",
        "outputId": "c8374c9e-3a4e-4f84-a8a9-3ed8b48f8ff1",
        "colab": {
          "base_uri": "https://localhost:8080/",
          "height": 0
        }
      },
      "source": [
        "data.mileage[0]\n"
      ],
      "execution_count": 355,
      "outputs": [
        {
          "output_type": "execute_result",
          "data": {
            "application/vnd.google.colaboratory.intrinsic+json": {
              "type": "string"
            },
            "text/plain": [
              "'182\\xa0200\\xa0км'"
            ]
          },
          "metadata": {},
          "execution_count": 355
        }
      ]
    },
    {
      "cell_type": "markdown",
      "metadata": {
        "id": "BXh0q6mOO-ZA"
      },
      "source": [
        "data is not clean, remove spaces and letters:"
      ]
    },
    {
      "cell_type": "code",
      "metadata": {
        "id": "A5RSUl8BO-ZA"
      },
      "source": [
        "data.mileage = data.mileage.apply(\n",
        "    lambda x: str(x).replace(\"\\xa0\", \"\").replace(\"км\", \"\")\n",
        "    ).astype(int)                                           \n"
      ],
      "execution_count": 356,
      "outputs": []
    },
    {
      "cell_type": "code",
      "metadata": {
        "id": "zuVuhqeUO-ZA",
        "outputId": "c61df724-8746-4ef2-dbaf-f8d51c406f56",
        "colab": {
          "base_uri": "https://localhost:8080/"
        }
      },
      "source": [
        "data.mileage.describe()\n"
      ],
      "execution_count": 357,
      "outputs": [
        {
          "output_type": "execute_result",
          "data": {
            "text/plain": [
              "count      69951.000000\n",
              "mean      153545.958843\n",
              "std        98243.455772\n",
              "min            1.000000\n",
              "25%        82918.500000\n",
              "50%       141000.000000\n",
              "75%       205000.000000\n",
              "max      1000000.000000\n",
              "Name: mileage, dtype: float64"
            ]
          },
          "metadata": {},
          "execution_count": 357
        }
      ]
    },
    {
      "cell_type": "code",
      "metadata": {
        "id": "txbDsfROO-ZA",
        "outputId": "cdbef785-c927-499d-9a14-511eb4d9fa18",
        "colab": {
          "base_uri": "https://localhost:8080/"
        }
      },
      "source": [
        "# sort out:\n",
        "num_columns.append(\"mileage\")\n",
        "num_columns\n"
      ],
      "execution_count": 358,
      "outputs": [
        {
          "output_type": "execute_result",
          "data": {
            "text/plain": [
              "['model_date',\n",
              " 'model_age',\n",
              " 'prod_date',\n",
              " 'car_age',\n",
              " 'engine_V',\n",
              " 'power',\n",
              " 'mileage']"
            ]
          },
          "metadata": {},
          "execution_count": 358
        }
      ]
    },
    {
      "cell_type": "markdown",
      "metadata": {
        "id": "fpbP2oHHO-ZB"
      },
      "source": [
        "### 12. name"
      ]
    },
    {
      "cell_type": "code",
      "metadata": {
        "id": "W4gFT0miO-ZB",
        "outputId": "9bda2952-f99d-4423-aa39-ed3d37df4875",
        "colab": {
          "base_uri": "https://localhost:8080/"
        }
      },
      "source": [
        "data.name.sample(10)\n"
      ],
      "execution_count": 359,
      "outputs": [
        {
          "output_type": "execute_result",
          "data": {
            "text/plain": [
              "1761                1.4 MT\n",
              "35777    1.6 AT (110 л.с.)\n",
              "34445              2.4 CVT\n",
              "66130    1.9d MT (68 л.с.)\n",
              "19617               3.7 AT\n",
              "30808               1.6 AT\n",
              "16038               1.8 AT\n",
              "21470              2.0 CVT\n",
              "6905                2.4 AT\n",
              "30006              1.4 AMT\n",
              "Name: name, dtype: object"
            ]
          },
          "metadata": {},
          "execution_count": 359
        }
      ]
    },
    {
      "cell_type": "code",
      "metadata": {
        "id": "pur1Ggr-O-ZB",
        "outputId": "20abe08f-9c4f-4d88-9a05-08f8705563dc",
        "colab": {
          "base_uri": "https://localhost:8080/"
        }
      },
      "source": [
        "len(data.name.value_counts())\n"
      ],
      "execution_count": 360,
      "outputs": [
        {
          "output_type": "execute_result",
          "data": {
            "text/plain": [
              "2905"
            ]
          },
          "metadata": {},
          "execution_count": 360
        }
      ]
    },
    {
      "cell_type": "code",
      "metadata": {
        "id": "qkibMBTaO-ZB",
        "outputId": "2cc25c52-2334-452f-9ad1-593c8605b5a3",
        "colab": {
          "base_uri": "https://localhost:8080/",
          "height": 0
        }
      },
      "source": [
        "data[[\"engine_V\", \"transmission\", \"name\", \"power\"]].sample(10)\n"
      ],
      "execution_count": 361,
      "outputs": [
        {
          "output_type": "execute_result",
          "data": {
            "text/html": [
              "<div>\n",
              "<style scoped>\n",
              "    .dataframe tbody tr th:only-of-type {\n",
              "        vertical-align: middle;\n",
              "    }\n",
              "\n",
              "    .dataframe tbody tr th {\n",
              "        vertical-align: top;\n",
              "    }\n",
              "\n",
              "    .dataframe thead th {\n",
              "        text-align: right;\n",
              "    }\n",
              "</style>\n",
              "<table border=\"1\" class=\"dataframe\">\n",
              "  <thead>\n",
              "    <tr style=\"text-align: right;\">\n",
              "      <th></th>\n",
              "      <th>engine_V</th>\n",
              "      <th>transmission</th>\n",
              "      <th>name</th>\n",
              "      <th>power</th>\n",
              "    </tr>\n",
              "  </thead>\n",
              "  <tbody>\n",
              "    <tr>\n",
              "      <th>59363</th>\n",
              "      <td>2.0</td>\n",
              "      <td>роботизированная</td>\n",
              "      <td>Long 2.0d AMT (140 л.с.)</td>\n",
              "      <td>140</td>\n",
              "    </tr>\n",
              "    <tr>\n",
              "      <th>11212</th>\n",
              "      <td>2.5</td>\n",
              "      <td>автоматическая</td>\n",
              "      <td>2.5 AT</td>\n",
              "      <td>210</td>\n",
              "    </tr>\n",
              "    <tr>\n",
              "      <th>2682</th>\n",
              "      <td>1.6</td>\n",
              "      <td>механическая</td>\n",
              "      <td>1.6 MT</td>\n",
              "      <td>102</td>\n",
              "    </tr>\n",
              "    <tr>\n",
              "      <th>49666</th>\n",
              "      <td>1.5</td>\n",
              "      <td>механическая</td>\n",
              "      <td>1.5 MT (90 л.с.)</td>\n",
              "      <td>90</td>\n",
              "    </tr>\n",
              "    <tr>\n",
              "      <th>61238</th>\n",
              "      <td>2.0</td>\n",
              "      <td>автоматическая</td>\n",
              "      <td>2.0d AT (140 л.с.) 4WD</td>\n",
              "      <td>140</td>\n",
              "    </tr>\n",
              "    <tr>\n",
              "      <th>50736</th>\n",
              "      <td>2.1</td>\n",
              "      <td>автоматическая</td>\n",
              "      <td>250 d 2.1d AT (204 л.с.) 4WD</td>\n",
              "      <td>204</td>\n",
              "    </tr>\n",
              "    <tr>\n",
              "      <th>47483</th>\n",
              "      <td>1.6</td>\n",
              "      <td>механическая</td>\n",
              "      <td>1.6 MT (97 л.с.)</td>\n",
              "      <td>97</td>\n",
              "    </tr>\n",
              "    <tr>\n",
              "      <th>50807</th>\n",
              "      <td>3.0</td>\n",
              "      <td>автоматическая</td>\n",
              "      <td>400 Long 3.0 AT (333 л.с.) 4WD</td>\n",
              "      <td>333</td>\n",
              "    </tr>\n",
              "    <tr>\n",
              "      <th>49072</th>\n",
              "      <td>2.0</td>\n",
              "      <td>механическая</td>\n",
              "      <td>2.0 MT (141 л.с.) 4WD</td>\n",
              "      <td>141</td>\n",
              "    </tr>\n",
              "    <tr>\n",
              "      <th>51106</th>\n",
              "      <td>2.9</td>\n",
              "      <td>автоматическая</td>\n",
              "      <td>400 d 2.9d AT (340 л.с.) 4WD</td>\n",
              "      <td>340</td>\n",
              "    </tr>\n",
              "  </tbody>\n",
              "</table>\n",
              "</div>"
            ],
            "text/plain": [
              "      engine_V      transmission                            name  power\n",
              "59363      2.0  роботизированная        Long 2.0d AMT (140 л.с.)    140\n",
              "11212      2.5    автоматическая                          2.5 AT    210\n",
              "2682       1.6      механическая                          1.6 MT    102\n",
              "49666      1.5      механическая                1.5 MT (90 л.с.)     90\n",
              "61238      2.0    автоматическая          2.0d AT (140 л.с.) 4WD    140\n",
              "50736      2.1    автоматическая    250 d 2.1d AT (204 л.с.) 4WD    204\n",
              "47483      1.6      механическая                1.6 MT (97 л.с.)     97\n",
              "50807      3.0    автоматическая  400 Long 3.0 AT (333 л.с.) 4WD    333\n",
              "49072      2.0      механическая           2.0 MT (141 л.с.) 4WD    141\n",
              "51106      2.9    автоматическая    400 d 2.9d AT (340 л.с.) 4WD    340"
            ]
          },
          "metadata": {},
          "execution_count": 361
        }
      ]
    },
    {
      "cell_type": "markdown",
      "metadata": {
        "id": "b59yIrhnO-ZB"
      },
      "source": [
        "Too many different values, column includes engine_V, transmission, power and drive. Can be deleted."
      ]
    },
    {
      "cell_type": "markdown",
      "metadata": {
        "id": "9dT9SUAVO-ZB"
      },
      "source": [
        "### --------- remove column ---------"
      ]
    },
    {
      "cell_type": "code",
      "metadata": {
        "id": "9phvN4moO-ZB"
      },
      "source": [
        "data.drop([\"name\"], axis=1, inplace=True)\n"
      ],
      "execution_count": 362,
      "outputs": []
    },
    {
      "cell_type": "markdown",
      "metadata": {
        "id": "KYJnPyenO-ZC"
      },
      "source": [
        "### 13. config\n"
      ]
    },
    {
      "cell_type": "code",
      "metadata": {
        "id": "LxUBsC8uO-ZC",
        "outputId": "d4ad7b11-65e9-4711-8336-7afedbdbb22f",
        "colab": {
          "base_uri": "https://localhost:8080/"
        }
      },
      "source": [
        "data.config.sample(10)\n"
      ],
      "execution_count": 363,
      "outputs": [
        {
          "output_type": "execute_result",
          "data": {
            "text/plain": [
              "36989      WAGON_5_DOORS AUTOMATIC 1.8\n",
              "44544    ALLROAD_5_DOORS AUTOMATIC 3.0\n",
              "35606           LIFTBACK AUTOMATIC 1.6\n",
              "60527              SEDAN AUTOMATIC 1.8\n",
              "28241              SEDAN AUTOMATIC 2.5\n",
              "20166    ALLROAD_5_DOORS AUTOMATIC 3.7\n",
              "51135              SEDAN AUTOMATIC 3.0\n",
              "14367              SEDAN AUTOMATIC 2.0\n",
              "54682     ALLROAD_5_DOORS VARIATOR 1.2\n",
              "39002              SEDAN AUTOMATIC 4.2\n",
              "Name: config, dtype: object"
            ]
          },
          "metadata": {},
          "execution_count": 363
        }
      ]
    },
    {
      "cell_type": "markdown",
      "metadata": {
        "id": "GqCAV6XZO-ZC"
      },
      "source": [
        "contains other columns, will be removed"
      ]
    },
    {
      "cell_type": "markdown",
      "metadata": {
        "id": "fnbYws6oO-ZC"
      },
      "source": [
        "### --------- remove column ---------"
      ]
    },
    {
      "cell_type": "code",
      "metadata": {
        "id": "VG2DeNfZO-ZC"
      },
      "source": [
        "data.drop([\"config\"], axis=1, inplace=True)\n"
      ],
      "execution_count": 364,
      "outputs": []
    },
    {
      "cell_type": "markdown",
      "metadata": {
        "id": "OeJRMLnxO-ZC"
      },
      "source": [
        "### 14. transmission"
      ]
    },
    {
      "cell_type": "code",
      "metadata": {
        "id": "a4eAGgKkO-ZC",
        "outputId": "f85393fd-a051-4efe-b5e1-c21e15b801de",
        "colab": {
          "base_uri": "https://localhost:8080/"
        }
      },
      "source": [
        "data.transmission.value_counts()\n"
      ],
      "execution_count": 365,
      "outputs": [
        {
          "output_type": "execute_result",
          "data": {
            "text/plain": [
              "автоматическая      39203\n",
              "механическая        13287\n",
              "вариатор             9211\n",
              "роботизированная     8250\n",
              "Name: transmission, dtype: int64"
            ]
          },
          "metadata": {},
          "execution_count": 365
        }
      ]
    },
    {
      "cell_type": "code",
      "metadata": {
        "id": "TE8sKyNKO-ZD",
        "outputId": "aa59fd63-8bbf-4d8d-9ca1-abce4781fddc",
        "colab": {
          "base_uri": "https://localhost:8080/"
        }
      },
      "source": [
        "# map values:\n",
        "data.transmission = data.transmission.map(\n",
        "            {\"автоматическая\" : \"AT\",\n",
        "            \"механическая\" : \"MT\",\n",
        "            \"вариатор\" : \"CVT\",\n",
        "            \"роботизированная\" : \"AMT\"}\n",
        ")\n",
        "\n",
        "data.transmission.value_counts()\n"
      ],
      "execution_count": 366,
      "outputs": [
        {
          "output_type": "execute_result",
          "data": {
            "text/plain": [
              "AT     39203\n",
              "MT     13287\n",
              "CVT     9211\n",
              "AMT     8250\n",
              "Name: transmission, dtype: int64"
            ]
          },
          "metadata": {},
          "execution_count": 366
        }
      ]
    },
    {
      "cell_type": "code",
      "metadata": {
        "id": "OmOsrr-QO-ZD",
        "outputId": "6e277fcf-5da5-4495-cc01-5518e5d3aee4",
        "colab": {
          "base_uri": "https://localhost:8080/"
        }
      },
      "source": [
        "# sort out:\n",
        "cat_columns.append(\"transmission\")\n",
        "cat_columns\n"
      ],
      "execution_count": 367,
      "outputs": [
        {
          "output_type": "execute_result",
          "data": {
            "text/plain": [
              "['brand', 'model_name', 'body_type', 'doors', 'color', 'fuel', 'transmission']"
            ]
          },
          "metadata": {},
          "execution_count": 367
        }
      ]
    },
    {
      "cell_type": "markdown",
      "metadata": {
        "id": "VIWeQeXeO-ZD"
      },
      "source": [
        "### 15. owners"
      ]
    },
    {
      "cell_type": "code",
      "metadata": {
        "id": "AJwUNHPLO-ZD",
        "outputId": "47cc9158-3320-439e-8e4a-5f18b5bbcd6b",
        "colab": {
          "base_uri": "https://localhost:8080/"
        }
      },
      "source": [
        "data.owners.value_counts()\n"
      ],
      "execution_count": 368,
      "outputs": [
        {
          "output_type": "execute_result",
          "data": {
            "text/plain": [
              "3 или более    31221\n",
              "1 владелец     21146\n",
              "2 владельца    17584\n",
              "Name: owners, dtype: int64"
            ]
          },
          "metadata": {},
          "execution_count": 368
        }
      ]
    },
    {
      "cell_type": "code",
      "metadata": {
        "id": "hTFbEdZuO-ZD",
        "outputId": "9680db87-6b37-4f97-da3b-3ce66055393e",
        "colab": {
          "base_uri": "https://localhost:8080/"
        }
      },
      "source": [
        "data.owners.value_counts().keys()[0],\\\n",
        "data.owners.value_counts().keys()[1],\\\n",
        "data.owners.value_counts().keys()[2]\n"
      ],
      "execution_count": 369,
      "outputs": [
        {
          "output_type": "execute_result",
          "data": {
            "text/plain": [
              "('3 или более', '1\\xa0владелец', '2\\xa0владельца')"
            ]
          },
          "metadata": {},
          "execution_count": 369
        }
      ]
    },
    {
      "cell_type": "markdown",
      "metadata": {
        "id": "v52wxAdvO-ZE"
      },
      "source": [
        "Column contains 3 values. As 1 owner is super good, add a flag to a car record: column \"1_owner\" "
      ]
    },
    {
      "cell_type": "code",
      "metadata": {
        "id": "E0CBUerjO-ZE",
        "outputId": "fa150766-0008-4397-d218-fb1b6f2a1781",
        "colab": {
          "base_uri": "https://localhost:8080/"
        }
      },
      "source": [
        "dict_owners = {\"3 или более\":3, \"1\\xa0владелец\": 1, \"2\\xa0владельца\":2}\n",
        "data.owners = data.owners.map(dict_owners)\n",
        "data.owners.value_counts()\n"
      ],
      "execution_count": 370,
      "outputs": [
        {
          "output_type": "execute_result",
          "data": {
            "text/plain": [
              "3    31221\n",
              "1    21146\n",
              "2    17584\n",
              "Name: owners, dtype: int64"
            ]
          },
          "metadata": {},
          "execution_count": 370
        }
      ]
    },
    {
      "cell_type": "code",
      "metadata": {
        "id": "S_rfzhABO-ZE"
      },
      "source": [
        "data[\"1_owner\"] = np.where(data.owners==1, \"yes\", \"no\")\n"
      ],
      "execution_count": 371,
      "outputs": []
    },
    {
      "cell_type": "code",
      "metadata": {
        "id": "Ch48TJRgO-ZE",
        "outputId": "24f0b1e9-0c9f-45f5-d2dc-977ca81f9579",
        "colab": {
          "base_uri": "https://localhost:8080/"
        }
      },
      "source": [
        "# sort out:\n",
        "cat_columns.append(\"owners\")\n",
        "bin_columns.append(\"1_owner\")\n",
        "[cat_columns, bin_columns]\n"
      ],
      "execution_count": 372,
      "outputs": [
        {
          "output_type": "execute_result",
          "data": {
            "text/plain": [
              "[['brand',\n",
              "  'model_name',\n",
              "  'body_type',\n",
              "  'doors',\n",
              "  'color',\n",
              "  'fuel',\n",
              "  'transmission',\n",
              "  'owners'],\n",
              " ['dataset_year',\n",
              "  'new_model',\n",
              "  'new_car',\n",
              "  'retro',\n",
              "  'raritet',\n",
              "  'electrocar',\n",
              "  'petrol_car',\n",
              "  '1_owner']]"
            ]
          },
          "metadata": {},
          "execution_count": 372
        }
      ]
    },
    {
      "cell_type": "markdown",
      "metadata": {
        "id": "BF9XpPvtO-ZE"
      },
      "source": [
        "### 16. pass\n"
      ]
    },
    {
      "cell_type": "code",
      "metadata": {
        "id": "VTT6q3uKO-ZF",
        "outputId": "0a17b04e-4c0e-463f-e12a-8d452f9cf7a4",
        "colab": {
          "base_uri": "https://localhost:8080/"
        }
      },
      "source": [
        "data[\"pass\"].value_counts()\n"
      ],
      "execution_count": 373,
      "outputs": [
        {
          "output_type": "execute_result",
          "data": {
            "text/plain": [
              "Оригинал    60310\n",
              "Дубликат     9640\n",
              "Name: pass, dtype: int64"
            ]
          },
          "metadata": {},
          "execution_count": 373
        }
      ]
    },
    {
      "cell_type": "markdown",
      "metadata": {
        "id": "73wOSneJO-ZF"
      },
      "source": [
        "column contains 2 values, convert it into a flag: 1 for original passport"
      ]
    },
    {
      "cell_type": "code",
      "metadata": {
        "id": "A7y4uk7rO-ZG",
        "outputId": "4cfd9300-1177-4519-e596-8618775a5d68",
        "colab": {
          "base_uri": "https://localhost:8080/"
        }
      },
      "source": [
        "data[\"pass\"] = data[\"pass\"].map({\"Оригинал\":\"Original\", \"Дубликат\":\"Duplicate\"})\n",
        "data[\"pass\"].value_counts()\n"
      ],
      "execution_count": 374,
      "outputs": [
        {
          "output_type": "execute_result",
          "data": {
            "text/plain": [
              "Original     60310\n",
              "Duplicate     9640\n",
              "Name: pass, dtype: int64"
            ]
          },
          "metadata": {},
          "execution_count": 374
        }
      ]
    },
    {
      "cell_type": "code",
      "metadata": {
        "id": "gGQpSfweO-ZG",
        "outputId": "51696a4a-09d7-4b5a-e602-2c04d05bf546",
        "colab": {
          "base_uri": "https://localhost:8080/"
        }
      },
      "source": [
        "# sort out:\n",
        "bin_columns.append(\"pass\")\n",
        "bin_columns\n"
      ],
      "execution_count": 375,
      "outputs": [
        {
          "output_type": "execute_result",
          "data": {
            "text/plain": [
              "['dataset_year',\n",
              " 'new_model',\n",
              " 'new_car',\n",
              " 'retro',\n",
              " 'raritet',\n",
              " 'electrocar',\n",
              " 'petrol_car',\n",
              " '1_owner',\n",
              " 'pass']"
            ]
          },
          "metadata": {},
          "execution_count": 375
        }
      ]
    },
    {
      "cell_type": "markdown",
      "metadata": {
        "id": "NcTcbZLUO-ZG"
      },
      "source": [
        "### 17. drive"
      ]
    },
    {
      "cell_type": "code",
      "metadata": {
        "id": "GTjpHIRXO-ZG",
        "outputId": "bbc68cbe-d2e2-4761-9d64-e62c13b0d7c1",
        "colab": {
          "base_uri": "https://localhost:8080/"
        }
      },
      "source": [
        "data[\"drive\"].value_counts()\n"
      ],
      "execution_count": 376,
      "outputs": [
        {
          "output_type": "execute_result",
          "data": {
            "text/plain": [
              "полный      32569\n",
              "передний    30711\n",
              "задний       6671\n",
              "Name: drive, dtype: int64"
            ]
          },
          "metadata": {},
          "execution_count": 376
        }
      ]
    },
    {
      "cell_type": "markdown",
      "metadata": {
        "id": "l4M-D68jO-ZG"
      },
      "source": [
        "not much of rare drive cars... not suitable for winter...  process as category feature:"
      ]
    },
    {
      "cell_type": "code",
      "metadata": {
        "id": "VNvH-UraO-ZG",
        "outputId": "ab09939a-263e-4e54-bffe-034937c00b1b",
        "colab": {
          "base_uri": "https://localhost:8080/"
        }
      },
      "source": [
        "data[\"drive\"] = data[\"drive\"].map({\"передний\":\"FWD\", \"полный\":\"4WD\", \"задний\":\"RWD\"})\n",
        "data[\"drive\"].value_counts()\n"
      ],
      "execution_count": 377,
      "outputs": [
        {
          "output_type": "execute_result",
          "data": {
            "text/plain": [
              "4WD    32569\n",
              "FWD    30711\n",
              "RWD     6671\n",
              "Name: drive, dtype: int64"
            ]
          },
          "metadata": {},
          "execution_count": 377
        }
      ]
    },
    {
      "cell_type": "code",
      "metadata": {
        "id": "k03Wsm5pO-ZG",
        "outputId": "6d26e837-34f8-4df1-fda4-561e9ab779ba",
        "colab": {
          "base_uri": "https://localhost:8080/"
        }
      },
      "source": [
        "cat_columns.append(\"drive\")\n",
        "cat_columns\n"
      ],
      "execution_count": 378,
      "outputs": [
        {
          "output_type": "execute_result",
          "data": {
            "text/plain": [
              "['brand',\n",
              " 'model_name',\n",
              " 'body_type',\n",
              " 'doors',\n",
              " 'color',\n",
              " 'fuel',\n",
              " 'transmission',\n",
              " 'owners',\n",
              " 'drive']"
            ]
          },
          "metadata": {},
          "execution_count": 378
        }
      ]
    },
    {
      "cell_type": "markdown",
      "metadata": {
        "id": "tkA8L3ClO-ZH"
      },
      "source": [
        "### 18. wheel"
      ]
    },
    {
      "cell_type": "code",
      "metadata": {
        "id": "eeKIU5qJO-ZH",
        "outputId": "b81b5716-dff0-44ae-ad78-ce8e3e7f2ed1",
        "colab": {
          "base_uri": "https://localhost:8080/"
        }
      },
      "source": [
        "data.wheel.value_counts()\n"
      ],
      "execution_count": 379,
      "outputs": [
        {
          "output_type": "execute_result",
          "data": {
            "text/plain": [
              "Левый     65907\n",
              "Правый     4044\n",
              "Name: wheel, dtype: int64"
            ]
          },
          "metadata": {},
          "execution_count": 379
        }
      ]
    },
    {
      "cell_type": "markdown",
      "metadata": {
        "id": "I3PdBccIO-ZH"
      },
      "source": [
        "binary feature, left steeering wheel will map to 1:"
      ]
    },
    {
      "cell_type": "code",
      "metadata": {
        "id": "-U-3Ue4HO-ZH",
        "outputId": "e5109fab-c641-4d99-d5c7-37f3a5a17534",
        "colab": {
          "base_uri": "https://localhost:8080/"
        }
      },
      "source": [
        "data[\"wheel\"] = data[\"wheel\"].map({\"Левый\": \"Left\", \"Правый\":\"Right\"})\n",
        "data[\"wheel\"].value_counts()\n"
      ],
      "execution_count": 380,
      "outputs": [
        {
          "output_type": "execute_result",
          "data": {
            "text/plain": [
              "Left     65907\n",
              "Right     4044\n",
              "Name: wheel, dtype: int64"
            ]
          },
          "metadata": {},
          "execution_count": 380
        }
      ]
    },
    {
      "cell_type": "code",
      "metadata": {
        "id": "-dC-84GxO-ZH",
        "outputId": "f2f4d447-bc39-4f43-e28b-38e8fdb125aa",
        "colab": {
          "base_uri": "https://localhost:8080/"
        }
      },
      "source": [
        "bin_columns.append(\"wheel\")\n",
        "bin_columns\n"
      ],
      "execution_count": 381,
      "outputs": [
        {
          "output_type": "execute_result",
          "data": {
            "text/plain": [
              "['dataset_year',\n",
              " 'new_model',\n",
              " 'new_car',\n",
              " 'retro',\n",
              " 'raritet',\n",
              " 'electrocar',\n",
              " 'petrol_car',\n",
              " '1_owner',\n",
              " 'pass',\n",
              " 'wheel']"
            ]
          },
          "metadata": {},
          "execution_count": 381
        }
      ]
    },
    {
      "cell_type": "markdown",
      "metadata": {
        "id": "LJVI-Bo8O-ZH"
      },
      "source": [
        "### 19. state"
      ]
    },
    {
      "cell_type": "code",
      "metadata": {
        "id": "l-Zi-z25O-ZH",
        "outputId": "3961240f-d055-45e8-f4ef-07d194df7e36",
        "colab": {
          "base_uri": "https://localhost:8080/"
        }
      },
      "source": [
        "data.state.value_counts()\n"
      ],
      "execution_count": 382,
      "outputs": [
        {
          "output_type": "execute_result",
          "data": {
            "text/plain": [
              "Не требует ремонта    69947\n",
              "Битый / не на ходу        4\n",
              "Name: state, dtype: int64"
            ]
          },
          "metadata": {},
          "execution_count": 382
        }
      ]
    },
    {
      "cell_type": "markdown",
      "metadata": {
        "id": "9cwn0YyFO-ZI"
      },
      "source": [
        "binary feature, the second value is too rare, but really important, it can 10 times reduce the price"
      ]
    },
    {
      "cell_type": "markdown",
      "metadata": {
        "id": "OPJVh77pO-ZI"
      },
      "source": [
        "### ------------------ remove column -------------------"
      ]
    },
    {
      "cell_type": "code",
      "metadata": {
        "id": "fGa6Y2XxO-ZI"
      },
      "source": [
        "# negative value for this column will significantly reduce price,\n",
        "# but it is too rare be counted:\n",
        "data.drop(\"state\", axis=1, inplace=True)\n"
      ],
      "execution_count": 383,
      "outputs": []
    },
    {
      "cell_type": "markdown",
      "metadata": {
        "id": "tNOJXi8TO-ZI"
      },
      "source": [
        "### 20. custom"
      ]
    },
    {
      "cell_type": "code",
      "metadata": {
        "id": "WlD47NOXO-ZI",
        "outputId": "591542f8-1604-4120-e1d5-393e41fa202f",
        "colab": {
          "base_uri": "https://localhost:8080/"
        }
      },
      "source": [
        "data.custom.value_counts()\n"
      ],
      "execution_count": 384,
      "outputs": [
        {
          "output_type": "execute_result",
          "data": {
            "text/plain": [
              "Растаможен       69950\n",
              "Не растаможен        1\n",
              "Name: custom, dtype: int64"
            ]
          },
          "metadata": {},
          "execution_count": 384
        }
      ]
    },
    {
      "cell_type": "markdown",
      "metadata": {
        "id": "V6fI5cnuO-ZI"
      },
      "source": [
        "### ------------------ remove column -------------------"
      ]
    },
    {
      "cell_type": "code",
      "metadata": {
        "id": "GkekKzjHO-ZI"
      },
      "source": [
        "# negative value for this column will significantly reduce price,\n",
        "# but it is too rare be counted:\n",
        "data.drop(\"custom\", axis=1, inplace=True)\n"
      ],
      "execution_count": 385,
      "outputs": []
    },
    {
      "cell_type": "markdown",
      "metadata": {
        "id": "lOGBUxeqO-ZI"
      },
      "source": [
        "### 21. car_url"
      ]
    },
    {
      "cell_type": "markdown",
      "metadata": {
        "id": "x7bRnAhPO-ZI"
      },
      "source": [
        "not neede for analysis, delete:"
      ]
    },
    {
      "cell_type": "code",
      "metadata": {
        "id": "eLcrZ5aTO-ZI"
      },
      "source": [
        "data.drop(\"car_url\", axis=1, inplace=True)\n"
      ],
      "execution_count": 386,
      "outputs": []
    },
    {
      "cell_type": "markdown",
      "metadata": {
        "id": "Up5TdtC-O-ZJ"
      },
      "source": [
        "### 22. price"
      ]
    },
    {
      "cell_type": "code",
      "metadata": {
        "id": "nuN2BLJhO-ZJ",
        "outputId": "069cb3f1-d580-40cb-9944-8ad5ea992422",
        "colab": {
          "base_uri": "https://localhost:8080/"
        }
      },
      "source": [
        "data.price.sample(10)\n"
      ],
      "execution_count": 387,
      "outputs": [
        {
          "output_type": "execute_result",
          "data": {
            "text/plain": [
              "49740              0\n",
              "39827              0\n",
              "55748              0\n",
              "58194              0\n",
              "17379      240 000 ₽\n",
              "17933    1 084 000 ₽\n",
              "69416              0\n",
              "64713              0\n",
              "36383              0\n",
              "21057      370 000 ₽\n",
              "Name: price, dtype: object"
            ]
          },
          "metadata": {},
          "execution_count": 387
        }
      ]
    },
    {
      "cell_type": "markdown",
      "metadata": {
        "id": "AxCaaQuOO-ZJ"
      },
      "source": [
        "contains 0-values, hopefully all from test dataset, let's take a look:"
      ]
    },
    {
      "cell_type": "code",
      "metadata": {
        "id": "23cnU3QoO-ZJ",
        "outputId": "628e64c9-8a77-4a83-df16-5fc1cf5cc91a",
        "colab": {
          "base_uri": "https://localhost:8080/"
        }
      },
      "source": [
        "len(data[(data.price==0 )& (data.test_train==\"train\")]), len(df_test)\n"
      ],
      "execution_count": 388,
      "outputs": [
        {
          "output_type": "execute_result",
          "data": {
            "text/plain": [
              "(0, 34686)"
            ]
          },
          "metadata": {},
          "execution_count": 388
        }
      ]
    },
    {
      "cell_type": "markdown",
      "metadata": {
        "id": "2PuEr7eqO-ZJ"
      },
      "source": [
        "Train dataset doesn't contain 0 as a target value - OK"
      ]
    },
    {
      "cell_type": "code",
      "metadata": {
        "id": "7Atklj61O-ZK",
        "outputId": "6ac137aa-63dc-4109-f017-ebd0c70c13f0",
        "colab": {
          "base_uri": "https://localhost:8080/"
        }
      },
      "source": [
        "# take a deeper look at values:\n",
        "data.price[0], data.price[1], data.price[3]\n"
      ],
      "execution_count": 389,
      "outputs": [
        {
          "output_type": "execute_result",
          "data": {
            "text/plain": [
              "('370\\xa0000\\xa0₽', '155\\xa0000\\xa0₽', '470\\xa0000\\xa0₽')"
            ]
          },
          "metadata": {},
          "execution_count": 389
        }
      ]
    },
    {
      "cell_type": "markdown",
      "metadata": {
        "id": "C2KY-6SRO-ZK"
      },
      "source": [
        "Ooooopsss! Needs to be corrected"
      ]
    },
    {
      "cell_type": "code",
      "metadata": {
        "id": "b2DyFPENO-ZK",
        "outputId": "9b899723-7593-4251-a5fa-621d56c71df1",
        "colab": {
          "base_uri": "https://localhost:8080/"
        }
      },
      "source": [
        "data.price = data.price.astype(str)\n",
        "data.price = data[\"price\"].apply(lambda x: x.replace(\"\\xa0\", \"\").replace(\"₽\", \"\"))   \n",
        "data.price = data.price.astype(int)\n",
        "data.price.sample(10)\n"
      ],
      "execution_count": 390,
      "outputs": [
        {
          "output_type": "execute_result",
          "data": {
            "text/plain": [
              "29917    1130000\n",
              "35801          0\n",
              "49242          0\n",
              "23552    1478000\n",
              "65936          0\n",
              "57119          0\n",
              "2930      538000\n",
              "51329          0\n",
              "7088      369000\n",
              "4874     2397000\n",
              "Name: price, dtype: int64"
            ]
          },
          "metadata": {},
          "execution_count": 390
        }
      ]
    },
    {
      "cell_type": "code",
      "metadata": {
        "id": "LNsyZZgwO-ZK",
        "outputId": "0d303dc5-9599-4775-a077-4820a7dd3cd8",
        "colab": {
          "base_uri": "https://localhost:8080/"
        }
      },
      "source": [
        "data[data.price==0].test_train.value_counts()\n"
      ],
      "execution_count": 391,
      "outputs": [
        {
          "output_type": "execute_result",
          "data": {
            "text/plain": [
              "test    34686\n",
              "Name: test_train, dtype: int64"
            ]
          },
          "metadata": {},
          "execution_count": 391
        }
      ]
    },
    {
      "cell_type": "markdown",
      "metadata": {
        "id": "OD-XzTGVO-ZL"
      },
      "source": [
        "Price column looks OK now"
      ]
    },
    {
      "cell_type": "markdown",
      "metadata": {
        "id": "TuEvCCYpO-ZL"
      },
      "source": [
        "### !!! For this column, will try to apply scaling, to take inflation into account"
      ]
    },
    {
      "cell_type": "code",
      "metadata": {
        "id": "va7ZeESqO-ZL"
      },
      "source": [
        ""
      ],
      "execution_count": 391,
      "outputs": []
    },
    {
      "cell_type": "markdown",
      "metadata": {
        "id": "VW0k-6OwO-ZL"
      },
      "source": [
        "validate column lists:\n"
      ]
    },
    {
      "cell_type": "code",
      "metadata": {
        "id": "m2DWgxtpO-ZL"
      },
      "source": [
        "all_columns = list(data.columns)\n",
        "num_columns = list(set(num_columns))\n",
        "cat_columns = list(set(cat_columns))\n",
        "bin_columns = list(set(bin_columns))\n"
      ],
      "execution_count": 392,
      "outputs": []
    },
    {
      "cell_type": "code",
      "metadata": {
        "id": "2C74Sj9PO-ZL",
        "outputId": "ed5800a7-166b-4a1c-8f5a-a0856adcb870",
        "colab": {
          "base_uri": "https://localhost:8080/"
        }
      },
      "source": [
        "print(\"num_columns:\", num_columns)\n",
        "print(\"cat_columns:\", cat_columns)\n",
        "print(\"bin_columns:\", bin_columns)\n"
      ],
      "execution_count": 393,
      "outputs": [
        {
          "output_type": "stream",
          "name": "stdout",
          "text": [
            "num_columns: ['car_age', 'power', 'engine_V', 'model_date', 'model_age', 'mileage', 'prod_date']\n",
            "cat_columns: ['body_type', 'fuel', 'model_name', 'brand', 'drive', 'doors', 'color', 'owners', 'transmission']\n",
            "bin_columns: ['new_car', 'new_model', 'dataset_year', 'pass', 'retro', '1_owner', 'wheel', 'electrocar', 'raritet', 'petrol_car']\n"
          ]
        }
      ]
    },
    {
      "cell_type": "code",
      "metadata": {
        "id": "R8KswBAfO-ZL",
        "outputId": "3eb36763-69b5-4da3-d30f-1a02c5f61599",
        "colab": {
          "base_uri": "https://localhost:8080/"
        }
      },
      "source": [
        "(set(num_columns) | set(cat_columns) | set(bin_columns)) - set(all_columns)\n"
      ],
      "execution_count": 394,
      "outputs": [
        {
          "output_type": "execute_result",
          "data": {
            "text/plain": [
              "set()"
            ]
          },
          "metadata": {},
          "execution_count": 394
        }
      ]
    },
    {
      "cell_type": "code",
      "metadata": {
        "id": "n5B-QSraO-ZL",
        "outputId": "048c7712-32d5-47d5-fd74-82ef705abfd8",
        "colab": {
          "base_uri": "https://localhost:8080/"
        }
      },
      "source": [
        "set(all_columns) - (set(num_columns) | set(cat_columns) | set(bin_columns))\n"
      ],
      "execution_count": 395,
      "outputs": [
        {
          "output_type": "execute_result",
          "data": {
            "text/plain": [
              "{'image_len', 'price', 'test_train'}"
            ]
          },
          "metadata": {},
          "execution_count": 395
        }
      ]
    },
    {
      "cell_type": "code",
      "metadata": {
        "id": "rMzVZvCGO-ZM"
      },
      "source": [
        "# we need price and test_train, remove image_len:\n",
        "data.drop(\"image_len\", axis=1, inplace=True)\n",
        "# Columns \"custom\" and \"state\" \"Not OK\" values will significantly \n",
        "# reduce the price But, as not_OK values are too rare, columns will be removed\n",
        "\n",
        "\n"
      ],
      "execution_count": 396,
      "outputs": []
    },
    {
      "cell_type": "markdown",
      "metadata": {
        "id": "70womhZhO-ZM"
      },
      "source": [
        "## SAVE DATA TO FILES:"
      ]
    },
    {
      "cell_type": "code",
      "metadata": {
        "id": "wKXOCXNnO-ZM",
        "outputId": "a2ca2045-23b7-4fa8-d757-7a61531caba5",
        "colab": {
          "base_uri": "https://localhost:8080/",
          "height": 500
        }
      },
      "source": [
        "# make sure data is OK to be saved:\n",
        "data.head(7)#sample(7).T\n"
      ],
      "execution_count": 397,
      "outputs": [
        {
          "output_type": "execute_result",
          "data": {
            "text/html": [
              "<div>\n",
              "<style scoped>\n",
              "    .dataframe tbody tr th:only-of-type {\n",
              "        vertical-align: middle;\n",
              "    }\n",
              "\n",
              "    .dataframe tbody tr th {\n",
              "        vertical-align: top;\n",
              "    }\n",
              "\n",
              "    .dataframe thead th {\n",
              "        text-align: right;\n",
              "    }\n",
              "</style>\n",
              "<table border=\"1\" class=\"dataframe\">\n",
              "  <thead>\n",
              "    <tr style=\"text-align: right;\">\n",
              "      <th></th>\n",
              "      <th>brand</th>\n",
              "      <th>model_name</th>\n",
              "      <th>body_type</th>\n",
              "      <th>doors</th>\n",
              "      <th>model_date</th>\n",
              "      <th>prod_date</th>\n",
              "      <th>color</th>\n",
              "      <th>engine_V</th>\n",
              "      <th>power</th>\n",
              "      <th>fuel</th>\n",
              "      <th>mileage</th>\n",
              "      <th>transmission</th>\n",
              "      <th>owners</th>\n",
              "      <th>pass</th>\n",
              "      <th>drive</th>\n",
              "      <th>wheel</th>\n",
              "      <th>price</th>\n",
              "      <th>test_train</th>\n",
              "      <th>dataset_year</th>\n",
              "      <th>model_age</th>\n",
              "      <th>new_model</th>\n",
              "      <th>car_age</th>\n",
              "      <th>new_car</th>\n",
              "      <th>retro</th>\n",
              "      <th>raritet</th>\n",
              "      <th>electrocar</th>\n",
              "      <th>petrol_car</th>\n",
              "      <th>1_owner</th>\n",
              "    </tr>\n",
              "  </thead>\n",
              "  <tbody>\n",
              "    <tr>\n",
              "      <th>0</th>\n",
              "      <td>SKODA</td>\n",
              "      <td>Skoda Fabia II</td>\n",
              "      <td>station wagon 5 doors.</td>\n",
              "      <td>5</td>\n",
              "      <td>2007</td>\n",
              "      <td>2009</td>\n",
              "      <td>black</td>\n",
              "      <td>1.4</td>\n",
              "      <td>86</td>\n",
              "      <td>petrol</td>\n",
              "      <td>182200</td>\n",
              "      <td>MT</td>\n",
              "      <td>2</td>\n",
              "      <td>Original</td>\n",
              "      <td>FWD</td>\n",
              "      <td>Left</td>\n",
              "      <td>370000</td>\n",
              "      <td>train</td>\n",
              "      <td>2021</td>\n",
              "      <td>14</td>\n",
              "      <td>no</td>\n",
              "      <td>14</td>\n",
              "      <td>no</td>\n",
              "      <td>no</td>\n",
              "      <td>no</td>\n",
              "      <td>no</td>\n",
              "      <td>yes</td>\n",
              "      <td>no</td>\n",
              "    </tr>\n",
              "    <tr>\n",
              "      <th>1</th>\n",
              "      <td>SKODA</td>\n",
              "      <td>Skoda Fabia I</td>\n",
              "      <td>station wagon 5 doors.</td>\n",
              "      <td>5</td>\n",
              "      <td>1999</td>\n",
              "      <td>2001</td>\n",
              "      <td>silver</td>\n",
              "      <td>1.4</td>\n",
              "      <td>68</td>\n",
              "      <td>petrol</td>\n",
              "      <td>296000</td>\n",
              "      <td>MT</td>\n",
              "      <td>3</td>\n",
              "      <td>Duplicate</td>\n",
              "      <td>FWD</td>\n",
              "      <td>Left</td>\n",
              "      <td>155000</td>\n",
              "      <td>train</td>\n",
              "      <td>2021</td>\n",
              "      <td>22</td>\n",
              "      <td>no</td>\n",
              "      <td>22</td>\n",
              "      <td>no</td>\n",
              "      <td>no</td>\n",
              "      <td>no</td>\n",
              "      <td>no</td>\n",
              "      <td>yes</td>\n",
              "      <td>no</td>\n",
              "    </tr>\n",
              "    <tr>\n",
              "      <th>2</th>\n",
              "      <td>SKODA</td>\n",
              "      <td>Skoda Octavia III (A7) Рестайлинг</td>\n",
              "      <td>liftback</td>\n",
              "      <td>5</td>\n",
              "      <td>2017</td>\n",
              "      <td>2017</td>\n",
              "      <td>white</td>\n",
              "      <td>1.6</td>\n",
              "      <td>110</td>\n",
              "      <td>petrol</td>\n",
              "      <td>131807</td>\n",
              "      <td>AT</td>\n",
              "      <td>1</td>\n",
              "      <td>Original</td>\n",
              "      <td>FWD</td>\n",
              "      <td>Left</td>\n",
              "      <td>840000</td>\n",
              "      <td>train</td>\n",
              "      <td>2021</td>\n",
              "      <td>4</td>\n",
              "      <td>no</td>\n",
              "      <td>4</td>\n",
              "      <td>no</td>\n",
              "      <td>no</td>\n",
              "      <td>no</td>\n",
              "      <td>no</td>\n",
              "      <td>yes</td>\n",
              "      <td>yes</td>\n",
              "    </tr>\n",
              "    <tr>\n",
              "      <th>3</th>\n",
              "      <td>SKODA</td>\n",
              "      <td>other</td>\n",
              "      <td>hatchback 5 doors.</td>\n",
              "      <td>5</td>\n",
              "      <td>2010</td>\n",
              "      <td>2012</td>\n",
              "      <td>blue</td>\n",
              "      <td>1.4</td>\n",
              "      <td>180</td>\n",
              "      <td>petrol</td>\n",
              "      <td>192000</td>\n",
              "      <td>AMT</td>\n",
              "      <td>3</td>\n",
              "      <td>Original</td>\n",
              "      <td>FWD</td>\n",
              "      <td>Left</td>\n",
              "      <td>470000</td>\n",
              "      <td>train</td>\n",
              "      <td>2021</td>\n",
              "      <td>11</td>\n",
              "      <td>no</td>\n",
              "      <td>11</td>\n",
              "      <td>no</td>\n",
              "      <td>no</td>\n",
              "      <td>no</td>\n",
              "      <td>no</td>\n",
              "      <td>yes</td>\n",
              "      <td>no</td>\n",
              "    </tr>\n",
              "    <tr>\n",
              "      <th>4</th>\n",
              "      <td>SKODA</td>\n",
              "      <td>Skoda Fabia II Рестайлинг</td>\n",
              "      <td>hatchback 5 doors.</td>\n",
              "      <td>5</td>\n",
              "      <td>2010</td>\n",
              "      <td>2011</td>\n",
              "      <td>black</td>\n",
              "      <td>1.2</td>\n",
              "      <td>70</td>\n",
              "      <td>petrol</td>\n",
              "      <td>190000</td>\n",
              "      <td>MT</td>\n",
              "      <td>2</td>\n",
              "      <td>Original</td>\n",
              "      <td>FWD</td>\n",
              "      <td>Left</td>\n",
              "      <td>290000</td>\n",
              "      <td>train</td>\n",
              "      <td>2021</td>\n",
              "      <td>11</td>\n",
              "      <td>no</td>\n",
              "      <td>11</td>\n",
              "      <td>no</td>\n",
              "      <td>no</td>\n",
              "      <td>no</td>\n",
              "      <td>no</td>\n",
              "      <td>yes</td>\n",
              "      <td>no</td>\n",
              "    </tr>\n",
              "    <tr>\n",
              "      <th>5</th>\n",
              "      <td>SKODA</td>\n",
              "      <td>Skoda Octavia I (A4) Рестайлинг</td>\n",
              "      <td>station wagon 5 doors.</td>\n",
              "      <td>5</td>\n",
              "      <td>2000</td>\n",
              "      <td>2007</td>\n",
              "      <td>silver</td>\n",
              "      <td>1.4</td>\n",
              "      <td>75</td>\n",
              "      <td>petrol</td>\n",
              "      <td>198500</td>\n",
              "      <td>MT</td>\n",
              "      <td>2</td>\n",
              "      <td>Original</td>\n",
              "      <td>FWD</td>\n",
              "      <td>Left</td>\n",
              "      <td>225000</td>\n",
              "      <td>train</td>\n",
              "      <td>2021</td>\n",
              "      <td>21</td>\n",
              "      <td>no</td>\n",
              "      <td>21</td>\n",
              "      <td>no</td>\n",
              "      <td>no</td>\n",
              "      <td>no</td>\n",
              "      <td>no</td>\n",
              "      <td>yes</td>\n",
              "      <td>no</td>\n",
              "    </tr>\n",
              "    <tr>\n",
              "      <th>6</th>\n",
              "      <td>SKODA</td>\n",
              "      <td>other</td>\n",
              "      <td>sedan</td>\n",
              "      <td>4</td>\n",
              "      <td>2001</td>\n",
              "      <td>2002</td>\n",
              "      <td>black</td>\n",
              "      <td>2.5</td>\n",
              "      <td>155</td>\n",
              "      <td>diesel</td>\n",
              "      <td>252000</td>\n",
              "      <td>AT</td>\n",
              "      <td>3</td>\n",
              "      <td>Original</td>\n",
              "      <td>FWD</td>\n",
              "      <td>Left</td>\n",
              "      <td>275000</td>\n",
              "      <td>train</td>\n",
              "      <td>2021</td>\n",
              "      <td>20</td>\n",
              "      <td>no</td>\n",
              "      <td>20</td>\n",
              "      <td>no</td>\n",
              "      <td>no</td>\n",
              "      <td>no</td>\n",
              "      <td>no</td>\n",
              "      <td>no</td>\n",
              "      <td>no</td>\n",
              "    </tr>\n",
              "  </tbody>\n",
              "</table>\n",
              "</div>"
            ],
            "text/plain": [
              "   brand                         model_name  ... petrol_car  1_owner\n",
              "0  SKODA                     Skoda Fabia II  ...        yes       no\n",
              "1  SKODA                      Skoda Fabia I  ...        yes       no\n",
              "2  SKODA  Skoda Octavia III (A7) Рестайлинг  ...        yes      yes\n",
              "3  SKODA                              other  ...        yes       no\n",
              "4  SKODA          Skoda Fabia II Рестайлинг  ...        yes       no\n",
              "5  SKODA    Skoda Octavia I (A4) Рестайлинг  ...        yes       no\n",
              "6  SKODA                              other  ...         no       no\n",
              "\n",
              "[7 rows x 28 columns]"
            ]
          },
          "metadata": {},
          "execution_count": 397
        }
      ]
    },
    {
      "cell_type": "code",
      "metadata": {
        "scrolled": false,
        "id": "ge2b3FEZO-ZM",
        "outputId": "a7615a7f-c730-4dbd-c94f-cf1240fecbb3",
        "colab": {
          "base_uri": "https://localhost:8080/"
        }
      },
      "source": [
        "data.info()"
      ],
      "execution_count": 398,
      "outputs": [
        {
          "output_type": "stream",
          "name": "stdout",
          "text": [
            "<class 'pandas.core.frame.DataFrame'>\n",
            "RangeIndex: 69951 entries, 0 to 69950\n",
            "Data columns (total 28 columns):\n",
            " #   Column        Non-Null Count  Dtype \n",
            "---  ------        --------------  ----- \n",
            " 0   brand         69951 non-null  object\n",
            " 1   model_name    69951 non-null  object\n",
            " 2   body_type     69951 non-null  object\n",
            " 3   doors         69951 non-null  int64 \n",
            " 4   model_date    69951 non-null  int64 \n",
            " 5   prod_date     69951 non-null  int64 \n",
            " 6   color         69951 non-null  object\n",
            " 7   engine_V      69951 non-null  object\n",
            " 8   power         69951 non-null  int64 \n",
            " 9   fuel          69951 non-null  object\n",
            " 10  mileage       69951 non-null  int64 \n",
            " 11  transmission  69951 non-null  object\n",
            " 12  owners        69951 non-null  int64 \n",
            " 13  pass          69950 non-null  object\n",
            " 14  drive         69951 non-null  object\n",
            " 15  wheel         69951 non-null  object\n",
            " 16  price         69951 non-null  int64 \n",
            " 17  test_train    69951 non-null  object\n",
            " 18  dataset_year  69951 non-null  int64 \n",
            " 19  model_age     69951 non-null  int64 \n",
            " 20  new_model     69951 non-null  object\n",
            " 21  car_age       69951 non-null  int64 \n",
            " 22  new_car       69951 non-null  object\n",
            " 23  retro         69951 non-null  object\n",
            " 24  raritet       69951 non-null  object\n",
            " 25  electrocar    69951 non-null  object\n",
            " 26  petrol_car    69951 non-null  object\n",
            " 27  1_owner       69951 non-null  object\n",
            "dtypes: int64(10), object(18)\n",
            "memory usage: 14.9+ MB\n"
          ]
        }
      ]
    },
    {
      "cell_type": "code",
      "metadata": {
        "id": "3lV_3h8TO-ZM"
      },
      "source": [
        "data.to_csv(path + \"PROCESSED/data.csv\", index=False)\n"
      ],
      "execution_count": 399,
      "outputs": []
    },
    {
      "cell_type": "code",
      "metadata": {
        "id": "VPpRB_2xO-ZM"
      },
      "source": [
        "df_num_columns = pd.DataFrame(num_columns)\n",
        "df_cat_columns = pd.DataFrame(cat_columns)\n",
        "df_bin_columns = pd.DataFrame(bin_columns)\n",
        "\n",
        "\n",
        "df_num_columns.to_csv(path + \"PROCESSED/num_columns.csv\", mode='w', header=False, index=False)\n",
        "df_cat_columns.to_csv(path + \"PROCESSED/cat_columns.csv\", mode='w', header=False, index=False)\n",
        "df_bin_columns.to_csv(path + \"PROCESSED/bin_columns.csv\", mode='w', header=False, index=False)\n"
      ],
      "execution_count": 400,
      "outputs": []
    },
    {
      "cell_type": "code",
      "metadata": {
        "id": "KBnCFCt8O-ZM",
        "outputId": "9837839e-fd72-4c5e-851c-11b7a7b83e0a",
        "colab": {
          "base_uri": "https://localhost:8080/",
          "height": 500
        }
      },
      "source": [
        "# quick check:\n",
        "data = pd.read_csv(path + \"PROCESSED/data.csv\")\n",
        "data.head(7)#.T\n"
      ],
      "execution_count": 401,
      "outputs": [
        {
          "output_type": "execute_result",
          "data": {
            "text/html": [
              "<div>\n",
              "<style scoped>\n",
              "    .dataframe tbody tr th:only-of-type {\n",
              "        vertical-align: middle;\n",
              "    }\n",
              "\n",
              "    .dataframe tbody tr th {\n",
              "        vertical-align: top;\n",
              "    }\n",
              "\n",
              "    .dataframe thead th {\n",
              "        text-align: right;\n",
              "    }\n",
              "</style>\n",
              "<table border=\"1\" class=\"dataframe\">\n",
              "  <thead>\n",
              "    <tr style=\"text-align: right;\">\n",
              "      <th></th>\n",
              "      <th>brand</th>\n",
              "      <th>model_name</th>\n",
              "      <th>body_type</th>\n",
              "      <th>doors</th>\n",
              "      <th>model_date</th>\n",
              "      <th>prod_date</th>\n",
              "      <th>color</th>\n",
              "      <th>engine_V</th>\n",
              "      <th>power</th>\n",
              "      <th>fuel</th>\n",
              "      <th>mileage</th>\n",
              "      <th>transmission</th>\n",
              "      <th>owners</th>\n",
              "      <th>pass</th>\n",
              "      <th>drive</th>\n",
              "      <th>wheel</th>\n",
              "      <th>price</th>\n",
              "      <th>test_train</th>\n",
              "      <th>dataset_year</th>\n",
              "      <th>model_age</th>\n",
              "      <th>new_model</th>\n",
              "      <th>car_age</th>\n",
              "      <th>new_car</th>\n",
              "      <th>retro</th>\n",
              "      <th>raritet</th>\n",
              "      <th>electrocar</th>\n",
              "      <th>petrol_car</th>\n",
              "      <th>1_owner</th>\n",
              "    </tr>\n",
              "  </thead>\n",
              "  <tbody>\n",
              "    <tr>\n",
              "      <th>0</th>\n",
              "      <td>SKODA</td>\n",
              "      <td>Skoda Fabia II</td>\n",
              "      <td>station wagon 5 doors.</td>\n",
              "      <td>5</td>\n",
              "      <td>2007</td>\n",
              "      <td>2009</td>\n",
              "      <td>black</td>\n",
              "      <td>1.4</td>\n",
              "      <td>86</td>\n",
              "      <td>petrol</td>\n",
              "      <td>182200</td>\n",
              "      <td>MT</td>\n",
              "      <td>2</td>\n",
              "      <td>Original</td>\n",
              "      <td>FWD</td>\n",
              "      <td>Left</td>\n",
              "      <td>370000</td>\n",
              "      <td>train</td>\n",
              "      <td>2021</td>\n",
              "      <td>14</td>\n",
              "      <td>no</td>\n",
              "      <td>14</td>\n",
              "      <td>no</td>\n",
              "      <td>no</td>\n",
              "      <td>no</td>\n",
              "      <td>no</td>\n",
              "      <td>yes</td>\n",
              "      <td>no</td>\n",
              "    </tr>\n",
              "    <tr>\n",
              "      <th>1</th>\n",
              "      <td>SKODA</td>\n",
              "      <td>Skoda Fabia I</td>\n",
              "      <td>station wagon 5 doors.</td>\n",
              "      <td>5</td>\n",
              "      <td>1999</td>\n",
              "      <td>2001</td>\n",
              "      <td>silver</td>\n",
              "      <td>1.4</td>\n",
              "      <td>68</td>\n",
              "      <td>petrol</td>\n",
              "      <td>296000</td>\n",
              "      <td>MT</td>\n",
              "      <td>3</td>\n",
              "      <td>Duplicate</td>\n",
              "      <td>FWD</td>\n",
              "      <td>Left</td>\n",
              "      <td>155000</td>\n",
              "      <td>train</td>\n",
              "      <td>2021</td>\n",
              "      <td>22</td>\n",
              "      <td>no</td>\n",
              "      <td>22</td>\n",
              "      <td>no</td>\n",
              "      <td>no</td>\n",
              "      <td>no</td>\n",
              "      <td>no</td>\n",
              "      <td>yes</td>\n",
              "      <td>no</td>\n",
              "    </tr>\n",
              "    <tr>\n",
              "      <th>2</th>\n",
              "      <td>SKODA</td>\n",
              "      <td>Skoda Octavia III (A7) Рестайлинг</td>\n",
              "      <td>liftback</td>\n",
              "      <td>5</td>\n",
              "      <td>2017</td>\n",
              "      <td>2017</td>\n",
              "      <td>white</td>\n",
              "      <td>1.6</td>\n",
              "      <td>110</td>\n",
              "      <td>petrol</td>\n",
              "      <td>131807</td>\n",
              "      <td>AT</td>\n",
              "      <td>1</td>\n",
              "      <td>Original</td>\n",
              "      <td>FWD</td>\n",
              "      <td>Left</td>\n",
              "      <td>840000</td>\n",
              "      <td>train</td>\n",
              "      <td>2021</td>\n",
              "      <td>4</td>\n",
              "      <td>no</td>\n",
              "      <td>4</td>\n",
              "      <td>no</td>\n",
              "      <td>no</td>\n",
              "      <td>no</td>\n",
              "      <td>no</td>\n",
              "      <td>yes</td>\n",
              "      <td>yes</td>\n",
              "    </tr>\n",
              "    <tr>\n",
              "      <th>3</th>\n",
              "      <td>SKODA</td>\n",
              "      <td>other</td>\n",
              "      <td>hatchback 5 doors.</td>\n",
              "      <td>5</td>\n",
              "      <td>2010</td>\n",
              "      <td>2012</td>\n",
              "      <td>blue</td>\n",
              "      <td>1.4</td>\n",
              "      <td>180</td>\n",
              "      <td>petrol</td>\n",
              "      <td>192000</td>\n",
              "      <td>AMT</td>\n",
              "      <td>3</td>\n",
              "      <td>Original</td>\n",
              "      <td>FWD</td>\n",
              "      <td>Left</td>\n",
              "      <td>470000</td>\n",
              "      <td>train</td>\n",
              "      <td>2021</td>\n",
              "      <td>11</td>\n",
              "      <td>no</td>\n",
              "      <td>11</td>\n",
              "      <td>no</td>\n",
              "      <td>no</td>\n",
              "      <td>no</td>\n",
              "      <td>no</td>\n",
              "      <td>yes</td>\n",
              "      <td>no</td>\n",
              "    </tr>\n",
              "    <tr>\n",
              "      <th>4</th>\n",
              "      <td>SKODA</td>\n",
              "      <td>Skoda Fabia II Рестайлинг</td>\n",
              "      <td>hatchback 5 doors.</td>\n",
              "      <td>5</td>\n",
              "      <td>2010</td>\n",
              "      <td>2011</td>\n",
              "      <td>black</td>\n",
              "      <td>1.2</td>\n",
              "      <td>70</td>\n",
              "      <td>petrol</td>\n",
              "      <td>190000</td>\n",
              "      <td>MT</td>\n",
              "      <td>2</td>\n",
              "      <td>Original</td>\n",
              "      <td>FWD</td>\n",
              "      <td>Left</td>\n",
              "      <td>290000</td>\n",
              "      <td>train</td>\n",
              "      <td>2021</td>\n",
              "      <td>11</td>\n",
              "      <td>no</td>\n",
              "      <td>11</td>\n",
              "      <td>no</td>\n",
              "      <td>no</td>\n",
              "      <td>no</td>\n",
              "      <td>no</td>\n",
              "      <td>yes</td>\n",
              "      <td>no</td>\n",
              "    </tr>\n",
              "    <tr>\n",
              "      <th>5</th>\n",
              "      <td>SKODA</td>\n",
              "      <td>Skoda Octavia I (A4) Рестайлинг</td>\n",
              "      <td>station wagon 5 doors.</td>\n",
              "      <td>5</td>\n",
              "      <td>2000</td>\n",
              "      <td>2007</td>\n",
              "      <td>silver</td>\n",
              "      <td>1.4</td>\n",
              "      <td>75</td>\n",
              "      <td>petrol</td>\n",
              "      <td>198500</td>\n",
              "      <td>MT</td>\n",
              "      <td>2</td>\n",
              "      <td>Original</td>\n",
              "      <td>FWD</td>\n",
              "      <td>Left</td>\n",
              "      <td>225000</td>\n",
              "      <td>train</td>\n",
              "      <td>2021</td>\n",
              "      <td>21</td>\n",
              "      <td>no</td>\n",
              "      <td>21</td>\n",
              "      <td>no</td>\n",
              "      <td>no</td>\n",
              "      <td>no</td>\n",
              "      <td>no</td>\n",
              "      <td>yes</td>\n",
              "      <td>no</td>\n",
              "    </tr>\n",
              "    <tr>\n",
              "      <th>6</th>\n",
              "      <td>SKODA</td>\n",
              "      <td>other</td>\n",
              "      <td>sedan</td>\n",
              "      <td>4</td>\n",
              "      <td>2001</td>\n",
              "      <td>2002</td>\n",
              "      <td>black</td>\n",
              "      <td>2.5</td>\n",
              "      <td>155</td>\n",
              "      <td>diesel</td>\n",
              "      <td>252000</td>\n",
              "      <td>AT</td>\n",
              "      <td>3</td>\n",
              "      <td>Original</td>\n",
              "      <td>FWD</td>\n",
              "      <td>Left</td>\n",
              "      <td>275000</td>\n",
              "      <td>train</td>\n",
              "      <td>2021</td>\n",
              "      <td>20</td>\n",
              "      <td>no</td>\n",
              "      <td>20</td>\n",
              "      <td>no</td>\n",
              "      <td>no</td>\n",
              "      <td>no</td>\n",
              "      <td>no</td>\n",
              "      <td>no</td>\n",
              "      <td>no</td>\n",
              "    </tr>\n",
              "  </tbody>\n",
              "</table>\n",
              "</div>"
            ],
            "text/plain": [
              "   brand                         model_name  ... petrol_car  1_owner\n",
              "0  SKODA                     Skoda Fabia II  ...        yes       no\n",
              "1  SKODA                      Skoda Fabia I  ...        yes       no\n",
              "2  SKODA  Skoda Octavia III (A7) Рестайлинг  ...        yes      yes\n",
              "3  SKODA                              other  ...        yes       no\n",
              "4  SKODA          Skoda Fabia II Рестайлинг  ...        yes       no\n",
              "5  SKODA    Skoda Octavia I (A4) Рестайлинг  ...        yes       no\n",
              "6  SKODA                              other  ...         no       no\n",
              "\n",
              "[7 rows x 28 columns]"
            ]
          },
          "metadata": {},
          "execution_count": 401
        }
      ]
    },
    {
      "cell_type": "code",
      "metadata": {
        "scrolled": true,
        "id": "HbGci5SQO-ZN",
        "outputId": "d38e660c-b996-4675-bf76-cb0bbf2e80f0",
        "colab": {
          "base_uri": "https://localhost:8080/"
        }
      },
      "source": [
        "data.info()\n"
      ],
      "execution_count": 402,
      "outputs": [
        {
          "output_type": "stream",
          "name": "stdout",
          "text": [
            "<class 'pandas.core.frame.DataFrame'>\n",
            "RangeIndex: 69951 entries, 0 to 69950\n",
            "Data columns (total 28 columns):\n",
            " #   Column        Non-Null Count  Dtype  \n",
            "---  ------        --------------  -----  \n",
            " 0   brand         69951 non-null  object \n",
            " 1   model_name    69951 non-null  object \n",
            " 2   body_type     69951 non-null  object \n",
            " 3   doors         69951 non-null  int64  \n",
            " 4   model_date    69951 non-null  int64  \n",
            " 5   prod_date     69951 non-null  int64  \n",
            " 6   color         69951 non-null  object \n",
            " 7   engine_V      69824 non-null  float64\n",
            " 8   power         69951 non-null  int64  \n",
            " 9   fuel          69951 non-null  object \n",
            " 10  mileage       69951 non-null  int64  \n",
            " 11  transmission  69951 non-null  object \n",
            " 12  owners        69951 non-null  int64  \n",
            " 13  pass          69950 non-null  object \n",
            " 14  drive         69951 non-null  object \n",
            " 15  wheel         69951 non-null  object \n",
            " 16  price         69951 non-null  int64  \n",
            " 17  test_train    69951 non-null  object \n",
            " 18  dataset_year  69951 non-null  int64  \n",
            " 19  model_age     69951 non-null  int64  \n",
            " 20  new_model     69951 non-null  object \n",
            " 21  car_age       69951 non-null  int64  \n",
            " 22  new_car       69951 non-null  object \n",
            " 23  retro         69951 non-null  object \n",
            " 24  raritet       69951 non-null  object \n",
            " 25  electrocar    69951 non-null  object \n",
            " 26  petrol_car    69951 non-null  object \n",
            " 27  1_owner       69951 non-null  object \n",
            "dtypes: float64(1), int64(10), object(17)\n",
            "memory usage: 14.9+ MB\n"
          ]
        }
      ]
    },
    {
      "cell_type": "markdown",
      "metadata": {
        "id": "tsz6fRjkO-ZN"
      },
      "source": [
        "Looks OK for future processing"
      ]
    },
    {
      "cell_type": "markdown",
      "metadata": {
        "id": "aZPoYWHGO-ZN"
      },
      "source": [
        "### Please continue with 3. EDA"
      ]
    },
    {
      "cell_type": "code",
      "metadata": {
        "id": "7J1li7dLO-ZN",
        "outputId": "bcc58cd4-e37b-40b2-b2d3-7ae852ee7c51",
        "colab": {
          "base_uri": "https://localhost:8080/"
        }
      },
      "source": [
        "print(\"done\")"
      ],
      "execution_count": 403,
      "outputs": [
        {
          "output_type": "stream",
          "name": "stdout",
          "text": [
            "done\n"
          ]
        }
      ]
    }
  ]
}