{
 "cells": [
  {
   "cell_type": "code",
   "execution_count": 1,
   "metadata": {},
   "outputs": [],
   "source": [
    "import numpy as np\n",
    "import pandas as pd\n",
    "import glob\n",
    "import re\n",
    "from datetime import datetime\n",
    "from sklearn.preprocessing import LabelEncoder\n"
   ]
  },
  {
   "cell_type": "code",
   "execution_count": 2,
   "metadata": {},
   "outputs": [],
   "source": [
    "def is_top_model(x, models):\n",
    "    if models.count(x)==0:\n",
    "        x = \"other\"\n",
    "    return x\n"
   ]
  },
  {
   "cell_type": "markdown",
   "metadata": {},
   "source": [
    "## TEST DATA\n"
   ]
  },
  {
   "cell_type": "code",
   "execution_count": 3,
   "metadata": {},
   "outputs": [],
   "source": [
    "# kaggle only:\n",
    "\n",
    "'''\n",
    "import os\n",
    "for dirname, _, filenames in os.walk('/kaggle/input'):\n",
    "    for filename in filenames:\n",
    "        print(os.path.join(dirname, filename))\n",
    "\n",
    "df_test = pd.read_csv('../input/sf-dst-car-price-prediction/test.csv')\n",
    "df_train = pd.read_csv('../input/parsed-auto/train.csv')\n",
    "df_sub = pd.read_csv('../input/sf-dst-car-price-prediction/sample_submission.csv')\n",
    "\n",
    "'''\n",
    "\n",
    "# local only:\n",
    "df_test = pd.read_csv('test.csv')\n",
    "df_sub = pd.read_csv('sample_submission.csv')\n"
   ]
  },
  {
   "cell_type": "markdown",
   "metadata": {},
   "source": [
    "## COLLECT TRAIN DATA:\n"
   ]
  },
  {
   "cell_type": "code",
   "execution_count": 4,
   "metadata": {},
   "outputs": [
    {
     "data": {
      "text/plain": [
       "(35265, 23)"
      ]
     },
     "execution_count": 4,
     "metadata": {},
     "output_type": "execute_result"
    }
   ],
   "source": [
    "# collect data from files in CONTENT folder:\n",
    "filenames = glob.glob(\"CONTENT/*content.csv\")\n",
    "lst_df_train = []\n",
    "for filename in filenames:\n",
    "    df_cur = pd.read_csv(filename, header=None)\n",
    "    lst_df_train.append(df_cur)\n",
    "df_train =  pd.concat(lst_df_train, axis=0, ignore_index=True)    \n",
    "\n",
    "# get rid of duplicates and small check:   \n",
    "df_train.drop_duplicates(inplace=True)\n",
    "df_train.shape\n"
   ]
  },
  {
   "cell_type": "markdown",
   "metadata": {},
   "source": [
    "## SAVE DF_TRAIN"
   ]
  },
  {
   "cell_type": "code",
   "execution_count": 5,
   "metadata": {},
   "outputs": [],
   "source": [
    "# save to file:\n",
    "df_train.to_csv(\"train.csv\", index=False)\n"
   ]
  },
  {
   "cell_type": "code",
   "execution_count": 6,
   "metadata": {},
   "outputs": [
    {
     "data": {
      "text/html": [
       "<div>\n",
       "<style scoped>\n",
       "    .dataframe tbody tr th:only-of-type {\n",
       "        vertical-align: middle;\n",
       "    }\n",
       "\n",
       "    .dataframe tbody tr th {\n",
       "        vertical-align: top;\n",
       "    }\n",
       "\n",
       "    .dataframe thead th {\n",
       "        text-align: right;\n",
       "    }\n",
       "</style>\n",
       "<table border=\"1\" class=\"dataframe\">\n",
       "  <thead>\n",
       "    <tr style=\"text-align: right;\">\n",
       "      <th></th>\n",
       "      <th>0</th>\n",
       "      <th>1</th>\n",
       "      <th>2</th>\n",
       "      <th>3</th>\n",
       "      <th>4</th>\n",
       "      <th>5</th>\n",
       "      <th>6</th>\n",
       "      <th>7</th>\n",
       "      <th>8</th>\n",
       "      <th>9</th>\n",
       "      <th>...</th>\n",
       "      <th>13</th>\n",
       "      <th>14</th>\n",
       "      <th>15</th>\n",
       "      <th>16</th>\n",
       "      <th>17</th>\n",
       "      <th>18</th>\n",
       "      <th>19</th>\n",
       "      <th>20</th>\n",
       "      <th>21</th>\n",
       "      <th>22</th>\n",
       "    </tr>\n",
       "  </thead>\n",
       "  <tbody>\n",
       "    <tr>\n",
       "      <th>2709</th>\n",
       "      <td>TOYOTA</td>\n",
       "      <td>Toyota RAV4 IV (CA40) Рестайлинг</td>\n",
       "      <td>внедорожник 5 дв.</td>\n",
       "      <td>5</td>\n",
       "      <td>2015</td>\n",
       "      <td>2017</td>\n",
       "      <td>белый</td>\n",
       "      <td>2.2 LTR</td>\n",
       "      <td>150 N12</td>\n",
       "      <td>дизель</td>\n",
       "      <td>...</td>\n",
       "      <td>ALLROAD_5_DOORS AUTOMATIC 2.2</td>\n",
       "      <td>автоматическая</td>\n",
       "      <td>1 владелец</td>\n",
       "      <td>Оригинал</td>\n",
       "      <td>полный</td>\n",
       "      <td>Левый</td>\n",
       "      <td>Не требует ремонта</td>\n",
       "      <td>Растаможен</td>\n",
       "      <td>https://auto.ru/cars/used/sale/toyota/rav_4/11...</td>\n",
       "      <td>1 997 000 ₽</td>\n",
       "    </tr>\n",
       "    <tr>\n",
       "      <th>444</th>\n",
       "      <td>TOYOTA</td>\n",
       "      <td>Toyota Land Cruiser 200 Series Рестайлинг 2</td>\n",
       "      <td>внедорожник 5 дв.</td>\n",
       "      <td>5</td>\n",
       "      <td>2015</td>\n",
       "      <td>2016</td>\n",
       "      <td>коричневый</td>\n",
       "      <td>4.5 LTR</td>\n",
       "      <td>249 N12</td>\n",
       "      <td>дизель</td>\n",
       "      <td>...</td>\n",
       "      <td>ALLROAD_5_DOORS AUTOMATIC 4.5</td>\n",
       "      <td>автоматическая</td>\n",
       "      <td>2 владельца</td>\n",
       "      <td>Оригинал</td>\n",
       "      <td>полный</td>\n",
       "      <td>Левый</td>\n",
       "      <td>Не требует ремонта</td>\n",
       "      <td>Растаможен</td>\n",
       "      <td>https://auto.ru/cars/used/sale/toyota/land_cru...</td>\n",
       "      <td>4 785 900 ₽</td>\n",
       "    </tr>\n",
       "    <tr>\n",
       "      <th>27567</th>\n",
       "      <td>MITSUBISHI</td>\n",
       "      <td>Mitsubishi Lancer IX Рестайлинг</td>\n",
       "      <td>универсал 5 дв.</td>\n",
       "      <td>5</td>\n",
       "      <td>2005</td>\n",
       "      <td>2008</td>\n",
       "      <td>серебристый</td>\n",
       "      <td>1.6 LTR</td>\n",
       "      <td>98 N12</td>\n",
       "      <td>бензин</td>\n",
       "      <td>...</td>\n",
       "      <td>WAGON_5_DOORS MECHANICAL 1.6</td>\n",
       "      <td>механическая</td>\n",
       "      <td>3 или более</td>\n",
       "      <td>Оригинал</td>\n",
       "      <td>передний</td>\n",
       "      <td>Левый</td>\n",
       "      <td>Не требует ремонта</td>\n",
       "      <td>Растаможен</td>\n",
       "      <td>https://auto.ru/cars/used/sale/mitsubishi/lanc...</td>\n",
       "      <td>320 000 ₽</td>\n",
       "    </tr>\n",
       "  </tbody>\n",
       "</table>\n",
       "<p>3 rows × 23 columns</p>\n",
       "</div>"
      ],
      "text/plain": [
       "               0                                            1   \\\n",
       "2709       TOYOTA             Toyota RAV4 IV (CA40) Рестайлинг   \n",
       "444        TOYOTA  Toyota Land Cruiser 200 Series Рестайлинг 2   \n",
       "27567  MITSUBISHI              Mitsubishi Lancer IX Рестайлинг   \n",
       "\n",
       "                      2   3     4     5            6        7        8   \\\n",
       "2709   внедорожник 5 дв.   5  2015  2017        белый  2.2 LTR  150 N12   \n",
       "444    внедорожник 5 дв.   5  2015  2016   коричневый  4.5 LTR  249 N12   \n",
       "27567    универсал 5 дв.   5  2005  2008  серебристый  1.6 LTR   98 N12   \n",
       "\n",
       "           9   ...                             13              14  \\\n",
       "2709   дизель  ...  ALLROAD_5_DOORS AUTOMATIC 2.2  автоматическая   \n",
       "444    дизель  ...  ALLROAD_5_DOORS AUTOMATIC 4.5  автоматическая   \n",
       "27567  бензин  ...   WAGON_5_DOORS MECHANICAL 1.6    механическая   \n",
       "\n",
       "                15        16        17     18                  19          20  \\\n",
       "2709    1 владелец  Оригинал    полный  Левый  Не требует ремонта  Растаможен   \n",
       "444    2 владельца  Оригинал    полный  Левый  Не требует ремонта  Растаможен   \n",
       "27567  3 или более  Оригинал  передний  Левый  Не требует ремонта  Растаможен   \n",
       "\n",
       "                                                      21           22  \n",
       "2709   https://auto.ru/cars/used/sale/toyota/rav_4/11...  1 997 000 ₽  \n",
       "444    https://auto.ru/cars/used/sale/toyota/land_cru...  4 785 900 ₽  \n",
       "27567  https://auto.ru/cars/used/sale/mitsubishi/lanc...    320 000 ₽  \n",
       "\n",
       "[3 rows x 23 columns]"
      ]
     },
     "execution_count": 6,
     "metadata": {},
     "output_type": "execute_result"
    }
   ],
   "source": [
    "df_train.sample(3)\n"
   ]
  },
  {
   "cell_type": "code",
   "execution_count": 7,
   "metadata": {},
   "outputs": [
    {
     "data": {
      "text/html": [
       "<div>\n",
       "<style scoped>\n",
       "    .dataframe tbody tr th:only-of-type {\n",
       "        vertical-align: middle;\n",
       "    }\n",
       "\n",
       "    .dataframe tbody tr th {\n",
       "        vertical-align: top;\n",
       "    }\n",
       "\n",
       "    .dataframe thead th {\n",
       "        text-align: right;\n",
       "    }\n",
       "</style>\n",
       "<table border=\"1\" class=\"dataframe\">\n",
       "  <thead>\n",
       "    <tr style=\"text-align: right;\">\n",
       "      <th></th>\n",
       "      <th>bodyType</th>\n",
       "      <th>brand</th>\n",
       "      <th>car_url</th>\n",
       "      <th>color</th>\n",
       "      <th>complectation_dict</th>\n",
       "      <th>description</th>\n",
       "      <th>engineDisplacement</th>\n",
       "      <th>enginePower</th>\n",
       "      <th>equipment_dict</th>\n",
       "      <th>fuelType</th>\n",
       "      <th>...</th>\n",
       "      <th>vehicleConfiguration</th>\n",
       "      <th>vehicleTransmission</th>\n",
       "      <th>vendor</th>\n",
       "      <th>Владельцы</th>\n",
       "      <th>Владение</th>\n",
       "      <th>ПТС</th>\n",
       "      <th>Привод</th>\n",
       "      <th>Руль</th>\n",
       "      <th>Состояние</th>\n",
       "      <th>Таможня</th>\n",
       "    </tr>\n",
       "  </thead>\n",
       "  <tbody>\n",
       "    <tr>\n",
       "      <th>6540</th>\n",
       "      <td>седан</td>\n",
       "      <td>VOLVO</td>\n",
       "      <td>https://auto.ru/cars/used/sale/volvo/s80/11012...</td>\n",
       "      <td>чёрный</td>\n",
       "      <td>{\"id\":\"6337459\",\"name\":\"Summum\",\"available_opt...</td>\n",
       "      <td>Автомобиль в идеальном техническом состоянии. ...</td>\n",
       "      <td>2.5 LTR</td>\n",
       "      <td>231 N12</td>\n",
       "      <td>{\"engine-proof\":true,\"cruise-control\":true,\"ti...</td>\n",
       "      <td>бензин</td>\n",
       "      <td>...</td>\n",
       "      <td>SEDAN AUTOMATIC 2.5</td>\n",
       "      <td>автоматическая</td>\n",
       "      <td>EUROPEAN</td>\n",
       "      <td>3 или более</td>\n",
       "      <td>1 год и 5 месяцев</td>\n",
       "      <td>Оригинал</td>\n",
       "      <td>передний</td>\n",
       "      <td>Левый</td>\n",
       "      <td>Не требует ремонта</td>\n",
       "      <td>Растаможен</td>\n",
       "    </tr>\n",
       "    <tr>\n",
       "      <th>31443</th>\n",
       "      <td>седан</td>\n",
       "      <td>VOLVO</td>\n",
       "      <td>https://auto.ru/cars/used/sale/volvo/760/11013...</td>\n",
       "      <td>красный</td>\n",
       "      <td>NaN</td>\n",
       "      <td>На ходу. Документы есть (с документами все в п...</td>\n",
       "      <td>2.8 LTR</td>\n",
       "      <td>156 N12</td>\n",
       "      <td>NaN</td>\n",
       "      <td>бензин</td>\n",
       "      <td>...</td>\n",
       "      <td>SEDAN MECHANICAL 2.8</td>\n",
       "      <td>механическая</td>\n",
       "      <td>EUROPEAN</td>\n",
       "      <td>3 или более</td>\n",
       "      <td>NaN</td>\n",
       "      <td>Дубликат</td>\n",
       "      <td>задний</td>\n",
       "      <td>Левый</td>\n",
       "      <td>Не требует ремонта</td>\n",
       "      <td>Растаможен</td>\n",
       "    </tr>\n",
       "    <tr>\n",
       "      <th>32094</th>\n",
       "      <td>седан</td>\n",
       "      <td>HONDA</td>\n",
       "      <td>https://auto.ru/cars/used/sale/honda/civic/110...</td>\n",
       "      <td>чёрный</td>\n",
       "      <td>NaN</td>\n",
       "      <td>Добрый день! Продаю машину на отличном ходу, р...</td>\n",
       "      <td>1.5 LTR</td>\n",
       "      <td>90 N12</td>\n",
       "      <td>{\"tinted-glass\":true,\"aux\":true,\"usb\":true,\"el...</td>\n",
       "      <td>бензин</td>\n",
       "      <td>...</td>\n",
       "      <td>SEDAN MECHANICAL 1.5</td>\n",
       "      <td>механическая</td>\n",
       "      <td>JAPANESE</td>\n",
       "      <td>2 владельца</td>\n",
       "      <td>NaN</td>\n",
       "      <td>Дубликат</td>\n",
       "      <td>передний</td>\n",
       "      <td>Левый</td>\n",
       "      <td>Не требует ремонта</td>\n",
       "      <td>Растаможен</td>\n",
       "    </tr>\n",
       "  </tbody>\n",
       "</table>\n",
       "<p>3 rows × 32 columns</p>\n",
       "</div>"
      ],
      "text/plain": [
       "      bodyType  brand                                            car_url  \\\n",
       "6540     седан  VOLVO  https://auto.ru/cars/used/sale/volvo/s80/11012...   \n",
       "31443    седан  VOLVO  https://auto.ru/cars/used/sale/volvo/760/11013...   \n",
       "32094    седан  HONDA  https://auto.ru/cars/used/sale/honda/civic/110...   \n",
       "\n",
       "         color                                 complectation_dict  \\\n",
       "6540    чёрный  {\"id\":\"6337459\",\"name\":\"Summum\",\"available_opt...   \n",
       "31443  красный                                                NaN   \n",
       "32094   чёрный                                                NaN   \n",
       "\n",
       "                                             description engineDisplacement  \\\n",
       "6540   Автомобиль в идеальном техническом состоянии. ...            2.5 LTR   \n",
       "31443  На ходу. Документы есть (с документами все в п...            2.8 LTR   \n",
       "32094  Добрый день! Продаю машину на отличном ходу, р...            1.5 LTR   \n",
       "\n",
       "      enginePower                                     equipment_dict fuelType  \\\n",
       "6540      231 N12  {\"engine-proof\":true,\"cruise-control\":true,\"ti...   бензин   \n",
       "31443     156 N12                                                NaN   бензин   \n",
       "32094      90 N12  {\"tinted-glass\":true,\"aux\":true,\"usb\":true,\"el...   бензин   \n",
       "\n",
       "       ...  vehicleConfiguration  vehicleTransmission    vendor    Владельцы  \\\n",
       "6540   ...   SEDAN AUTOMATIC 2.5       автоматическая  EUROPEAN  3 или более   \n",
       "31443  ...  SEDAN MECHANICAL 2.8         механическая  EUROPEAN  3 или более   \n",
       "32094  ...  SEDAN MECHANICAL 1.5         механическая  JAPANESE  2 владельца   \n",
       "\n",
       "                Владение       ПТС    Привод   Руль           Состояние  \\\n",
       "6540   1 год и 5 месяцев  Оригинал  передний  Левый  Не требует ремонта   \n",
       "31443                NaN  Дубликат    задний  Левый  Не требует ремонта   \n",
       "32094                NaN  Дубликат  передний  Левый  Не требует ремонта   \n",
       "\n",
       "          Таможня  \n",
       "6540   Растаможен  \n",
       "31443  Растаможен  \n",
       "32094  Растаможен  \n",
       "\n",
       "[3 rows x 32 columns]"
      ]
     },
     "execution_count": 7,
     "metadata": {},
     "output_type": "execute_result"
    }
   ],
   "source": [
    "df_test.sample(3)\n"
   ]
  },
  {
   "cell_type": "code",
   "execution_count": 8,
   "metadata": {},
   "outputs": [
    {
     "data": {
      "text/html": [
       "<div>\n",
       "<style scoped>\n",
       "    .dataframe tbody tr th:only-of-type {\n",
       "        vertical-align: middle;\n",
       "    }\n",
       "\n",
       "    .dataframe tbody tr th {\n",
       "        vertical-align: top;\n",
       "    }\n",
       "\n",
       "    .dataframe thead th {\n",
       "        text-align: right;\n",
       "    }\n",
       "</style>\n",
       "<table border=\"1\" class=\"dataframe\">\n",
       "  <thead>\n",
       "    <tr style=\"text-align: right;\">\n",
       "      <th></th>\n",
       "      <th>sell_id</th>\n",
       "      <th>price</th>\n",
       "    </tr>\n",
       "  </thead>\n",
       "  <tbody>\n",
       "    <tr>\n",
       "      <th>7718</th>\n",
       "      <td>1101265099</td>\n",
       "      <td>0</td>\n",
       "    </tr>\n",
       "    <tr>\n",
       "      <th>1252</th>\n",
       "      <td>1100884798</td>\n",
       "      <td>0</td>\n",
       "    </tr>\n",
       "    <tr>\n",
       "      <th>15655</th>\n",
       "      <td>1101316951</td>\n",
       "      <td>0</td>\n",
       "    </tr>\n",
       "  </tbody>\n",
       "</table>\n",
       "</div>"
      ],
      "text/plain": [
       "          sell_id  price\n",
       "7718   1101265099      0\n",
       "1252   1100884798      0\n",
       "15655  1101316951      0"
      ]
     },
     "execution_count": 8,
     "metadata": {},
     "output_type": "execute_result"
    }
   ],
   "source": [
    "df_sub.sample(3)\n"
   ]
  },
  {
   "cell_type": "markdown",
   "metadata": {},
   "source": [
    "## COLUMNS:\n"
   ]
  },
  {
   "cell_type": "markdown",
   "metadata": {},
   "source": [
    "- compare columns in train and test datasets, rename where necessary and drop from train if needed\n",
    "- mark test and train data\n",
    "- join datasets\n"
   ]
  },
  {
   "cell_type": "code",
   "execution_count": 9,
   "metadata": {},
   "outputs": [
    {
     "data": {
      "text/plain": [
       "Index(['bodyType', 'brand', 'car_url', 'color', 'complectation_dict',\n",
       "       'description', 'engineDisplacement', 'enginePower', 'equipment_dict',\n",
       "       'fuelType', 'image', 'mileage', 'modelDate', 'model_info', 'model_name',\n",
       "       'name', 'numberOfDoors', 'parsing_unixtime', 'priceCurrency',\n",
       "       'productionDate', 'sell_id', 'super_gen', 'vehicleConfiguration',\n",
       "       'vehicleTransmission', 'vendor', 'Владельцы', 'Владение', 'ПТС',\n",
       "       'Привод', 'Руль', 'Состояние', 'Таможня'],\n",
       "      dtype='object')"
      ]
     },
     "execution_count": 9,
     "metadata": {},
     "output_type": "execute_result"
    }
   ],
   "source": [
    "# take a look at test columns:\n",
    "test_columns = df_test.columns\n",
    "test_columns\n"
   ]
  },
  {
   "cell_type": "code",
   "execution_count": 10,
   "metadata": {},
   "outputs": [
    {
     "data": {
      "text/plain": [
       "Int64Index([ 0,  1,  2,  3,  4,  5,  6,  7,  8,  9, 10, 11, 12, 13, 14, 15, 16,\n",
       "            17, 18, 19, 20, 21, 22],\n",
       "           dtype='int64')"
      ]
     },
     "execution_count": 10,
     "metadata": {},
     "output_type": "execute_result"
    }
   ],
   "source": [
    "# take a look at train columns:\n",
    "train_columns = df_train.columns\n",
    "train_columns\n"
   ]
  },
  {
   "cell_type": "code",
   "execution_count": 11,
   "metadata": {},
   "outputs": [
    {
     "data": {
      "text/html": [
       "<div>\n",
       "<style scoped>\n",
       "    .dataframe tbody tr th:only-of-type {\n",
       "        vertical-align: middle;\n",
       "    }\n",
       "\n",
       "    .dataframe tbody tr th {\n",
       "        vertical-align: top;\n",
       "    }\n",
       "\n",
       "    .dataframe thead th {\n",
       "        text-align: right;\n",
       "    }\n",
       "</style>\n",
       "<table border=\"1\" class=\"dataframe\">\n",
       "  <thead>\n",
       "    <tr style=\"text-align: right;\">\n",
       "      <th></th>\n",
       "      <th>0</th>\n",
       "      <th>1</th>\n",
       "      <th>2</th>\n",
       "      <th>3</th>\n",
       "      <th>4</th>\n",
       "    </tr>\n",
       "  </thead>\n",
       "  <tbody>\n",
       "    <tr>\n",
       "      <th>0</th>\n",
       "      <td>TOYOTA</td>\n",
       "      <td>TOYOTA</td>\n",
       "      <td>TOYOTA</td>\n",
       "      <td>TOYOTA</td>\n",
       "      <td>TOYOTA</td>\n",
       "    </tr>\n",
       "    <tr>\n",
       "      <th>1</th>\n",
       "      <td>Toyota Camry VIII (XV70)</td>\n",
       "      <td>Toyota Camry VIII (XV70) Рестайлинг</td>\n",
       "      <td>Toyota Yaris I</td>\n",
       "      <td>Toyota Corolla AMT X (E140, E150)</td>\n",
       "      <td>Toyota Land Cruiser Prado 90 Series Рестайлинг</td>\n",
       "    </tr>\n",
       "    <tr>\n",
       "      <th>2</th>\n",
       "      <td>седан</td>\n",
       "      <td>седан</td>\n",
       "      <td>хэтчбек 3 дв.</td>\n",
       "      <td>седан</td>\n",
       "      <td>внедорожник 5 дв.</td>\n",
       "    </tr>\n",
       "    <tr>\n",
       "      <th>3</th>\n",
       "      <td>4</td>\n",
       "      <td>4</td>\n",
       "      <td>3</td>\n",
       "      <td>4</td>\n",
       "      <td>5</td>\n",
       "    </tr>\n",
       "    <tr>\n",
       "      <th>4</th>\n",
       "      <td>2017</td>\n",
       "      <td>2020</td>\n",
       "      <td>1999</td>\n",
       "      <td>2006</td>\n",
       "      <td>1999</td>\n",
       "    </tr>\n",
       "    <tr>\n",
       "      <th>5</th>\n",
       "      <td>2020</td>\n",
       "      <td>2021</td>\n",
       "      <td>2000</td>\n",
       "      <td>2008</td>\n",
       "      <td>1999</td>\n",
       "    </tr>\n",
       "    <tr>\n",
       "      <th>6</th>\n",
       "      <td>чёрный</td>\n",
       "      <td>красный</td>\n",
       "      <td>синий</td>\n",
       "      <td>серый</td>\n",
       "      <td>серебристый</td>\n",
       "    </tr>\n",
       "    <tr>\n",
       "      <th>7</th>\n",
       "      <td>3.5 LTR</td>\n",
       "      <td>3.5 LTR</td>\n",
       "      <td>1.5 LTR</td>\n",
       "      <td>1.6 LTR</td>\n",
       "      <td>3.4 LTR</td>\n",
       "    </tr>\n",
       "    <tr>\n",
       "      <th>8</th>\n",
       "      <td>249 N12</td>\n",
       "      <td>249 N12</td>\n",
       "      <td>106 N12</td>\n",
       "      <td>124 N12</td>\n",
       "      <td>178 N12</td>\n",
       "    </tr>\n",
       "    <tr>\n",
       "      <th>9</th>\n",
       "      <td>бензин</td>\n",
       "      <td>бензин</td>\n",
       "      <td>бензин</td>\n",
       "      <td>бензин</td>\n",
       "      <td>бензин</td>\n",
       "    </tr>\n",
       "    <tr>\n",
       "      <th>10</th>\n",
       "      <td>https://avatars.mds.yandex.net/get-autoru-vos/...</td>\n",
       "      <td>https://autoru.naydex.net/f1CUg0015/9d04aafvD/...</td>\n",
       "      <td>https://avatars.mds.yandex.net/get-autoru-vos/...</td>\n",
       "      <td>https://autoru.naydex.net/f1CUg0015/9d04aafvD/...</td>\n",
       "      <td>https://autoru.naydex.net/f1CUg0015/9d04aafvD/...</td>\n",
       "    </tr>\n",
       "    <tr>\n",
       "      <th>11</th>\n",
       "      <td>27 000 км</td>\n",
       "      <td>14 000 км</td>\n",
       "      <td>236 000 км</td>\n",
       "      <td>242 050 км</td>\n",
       "      <td>375 282 км</td>\n",
       "    </tr>\n",
       "    <tr>\n",
       "      <th>12</th>\n",
       "      <td>3.5 AT</td>\n",
       "      <td>3.5 AT</td>\n",
       "      <td>1.5 MT</td>\n",
       "      <td>1.6 AMT</td>\n",
       "      <td>3.4 AT</td>\n",
       "    </tr>\n",
       "    <tr>\n",
       "      <th>13</th>\n",
       "      <td>SEDAN AUTOMATIC 3.5</td>\n",
       "      <td>SEDAN AUTOMATIC 3.5</td>\n",
       "      <td>HATCHBACK_3_DOORS MECHANICAL 1.5</td>\n",
       "      <td>SEDAN ROBOT 1.6</td>\n",
       "      <td>ALLROAD_5_DOORS AUTOMATIC 3.4</td>\n",
       "    </tr>\n",
       "    <tr>\n",
       "      <th>14</th>\n",
       "      <td>автоматическая</td>\n",
       "      <td>автоматическая</td>\n",
       "      <td>механическая</td>\n",
       "      <td>роботизированная</td>\n",
       "      <td>автоматическая</td>\n",
       "    </tr>\n",
       "    <tr>\n",
       "      <th>15</th>\n",
       "      <td>1 владелец</td>\n",
       "      <td>1 владелец</td>\n",
       "      <td>3 или более</td>\n",
       "      <td>2 владельца</td>\n",
       "      <td>3 или более</td>\n",
       "    </tr>\n",
       "    <tr>\n",
       "      <th>16</th>\n",
       "      <td>Оригинал</td>\n",
       "      <td>Оригинал</td>\n",
       "      <td>Дубликат</td>\n",
       "      <td>Оригинал</td>\n",
       "      <td>Дубликат</td>\n",
       "    </tr>\n",
       "    <tr>\n",
       "      <th>17</th>\n",
       "      <td>передний</td>\n",
       "      <td>передний</td>\n",
       "      <td>передний</td>\n",
       "      <td>передний</td>\n",
       "      <td>полный</td>\n",
       "    </tr>\n",
       "    <tr>\n",
       "      <th>18</th>\n",
       "      <td>Левый</td>\n",
       "      <td>Левый</td>\n",
       "      <td>Левый</td>\n",
       "      <td>Левый</td>\n",
       "      <td>Левый</td>\n",
       "    </tr>\n",
       "    <tr>\n",
       "      <th>19</th>\n",
       "      <td>Не требует ремонта</td>\n",
       "      <td>Не требует ремонта</td>\n",
       "      <td>Не требует ремонта</td>\n",
       "      <td>Не требует ремонта</td>\n",
       "      <td>Не требует ремонта</td>\n",
       "    </tr>\n",
       "    <tr>\n",
       "      <th>20</th>\n",
       "      <td>Растаможен</td>\n",
       "      <td>Растаможен</td>\n",
       "      <td>Растаможен</td>\n",
       "      <td>Растаможен</td>\n",
       "      <td>Растаможен</td>\n",
       "    </tr>\n",
       "    <tr>\n",
       "      <th>21</th>\n",
       "      <td>https://auto.ru/cars/used/sale/toyota/camry/11...</td>\n",
       "      <td>https://auto.ru/cars/used/sale/toyota/camry/11...</td>\n",
       "      <td>https://auto.ru/cars/used/sale/toyota/yaris/11...</td>\n",
       "      <td>https://auto.ru/cars/used/sale/toyota/corolla/...</td>\n",
       "      <td>https://auto.ru/cars/used/sale/toyota/land_cru...</td>\n",
       "    </tr>\n",
       "    <tr>\n",
       "      <th>22</th>\n",
       "      <td>2 750 000 ₽</td>\n",
       "      <td>3 250 000 ₽</td>\n",
       "      <td>250 000 ₽</td>\n",
       "      <td>650 000 ₽</td>\n",
       "      <td>549 000 ₽</td>\n",
       "    </tr>\n",
       "  </tbody>\n",
       "</table>\n",
       "</div>"
      ],
      "text/plain": [
       "                                                    0  \\\n",
       "0                                              TOYOTA   \n",
       "1                            Toyota Camry VIII (XV70)   \n",
       "2                                               седан   \n",
       "3                                                   4   \n",
       "4                                                2017   \n",
       "5                                                2020   \n",
       "6                                              чёрный   \n",
       "7                                             3.5 LTR   \n",
       "8                                             249 N12   \n",
       "9                                              бензин   \n",
       "10  https://avatars.mds.yandex.net/get-autoru-vos/...   \n",
       "11                                          27 000 км   \n",
       "12                                             3.5 AT   \n",
       "13                                SEDAN AUTOMATIC 3.5   \n",
       "14                                     автоматическая   \n",
       "15                                         1 владелец   \n",
       "16                                           Оригинал   \n",
       "17                                           передний   \n",
       "18                                              Левый   \n",
       "19                                 Не требует ремонта   \n",
       "20                                         Растаможен   \n",
       "21  https://auto.ru/cars/used/sale/toyota/camry/11...   \n",
       "22                                        2 750 000 ₽   \n",
       "\n",
       "                                                    1  \\\n",
       "0                                              TOYOTA   \n",
       "1                 Toyota Camry VIII (XV70) Рестайлинг   \n",
       "2                                               седан   \n",
       "3                                                   4   \n",
       "4                                                2020   \n",
       "5                                                2021   \n",
       "6                                             красный   \n",
       "7                                             3.5 LTR   \n",
       "8                                             249 N12   \n",
       "9                                              бензин   \n",
       "10  https://autoru.naydex.net/f1CUg0015/9d04aafvD/...   \n",
       "11                                          14 000 км   \n",
       "12                                             3.5 AT   \n",
       "13                                SEDAN AUTOMATIC 3.5   \n",
       "14                                     автоматическая   \n",
       "15                                         1 владелец   \n",
       "16                                           Оригинал   \n",
       "17                                           передний   \n",
       "18                                              Левый   \n",
       "19                                 Не требует ремонта   \n",
       "20                                         Растаможен   \n",
       "21  https://auto.ru/cars/used/sale/toyota/camry/11...   \n",
       "22                                        3 250 000 ₽   \n",
       "\n",
       "                                                    2  \\\n",
       "0                                              TOYOTA   \n",
       "1                                      Toyota Yaris I   \n",
       "2                                       хэтчбек 3 дв.   \n",
       "3                                                   3   \n",
       "4                                                1999   \n",
       "5                                                2000   \n",
       "6                                               синий   \n",
       "7                                             1.5 LTR   \n",
       "8                                             106 N12   \n",
       "9                                              бензин   \n",
       "10  https://avatars.mds.yandex.net/get-autoru-vos/...   \n",
       "11                                         236 000 км   \n",
       "12                                             1.5 MT   \n",
       "13                   HATCHBACK_3_DOORS MECHANICAL 1.5   \n",
       "14                                       механическая   \n",
       "15                                        3 или более   \n",
       "16                                           Дубликат   \n",
       "17                                           передний   \n",
       "18                                              Левый   \n",
       "19                                 Не требует ремонта   \n",
       "20                                         Растаможен   \n",
       "21  https://auto.ru/cars/used/sale/toyota/yaris/11...   \n",
       "22                                          250 000 ₽   \n",
       "\n",
       "                                                    3  \\\n",
       "0                                              TOYOTA   \n",
       "1                   Toyota Corolla AMT X (E140, E150)   \n",
       "2                                               седан   \n",
       "3                                                   4   \n",
       "4                                                2006   \n",
       "5                                                2008   \n",
       "6                                               серый   \n",
       "7                                             1.6 LTR   \n",
       "8                                             124 N12   \n",
       "9                                              бензин   \n",
       "10  https://autoru.naydex.net/f1CUg0015/9d04aafvD/...   \n",
       "11                                         242 050 км   \n",
       "12                                            1.6 AMT   \n",
       "13                                    SEDAN ROBOT 1.6   \n",
       "14                                   роботизированная   \n",
       "15                                        2 владельца   \n",
       "16                                           Оригинал   \n",
       "17                                           передний   \n",
       "18                                              Левый   \n",
       "19                                 Не требует ремонта   \n",
       "20                                         Растаможен   \n",
       "21  https://auto.ru/cars/used/sale/toyota/corolla/...   \n",
       "22                                          650 000 ₽   \n",
       "\n",
       "                                                    4  \n",
       "0                                              TOYOTA  \n",
       "1      Toyota Land Cruiser Prado 90 Series Рестайлинг  \n",
       "2                                   внедорожник 5 дв.  \n",
       "3                                                   5  \n",
       "4                                                1999  \n",
       "5                                                1999  \n",
       "6                                         серебристый  \n",
       "7                                             3.4 LTR  \n",
       "8                                             178 N12  \n",
       "9                                              бензин  \n",
       "10  https://autoru.naydex.net/f1CUg0015/9d04aafvD/...  \n",
       "11                                         375 282 км  \n",
       "12                                             3.4 AT  \n",
       "13                      ALLROAD_5_DOORS AUTOMATIC 3.4  \n",
       "14                                     автоматическая  \n",
       "15                                        3 или более  \n",
       "16                                           Дубликат  \n",
       "17                                             полный  \n",
       "18                                              Левый  \n",
       "19                                 Не требует ремонта  \n",
       "20                                         Растаможен  \n",
       "21  https://auto.ru/cars/used/sale/toyota/land_cru...  \n",
       "22                                          549 000 ₽  "
      ]
     },
     "execution_count": 11,
     "metadata": {},
     "output_type": "execute_result"
    }
   ],
   "source": [
    "# ooops... take another look at data to figure out how to name them:\n",
    "df_train.head().T\n"
   ]
  },
  {
   "cell_type": "code",
   "execution_count": 12,
   "metadata": {},
   "outputs": [],
   "source": [
    "# rename train columns:\n",
    "train_columns = train_columns.map({0 : 'brand', \n",
    "                                   1 : 'model_name', \n",
    "                                   2 : 'bodyType',\n",
    "                                   3 : 'numberOfDoors',\n",
    "                                   4 : 'modelDate',\n",
    "                                   5 : 'productionDate',\n",
    "                                   6 : 'color',\n",
    "                                   7 : 'engineDisplacement',\n",
    "                                   8 : 'enginePower',\n",
    "                                   9 : 'fuelType',\n",
    "                                   10 : 'image',\n",
    "                                   11 : 'mileage',\n",
    "                                   12 : 'name',\n",
    "                                   13 : 'vehicleConfiguration',\n",
    "                                   14 : 'vehicleTransmission',\n",
    "                                   15 : 'Владельцы',\n",
    "                                   16 : 'ПТС',\n",
    "                                   17 : 'Привод',\n",
    "                                   18 : 'Руль',\n",
    "                                   19 : 'Состояние',\n",
    "                                   20 : 'Таможня', \n",
    "                                   21 : 'car_url',\n",
    "                                   22 : 'price'})\n",
    "df_train.columns = train_columns\n"
   ]
  },
  {
   "cell_type": "code",
   "execution_count": 13,
   "metadata": {},
   "outputs": [
    {
     "data": {
      "text/html": [
       "<div>\n",
       "<style scoped>\n",
       "    .dataframe tbody tr th:only-of-type {\n",
       "        vertical-align: middle;\n",
       "    }\n",
       "\n",
       "    .dataframe tbody tr th {\n",
       "        vertical-align: top;\n",
       "    }\n",
       "\n",
       "    .dataframe thead th {\n",
       "        text-align: right;\n",
       "    }\n",
       "</style>\n",
       "<table border=\"1\" class=\"dataframe\">\n",
       "  <thead>\n",
       "    <tr style=\"text-align: right;\">\n",
       "      <th></th>\n",
       "      <th>29134</th>\n",
       "    </tr>\n",
       "  </thead>\n",
       "  <tbody>\n",
       "    <tr>\n",
       "      <th>brand</th>\n",
       "      <td>MITSUBISHI</td>\n",
       "    </tr>\n",
       "    <tr>\n",
       "      <th>model_name</th>\n",
       "      <td>Mitsubishi ASX I Рестайлинг</td>\n",
       "    </tr>\n",
       "    <tr>\n",
       "      <th>bodyType</th>\n",
       "      <td>внедорожник 5 дв.</td>\n",
       "    </tr>\n",
       "    <tr>\n",
       "      <th>numberOfDoors</th>\n",
       "      <td>5</td>\n",
       "    </tr>\n",
       "    <tr>\n",
       "      <th>modelDate</th>\n",
       "      <td>2012</td>\n",
       "    </tr>\n",
       "    <tr>\n",
       "      <th>productionDate</th>\n",
       "      <td>2014</td>\n",
       "    </tr>\n",
       "    <tr>\n",
       "      <th>color</th>\n",
       "      <td>белый</td>\n",
       "    </tr>\n",
       "    <tr>\n",
       "      <th>engineDisplacement</th>\n",
       "      <td>1.6 LTR</td>\n",
       "    </tr>\n",
       "    <tr>\n",
       "      <th>enginePower</th>\n",
       "      <td>117 N12</td>\n",
       "    </tr>\n",
       "    <tr>\n",
       "      <th>fuelType</th>\n",
       "      <td>бензин</td>\n",
       "    </tr>\n",
       "    <tr>\n",
       "      <th>image</th>\n",
       "      <td>https://autoru.naydex.net/XwA1Z7628/ec2496kA8/...</td>\n",
       "    </tr>\n",
       "    <tr>\n",
       "      <th>mileage</th>\n",
       "      <td>176 219 км</td>\n",
       "    </tr>\n",
       "    <tr>\n",
       "      <th>name</th>\n",
       "      <td>1.6 MT</td>\n",
       "    </tr>\n",
       "    <tr>\n",
       "      <th>vehicleConfiguration</th>\n",
       "      <td>ALLROAD_5_DOORS MECHANICAL 1.6</td>\n",
       "    </tr>\n",
       "    <tr>\n",
       "      <th>vehicleTransmission</th>\n",
       "      <td>механическая</td>\n",
       "    </tr>\n",
       "    <tr>\n",
       "      <th>Владельцы</th>\n",
       "      <td>1 владелец</td>\n",
       "    </tr>\n",
       "    <tr>\n",
       "      <th>ПТС</th>\n",
       "      <td>Оригинал</td>\n",
       "    </tr>\n",
       "    <tr>\n",
       "      <th>Привод</th>\n",
       "      <td>передний</td>\n",
       "    </tr>\n",
       "    <tr>\n",
       "      <th>Руль</th>\n",
       "      <td>Левый</td>\n",
       "    </tr>\n",
       "    <tr>\n",
       "      <th>Состояние</th>\n",
       "      <td>Не требует ремонта</td>\n",
       "    </tr>\n",
       "    <tr>\n",
       "      <th>Таможня</th>\n",
       "      <td>Растаможен</td>\n",
       "    </tr>\n",
       "    <tr>\n",
       "      <th>car_url</th>\n",
       "      <td>https://auto.ru/cars/used/sale/mitsubishi/asx/...</td>\n",
       "    </tr>\n",
       "    <tr>\n",
       "      <th>price</th>\n",
       "      <td>879 000 ₽</td>\n",
       "    </tr>\n",
       "  </tbody>\n",
       "</table>\n",
       "</div>"
      ],
      "text/plain": [
       "                                                                  29134\n",
       "brand                                                        MITSUBISHI\n",
       "model_name                                  Mitsubishi ASX I Рестайлинг\n",
       "bodyType                                              внедорожник 5 дв.\n",
       "numberOfDoors                                                         5\n",
       "modelDate                                                          2012\n",
       "productionDate                                                     2014\n",
       "color                                                             белый\n",
       "engineDisplacement                                              1.6 LTR\n",
       "enginePower                                                     117 N12\n",
       "fuelType                                                         бензин\n",
       "image                 https://autoru.naydex.net/XwA1Z7628/ec2496kA8/...\n",
       "mileage                                                      176 219 км\n",
       "name                                                             1.6 MT\n",
       "vehicleConfiguration                     ALLROAD_5_DOORS MECHANICAL 1.6\n",
       "vehicleTransmission                                        механическая\n",
       "Владельцы                                                    1 владелец\n",
       "ПТС                                                            Оригинал\n",
       "Привод                                                         передний\n",
       "Руль                                                              Левый\n",
       "Состояние                                            Не требует ремонта\n",
       "Таможня                                                      Растаможен\n",
       "car_url               https://auto.ru/cars/used/sale/mitsubishi/asx/...\n",
       "price                                                         879 000 ₽"
      ]
     },
     "execution_count": 13,
     "metadata": {},
     "output_type": "execute_result"
    }
   ],
   "source": [
    "# take a look if all good now:\n",
    "df_train.sample().T\n"
   ]
  },
  {
   "cell_type": "code",
   "execution_count": 14,
   "metadata": {},
   "outputs": [
    {
     "data": {
      "text/plain": [
       "['vendor',\n",
       " 'parsing_unixtime',\n",
       " 'Владение',\n",
       " 'complectation_dict',\n",
       " 'equipment_dict',\n",
       " 'description',\n",
       " 'priceCurrency',\n",
       " 'super_gen',\n",
       " 'sell_id',\n",
       " 'model_info']"
      ]
     },
     "execution_count": 14,
     "metadata": {},
     "output_type": "execute_result"
    }
   ],
   "source": [
    "# find columns in test not being presented in train:\n",
    "cols_to_drop_from_test = list(set(test_columns) - set(train_columns))\n",
    "cols_to_drop_from_test\n"
   ]
  },
  {
   "cell_type": "code",
   "execution_count": 15,
   "metadata": {},
   "outputs": [
    {
     "data": {
      "text/plain": [
       "('2020-Oct-19', '2020-Oct-26')"
      ]
     },
     "execution_count": 15,
     "metadata": {},
     "output_type": "execute_result"
    }
   ],
   "source": [
    "# hmmmm ))) interesting, how old test dataset is:\n",
    "datetime.fromtimestamp(df_test[\"parsing_unixtime\"].min()).strftime('%Y-%b-%d'),\\\n",
    "datetime.fromtimestamp(df_test[\"parsing_unixtime\"].max()).strftime('%Y-%b-%d')\n"
   ]
  },
  {
   "cell_type": "markdown",
   "metadata": {},
   "source": [
    "Данным ровно год. Цены выросли. По данным статистики, на автомобили - на 15% Возможно, следует промасштабировать цену..."
   ]
  },
  {
   "cell_type": "code",
   "execution_count": 16,
   "metadata": {},
   "outputs": [
    {
     "data": {
      "text/plain": [
       "RUB    34686\n",
       "Name: priceCurrency, dtype: int64"
      ]
     },
     "execution_count": 16,
     "metadata": {},
     "output_type": "execute_result"
    }
   ],
   "source": [
    "# priceCurrency - hopefulyy, the same everywhere:\n",
    "df_test.priceCurrency.value_counts()\n"
   ]
  },
  {
   "cell_type": "markdown",
   "metadata": {},
   "source": [
    "OK, as in train dataset all prices are in RUB "
   ]
  },
  {
   "cell_type": "code",
   "execution_count": 17,
   "metadata": {},
   "outputs": [
    {
     "data": {
      "text/plain": [
       "['price']"
      ]
     },
     "execution_count": 17,
     "metadata": {},
     "output_type": "execute_result"
    }
   ],
   "source": [
    "# check if we've got new columns during parsing:\n",
    "new_columns = list(set(train_columns) - set(test_columns))\n",
    "new_columns\n"
   ]
  },
  {
   "cell_type": "markdown",
   "metadata": {},
   "source": [
    "that's ok, we are not supposed to know the price in test dataset\n"
   ]
  },
  {
   "cell_type": "code",
   "execution_count": 18,
   "metadata": {},
   "outputs": [
    {
     "data": {
      "text/plain": [
       "(BMW           4473\n",
       " VOLKSWAGEN    4404\n",
       " NISSAN        4393\n",
       " MERCEDES      4180\n",
       " TOYOTA        3913\n",
       " AUDI          3421\n",
       " MITSUBISHI    2843\n",
       " SKODA         2741\n",
       " VOLVO         1463\n",
       " HONDA         1150\n",
       " INFINITI       871\n",
       " LEXUS          834\n",
       " Name: brand, dtype: int64,\n",
       " '==================',\n",
       " AUDI          3383\n",
       " SKODA         3383\n",
       " HONDA         3377\n",
       " BMW           3162\n",
       " NISSAN        3160\n",
       " MERCEDES      3083\n",
       " MITSUBISHI    3065\n",
       " TOYOTA        2992\n",
       " VOLKSWAGEN    2980\n",
       " LEXUS         2926\n",
       " VOLVO         2411\n",
       " INFINITI      1343\n",
       " Name: brand, dtype: int64)"
      ]
     },
     "execution_count": 18,
     "metadata": {},
     "output_type": "execute_result"
    }
   ],
   "source": [
    "# compare main values in test and train to make sure we have good data:\n",
    "df_test.brand.value_counts(), \"==================\", df_train.brand.value_counts()\n"
   ]
  },
  {
   "cell_type": "markdown",
   "metadata": {},
   "source": [
    "There are only 12 brands represented in test dataset , for now therefore no need to process others"
   ]
  },
  {
   "cell_type": "code",
   "execution_count": 19,
   "metadata": {},
   "outputs": [
    {
     "data": {
      "text/plain": [
       "(69951, 34)"
      ]
     },
     "execution_count": 19,
     "metadata": {},
     "output_type": "execute_result"
    }
   ],
   "source": [
    "# join datasets marking them for future split:\n",
    "df_test['price'] = 0\n",
    "df_test['test_train'] = \"test\"\n",
    "df_train['test_train'] = \"train\"\n",
    "data = df_train.append(df_test, sort=False).reset_index(drop=True) # объединяем\n",
    "data.shape\n"
   ]
  },
  {
   "cell_type": "code",
   "execution_count": 20,
   "metadata": {},
   "outputs": [
    {
     "data": {
      "text/plain": [
       "(69951, 24)"
      ]
     },
     "execution_count": 20,
     "metadata": {},
     "output_type": "execute_result"
    }
   ],
   "source": [
    "# remove columns we dot't have in train:\n",
    "data.drop(cols_to_drop_from_test, axis=1, inplace=True)\n",
    "data.shape\n"
   ]
  },
  {
   "cell_type": "code",
   "execution_count": 21,
   "metadata": {},
   "outputs": [
    {
     "name": "stdout",
     "output_type": "stream",
     "text": [
      "<class 'pandas.core.frame.DataFrame'>\n",
      "RangeIndex: 69951 entries, 0 to 69950\n",
      "Data columns (total 24 columns):\n",
      " #   Column        Non-Null Count  Dtype \n",
      "---  ------        --------------  ----- \n",
      " 0   brand         69951 non-null  object\n",
      " 1   model_name    69951 non-null  object\n",
      " 2   body_type     69951 non-null  object\n",
      " 3   doors         69951 non-null  int64 \n",
      " 4   model_date    69951 non-null  int64 \n",
      " 5   prod_date     69951 non-null  int64 \n",
      " 6   color         69951 non-null  object\n",
      " 7   engine_V      69951 non-null  object\n",
      " 8   power         69951 non-null  object\n",
      " 9   fuel          69951 non-null  object\n",
      " 10  image         69951 non-null  object\n",
      " 11  mileage       69951 non-null  object\n",
      " 12  name          69951 non-null  object\n",
      " 13  config        69951 non-null  object\n",
      " 14  transmission  69951 non-null  object\n",
      " 15  owners        69951 non-null  object\n",
      " 16  pass          69950 non-null  object\n",
      " 17  drive         69951 non-null  object\n",
      " 18  wheel         69951 non-null  object\n",
      " 19  state         69951 non-null  object\n",
      " 20  custom        69951 non-null  object\n",
      " 21  car_url       69951 non-null  object\n",
      " 22  price         69951 non-null  object\n",
      " 23  test_train    69951 non-null  object\n",
      "dtypes: int64(3), object(21)\n",
      "memory usage: 12.8+ MB\n"
     ]
    }
   ],
   "source": [
    "# rename columns to make their names more commfortable to use:\n",
    "col_replacement = {'bodyType' : 'body_type', \n",
    "                   'numberOfDoors': 'doors',\n",
    "                  'modelDate':'model_date',\n",
    "                  'productionDate': 'prod_date',\n",
    "                  'engineDisplacement':'engine_V',\n",
    "                  'enginePower' : 'power',\n",
    "                  'fuelType': 'fuel',\n",
    "                  'vehicleConfiguration' : 'config',\n",
    "                  'vehicleTransmission' : 'transmission',\n",
    "                  'Владельцы' : 'owners',\n",
    "                   'ПТС' : 'pass',\n",
    "                   'Привод' : 'drive',\n",
    "                   'Руль' : 'wheel',\n",
    "                   'Состояние' : 'state',\n",
    "                   'Таможня' : 'custom'\n",
    "                  }\n",
    "data.rename(columns=col_replacement, inplace=True)\n",
    "data.info()\n"
   ]
  },
  {
   "cell_type": "markdown",
   "metadata": {},
   "source": [
    "## VALUE CLEANUP\n"
   ]
  },
  {
   "cell_type": "markdown",
   "metadata": {},
   "source": [
    "- process columns manually one by one\n",
    "- split column names into 3 lists: categorian, numeric and binary\n",
    "- add new columns\n",
    "- drop some columns\n"
   ]
  },
  {
   "cell_type": "code",
   "execution_count": 22,
   "metadata": {},
   "outputs": [],
   "source": [
    "# lists to sort out columns for future processing:\n",
    "cat_columns = []\n",
    "num_columns = []\n",
    "bin_columns = []\n"
   ]
  },
  {
   "cell_type": "code",
   "execution_count": 23,
   "metadata": {},
   "outputs": [],
   "source": [
    "# when necesssary turn this on:\n",
    "# pd.set_option('display.max_rows', None)\n"
   ]
  },
  {
   "cell_type": "markdown",
   "metadata": {},
   "source": [
    "### 0. brand"
   ]
  },
  {
   "cell_type": "code",
   "execution_count": 24,
   "metadata": {},
   "outputs": [
    {
     "data": {
      "text/plain": [
       "BMW           7635\n",
       "NISSAN        7553\n",
       "VOLKSWAGEN    7384\n",
       "MERCEDES      7263\n",
       "TOYOTA        6905\n",
       "AUDI          6804\n",
       "SKODA         6124\n",
       "MITSUBISHI    5908\n",
       "HONDA         4527\n",
       "VOLVO         3874\n",
       "LEXUS         3760\n",
       "INFINITI      2214\n",
       "Name: brand, dtype: int64"
      ]
     },
     "execution_count": 24,
     "metadata": {},
     "output_type": "execute_result"
    }
   ],
   "source": [
    "# how many cars of each brand do we have:\n",
    "data.brand.value_counts()\n"
   ]
  },
  {
   "cell_type": "code",
   "execution_count": 25,
   "metadata": {},
   "outputs": [],
   "source": [
    "cat_columns.append(\"brand\")\n"
   ]
  },
  {
   "cell_type": "markdown",
   "metadata": {},
   "source": [
    "### 1. model_name"
   ]
  },
  {
   "cell_type": "code",
   "execution_count": 26,
   "metadata": {},
   "outputs": [
    {
     "data": {
      "text/plain": [
       "OCTAVIA                                    1418\n",
       "5ER                                        1026\n",
       "LANCER                                      855\n",
       "E_KLASSE                                    809\n",
       "PASSAT                                      782\n",
       "                                           ... \n",
       "Nissan Largo II (GC22)                        1\n",
       "BMW 5 серии 520i V (E60/E61) Рестайлинг       1\n",
       "Toyota Town Ace II                            1\n",
       "Toyota Sequoia I Рестайлинг                   1\n",
       "SIENTA                                        1\n",
       "Name: model_name, Length: 2861, dtype: int64"
      ]
     },
     "execution_count": 26,
     "metadata": {},
     "output_type": "execute_result"
    }
   ],
   "source": [
    "data.model_name.value_counts()\n"
   ]
  },
  {
   "cell_type": "code",
   "execution_count": 27,
   "metadata": {},
   "outputs": [
    {
     "data": {
      "text/plain": [
       "{'OCTAVIA': 1418,\n",
       " '5ER': 1026,\n",
       " 'LANCER': 855,\n",
       " 'E_KLASSE': 809,\n",
       " 'PASSAT': 782,\n",
       " 'A6': 757,\n",
       " '3ER': 752,\n",
       " 'POLO': 724,\n",
       " 'CAMRY': 709,\n",
       " 'X5': 675,\n",
       " 'X_TRAIL': 654,\n",
       " 'A4': 626,\n",
       " 'QASHQAI': 609,\n",
       " 'S_KLASSE': 549,\n",
       " 'OUTLANDER': 544,\n",
       " 'LAND_CRUISER': 514,\n",
       " 'ALMERA': 502,\n",
       " 'TIGUAN': 491,\n",
       " 'Volkswagen Polo V Рестайлинг': 473,\n",
       " 'TOUAREG': 469,\n",
       " 'COROLLA': 456,\n",
       " 'RAV_4': 447,\n",
       " 'C_KLASSE': 428,\n",
       " 'GOLF': 424,\n",
       " 'Skoda Octavia II (A5) Рестайлинг': 400,\n",
       " 'LAND_CRUISER_PRADO': 387,\n",
       " 'TEANA': 374,\n",
       " 'RAPID': 370,\n",
       " 'Skoda Octavia III (A7) Рестайлинг': 361,\n",
       " 'Skoda Octavia III (A7)': 356,\n",
       " '7ER': 343,\n",
       " 'M_KLASSE': 343,\n",
       " 'XC90': 340,\n",
       " 'JETTA': 324,\n",
       " 'X6': 317,\n",
       " 'CIVIC': 316,\n",
       " 'Volkswagen Tiguan I Рестайлинг': 311,\n",
       " 'PAJERO': 306,\n",
       " 'Nissan Qashqai II': 305,\n",
       " 'Q7': 302,\n",
       " 'FX': 297,\n",
       " 'X3': 283,\n",
       " 'Volvo XC90 I Рестайлинг': 277,\n",
       " 'Nissan X-Trail III': 272,\n",
       " 'JUKE': 268,\n",
       " 'Volkswagen Tiguan II': 267,\n",
       " 'Skoda Rapid I Рестайлинг': 262,\n",
       " 'ACCORD': 260,\n",
       " 'SUPERB': 248,\n",
       " 'Mitsubishi Outlander III Рестайлинг 2': 247,\n",
       " 'Q5': 246,\n",
       " 'S60': 246,\n",
       " 'FABIA': 245,\n",
       " 'Volkswagen Polo V': 244,\n",
       " 'Skoda Rapid I': 244,\n",
       " 'Skoda Fabia II Рестайлинг': 244,\n",
       " 'Mitsubishi Outlander III': 242,\n",
       " 'YETI': 241,\n",
       " 'MURANO': 239,\n",
       " 'CR_V': 235,\n",
       " 'RX': 235,\n",
       " 'GL_KLASSE': 233,\n",
       " 'A3': 225,\n",
       " 'Honda Civic VIII': 221,\n",
       " 'Skoda Kodiaq I': 219,\n",
       " '1ER': 218,\n",
       " 'PRIMERA': 217,\n",
       " 'X1': 215,\n",
       " 'A5': 211,\n",
       " 'A8': 204,\n",
       " 'Nissan X-Trail II Рестайлинг': 201,\n",
       " 'XC60': 195,\n",
       " 'Nissan Qashqai I Рестайлинг': 194,\n",
       " 'Nissan Juke I': 190,\n",
       " 'PAJERO_SPORT': 186,\n",
       " 'Mitsubishi Lancer IX Рестайлинг': 186,\n",
       " '80': 185,\n",
       " 'TRANSPORTER': 182,\n",
       " 'ALMERA_CLASSIC': 176,\n",
       " 'S80': 176,\n",
       " 'Toyota RAV4 IV (CA40) Рестайлинг': 172,\n",
       " 'Nissan Terrano III (D10)': 171,\n",
       " 'Skoda Octavia I (A4) Рестайлинг': 170,\n",
       " 'Audi Q7 II (4M)': 169,\n",
       " 'GALANT': 167,\n",
       " 'Toyota Camry VIII (XV70)': 167,\n",
       " 'PATHFINDER': 167,\n",
       " 'Lexus LX 570 III Рестайлинг 2': 163,\n",
       " 'MULTIVAN': 161,\n",
       " 'TIIDA': 161,\n",
       " 'Skoda Rapid II': 160,\n",
       " 'Audi Q5 I (8R) Рестайлинг': 155,\n",
       " 'LX': 154,\n",
       " 'PASSAT_CC': 152,\n",
       " 'Skoda Yeti I': 151,\n",
       " 'CARAVELLE': 151,\n",
       " 'Q3': 147,\n",
       " 'Infiniti QX70': 147,\n",
       " 'Mercedes-Benz E-Класс 200 V (W213, S213, C238)': 145,\n",
       " 'Toyota Land Cruiser 200 Series Рестайлинг 2': 145,\n",
       " 'Toyota RAV4 IV (CA40)': 140,\n",
       " 'Audi A6 IV (C7) Рестайлинг': 140,\n",
       " 'AVENSIS': 139,\n",
       " 'ASX': 139,\n",
       " 'Nissan Almera III (G15)': 137,\n",
       " 'Mitsubishi Lancer X': 136,\n",
       " 'Mitsubishi Lancer IX': 136,\n",
       " 'Honda CR-V IV': 135,\n",
       " 'Volvo XC70 II': 135,\n",
       " 'NOTE': 134,\n",
       " 'Volvo XC60 I Рестайлинг': 132,\n",
       " 'Mitsubishi Outlander III Рестайлинг 3': 132,\n",
       " 'CARISMA': 130,\n",
       " 'Volvo S60 II': 129,\n",
       " 'Audi A4 V (B9)': 129,\n",
       " 'G_KLASSE': 128,\n",
       " 'Lexus RX 350 II Рестайлинг': 126,\n",
       " 'Audi Q5 I (8R)': 125,\n",
       " 'Honda CR-V III': 124,\n",
       " 'Volvo XC60 I': 123,\n",
       " 'Volvo XC90 II': 123,\n",
       " 'Audi Q3 I (8U)': 122,\n",
       " '6ER': 122,\n",
       " 'Audi A6 IV (C7)': 122,\n",
       " 'TERRANO': 122,\n",
       " 'Skoda Yeti I Рестайлинг': 121,\n",
       " 'S40': 121,\n",
       " 'Audi Q5 II (FY)': 120,\n",
       " 'Audi Q7 I (4L) Рестайлинг': 118,\n",
       " 'Mitsubishi Pajero IV Рестайлинг 1': 117,\n",
       " 'PATROL': 115,\n",
       " 'Volkswagen Polo VI': 113,\n",
       " 'Volvo XC90 I': 111,\n",
       " '100': 109,\n",
       " 'Toyota Camry VII (XV50)': 109,\n",
       " 'Lexus LX 570 III': 108,\n",
       " 'CADDY': 108,\n",
       " 'Toyota Land Cruiser Prado 150 Series Рестайлинг 1': 108,\n",
       " 'Mitsubishi Pajero Sport III': 106,\n",
       " 'Lexus NX 200 I': 105,\n",
       " 'GLK_KLASSE': 105,\n",
       " 'Lexus LX 570 III Рестайлинг': 104,\n",
       " 'HIGHLANDER': 104,\n",
       " 'KODIAQ': 102,\n",
       " 'Mitsubishi ASX I Рестайлинг': 102,\n",
       " 'Mitsubishi Outlander II Рестайлинг': 100,\n",
       " 'MAXIMA': 99,\n",
       " 'Honda CR-V III Рестайлинг': 99,\n",
       " 'G35': 99,\n",
       " 'Volkswagen Touareg II': 99,\n",
       " 'CLS_KLASSE': 97,\n",
       " 'Lexus RX 350 III': 97,\n",
       " 'XC70': 97,\n",
       " 'Nissan Qashqai I': 97,\n",
       " 'X4': 96,\n",
       " 'Mitsubishi Outlander II': 95,\n",
       " 'Lexus LX 450d III Рестайлинг 2': 95,\n",
       " 'Audi A6 III (C6)': 94,\n",
       " 'Audi A3 III (8V)': 94,\n",
       " 'Volvo S60 I Рестайлинг': 93,\n",
       " 'Audi 80 IV (B3)': 92,\n",
       " 'Toyota RAV4 III (XA30) Рестайлинг': 91,\n",
       " 'L200': 90,\n",
       " 'GS': 90,\n",
       " 'Nissan X-Trail II': 90,\n",
       " 'Skoda Superb III': 90,\n",
       " 'Volkswagen Jetta VI Рестайлинг': 90,\n",
       " 'GLE_KLASSE': 89,\n",
       " 'Lexus RX 200t IV': 89,\n",
       " 'Mitsubishi ASX I': 87,\n",
       " 'Honda Accord VIII': 87,\n",
       " 'Nissan Almera Classic I': 86,\n",
       " 'Audi A4 IV (B8) Рестайлинг': 86,\n",
       " 'Toyota Camry VII (XV50) Рестайлинг': 86,\n",
       " 'Toyota Land Cruiser Prado 150 Series': 86,\n",
       " 'ALLROAD': 85,\n",
       " 'Toyota Land Cruiser 200 Series Рестайлинг 1': 85,\n",
       " 'GLC_KLASSE': 84,\n",
       " 'Nissan Qashqai II Рестайлинг': 84,\n",
       " 'QX56': 83,\n",
       " 'Lexus RX 350 III Рестайлинг': 82,\n",
       " 'Volvo XC60 II': 82,\n",
       " 'Lexus RX 270 III Рестайлинг': 81,\n",
       " 'A_KLASSE': 80,\n",
       " 'QX70': 80,\n",
       " 'A7': 80,\n",
       " 'Skoda Fabia II': 79,\n",
       " 'Volkswagen Touareg II Рестайлинг': 79,\n",
       " 'Nissan Tiida I Рестайлинг': 79,\n",
       " 'Audi A4 IV (B8)': 78,\n",
       " 'Lexus NX 200 I Рестайлинг': 78,\n",
       " 'Infiniti QX56 II': 78,\n",
       " 'X6_M': 78,\n",
       " 'Audi A6 II (C5)': 77,\n",
       " 'Mitsubishi Pajero IV': 77,\n",
       " 'Lexus RX 350 IV': 77,\n",
       " 'Volvo S40 II Рестайлинг': 77,\n",
       " 'NX': 76,\n",
       " 'Volkswagen Passat B6': 76,\n",
       " 'GLS_KLASSE': 75,\n",
       " 'CLA_KLASSE': 75,\n",
       " 'AURIS': 75,\n",
       " 'ES': 75,\n",
       " 'Honda CR-V I': 74,\n",
       " 'Toyota Land Cruiser Prado 150 Series Рестайлинг 2': 74,\n",
       " 'Lexus RX 300 IV': 74,\n",
       " 'M': 74,\n",
       " 'V_KLASSE': 74,\n",
       " 'Skoda Superb II': 73,\n",
       " 'LS': 73,\n",
       " 'Audi Q7 I (4L)': 73,\n",
       " 'Nissan X-Trail III Рестайлинг': 73,\n",
       " 'Honda Accord VII Рестайлинг': 72,\n",
       " 'BMW X6 30d II (F16)': 72,\n",
       " 'VIANO': 72,\n",
       " 'Mitsubishi Carisma I Рестайлинг': 72,\n",
       " 'TOURAN': 71,\n",
       " 'BMW X5 30d IV (G05)': 71,\n",
       " 'Mercedes-Benz GLS 350 d I (X166)': 70,\n",
       " 'Audi 100 IV (C4)': 70,\n",
       " 'Mitsubishi Pajero Sport II': 69,\n",
       " 'G_KLASSE_AMG': 69,\n",
       " 'Honda HR-V I': 69,\n",
       " 'Honda Freed I': 69,\n",
       " 'Volkswagen Tiguan I': 69,\n",
       " 'Volkswagen Passat B8': 69,\n",
       " 'Volkswagen Jetta VI': 69,\n",
       " 'Lexus RX 300 I': 68,\n",
       " 'Volkswagen Passat B7': 68,\n",
       " 'Volvo S80 II Рестайлинг': 68,\n",
       " 'GLA_CLASS': 67,\n",
       " 'Audi Q3 I (8U) Рестайлинг': 67,\n",
       " 'Volvo 850': 66,\n",
       " 'Mitsubishi Lancer X Рестайлинг': 66,\n",
       " 'S_KLASSE_AMG': 66,\n",
       " '4': 66,\n",
       " 'Volvo S80 II': 65,\n",
       " 'Mitsubishi Outlander I': 65,\n",
       " 'B_KLASSE': 64,\n",
       " 'VITO': 64,\n",
       " 'Lexus ES 250 VI': 64,\n",
       " 'MARK_II': 64,\n",
       " 'Honda Fit III': 63,\n",
       " 'Audi A7 I (4G)': 63,\n",
       " 'Honda Shuttle II': 63,\n",
       " 'GOLF_PLUS': 63,\n",
       " 'Lexus RX 300 IV Рестайлинг': 62,\n",
       " 'Audi A4 III (B7)': 62,\n",
       " 'Lexus NX 200t I': 62,\n",
       " 'Mercedes-Benz E-Класс 200 IV (W212, S212, C207) Рестайлинг': 61,\n",
       " 'Infiniti FX FX37 II (S51) Рестайлинг': 60,\n",
       " 'Audi A5 I (8T) Рестайлинг': 60,\n",
       " 'Mitsubishi Pajero Sport II Рестайлинг': 59,\n",
       " 'Infiniti Q50 I': 59,\n",
       " 'Lexus GX 460 II': 59,\n",
       " 'IS': 58,\n",
       " 'MICRA': 58,\n",
       " 'Infiniti FX FX35 I (S50)': 58,\n",
       " 'Honda Civic VI': 58,\n",
       " 'Honda Fit I': 57,\n",
       " 'Toyota RAV4 V (XA50)': 56,\n",
       " 'Lexus GX 470 I': 56,\n",
       " 'Audi A4 II (B6)': 56,\n",
       " 'Honda CR-V II': 56,\n",
       " 'Mitsubishi Outlander III Рестайлинг': 55,\n",
       " 'Honda Civic VIII Рестайлинг': 55,\n",
       " 'Toyota RAV4 III (XA30)': 55,\n",
       " 'Volvo S80 I': 55,\n",
       " 'Skoda Karoq I': 54,\n",
       " 'Volkswagen Golf VI': 54,\n",
       " 'Lexus RX 330 II': 54,\n",
       " 'CELICA': 53,\n",
       " 'GX': 53,\n",
       " 'Audi A5 II (F5)': 53,\n",
       " 'S_CLASS_MAYBACH': 53,\n",
       " 'Infiniti FX FX37 II (S51)': 53,\n",
       " 'Honda Vezel I': 52,\n",
       " 'Skoda Octavia II (A5)': 52,\n",
       " 'HILUX': 52,\n",
       " 'Honda Accord VIII Рестайлинг': 52,\n",
       " 'Lexus NX 300 I Рестайлинг': 52,\n",
       " 'Volkswagen Golf VII': 51,\n",
       " 'Toyota Highlander II (U40) Рестайлинг': 51,\n",
       " 'GLE_KLASSE_COUPE': 51,\n",
       " 'EX': 51,\n",
       " 'SHARAN': 51,\n",
       " 'AMAROK': 51,\n",
       " 'X5_M': 50,\n",
       " 'BMW X3 30d xDrive III (G01)': 50,\n",
       " 'BMW 5 серии 520d xDrive VII (G30/G31)': 50,\n",
       " 'Nissan Murano II (Z51) Рестайлинг 2': 50,\n",
       " 'Toyota Hilux VIII': 49,\n",
       " 'Lexus GX 460 II Рестайлинг': 49,\n",
       " 'Audi A6 III (C6) Рестайлинг': 49,\n",
       " 'Mitsubishi Colt VI (Z20/Z30)': 49,\n",
       " 'Mitsubishi L200 IV': 49,\n",
       " 'Infiniti FX FX35 I (S50) Рестайлинг': 49,\n",
       " 'X7': 49,\n",
       " 'Mercedes-Benz GL-Класс 350 CDI BlueTEC II (X166)': 49,\n",
       " 'Nissan Primera III (P12)': 49,\n",
       " 'BMW X5 30d III (F15)': 49,\n",
       " 'Nissan Note I Рестайлинг': 48,\n",
       " 'FELICIA': 48,\n",
       " 'COLT': 48,\n",
       " 'Audi A5 I (8T)': 48,\n",
       " 'Infiniti QX80 I Рестайлинг': 48,\n",
       " 'Nissan Pathfinder III Рестайлинг': 48,\n",
       " 'Audi A3 II (8P) Рестайлинг 2': 48,\n",
       " 'Toyota Corolla XI (E160, E170)': 48,\n",
       " 'Nissan Murano III (Z52)': 48,\n",
       " 'Mercedes-Benz GLC 250 I (X253)': 48,\n",
       " 'Nissan Tiida I': 48,\n",
       " 'Lexus LX 470 II Рестайлинг': 48,\n",
       " 'Toyota Corolla X (E140, E150) Рестайлинг': 48,\n",
       " 'Audi A6 II (C5) Рестайлинг': 47,\n",
       " 'BMW X5 25d III (F15)': 47,\n",
       " 'Volkswagen Touareg III': 47,\n",
       " 'PILOT': 46,\n",
       " 'Honda Civic VII': 46,\n",
       " 'CL_KLASSE': 46,\n",
       " 'Lexus ES 250 VII': 46,\n",
       " 'Toyota Auris I': 46,\n",
       " 'Toyota Land Cruiser 200 Series': 46,\n",
       " 'W124': 46,\n",
       " 'Lexus IS 250 II': 46,\n",
       " 'QASHQAI_PLUS_2': 45,\n",
       " 'Lexus GS 300 III': 45,\n",
       " 'YARIS': 45,\n",
       " 'Toyota Camry VI (XV40)': 45,\n",
       " 'Honda Accord VI': 45,\n",
       " 'Honda Freed II': 45,\n",
       " 'Volvo S60 II Рестайлинг': 45,\n",
       " 'Infiniti G G35 IV': 45,\n",
       " 'Volvo XC70 II Рестайлинг': 45,\n",
       " 'Mitsubishi Pajero IV Рестайлинг 2': 44,\n",
       " 'TT': 44,\n",
       " 'Mercedes-Benz GLE 350 d I (W166)': 44,\n",
       " 'BMW X3 20d xDrive III (G01)': 44,\n",
       " 'PRIUS': 44,\n",
       " 'Mitsubishi Pajero Sport I Рестайлинг': 43,\n",
       " 'Mercedes-Benz GLE Coupe 350 d I (C292)': 43,\n",
       " 'Nissan Juke I Рестайлинг': 43,\n",
       " 'Q50': 43,\n",
       " 'Honda Freed Spike I': 43,\n",
       " 'Honda Accord IX': 43,\n",
       " 'HR_V': 43,\n",
       " 'Volvo S80 I Рестайлинг': 43,\n",
       " 'Mercedes-Benz E-Класс 200 7G-Tronic IV (W212, S212, C207)': 43,\n",
       " 'BMW 5 серии 530d xDrive VII (G30/G31)': 43,\n",
       " 'Infiniti FX FX35 II (S51)': 42,\n",
       " 'Skoda Fabia I': 42,\n",
       " 'Infiniti QX50 I': 42,\n",
       " 'Volkswagen Touareg I Рестайлинг': 42,\n",
       " 'Lexus GS 350 IV': 42,\n",
       " 'Toyota Corolla X (E140, E150)': 41,\n",
       " 'Volvo S40 II': 41,\n",
       " 'Volvo S60 I': 41,\n",
       " 'Infiniti G G25 IV': 41,\n",
       " 'Honda CR-V V': 41,\n",
       " 'Audi A3 III (8V) Рестайлинг': 41,\n",
       " 'Nissan Teana II': 41,\n",
       " 'Nissan Teana III': 41,\n",
       " 'SENTRA': 41,\n",
       " 'M5': 40,\n",
       " 'BMW 5 серии 530i xDrive VII (G30/G31)': 40,\n",
       " 'SERENA': 40,\n",
       " 'Infiniti QX50 II': 40,\n",
       " 'LEAF': 40,\n",
       " 'Honda Civic V': 39,\n",
       " 'CLK_KLASSE': 39,\n",
       " 'Mercedes-Benz S-Класс 500 Long VI (W222, C217)': 39,\n",
       " 'Toyota Corolla IX (E120, E130) Рестайлинг': 39,\n",
       " 'Lexus RX 300 II': 39,\n",
       " 'Lexus ES 200 VI Рестайлинг': 39,\n",
       " 'HIACE': 39,\n",
       " 'Toyota Land Cruiser Prado 120 Series': 39,\n",
       " 'Lexus LX 470 II': 39,\n",
       " 'Infiniti M M37 IV': 39,\n",
       " 'Nissan Note I': 38,\n",
       " 'BMW 3 серии 320d xDrive VII (G2x)': 38,\n",
       " 'Honda Stream I': 38,\n",
       " 'Volvo C30 I': 37,\n",
       " 'BMW X5 35i III (F15)': 37,\n",
       " 'BMW X5 35i II (E70) Рестайлинг': 37,\n",
       " 'Volvo S90 II': 37,\n",
       " 'BMW 3 серии 320i VI (F3x)': 37,\n",
       " 'Volvo S40 I Рестайлинг': 37,\n",
       " 'Mercedes-Benz CLA 200 I (C117, X117) Рестайлинг': 37,\n",
       " 'Toyota Highlander III (U50)': 37,\n",
       " 'Lexus RX 400h II Рестайлинг': 37,\n",
       " 'Audi A4 I (B5)': 37,\n",
       " 'Honda Civic X': 37,\n",
       " 'Infiniti QX80 I Рестайлинг 2': 37,\n",
       " 'Lexus RX 450h III': 37,\n",
       " 'Honda Accord VII': 37,\n",
       " 'OCTAVIA_RS': 37,\n",
       " 'A1': 36,\n",
       " 'NAVARA': 36,\n",
       " 'Volkswagen Tiguan II Рестайлинг': 36,\n",
       " 'Honda CR-V I Рестайлинг': 36,\n",
       " 'CROWN': 36,\n",
       " 'MONTERO_SPORT': 36,\n",
       " 'E_KLASSE_AMG': 36,\n",
       " 'Volvo XC40 I': 36,\n",
       " 'Nissan Almera II (N16) Рестайлинг': 36,\n",
       " 'Skoda Octavia DSG7 II (A5) Рестайлинг': 35,\n",
       " 'Mercedes-Benz C-Класс 180 IV (W205)': 35,\n",
       " 'Toyota Corolla AMT X (E140, E150)': 35,\n",
       " 'Skoda Fabia I Рестайлинг': 35,\n",
       " 'Mercedes-Benz V-Класс L 250 d длинный II': 35,\n",
       " 'VERSO': 35,\n",
       " 'Skoda Octavia IV (A8)': 35,\n",
       " 'Honda HR-V I Рестайлинг': 34,\n",
       " 'Volvo XC90 II Рестайлинг': 34,\n",
       " 'BMW X6 35i I (E71)': 34,\n",
       " 'Toyota Land Cruiser Prado 150 Series Рестайлинг 3': 34,\n",
       " 'BMW X5 40d III (F15)': 34,\n",
       " 'GLC_COUPE': 34,\n",
       " 'Volvo 940': 34,\n",
       " 'Nissan Murano II (Z51) Рестайлинг': 33,\n",
       " 'Mitsubishi Galant VIII Рестайлинг': 33,\n",
       " 'Honda Jazz I Рестайлинг': 33,\n",
       " 'BMW 3 серии 316i VI (F3x)': 33,\n",
       " 'Volkswagen Jetta V': 33,\n",
       " '850': 33,\n",
       " 'Volkswagen Passat B3': 33,\n",
       " 'TUNDRA': 33,\n",
       " 'QX50': 33,\n",
       " 'Nissan Micra III (K12)': 33,\n",
       " 'C30': 33,\n",
       " 'Volkswagen Passat B5 Рестайлинг': 33,\n",
       " 'Mitsubishi Pajero II': 33,\n",
       " 'Mercedes-Benz M-Класс 350 CDI III (W166)': 32,\n",
       " 'BORA': 32,\n",
       " 'Honda Fit III Рестайлинг': 32,\n",
       " 'Toyota Camry VI (XV40) Рестайлинг': 32,\n",
       " 'Lexus ES 250 VI Рестайлинг': 32,\n",
       " 'BMW 3 серии 320i xDrive VI (F3x) Рестайлинг': 32,\n",
       " 'Audi A1 I (8X)': 31,\n",
       " 'A4_ALLROAD': 31,\n",
       " 'BMW 3 серии 320d xDrive VI (F3x) Рестайлинг': 31,\n",
       " 'Mercedes-Benz C-Класс 180 IV (W205) Рестайлинг': 31,\n",
       " 'Audi Q7 45 TDI II (4M) Рестайлинг': 31,\n",
       " 'Mercedes-Benz C-Класс 180 III (W204) Рестайлинг': 31,\n",
       " 'GRANDIS': 31,\n",
       " 'Toyota Avensis II Рестайлинг': 31,\n",
       " 'Mercedes-Benz GLA 250 I (X156)': 31,\n",
       " 'Lexus IS 250 III': 30,\n",
       " 'Infiniti EX EX35 I (J50)': 30,\n",
       " 'ALPHARD': 30,\n",
       " 'BMW 1 серии 116i II (F20/F21)': 30,\n",
       " 'BMW X6 35i II (F16)': 30,\n",
       " 'Nissan X-Trail I Рестайлинг': 30,\n",
       " 'SL_KLASSE': 30,\n",
       " 'SKYLINE': 30,\n",
       " 'Audi 80 V (B4)': 30,\n",
       " 'Honda Accord V': 30,\n",
       " 'Honda Civic Ferio II': 30,\n",
       " 'QX80': 29,\n",
       " 'Volvo 740': 29,\n",
       " 'BMW 5 серии 520d VII (G30/G31)': 29,\n",
       " 'Infiniti QX60 I': 29,\n",
       " 'Lexus RX 270 III': 29,\n",
       " 'Mercedes-Benz E-Класс 200 V (W213, S213, C238) Рестайлинг': 29,\n",
       " 'SLK_KLASSE': 29,\n",
       " 'Infiniti EX EX25 I (J50)': 29,\n",
       " 'Toyota Fortuner II': 29,\n",
       " 'Audi Q5 8tiptronic I (8R)': 29,\n",
       " 'Mitsubishi Pajero III Рестайлинг': 29,\n",
       " 'CHASER': 29,\n",
       " 'Honda Fit II': 29,\n",
       " 'Mercedes-Benz GLE 300 d II (V167)': 29,\n",
       " 'Audi A7 I (4G) Рестайлинг': 29,\n",
       " 'CARINA': 29,\n",
       " 'BMW X3 20i xDrive III (G01)': 29,\n",
       " 'Lexus LS 460 IV': 29,\n",
       " 'Honda Pilot II Рестайлинг': 28,\n",
       " 'Lexus GS 250 IV': 28,\n",
       " 'ECLIPSE': 28,\n",
       " 'GOLF_GTI': 28,\n",
       " 'Infiniti JX JX35': 28,\n",
       " 'Volvo V40 Cross Country I': 28,\n",
       " 'Infiniti QX60 I Рестайлинг': 28,\n",
       " 'Honda Civic Ferio III': 28,\n",
       " 'R_KLASSE': 28,\n",
       " 'Mercedes-Benz C-Класс 200 IV (W205)': 28,\n",
       " 'Nissan Teana II Рестайлинг': 28,\n",
       " 'Audi 100 III (C3)': 28,\n",
       " 'Honda Pilot II': 28,\n",
       " 'BMW 3 серии 318i VI (F3x) Рестайлинг': 27,\n",
       " 'BMW X3 20i xDrive II (F25) Рестайлинг': 27,\n",
       " 'Nissan Patrol VI (Y62)': 27,\n",
       " 'Infiniti QX56 I Рестайлинг': 27,\n",
       " 'MONTERO': 27,\n",
       " 'BMW X1 20i I (E84) Рестайлинг': 27,\n",
       " 'BMW 5 серии 520i VI (F10/F11/F07) Рестайлинг': 27,\n",
       " 'Volkswagen Multivan T6': 27,\n",
       " 'Toyota Camry VIII (XV70) Рестайлинг': 26,\n",
       " 'Volkswagen Passat CC I Рестайлинг': 26,\n",
       " 'M_KLASSE_AMG': 26,\n",
       " 'Toyota Venza I Рестайлинг': 26,\n",
       " 'Volvo S40 I': 26,\n",
       " 'CALDINA': 26,\n",
       " 'BMW X3 28i xDrive II (F25)': 26,\n",
       " 'Audi Q8 45 TDI I': 26,\n",
       " 'Mitsubishi ASX I Рестайлинг 2': 26,\n",
       " 'Infiniti QX50 I Рестайлинг': 26,\n",
       " 'Audi A8 Long III (D4)': 26,\n",
       " 'Volvo V90 Cross Country I': 25,\n",
       " 'Infiniti FX FX30d II (S51) Рестайлинг': 25,\n",
       " 'Mercedes-Benz S-Класс 500 VI (W222, C217)': 25,\n",
       " 'Infiniti QX56 I': 25,\n",
       " 'Mercedes-Benz A-Класс 180 III (W176)': 25,\n",
       " 'Mercedes-Benz GLC 250 d I (X253)': 25,\n",
       " '940': 25,\n",
       " 'Honda Odyssey II': 25,\n",
       " 'QX60': 25,\n",
       " 'SPACE_STAR': 25,\n",
       " 'Mitsubishi Eclipse Cross I': 25,\n",
       " 'JAZZ': 25,\n",
       " 'JX': 25,\n",
       " 'BMW X3 20d xDrive II (F25)': 25,\n",
       " 'Toyota Corolla XI (E160, E170) Рестайлинг': 25,\n",
       " 'BMW X4 20d I (F26)': 24,\n",
       " 'Honda Stepwgn Spada V': 24,\n",
       " 'Toyota Corolla XII (E210)': 24,\n",
       " 'Volkswagen Golf Plus II': 24,\n",
       " 'Honda CR-V II Рестайлинг': 24,\n",
       " 'Mercedes-Benz M-Класс 350 III (W166)': 24,\n",
       " 'BMW X6 35i I (E71) Рестайлинг': 24,\n",
       " 'Mercedes-Benz GL-Класс 350 I (X164) Рестайлинг': 24,\n",
       " 'SPACE_WAGON': 24,\n",
       " 'BMW X3 20d xDrive II (F25) Рестайлинг': 24,\n",
       " 'Honda Integra III Рестайлинг': 24,\n",
       " 'Mitsubishi L200 V': 24,\n",
       " 'Nissan Murano I (Z50)': 24,\n",
       " 'SCIROCCO': 23,\n",
       " 'Mercedes-Benz A-Класс 200 IV (W177)': 23,\n",
       " 'Audi A6 45 TFSI V (C8)': 23,\n",
       " 'BMW X7 30d I (G07)': 23,\n",
       " 'Skoda Felicia I': 23,\n",
       " 'Mercedes-Benz E-Класс 220 d V (W213, S213, C238)': 23,\n",
       " 'Honda Accord X': 23,\n",
       " 'Mercedes-Benz GL-Класс 500 II (X166)': 23,\n",
       " 'Toyota Camry VII (XV50) Рестайлинг 2': 23,\n",
       " 'Toyota Avensis II': 23,\n",
       " 'Audi Q8 55 TFSI I': 23,\n",
       " 'Toyota Corolla IX (E120, E130)': 22,\n",
       " 'Mercedes-Benz E-Класс 350 IV (W212, S212, C207)': 22,\n",
       " 'Mercedes-Benz M-Класс 350 II (W164) Рестайлинг': 22,\n",
       " '8ER': 22,\n",
       " 'Mercedes-Benz G-Класс AMG 63 AMG II (W463)': 22,\n",
       " 'Infiniti M M35 III': 22,\n",
       " 'Nissan Qashqai+2 I Рестайлинг': 22,\n",
       " 'V40_CC': 22,\n",
       " 'BMW X5 40i IV (G05)': 22,\n",
       " '4RUNNER': 22,\n",
       " 'Honda CR-V IV Рестайлинг': 22,\n",
       " 'BMW 5 серии 520d VI (F10/F11/F07) Рестайлинг': 21,\n",
       " 'Mitsubishi Montero Sport': 21,\n",
       " 'VENZA': 21,\n",
       " 'Honda Odyssey I': 21,\n",
       " 'Volkswagen Teramont I': 21,\n",
       " 'FIT': 21,\n",
       " 'Honda Stepwgn V': 21,\n",
       " 'Honda Accord Type-S Type S VIII': 21,\n",
       " 'ROOMSTER': 21,\n",
       " 'Honda Partner I': 21,\n",
       " 'Nissan Leaf I (ZE0/AZE0)': 21,\n",
       " 'Skoda Superb DSG II': 21,\n",
       " 'Honda Prelude V': 21,\n",
       " 'CARINA_E': 21,\n",
       " 'Infiniti G G37 IV': 21,\n",
       " 'Toyota Hilux VII Рестайлинг': 21,\n",
       " 'Volvo S70': 21,\n",
       " 'Honda Accord Type-S Type S VII Рестайлинг': 20,\n",
       " 'Mitsubishi Carisma I': 20,\n",
       " 'Honda N-WGN I Рестайлинг': 20,\n",
       " 'BEETLE': 20,\n",
       " 'BMW 1 серии 116i I (E81/E82/E87/E88) Рестайлинг': 20,\n",
       " 'SIENNA': 20,\n",
       " 'Honda Fit Shuttle I': 20,\n",
       " 'Mercedes-Benz GLS 400 d II (X167)': 20,\n",
       " 'Honda Stepwgn Spada V Рестайлинг': 20,\n",
       " 'BMW X1 18i I (E84) Рестайлинг': 20,\n",
       " 'Volkswagen Caravelle T6': 20,\n",
       " 'Audi A8 Long III (D4) Рестайлинг': 20,\n",
       " 'Q8': 20,\n",
       " 'Volvo 240 Series': 20,\n",
       " 'Volvo S80 II Рестайлинг 2': 20,\n",
       " 'Audi 100 III (C3) Рестайлинг': 20,\n",
       " 'BMW 5 серии 520i III (E34)': 20,\n",
       " 'BMW X6 30d III (G06)': 20,\n",
       " 'BMW X6 M II (F86)': 20,\n",
       " 'VITZ': 20,\n",
       " 'Audi A8 III (D4)': 20,\n",
       " 'GLE_KLASSE_COUPE_AMG': 20,\n",
       " 'PAJERO_PININ': 20,\n",
       " 'Volkswagen Passat CC I': 20,\n",
       " 'Skoda Superb DSG II Рестайлинг': 20,\n",
       " 'Honda Civic Hybrid VIII': 20,\n",
       " 'Volkswagen Multivan T5 Рестайлинг': 20,\n",
       " 'Honda Civic IX': 20,\n",
       " 'Mercedes-Benz CLA 200 I (C117, X117)': 20,\n",
       " 'BMW X5 3.0si II (E70)': 20,\n",
       " 'Lexus LS Long 460 L IV': 19,\n",
       " 'Nissan Pathfinder III': 19,\n",
       " 'Volvo XC70 I Рестайлинг': 19,\n",
       " 'LANCER_EVOLUTION': 19,\n",
       " 'BMW 3 серии 318i V (E90/E91/E92/E93) Рестайлинг': 19,\n",
       " 'BMW X3 20i xDrive II (F25)': 19,\n",
       " 'BMW 3 серии 320i xDrive VI (F3x)': 19,\n",
       " 'Infiniti M M35 III Рестайлинг': 19,\n",
       " 'Mercedes-Benz C-Класс 200 IV (W205) Рестайлинг': 19,\n",
       " 'Toyota Land Cruiser 100 Series Рестайлинг 2': 19,\n",
       " 'Infiniti QX80 I': 19,\n",
       " 'Infiniti Q70 I Рестайлинг': 19,\n",
       " 'Mercedes-Benz GLS 400 I (X166)': 19,\n",
       " 'Lexus LS Long 600h L IV': 19,\n",
       " 'Volkswagen Passat B5': 19,\n",
       " 'Volvo 960 I Рестайлинг': 19,\n",
       " 'Mercedes-Benz GLK-Класс 300 I (X204) Рестайлинг': 19,\n",
       " 'BMW 7 серии 730d xDrive VI (G11/G12) Рестайлинг': 19,\n",
       " 'Z4': 19,\n",
       " 'Mercedes-Benz S-Класс 350 CDI BlueTEC Long VI (W222, C217)': 19,\n",
       " 'BMW 5 серии 523i VI (F10/F11/F07)': 18,\n",
       " 'V40': 18,\n",
       " 'Lexus GS 300 II': 18,\n",
       " 'Nissan Maxima V (A33)': 18,\n",
       " 'Volvo V40 Cross Country I Рестайлинг': 18,\n",
       " 'Lexus LS 500 V': 18,\n",
       " 'Lexus RX 450h III Рестайлинг': 18,\n",
       " 'BMW 1 серии 118i II (F20/F21) Рестайлинг 2': 18,\n",
       " 'PHAETON': 18,\n",
       " 'BMW X6 40d II (F16)': 18,\n",
       " 'Mercedes-Benz E-Класс 200 5G-Tronic IV (W212, S212, C207)': 18,\n",
       " 'Honda Prelude IV': 18,\n",
       " 'Lexus GX 460 II Рестайлинг 2': 18,\n",
       " 'Skoda Octavia I (A4)': 18,\n",
       " 'PRELUDE': 18,\n",
       " 'Honda Crosstour I': 18,\n",
       " 'BMW 5 серии 520i IV (E39)': 18,\n",
       " 'BMW X3 30i xDrive III (G01)': 18,\n",
       " 'W201': 18,\n",
       " 'V70': 18,\n",
       " '960': 18,\n",
       " 'Volkswagen Golf IV': 18,\n",
       " 'Audi A6 I (C4)': 18,\n",
       " 'Mercedes-Benz V-Класс XL 250 d экстра длинный II': 18,\n",
       " 'Toyota Avensis III': 18,\n",
       " 'I3': 18,\n",
       " 'Honda Civic Hybrid VIII Рестайлинг': 18,\n",
       " 'STEPWAGON': 18,\n",
       " 'Volkswagen Caravelle T5 Рестайлинг': 18,\n",
       " 'BMW 5 серии 528i xDrive VI (F10/F11/F07) Рестайлинг': 17,\n",
       " 'Lexus ES 350 V Рестайлинг': 17,\n",
       " 'Honda Legend IV': 17,\n",
       " 'Mercedes-Benz M-Класс 300 III (W166)': 17,\n",
       " 'Infiniti QX4 I': 17,\n",
       " 'BMW 5 серии 520i VI (F10/F11/F07)': 17,\n",
       " 'Volkswagen Golf V': 17,\n",
       " 'Honda Torneo': 17,\n",
       " 'Lexus NX 300h I': 17,\n",
       " 'BMW 3 серии 320i VI (F3x) Рестайлинг': 17,\n",
       " 'Mercedes-Benz GLA 200 I (X156)': 17,\n",
       " 'BMW 1 серии 118i II (F20/F21) Рестайлинг': 17,\n",
       " 'C_KLASSE_AMG': 17,\n",
       " 'Skoda Roomster I Рестайлинг': 17,\n",
       " 'BMW X4 20i I (F26)': 17,\n",
       " 'Honda Crossroad': 17,\n",
       " 'CEFIRO': 17,\n",
       " 'Nissan Pathfinder IV': 17,\n",
       " 'Infiniti G G35 III': 17,\n",
       " 'Nissan Note II Рестайлинг': 17,\n",
       " 'BMW X5 30d II (E70) Рестайлинг': 17,\n",
       " 'CRESTA': 17,\n",
       " 'FORTUNER': 17,\n",
       " 'BMW X5 30i II (E70)': 16,\n",
       " 'BMW X4 20d II (G02)': 16,\n",
       " 'Mercedes-Benz GLE Coupe 400 I (C292)': 16,\n",
       " 'Lexus IS 250 II Рестайлинг': 16,\n",
       " 'Honda Avancier I': 16,\n",
       " 'Honda Orthia I': 16,\n",
       " 'Lexus RX 350L IV': 16,\n",
       " 'BMW X1 18d xDrive II (F48)': 16,\n",
       " 'LITE_ACE': 16,\n",
       " 'Volkswagen Caddy IV': 16,\n",
       " 'TERAMONT': 16,\n",
       " 'BMW X4 30d I (F26)': 16,\n",
       " 'Mercedes-Benz S-Класс 350 d Long VI (W222, C217) Рестайлинг': 16,\n",
       " 'S90': 16,\n",
       " 'M3': 16,\n",
       " 'Nissan Sentra VII (B17)': 16,\n",
       " 'Mercedes-Benz E-Класс 300 IV (W212, S212, C207) Рестайлинг': 16,\n",
       " 'BMW 5 серии 520d xDrive VII (G30/G31) Рестайлинг': 16,\n",
       " 'ESTIMA': 16,\n",
       " 'SEQUOIA': 16,\n",
       " 'SUNNY': 16,\n",
       " 'Honda N-WGN I': 16,\n",
       " 'Nissan Serena IV (C26)': 16,\n",
       " 'Toyota Land Cruiser Prado 120 Series Рестайлинг': 16,\n",
       " 'Honda Accord Type-S Type S VIII Рестайлинг': 16,\n",
       " 'Volkswagen Touareg I': 16,\n",
       " 'Nissan Teana I Рестайлинг': 16,\n",
       " 'S8': 16,\n",
       " 'Infiniti FX FX45 I (S50)': 16,\n",
       " 'Volvo S60 III': 16,\n",
       " 'BMW X5 48i II (E70)': 16,\n",
       " 'Infiniti FX FX50 II (S51)': 16,\n",
       " 'Lexus GS 300 III Рестайлинг': 15,\n",
       " 'BMW X1 18i I (E84)': 15,\n",
       " 'W123': 15,\n",
       " 'Volkswagen Jetta VII': 15,\n",
       " 'Honda Fit Shuttle I Рестайлинг': 15,\n",
       " 'GLE_KLASSE_AMG': 15,\n",
       " 'Mercedes-Benz GLC 220 d I (X253)': 15,\n",
       " 'DELICA': 15,\n",
       " 'Q70': 15,\n",
       " 'Volvo V50 I Рестайлинг': 15,\n",
       " 'BMW 5 серии 530d xDrive VI (F10/F11/F07)': 15,\n",
       " 'CUBE': 15,\n",
       " 'Lexus LS 430 III Рестайлинг': 15,\n",
       " 'STREAM': 15,\n",
       " 'BMW X5 M50d IV (G05)': 15,\n",
       " 'Mercedes-Benz C-Класс 180 BlueEFFICIENCY III (W204) Рестайлинг': 15,\n",
       " 'TOWN_ACE': 15,\n",
       " 'Mitsubishi Grandis': 15,\n",
       " 'Mercedes-Benz GLC 200 I (X253) Рестайлинг': 15,\n",
       " 'Mercedes-Benz G-Класс AMG 63 AMG I (W463) Рестайлинг 2': 15,\n",
       " 'Mercedes-Benz S-Класс 400 Long VI (W222, C217)': 15,\n",
       " 'X2': 15,\n",
       " 'Audi TT III (8S)': 15,\n",
       " 'Volkswagen Touran II': 15,\n",
       " 'Mercedes-Benz GLA 200 I (X156) Рестайлинг': 15,\n",
       " 'BMW 3 серии 320d VI (F3x)': 15,\n",
       " 'Audi A4 I (B5) Рестайлинг': 15,\n",
       " '740': 15,\n",
       " 'Mitsubishi Libero I Рестайлинг': 15,\n",
       " 'PAJERO_IO': 15,\n",
       " 'Mercedes-Benz CLA 200 II (C118, X118)': 15,\n",
       " 'Lexus RX 450h IV': 15,\n",
       " 'BMW X1 20i xDrive II (F48)': 14,\n",
       " 'CORONA': 14,\n",
       " 'Mitsubishi Pajero III': 14,\n",
       " 'Mitsubishi Mirage V': 14,\n",
       " 'BMW X6 M Competition III (F96)': 14,\n",
       " 'Honda Insight II': 14,\n",
       " 'BMW 5 серии 530d xDrive VII (G30/G31) Рестайлинг': 14,\n",
       " 'CHARIOT': 14,\n",
       " 'Skoda Roomster I': 14,\n",
       " 'MATRIX': 14,\n",
       " 'Mitsubishi Diamante II': 14,\n",
       " 'Mercedes-Benz S-Класс AMG 63 AMG Long III (W222, C217)': 14,\n",
       " 'Lexus GS 450h III Рестайлинг': 14,\n",
       " 'Volkswagen Amarok Double Cab full-time I': 14,\n",
       " 'Lexus IS 200 I': 14,\n",
       " 'Mercedes-Benz E-Класс 400 V (W213, S213, C238)': 14,\n",
       " 'Honda Domani I': 14,\n",
       " 'Mercedes-Benz G-Класс AMG 63 AMG I (W463) Рестайлинг 3': 14,\n",
       " 'BMW 7 серии Long 730Ld xDrive VI (G11/G12)': 14,\n",
       " 'BMW X6 M I (E71)': 14,\n",
       " 'S70': 14,\n",
       " 'Mitsubishi Space Star I': 14,\n",
       " 'Mercedes-Benz GLK-Класс 220 CDI I (X204) Рестайлинг': 14,\n",
       " 'Mercedes-Benz GLE Coupe AMG 63 AMG S I (C292)': 14,\n",
       " 'Mercedes-Benz G-Класс 500 II (W463) Рестайлинг 4': 14,\n",
       " 'BMW 5 серии 523i IV (E39)': 14,\n",
       " 'Mercedes-Benz M-Класс 350 II (W164)': 14,\n",
       " 'Mercedes-Benz GLK-Класс 220 CDI I (X204)': 14,\n",
       " 'C70': 14,\n",
       " 'BMW 5 серии 528i VI (F10/F11/F07)': 14,\n",
       " 'Honda Odyssey V Рестайлинг': 13,\n",
       " 'Honda Civic VII Рестайлинг': 13,\n",
       " 'BMW X3 30i I (E83) Рестайлинг': 13,\n",
       " 'Mitsubishi Lancer Cedia IX': 13,\n",
       " 'Mercedes-Benz V-Класс L 220 d длинный II': 13,\n",
       " 'BMW X5 M50d III (F15)': 13,\n",
       " 'Nissan X-Trail I': 13,\n",
       " 'NP300': 13,\n",
       " 'Honda Accord IX Рестайлинг': 13,\n",
       " 'Mitsubishi Montero III': 13,\n",
       " 'Honda Pilot III': 13,\n",
       " 'LEGNUM': 13,\n",
       " 'BMW 7 серии 730i VI (G11/G12)': 13,\n",
       " 'Honda Logo': 13,\n",
       " 'Mercedes-Benz GLE 300 I (W166)': 13,\n",
       " 'Volvo 460': 13,\n",
       " 'Mercedes-Benz S-Класс 350 d Long 4MATIC VII (W223)': 13,\n",
       " 'Mitsubishi Lancer VII': 13,\n",
       " 'BMW 3 серии 320i xDrive VII (G2x)': 13,\n",
       " 'Mercedes-Benz GL-Класс 400 II (X166)': 13,\n",
       " 'Mitsubishi Delica D:5 I': 13,\n",
       " 'Honda Stepwgn I Рестайлинг': 13,\n",
       " 'Mitsubishi Airtrek': 13,\n",
       " 'LEGEND': 13,\n",
       " 'Volvo C30 I Рестайлинг': 13,\n",
       " 'Toyota Mark II VII (X90)': 13,\n",
       " 'CLS_KLASSE_AMG': 13,\n",
       " 'Toyota Yaris Multimode II': 13,\n",
       " 'LAUREL': 12,\n",
       " 'Volvo XC70 I': 12,\n",
       " 'RS6': 12,\n",
       " 'BMW 5 серии 520i VII (G30/G31)': 12,\n",
       " 'BMW X1 20d I (E84)': 12,\n",
       " 'Volkswagen Transporter T5': 12,\n",
       " 'Audi A6 allroad II (C6)': 12,\n",
       " 'SPRINTER': 12,\n",
       " 'S5': 12,\n",
       " 'AMG_GT': 12,\n",
       " 'BMW X5 3.0i I (E53) Рестайлинг': 12,\n",
       " 'Honda Inspire II': 12,\n",
       " 'Toyota Prius IV (XW50)': 12,\n",
       " 'Mercedes-Benz 190 (W201)': 12,\n",
       " 'Audi A3 II (8P) Рестайлинг 1': 12,\n",
       " 'HARRIER': 12,\n",
       " 'BMW 3 серии 325xi V (E90/E91/E92/E93)': 12,\n",
       " 'Toyota Land Cruiser 300 Series': 12,\n",
       " 'BMW X1 18i sDrive II (F48)': 12,\n",
       " 'Volkswagen Caravelle T6 Рестайлинг': 12,\n",
       " 'Audi A3 I (8L)': 12,\n",
       " 'Mercedes-Benz S-Класс 500 Long V (W221) Рестайлинг': 12,\n",
       " 'Volkswagen Golf III': 12,\n",
       " 'Toyota Highlander III (U50) Рестайлинг': 12,\n",
       " 'Nissan Liberty': 12,\n",
       " 'Mercedes-Benz GL-Класс 500 I (X164)': 12,\n",
       " 'BMW 3 серии 318d VII (G2x)': 12,\n",
       " 'ECLIPSE_CROSS': 12,\n",
       " 'BMW X6 50i I (E71)': 12,\n",
       " 'Volkswagen Caddy III Рестайлинг': 12,\n",
       " 'BMW 5 серии 528i xDrive VI (F10/F11/F07)': 12,\n",
       " 'BMW X6 30d I (E71)': 12,\n",
       " 'Lexus CT 200h I': 12,\n",
       " 'Volkswagen Transporter T4': 12,\n",
       " 'Mercedes-Benz CLS 350 d III (C257)': 12,\n",
       " 'Mercedes-Benz S-Класс AMG 63 AMG III (W222, C217)': 12,\n",
       " 'Mercedes-Benz GLC 300 I (X253)': 12,\n",
       " 'Lexus SC 430 II': 12,\n",
       " 'Audi RS 5 I (8T)': 12,\n",
       " 'Lexus GS 300 II Рестайлинг': 12,\n",
       " 'PAJERO_MINI': 12,\n",
       " 'Audi Q3 35 TFSI II (F3)': 12,\n",
       " 'Audi A6 allroad I (C5)': 12,\n",
       " 'Toyota C-HR I': 11,\n",
       " 'Toyota RAV4 II (XA20)': 11,\n",
       " 'BMW 5 серии Gran Turismo 530d xDrive VI (F10/F11/F07)': 11,\n",
       " 'BMW 8 серии 840d xDrive II (G14/G15/G16)': 11,\n",
       " 'Mercedes-Benz GLS AMG 63 AMG I (X166)': 11,\n",
       " 'Mercedes-Benz GLE Coupe AMG 63 AMG I (C292)': 11,\n",
       " 'Audi A8 II (D3)': 11,\n",
       " 'Honda Ridgeline I': 11,\n",
       " 'V50': 11,\n",
       " 'Honda Stepwgn IV Рестайлинг': 11,\n",
       " '2ER': 11,\n",
       " 'Lexus UX 200 I': 11,\n",
       " 'Honda Odyssey III': 11,\n",
       " 'BMW X7 M50d I (G07)': 11,\n",
       " 'POINTER': 11,\n",
       " 'Mercedes-Benz B-Класс 180 II (W246)': 11,\n",
       " 'Honda Crosstour I Рестайлинг': 11,\n",
       " 'BMW 7 серии Long 750Li xDrive V (F01/F02/F04)': 11,\n",
       " 'Volkswagen Amarok I Рестайлинг': 11,\n",
       " 'Honda Stepwgn III': 11,\n",
       " 'Mercedes-Benz GLK-Класс 300 I (X204)': 11,\n",
       " 'Honda Capa': 11,\n",
       " 'MARCH': 11,\n",
       " 'Audi A7 S-tronic I (4G)': 11,\n",
       " 'Audi A8 II (D3) Рестайлинг 2': 11,\n",
       " 'Mitsubishi Galant IX Рестайлинг': 11,\n",
       " 'Honda Civic Ferio I': 11,\n",
       " 'Volkswagen Touran I Рестайлинг': 11,\n",
       " 'VENTO': 11,\n",
       " 'Mercedes-Benz S-Класс AMG 63 AMG Long III (W222, C217) Рестайлинг': 11,\n",
       " 'BMW X1 20i xDrive II (F48) Рестайлинг': 11,\n",
       " 'Honda Airwave I': 11,\n",
       " 'Volkswagen Amarok I': 11,\n",
       " 'Mercedes-Benz E-Класс 230 II (W210, S210)': 11,\n",
       " 'Honda Stepwgn Spada IV': 11,\n",
       " 'Infiniti Q60 II': 11,\n",
       " '460': 11,\n",
       " 'Volvo V40 I': 11,\n",
       " 'VISTA': 11,\n",
       " 'Mercedes-Benz Maybach GLS 600 I': 11,\n",
       " 'Skoda Superb II Рестайлинг': 11,\n",
       " 'Lexus ES 350 VI': 11,\n",
       " 'Mercedes-Benz B-Класс 200 II (W246)': 11,\n",
       " 'Mercedes-Benz GLC Coupe 250 I (C253)': 11,\n",
       " 'Mitsubishi Galant VIII': 11,\n",
       " 'Mitsubishi Pajero Mini II': 11,\n",
       " 'Volkswagen Multivan T5': 11,\n",
       " 'Mitsubishi Pajero Pinin': 10,\n",
       " 'Mercedes-Benz G-Класс 350 CDI BlueTEC II (W463) Рестайлинг 3': 10,\n",
       " 'Mitsubishi Space Star I Рестайлинг': 10,\n",
       " 'Mercedes-Benz E-Класс 300 IV (W212, S212, C207)': 10,\n",
       " 'Mitsubishi Dion I': 10,\n",
       " 'Mercedes-Benz G-Класс 350 d III (W463)': 10,\n",
       " 'Mercedes-Benz GLS 500 I (X166)': 10,\n",
       " 'Nissan Navara (Frontier) III (D40) Рестайлинг': 10,\n",
       " 'BMW 3 серии 320d xDrive VI (F3x)': 10,\n",
       " 'Nissan Navara (Frontier) III (D40)': 10,\n",
       " 'COROLLA_LEVIN': 10,\n",
       " 'Infiniti FX FX45 I (S50) Рестайлинг': 10,\n",
       " 'Honda Stream I Рестайлинг': 10,\n",
       " 'Volvo 960 I': 10,\n",
       " 'Honda Fit Aria': 10,\n",
       " 'Honda Element I': 10,\n",
       " 'BMW X3 30d xDrive II (F25) Рестайлинг': 10,\n",
       " 'Honda Accord Sport VII Рестайлинг': 10,\n",
       " 'Lexus LS 460 IV Рестайлинг 2': 10,\n",
       " 'BMW 5 серии 530d xDrive VI (F10/F11/F07) Рестайлинг': 10,\n",
       " 'Audi TT II (8J)': 10,\n",
       " 'Mercedes-Benz GLE 400 d II (V167)': 10,\n",
       " 'Nissan Leaf II (ZE1)': 10,\n",
       " 'Honda Civic IX Рестайлинг': 10,\n",
       " 'Mercedes-Benz GLA 250 I (X156) Рестайлинг': 10,\n",
       " 'AIRTREK': 10,\n",
       " 'BMW M5 Competition VI (F90) Рестайлинг': 10,\n",
       " 'Mercedes-Benz M-Класс AMG 63 AMG III (W166)': 10,\n",
       " 'Mitsubishi Delica III': 10,\n",
       " 'Audi RS 6 III (C7) Рестайлинг': 10,\n",
       " 'BMW X7 40i I (G07)': 10,\n",
       " 'Lexus LS Long 460 L IV Рестайлинг 2': 10,\n",
       " 'GOLF_R': 10,\n",
       " 'Skoda Superb I Рестайлинг': 10,\n",
       " 'Mercedes-Benz GLA 250 II (H247)': 10,\n",
       " 'Nissan Murano II (Z51)': 10,\n",
       " 'Mercedes-Benz E-Класс 250 7G-Tronic IV (W212, S212, C207)': 10,\n",
       " 'Volvo V40 II': 10,\n",
       " 'Toyota Land Cruiser 100 Series Рестайлинг 1': 10,\n",
       " 'Audi RS 7 I (4G) Рестайлинг': 10,\n",
       " 'Honda Jade I': 10,\n",
       " 'BMW X6 M50d II (F16)': 10,\n",
       " 'Honda Shuttle I': 10,\n",
       " 'Mercedes-Benz C-Класс 180 9G-TRONIC IV (W205)': 10,\n",
       " 'BMW 6 серии 630i II (E63/E64) Рестайлинг': 9,\n",
       " 'Mercedes-Benz GLC Coupe 220 d I (C253) Рестайлинг': 9,\n",
       " 'DIAMANTE': 9,\n",
       " 'Toyota Camry V (XV30)': 9,\n",
       " 'BMW 6 серии Gran Turismo 630d xDrive IV (G32)': 9,\n",
       " 'Audi A6 allroad III (C7) Рестайлинг': 9,\n",
       " 'Toyota Land Cruiser 100 Series': 9,\n",
       " 'BMW 3 серии 325i V (E90/E91/E92/E93)': 9,\n",
       " 'BMW 5 серии 530i xDrive VII (G30/G31) Рестайлинг': 9,\n",
       " 'Mercedes-Benz GL-Класс 500 I (X164) Рестайлинг': 9,\n",
       " 'Mitsubishi Galant VII': 9,\n",
       " 'Mitsubishi Dingo': 9,\n",
       " 'ALTIMA': 9,\n",
       " 'BMW X4 28i I (F26)': 9,\n",
       " 'Toyota RAV4 II (XA20) Рестайлинг': 9,\n",
       " 'Mercedes-Benz S-Класс 350 CDI BlueTEC VI (W222, C217)': 9,\n",
       " 'BMW X6 M50d III (G06)': 9,\n",
       " 'Honda Ascot II (CE)': 9,\n",
       " 'Volvo V50 I': 9,\n",
       " 'Mitsubishi Pajero iO': 9,\n",
       " 'Mercedes-Benz S-Класс 350 V (W221) Рестайлинг': 9,\n",
       " 'Infiniti M M25 IV': 9,\n",
       " 'Lexus GS 450h IV': 9,\n",
       " 'Toyota RAV4 I (XA10)': 9,\n",
       " 'Mercedes-Benz S-Класс 560 Long VI (W222, C217) Рестайлинг': 9,\n",
       " 'VOXY': 9,\n",
       " 'S4': 9,\n",
       " '90': 9,\n",
       " 'Lexus CT 200h I Рестайлинг': 9,\n",
       " 'Mitsubishi Pajero Sport I': 9,\n",
       " 'Mercedes-Benz GLK-Класс 250 I (X204) Рестайлинг': 9,\n",
       " 'Mercedes-Benz S-Класс 450 4MATIC VI (W222, C217) Рестайлинг': 9,\n",
       " 'Honda Accord IV': 9,\n",
       " 'Mercedes-Benz A-Класс 180 II (W169) Рестайлинг': 9,\n",
       " 'Lexus LS Long 460 L IV Рестайлинг': 9,\n",
       " 'BMW 3 серии 320i V (E90/E91/E92/E93)': 9,\n",
       " 'Mercedes-Benz GLS 450 II (X167)': 9,\n",
       " 'M6': 9,\n",
       " 'Toyota Sienta II': 9,\n",
       " 'Audi A8 Long 55 TFSI IV (D5)': 9,\n",
       " 'CT': 9,\n",
       " 'BMW X1 20d I (E84) Рестайлинг': 9,\n",
       " 'SHUTTLE': 9,\n",
       " 'Toyota Yaris II': 9,\n",
       " 'Mercedes-Benz A-Класс 180 III (W176) Рестайлинг': 9,\n",
       " 'Mitsubishi Delica IV': 9,\n",
       " 'Nissan March III (K12)': 9,\n",
       " 'Mercedes-Benz Viano L1 I (W639) Рестайлинг': 9,\n",
       " 'CROSSTOUR': 9,\n",
       " 'Audi RS Q3 I (8U)': 9,\n",
       " 'Lexus GS 350 III Рестайлинг': 9,\n",
       " 'Honda Civic IV': 9,\n",
       " 'Mercedes-Benz M-Класс 320 I (W163)': 9,\n",
       " 'ALTEZZA': 9,\n",
       " 'BMW X1 18d xDrive II (F48) Рестайлинг': 9,\n",
       " 'HILUX_SURF': 9,\n",
       " 'BMW X4 30d II (G02)': 9,\n",
       " 'Mercedes-Benz GLK-Класс 350 I (X204)': 9,\n",
       " 'Toyota Vitz I (P10)': 9,\n",
       " 'Volvo C70 II': 9,\n",
       " 'Infiniti Q50 I Рестайлинг': 9,\n",
       " 'BMW 5 серии 525i IV (E39) Рестайлинг': 9,\n",
       " 'Mercedes-Benz S-Класс 450 Long VI (W222, C217) Рестайлинг': 9,\n",
       " 'BLUEBIRD': 9,\n",
       " 'BMW X6 30d I (E71) Рестайлинг': 9,\n",
       " 'BMW 3 серии Gran Turismo 320i xDrive VI (F3x)': 9,\n",
       " 'Audi A7 55 TFSI II (4K)': 9,\n",
       " ...}"
      ]
     },
     "execution_count": 27,
     "metadata": {},
     "output_type": "execute_result"
    }
   ],
   "source": [
    "models_to_numbers = dict(data.model_name.value_counts())\n",
    "models_to_numbers\n"
   ]
  },
  {
   "cell_type": "code",
   "execution_count": 28,
   "metadata": {},
   "outputs": [
    {
     "data": {
      "text/plain": [
       "['OCTAVIA',\n",
       " '5ER',\n",
       " 'LANCER',\n",
       " 'E_KLASSE',\n",
       " 'PASSAT',\n",
       " 'A6',\n",
       " '3ER',\n",
       " 'POLO',\n",
       " 'CAMRY',\n",
       " 'X5',\n",
       " 'X_TRAIL',\n",
       " 'A4',\n",
       " 'QASHQAI',\n",
       " 'S_KLASSE',\n",
       " 'OUTLANDER',\n",
       " 'LAND_CRUISER',\n",
       " 'ALMERA',\n",
       " 'TIGUAN',\n",
       " 'Volkswagen Polo V Рестайлинг',\n",
       " 'TOUAREG',\n",
       " 'COROLLA',\n",
       " 'RAV_4',\n",
       " 'C_KLASSE',\n",
       " 'GOLF',\n",
       " 'Skoda Octavia II (A5) Рестайлинг',\n",
       " 'LAND_CRUISER_PRADO',\n",
       " 'TEANA',\n",
       " 'RAPID',\n",
       " 'Skoda Octavia III (A7) Рестайлинг',\n",
       " 'Skoda Octavia III (A7)',\n",
       " '7ER',\n",
       " 'M_KLASSE',\n",
       " 'XC90',\n",
       " 'JETTA',\n",
       " 'X6',\n",
       " 'CIVIC',\n",
       " 'Volkswagen Tiguan I Рестайлинг',\n",
       " 'PAJERO',\n",
       " 'Nissan Qashqai II',\n",
       " 'Q7',\n",
       " 'FX',\n",
       " 'X3',\n",
       " 'Volvo XC90 I Рестайлинг',\n",
       " 'Nissan X-Trail III',\n",
       " 'JUKE',\n",
       " 'Volkswagen Tiguan II',\n",
       " 'Skoda Rapid I Рестайлинг',\n",
       " 'ACCORD',\n",
       " 'SUPERB',\n",
       " 'Mitsubishi Outlander III Рестайлинг 2',\n",
       " 'Q5',\n",
       " 'S60',\n",
       " 'FABIA',\n",
       " 'Volkswagen Polo V',\n",
       " 'Skoda Rapid I',\n",
       " 'Skoda Fabia II Рестайлинг',\n",
       " 'Mitsubishi Outlander III',\n",
       " 'YETI',\n",
       " 'MURANO',\n",
       " 'CR_V',\n",
       " 'RX',\n",
       " 'GL_KLASSE',\n",
       " 'A3',\n",
       " 'Honda Civic VIII',\n",
       " 'Skoda Kodiaq I',\n",
       " '1ER',\n",
       " 'PRIMERA',\n",
       " 'X1',\n",
       " 'A5',\n",
       " 'A8',\n",
       " 'Nissan X-Trail II Рестайлинг',\n",
       " 'XC60',\n",
       " 'Nissan Qashqai I Рестайлинг',\n",
       " 'Nissan Juke I',\n",
       " 'PAJERO_SPORT',\n",
       " 'Mitsubishi Lancer IX Рестайлинг',\n",
       " '80',\n",
       " 'TRANSPORTER',\n",
       " 'ALMERA_CLASSIC',\n",
       " 'S80',\n",
       " 'Toyota RAV4 IV (CA40) Рестайлинг',\n",
       " 'Nissan Terrano III (D10)',\n",
       " 'Skoda Octavia I (A4) Рестайлинг',\n",
       " 'Audi Q7 II (4M)',\n",
       " 'GALANT',\n",
       " 'Toyota Camry VIII (XV70)',\n",
       " 'PATHFINDER',\n",
       " 'Lexus LX 570 III Рестайлинг 2',\n",
       " 'MULTIVAN',\n",
       " 'TIIDA',\n",
       " 'Skoda Rapid II',\n",
       " 'Audi Q5 I (8R) Рестайлинг',\n",
       " 'LX',\n",
       " 'PASSAT_CC',\n",
       " 'Skoda Yeti I',\n",
       " 'CARAVELLE',\n",
       " 'Q3',\n",
       " 'Infiniti QX70',\n",
       " 'Mercedes-Benz E-Класс 200 V (W213, S213, C238)',\n",
       " 'Toyota Land Cruiser 200 Series Рестайлинг 2',\n",
       " 'Toyota RAV4 IV (CA40)',\n",
       " 'Audi A6 IV (C7) Рестайлинг',\n",
       " 'AVENSIS',\n",
       " 'ASX',\n",
       " 'Nissan Almera III (G15)',\n",
       " 'Mitsubishi Lancer X',\n",
       " 'Mitsubishi Lancer IX',\n",
       " 'Honda CR-V IV',\n",
       " 'Volvo XC70 II',\n",
       " 'NOTE',\n",
       " 'Volvo XC60 I Рестайлинг',\n",
       " 'Mitsubishi Outlander III Рестайлинг 3',\n",
       " 'CARISMA',\n",
       " 'Volvo S60 II',\n",
       " 'Audi A4 V (B9)',\n",
       " 'G_KLASSE',\n",
       " 'Lexus RX 350 II Рестайлинг',\n",
       " 'Audi Q5 I (8R)',\n",
       " 'Honda CR-V III',\n",
       " 'Volvo XC60 I',\n",
       " 'Volvo XC90 II',\n",
       " 'Audi Q3 I (8U)',\n",
       " '6ER',\n",
       " 'Audi A6 IV (C7)',\n",
       " 'TERRANO',\n",
       " 'Skoda Yeti I Рестайлинг',\n",
       " 'S40',\n",
       " 'Audi Q5 II (FY)',\n",
       " 'Audi Q7 I (4L) Рестайлинг',\n",
       " 'Mitsubishi Pajero IV Рестайлинг 1',\n",
       " 'PATROL',\n",
       " 'Volkswagen Polo VI',\n",
       " 'Volvo XC90 I',\n",
       " '100',\n",
       " 'Toyota Camry VII (XV50)',\n",
       " 'Lexus LX 570 III',\n",
       " 'CADDY',\n",
       " 'Toyota Land Cruiser Prado 150 Series Рестайлинг 1',\n",
       " 'Mitsubishi Pajero Sport III',\n",
       " 'Lexus NX 200 I',\n",
       " 'GLK_KLASSE',\n",
       " 'Lexus LX 570 III Рестайлинг',\n",
       " 'HIGHLANDER',\n",
       " 'KODIAQ',\n",
       " 'Mitsubishi ASX I Рестайлинг',\n",
       " 'Mitsubishi Outlander II Рестайлинг',\n",
       " 'MAXIMA',\n",
       " 'Honda CR-V III Рестайлинг',\n",
       " 'G35',\n",
       " 'Volkswagen Touareg II',\n",
       " 'CLS_KLASSE',\n",
       " 'Lexus RX 350 III',\n",
       " 'XC70',\n",
       " 'Nissan Qashqai I',\n",
       " 'X4',\n",
       " 'Mitsubishi Outlander II',\n",
       " 'Lexus LX 450d III Рестайлинг 2',\n",
       " 'Audi A6 III (C6)',\n",
       " 'Audi A3 III (8V)',\n",
       " 'Volvo S60 I Рестайлинг',\n",
       " 'Audi 80 IV (B3)',\n",
       " 'Toyota RAV4 III (XA30) Рестайлинг',\n",
       " 'L200',\n",
       " 'GS',\n",
       " 'Nissan X-Trail II',\n",
       " 'Skoda Superb III',\n",
       " 'Volkswagen Jetta VI Рестайлинг',\n",
       " 'GLE_KLASSE',\n",
       " 'Lexus RX 200t IV',\n",
       " 'Mitsubishi ASX I',\n",
       " 'Honda Accord VIII',\n",
       " 'Nissan Almera Classic I',\n",
       " 'Audi A4 IV (B8) Рестайлинг',\n",
       " 'Toyota Camry VII (XV50) Рестайлинг',\n",
       " 'Toyota Land Cruiser Prado 150 Series',\n",
       " 'ALLROAD',\n",
       " 'Toyota Land Cruiser 200 Series Рестайлинг 1',\n",
       " 'GLC_KLASSE',\n",
       " 'Nissan Qashqai II Рестайлинг',\n",
       " 'QX56',\n",
       " 'Lexus RX 350 III Рестайлинг',\n",
       " 'Volvo XC60 II',\n",
       " 'Lexus RX 270 III Рестайлинг',\n",
       " 'A_KLASSE',\n",
       " 'QX70',\n",
       " 'A7',\n",
       " 'Skoda Fabia II',\n",
       " 'Volkswagen Touareg II Рестайлинг',\n",
       " 'Nissan Tiida I Рестайлинг',\n",
       " 'Audi A4 IV (B8)',\n",
       " 'Lexus NX 200 I Рестайлинг',\n",
       " 'Infiniti QX56 II',\n",
       " 'X6_M',\n",
       " 'Audi A6 II (C5)',\n",
       " 'Mitsubishi Pajero IV',\n",
       " 'Lexus RX 350 IV',\n",
       " 'Volvo S40 II Рестайлинг',\n",
       " 'NX',\n",
       " 'Volkswagen Passat B6',\n",
       " 'GLS_KLASSE',\n",
       " 'CLA_KLASSE',\n",
       " 'AURIS',\n",
       " 'ES',\n",
       " 'Honda CR-V I',\n",
       " 'Toyota Land Cruiser Prado 150 Series Рестайлинг 2',\n",
       " 'Lexus RX 300 IV',\n",
       " 'M',\n",
       " 'V_KLASSE',\n",
       " 'Skoda Superb II',\n",
       " 'LS',\n",
       " 'Audi Q7 I (4L)',\n",
       " 'Nissan X-Trail III Рестайлинг',\n",
       " 'Honda Accord VII Рестайлинг',\n",
       " 'BMW X6 30d II (F16)',\n",
       " 'VIANO',\n",
       " 'Mitsubishi Carisma I Рестайлинг',\n",
       " 'TOURAN',\n",
       " 'BMW X5 30d IV (G05)',\n",
       " 'Mercedes-Benz GLS 350 d I (X166)',\n",
       " 'Audi 100 IV (C4)',\n",
       " 'Mitsubishi Pajero Sport II',\n",
       " 'G_KLASSE_AMG',\n",
       " 'Honda HR-V I',\n",
       " 'Honda Freed I',\n",
       " 'Volkswagen Tiguan I',\n",
       " 'Volkswagen Passat B8',\n",
       " 'Volkswagen Jetta VI',\n",
       " 'Lexus RX 300 I',\n",
       " 'Volkswagen Passat B7',\n",
       " 'Volvo S80 II Рестайлинг',\n",
       " 'GLA_CLASS',\n",
       " 'Audi Q3 I (8U) Рестайлинг',\n",
       " 'Volvo 850',\n",
       " 'Mitsubishi Lancer X Рестайлинг',\n",
       " 'S_KLASSE_AMG',\n",
       " '4',\n",
       " 'Volvo S80 II',\n",
       " 'Mitsubishi Outlander I',\n",
       " 'B_KLASSE',\n",
       " 'VITO',\n",
       " 'Lexus ES 250 VI',\n",
       " 'MARK_II',\n",
       " 'Honda Fit III',\n",
       " 'Audi A7 I (4G)',\n",
       " 'Honda Shuttle II',\n",
       " 'GOLF_PLUS',\n",
       " 'Lexus RX 300 IV Рестайлинг',\n",
       " 'Audi A4 III (B7)',\n",
       " 'Lexus NX 200t I',\n",
       " 'Mercedes-Benz E-Класс 200 IV (W212, S212, C207) Рестайлинг',\n",
       " 'Infiniti FX FX37 II (S51) Рестайлинг',\n",
       " 'Audi A5 I (8T) Рестайлинг',\n",
       " 'Mitsubishi Pajero Sport II Рестайлинг',\n",
       " 'Infiniti Q50 I',\n",
       " 'Lexus GX 460 II',\n",
       " 'IS',\n",
       " 'MICRA',\n",
       " 'Infiniti FX FX35 I (S50)',\n",
       " 'Honda Civic VI',\n",
       " 'Honda Fit I',\n",
       " 'Toyota RAV4 V (XA50)',\n",
       " 'Lexus GX 470 I',\n",
       " 'Audi A4 II (B6)',\n",
       " 'Honda CR-V II',\n",
       " 'Mitsubishi Outlander III Рестайлинг',\n",
       " 'Honda Civic VIII Рестайлинг',\n",
       " 'Toyota RAV4 III (XA30)',\n",
       " 'Volvo S80 I',\n",
       " 'Skoda Karoq I',\n",
       " 'Volkswagen Golf VI',\n",
       " 'Lexus RX 330 II',\n",
       " 'CELICA',\n",
       " 'GX',\n",
       " 'Audi A5 II (F5)',\n",
       " 'S_CLASS_MAYBACH',\n",
       " 'Infiniti FX FX37 II (S51)',\n",
       " 'Honda Vezel I',\n",
       " 'Skoda Octavia II (A5)',\n",
       " 'HILUX',\n",
       " 'Honda Accord VIII Рестайлинг',\n",
       " 'Lexus NX 300 I Рестайлинг',\n",
       " 'Volkswagen Golf VII',\n",
       " 'Toyota Highlander II (U40) Рестайлинг',\n",
       " 'GLE_KLASSE_COUPE',\n",
       " 'EX',\n",
       " 'SHARAN',\n",
       " 'AMAROK',\n",
       " 'X5_M',\n",
       " 'BMW X3 30d xDrive III (G01)',\n",
       " 'BMW 5 серии 520d xDrive VII (G30/G31)',\n",
       " 'Nissan Murano II (Z51) Рестайлинг 2',\n",
       " 'Toyota Hilux VIII',\n",
       " 'Lexus GX 460 II Рестайлинг',\n",
       " 'Audi A6 III (C6) Рестайлинг',\n",
       " 'Mitsubishi Colt VI (Z20/Z30)',\n",
       " 'Mitsubishi L200 IV',\n",
       " 'Infiniti FX FX35 I (S50) Рестайлинг',\n",
       " 'X7',\n",
       " 'Mercedes-Benz GL-Класс 350 CDI BlueTEC II (X166)',\n",
       " 'Nissan Primera III (P12)',\n",
       " 'BMW X5 30d III (F15)',\n",
       " 'Nissan Note I Рестайлинг',\n",
       " 'FELICIA',\n",
       " 'COLT',\n",
       " 'Audi A5 I (8T)',\n",
       " 'Infiniti QX80 I Рестайлинг',\n",
       " 'Nissan Pathfinder III Рестайлинг',\n",
       " 'Audi A3 II (8P) Рестайлинг 2',\n",
       " 'Toyota Corolla XI (E160, E170)',\n",
       " 'Nissan Murano III (Z52)',\n",
       " 'Mercedes-Benz GLC 250 I (X253)',\n",
       " 'Nissan Tiida I',\n",
       " 'Lexus LX 470 II Рестайлинг',\n",
       " 'Toyota Corolla X (E140, E150) Рестайлинг',\n",
       " 'Audi A6 II (C5) Рестайлинг',\n",
       " 'BMW X5 25d III (F15)',\n",
       " 'Volkswagen Touareg III',\n",
       " 'PILOT',\n",
       " 'Honda Civic VII',\n",
       " 'CL_KLASSE',\n",
       " 'Lexus ES 250 VII',\n",
       " 'Toyota Auris I',\n",
       " 'Toyota Land Cruiser 200 Series',\n",
       " 'W124',\n",
       " 'Lexus IS 250 II',\n",
       " 'QASHQAI_PLUS_2',\n",
       " 'Lexus GS 300 III',\n",
       " 'YARIS',\n",
       " 'Toyota Camry VI (XV40)',\n",
       " 'Honda Accord VI',\n",
       " 'Honda Freed II',\n",
       " 'Volvo S60 II Рестайлинг',\n",
       " 'Infiniti G G35 IV',\n",
       " 'Volvo XC70 II Рестайлинг',\n",
       " 'Mitsubishi Pajero IV Рестайлинг 2',\n",
       " 'TT',\n",
       " 'Mercedes-Benz GLE 350 d I (W166)',\n",
       " 'BMW X3 20d xDrive III (G01)',\n",
       " 'PRIUS',\n",
       " 'Mitsubishi Pajero Sport I Рестайлинг',\n",
       " 'Mercedes-Benz GLE Coupe 350 d I (C292)',\n",
       " 'Nissan Juke I Рестайлинг',\n",
       " 'Q50',\n",
       " 'Honda Freed Spike I',\n",
       " 'Honda Accord IX',\n",
       " 'HR_V',\n",
       " 'Volvo S80 I Рестайлинг',\n",
       " 'Mercedes-Benz E-Класс 200 7G-Tronic IV (W212, S212, C207)',\n",
       " 'BMW 5 серии 530d xDrive VII (G30/G31)',\n",
       " 'Infiniti FX FX35 II (S51)',\n",
       " 'Skoda Fabia I',\n",
       " 'Infiniti QX50 I',\n",
       " 'Volkswagen Touareg I Рестайлинг',\n",
       " 'Lexus GS 350 IV',\n",
       " 'Toyota Corolla X (E140, E150)',\n",
       " 'Volvo S40 II',\n",
       " 'Volvo S60 I',\n",
       " 'Infiniti G G25 IV',\n",
       " 'Honda CR-V V',\n",
       " 'Audi A3 III (8V) Рестайлинг',\n",
       " 'Nissan Teana II',\n",
       " 'Nissan Teana III',\n",
       " 'SENTRA',\n",
       " 'M5',\n",
       " 'BMW 5 серии 530i xDrive VII (G30/G31)',\n",
       " 'SERENA',\n",
       " 'Infiniti QX50 II',\n",
       " 'LEAF',\n",
       " 'Honda Civic V',\n",
       " 'CLK_KLASSE',\n",
       " 'Mercedes-Benz S-Класс 500 Long VI (W222, C217)',\n",
       " 'Toyota Corolla IX (E120, E130) Рестайлинг',\n",
       " 'Lexus RX 300 II',\n",
       " 'Lexus ES 200 VI Рестайлинг',\n",
       " 'HIACE',\n",
       " 'Toyota Land Cruiser Prado 120 Series',\n",
       " 'Lexus LX 470 II',\n",
       " 'Infiniti M M37 IV',\n",
       " 'Nissan Note I',\n",
       " 'BMW 3 серии 320d xDrive VII (G2x)',\n",
       " 'Honda Stream I',\n",
       " 'Volvo C30 I',\n",
       " 'BMW X5 35i III (F15)',\n",
       " 'BMW X5 35i II (E70) Рестайлинг',\n",
       " 'Volvo S90 II',\n",
       " 'BMW 3 серии 320i VI (F3x)',\n",
       " 'Volvo S40 I Рестайлинг',\n",
       " 'Mercedes-Benz CLA 200 I (C117, X117) Рестайлинг',\n",
       " 'Toyota Highlander III (U50)',\n",
       " 'Lexus RX 400h II Рестайлинг',\n",
       " 'Audi A4 I (B5)',\n",
       " 'Honda Civic X',\n",
       " 'Infiniti QX80 I Рестайлинг 2',\n",
       " 'Lexus RX 450h III',\n",
       " 'Honda Accord VII',\n",
       " 'OCTAVIA_RS',\n",
       " 'A1',\n",
       " 'NAVARA',\n",
       " 'Volkswagen Tiguan II Рестайлинг',\n",
       " 'Honda CR-V I Рестайлинг',\n",
       " 'CROWN',\n",
       " 'MONTERO_SPORT',\n",
       " 'E_KLASSE_AMG',\n",
       " 'Volvo XC40 I',\n",
       " 'Nissan Almera II (N16) Рестайлинг',\n",
       " 'Skoda Octavia DSG7 II (A5) Рестайлинг',\n",
       " 'Mercedes-Benz C-Класс 180 IV (W205)',\n",
       " 'Toyota Corolla AMT X (E140, E150)',\n",
       " 'Skoda Fabia I Рестайлинг',\n",
       " 'Mercedes-Benz V-Класс L 250 d длинный II',\n",
       " 'VERSO',\n",
       " 'Skoda Octavia IV (A8)',\n",
       " 'Honda HR-V I Рестайлинг',\n",
       " 'Volvo XC90 II Рестайлинг',\n",
       " 'BMW X6 35i I (E71)',\n",
       " 'Toyota Land Cruiser Prado 150 Series Рестайлинг 3',\n",
       " 'BMW X5 40d III (F15)',\n",
       " 'GLC_COUPE',\n",
       " 'Volvo 940',\n",
       " 'Nissan Murano II (Z51) Рестайлинг',\n",
       " 'Mitsubishi Galant VIII Рестайлинг',\n",
       " 'Honda Jazz I Рестайлинг',\n",
       " 'BMW 3 серии 316i VI (F3x)',\n",
       " 'Volkswagen Jetta V',\n",
       " '850',\n",
       " 'Volkswagen Passat B3',\n",
       " 'TUNDRA',\n",
       " 'QX50',\n",
       " 'Nissan Micra III (K12)',\n",
       " 'C30',\n",
       " 'Volkswagen Passat B5 Рестайлинг',\n",
       " 'Mitsubishi Pajero II',\n",
       " 'Mercedes-Benz M-Класс 350 CDI III (W166)',\n",
       " 'BORA',\n",
       " 'Honda Fit III Рестайлинг',\n",
       " 'Toyota Camry VI (XV40) Рестайлинг',\n",
       " 'Lexus ES 250 VI Рестайлинг',\n",
       " 'BMW 3 серии 320i xDrive VI (F3x) Рестайлинг',\n",
       " 'Audi A1 I (8X)',\n",
       " 'A4_ALLROAD',\n",
       " 'BMW 3 серии 320d xDrive VI (F3x) Рестайлинг',\n",
       " 'Mercedes-Benz C-Класс 180 IV (W205) Рестайлинг',\n",
       " 'Audi Q7 45 TDI II (4M) Рестайлинг',\n",
       " 'Mercedes-Benz C-Класс 180 III (W204) Рестайлинг',\n",
       " 'GRANDIS',\n",
       " 'Toyota Avensis II Рестайлинг',\n",
       " 'Mercedes-Benz GLA 250 I (X156)',\n",
       " 'Lexus IS 250 III',\n",
       " 'Infiniti EX EX35 I (J50)',\n",
       " 'ALPHARD',\n",
       " 'BMW 1 серии 116i II (F20/F21)',\n",
       " 'BMW X6 35i II (F16)',\n",
       " 'Nissan X-Trail I Рестайлинг',\n",
       " 'SL_KLASSE',\n",
       " 'SKYLINE',\n",
       " 'Audi 80 V (B4)',\n",
       " 'Honda Accord V',\n",
       " 'Honda Civic Ferio II']"
      ]
     },
     "execution_count": 28,
     "metadata": {},
     "output_type": "execute_result"
    }
   ],
   "source": [
    "top_models = []\n",
    "for model in models_to_numbers:\n",
    "    if models_to_numbers[model]>=30:\n",
    "        top_models.append(model)\n",
    "top_models\n"
   ]
  },
  {
   "cell_type": "code",
   "execution_count": 29,
   "metadata": {},
   "outputs": [],
   "source": [
    "# reduce number of categories:\n",
    "# if number of records for a model less than 30, replace model_name with \"other\" ...\n",
    "data.model_name = data.model_name.apply(lambda x: is_top_model(x, top_models))\n"
   ]
  },
  {
   "cell_type": "code",
   "execution_count": 30,
   "metadata": {},
   "outputs": [],
   "source": [
    "# sort out:\n",
    "cat_columns.append(\"model_name\")\n"
   ]
  },
  {
   "cell_type": "markdown",
   "metadata": {},
   "source": [
    "### 2. body_type"
   ]
  },
  {
   "cell_type": "code",
   "execution_count": 31,
   "metadata": {},
   "outputs": [
    {
     "data": {
      "text/plain": [
       "внедорожник 5 дв.          27985\n",
       "седан                      23726\n",
       "лифтбек                     4919\n",
       "хэтчбек 5 дв.               4270\n",
       "универсал 5 дв.             2526\n",
       "минивэн                     1684\n",
       "купе                        1460\n",
       "компактвэн                  1081\n",
       "хэтчбек 3 дв.                747\n",
       "пикап двойная кабина         551\n",
       "купе-хардтоп                 228\n",
       "внедорожник 3 дв.            198\n",
       "кабриолет                    170\n",
       "родстер                      152\n",
       "фургон                       143\n",
       "микровэн                      46\n",
       "седан-хардтоп                 19\n",
       "пикап одинарная кабина        14\n",
       "седан 2 дв.                    8\n",
       "лимузин                        8\n",
       "пикап полуторная кабина        7\n",
       "внедорожник открытый           6\n",
       "тарга                          2\n",
       "фастбек                        1\n",
       "Name: body_type, dtype: int64"
      ]
     },
     "execution_count": 31,
     "metadata": {},
     "output_type": "execute_result"
    }
   ],
   "source": [
    "data.body_type.value_counts()\n"
   ]
  },
  {
   "cell_type": "code",
   "execution_count": 32,
   "metadata": {},
   "outputs": [],
   "source": [
    "# translate body types:\n",
    "data.body_type = data.body_type.map(\n",
    "                {'седан' : 'sedan',\n",
    "                 'внедорожник 5 дв.' : 'SUV 5 doors.',\n",
    "                 'лифтбек' : 'liftback',\n",
    "                 'хэтчбек 5 дв.' : 'hatchback 5 doors.',\n",
    "                 'универсал 5 дв.' : 'station wagon 5 doors.',\n",
    "                 'минивэн' : 'minivan',\n",
    "                 'купе' : 'coupe',\n",
    "                 'компактвэн' : 'compact MPV',\n",
    "                 'хэтчбек 3 дв.' : 'hatchback 3 doors.',\n",
    "                 'пикап двойная кабина' : 'pickup double cab',\n",
    "                 'купе-хардтоп' : 'coupe-hardtop',\n",
    "                 'внедорожник 3 дв.' : 'off-road vehicle 3 doors.',\n",
    "                 'родстер' :  'roadster',\n",
    "                 'фургон' : 'van',\n",
    "                 'кабриолет' : 'cabriolet',\n",
    "                 'седан-хардтоп' : 'hardtop sedan',\n",
    "                 'микровэн' : 'microvan',\n",
    "                 'седан 2 дв.' : 'sedan 2 doors.',\n",
    "                 'лимузин' : 'limousine',\n",
    "                 'пикап одинарная кабина' : 'pickup single cab',\n",
    "                 'пикап полуторная кабина' : 'pickup one-and-a-half cab',\n",
    "                 'внедорожник открытый' :  'off-road vehicle open',\n",
    "                 'тарга' : 'targa',\n",
    "                 'фастбек' : 'fastback'})\n"
   ]
  },
  {
   "cell_type": "code",
   "execution_count": 33,
   "metadata": {},
   "outputs": [
    {
     "data": {
      "text/plain": [
       "['brand', 'model_name', 'body_type']"
      ]
     },
     "execution_count": 33,
     "metadata": {},
     "output_type": "execute_result"
    }
   ],
   "source": [
    "# sort out:\n",
    "cat_columns.append(\"body_type\")\n",
    "cat_columns\n"
   ]
  },
  {
   "cell_type": "markdown",
   "metadata": {},
   "source": [
    "### 3. doors"
   ]
  },
  {
   "cell_type": "code",
   "execution_count": 34,
   "metadata": {},
   "outputs": [
    {
     "data": {
      "text/plain": [
       "5    41563\n",
       "4    25317\n",
       "2     2060\n",
       "3     1010\n",
       "0        1\n",
       "Name: doors, dtype: int64"
      ]
     },
     "execution_count": 34,
     "metadata": {},
     "output_type": "execute_result"
    }
   ],
   "source": [
    "data.doors.value_counts()\n"
   ]
  },
  {
   "cell_type": "code",
   "execution_count": 35,
   "metadata": {},
   "outputs": [
    {
     "data": {
      "text/plain": [
       "['brand', 'model_name', 'body_type', 'doors']"
      ]
     },
     "execution_count": 35,
     "metadata": {},
     "output_type": "execute_result"
    }
   ],
   "source": [
    "# sort out:\n",
    "cat_columns.append(\"doors\")\n",
    "cat_columns\n"
   ]
  },
  {
   "cell_type": "markdown",
   "metadata": {},
   "source": [
    "### 4. model_date"
   ]
  },
  {
   "cell_type": "code",
   "execution_count": 36,
   "metadata": {},
   "outputs": [
    {
     "data": {
      "text/plain": [
       "count    69951.000000\n",
       "mean      2008.272619\n",
       "std          7.322240\n",
       "min       1904.000000\n",
       "25%       2005.000000\n",
       "50%       2010.000000\n",
       "75%       2013.000000\n",
       "max       2021.000000\n",
       "Name: model_date, dtype: float64"
      ]
     },
     "execution_count": 36,
     "metadata": {},
     "output_type": "execute_result"
    }
   ],
   "source": [
    "data.model_date.describe()\n"
   ]
  },
  {
   "cell_type": "markdown",
   "metadata": {},
   "source": [
    "Dataset contains data about car model from year 1904... "
   ]
  },
  {
   "cell_type": "code",
   "execution_count": 37,
   "metadata": {},
   "outputs": [
    {
     "data": {
      "text/plain": [
       "['model_date']"
      ]
     },
     "execution_count": 37,
     "metadata": {},
     "output_type": "execute_result"
    }
   ],
   "source": [
    "# sort out:\n",
    "num_columns.append(\"model_date\")\n",
    "num_columns\n"
   ]
  },
  {
   "cell_type": "code",
   "execution_count": 38,
   "metadata": {},
   "outputs": [
    {
     "data": {
      "text/plain": [
       "(2021, 2020)"
      ]
     },
     "execution_count": 38,
     "metadata": {},
     "output_type": "execute_result"
    }
   ],
   "source": [
    "# to add year of collecting datasets, find it out: \n",
    "# for train and test data it is different:\n",
    "traindata_year = data[data.test_train==\"train\"][\"model_date\"].max()\n",
    "testdata_year = data[data.test_train==\"test\"][\"model_date\"].max()\n",
    "traindata_year, testdata_year\n"
   ]
  },
  {
   "cell_type": "markdown",
   "metadata": {},
   "source": [
    "### ++++++ new column +++++"
   ]
  },
  {
   "cell_type": "code",
   "execution_count": 39,
   "metadata": {},
   "outputs": [
    {
     "data": {
      "text/plain": [
       "58448    2020\n",
       "35931    2020\n",
       "7329     2021\n",
       "43646    2020\n",
       "40356    2020\n",
       "18732    2021\n",
       "63769    2020\n",
       "Name: dataset_year, dtype: int64"
      ]
     },
     "execution_count": 39,
     "metadata": {},
     "output_type": "execute_result"
    }
   ],
   "source": [
    "# create new column \"dataset_year\" (year of collecting datasets)\n",
    "data[\"dataset_year\"] = np.where(data.test_train==\"test\", testdata_year, traindata_year)\n",
    "data.dataset_year.sample(7)\n"
   ]
  },
  {
   "cell_type": "code",
   "execution_count": 40,
   "metadata": {},
   "outputs": [
    {
     "data": {
      "text/plain": [
       "['dataset_year']"
      ]
     },
     "execution_count": 40,
     "metadata": {},
     "output_type": "execute_result"
    }
   ],
   "source": [
    "# sort out:\n",
    "bin_columns.append(\"dataset_year\")\n",
    "bin_columns\n"
   ]
  },
  {
   "cell_type": "markdown",
   "metadata": {},
   "source": [
    "### ++++++ new column +++++"
   ]
  },
  {
   "cell_type": "code",
   "execution_count": 41,
   "metadata": {},
   "outputs": [
    {
     "data": {
      "text/plain": [
       "11949     8\n",
       "9590     13\n",
       "21199     2\n",
       "31978    12\n",
       "54896    11\n",
       "56815    23\n",
       "22428     2\n",
       "Name: model_age, dtype: int64"
      ]
     },
     "execution_count": 41,
     "metadata": {},
     "output_type": "execute_result"
    }
   ],
   "source": [
    "#### add model age:\n",
    "data[\"model_age\"]= data.dataset_year - data.model_date\n",
    "data.model_age.sample(7)\n"
   ]
  },
  {
   "cell_type": "code",
   "execution_count": 42,
   "metadata": {},
   "outputs": [
    {
     "data": {
      "text/plain": [
       "['model_date', 'model_age']"
      ]
     },
     "execution_count": 42,
     "metadata": {},
     "output_type": "execute_result"
    }
   ],
   "source": [
    "# sort out:\n",
    "num_columns.append(\"model_age\")\n",
    "num_columns\n"
   ]
  },
  {
   "cell_type": "markdown",
   "metadata": {},
   "source": [
    "### ++++++ new column +++++"
   ]
  },
  {
   "cell_type": "code",
   "execution_count": 43,
   "metadata": {},
   "outputs": [],
   "source": [
    "# new column-marker to show if it is a new model on a market:\n",
    "data[\"new_model\"] = np.where(data.model_age==0, \"yes\", \"no\")\n"
   ]
  },
  {
   "cell_type": "code",
   "execution_count": 44,
   "metadata": {},
   "outputs": [
    {
     "data": {
      "text/plain": [
       "no     69927\n",
       "yes       24\n",
       "Name: new_model, dtype: int64"
      ]
     },
     "execution_count": 44,
     "metadata": {},
     "output_type": "execute_result"
    }
   ],
   "source": [
    "data.new_model.value_counts()\n"
   ]
  },
  {
   "cell_type": "code",
   "execution_count": 45,
   "metadata": {},
   "outputs": [
    {
     "data": {
      "text/plain": [
       "['dataset_year', 'new_model']"
      ]
     },
     "execution_count": 45,
     "metadata": {},
     "output_type": "execute_result"
    }
   ],
   "source": [
    "# sort out:\n",
    "bin_columns.append(\"new_model\")\n",
    "bin_columns\n"
   ]
  },
  {
   "cell_type": "markdown",
   "metadata": {},
   "source": [
    "### 5. prod_date"
   ]
  },
  {
   "cell_type": "code",
   "execution_count": 46,
   "metadata": {},
   "outputs": [
    {
     "data": {
      "text/plain": [
       "count    69951.000000\n",
       "mean      2010.393576\n",
       "std          7.011943\n",
       "min       1904.000000\n",
       "25%       2007.000000\n",
       "50%       2012.000000\n",
       "75%       2016.000000\n",
       "max       2021.000000\n",
       "Name: prod_date, dtype: float64"
      ]
     },
     "execution_count": 46,
     "metadata": {},
     "output_type": "execute_result"
    }
   ],
   "source": [
    "data.prod_date.describe()\n"
   ]
  },
  {
   "cell_type": "code",
   "execution_count": 47,
   "metadata": {},
   "outputs": [
    {
     "data": {
      "text/plain": [
       "[count    34686.000000\n",
       " mean      2009.264602\n",
       " std          7.047661\n",
       " min       1904.000000\n",
       " 25%       2006.000000\n",
       " 50%       2011.000000\n",
       " 75%       2014.000000\n",
       " max       2020.000000\n",
       " Name: prod_date, dtype: float64,\n",
       " '===============================',\n",
       " count    35265.000000\n",
       " mean      2011.504012\n",
       " std          6.796175\n",
       " min       1939.000000\n",
       " 25%       2008.000000\n",
       " 50%       2013.000000\n",
       " 75%       2017.000000\n",
       " max       2021.000000\n",
       " Name: prod_date, dtype: float64]"
      ]
     },
     "execution_count": 47,
     "metadata": {},
     "output_type": "execute_result"
    }
   ],
   "source": [
    "# compare statistics for train and test datasets:\n",
    "[data[data.test_train==\"test\"].prod_date.describe(), \n",
    " \"===============================\",\n",
    " data[data.test_train==\"train\"].prod_date.describe()]\n",
    "\n"
   ]
  },
  {
   "cell_type": "markdown",
   "metadata": {},
   "source": [
    "test contains car produced in 1904, it will be no easy to predict  it's price on the base on train dataset..."
   ]
  },
  {
   "cell_type": "code",
   "execution_count": 48,
   "metadata": {},
   "outputs": [
    {
     "data": {
      "text/plain": [
       "['model_date', 'model_age', 'prod_date']"
      ]
     },
     "execution_count": 48,
     "metadata": {},
     "output_type": "execute_result"
    }
   ],
   "source": [
    "# sort out:\n",
    "num_columns.append(\"prod_date\")\n",
    "num_columns\n"
   ]
  },
  {
   "cell_type": "markdown",
   "metadata": {},
   "source": [
    "test dataset is one year older. Adding a car age column Add columns \"raritet\" , \"new_model\" and make feature categorian by 10 years....."
   ]
  },
  {
   "cell_type": "markdown",
   "metadata": {},
   "source": [
    "### ++++++++ new column +++++++++"
   ]
  },
  {
   "cell_type": "code",
   "execution_count": 49,
   "metadata": {},
   "outputs": [
    {
     "data": {
      "text/plain": [
       "count    69951.000000\n",
       "mean        12.231519\n",
       "std          7.257905\n",
       "min          0.000000\n",
       "25%          7.000000\n",
       "50%         11.000000\n",
       "75%         15.000000\n",
       "max        116.000000\n",
       "Name: car_age, dtype: float64"
      ]
     },
     "execution_count": 49,
     "metadata": {},
     "output_type": "execute_result"
    }
   ],
   "source": [
    "data[\"car_age\"] = data.dataset_year - data.model_date\n",
    "data[\"car_age\"].describe()\n"
   ]
  },
  {
   "cell_type": "markdown",
   "metadata": {},
   "source": [
    "There are new cars represented in both datasets, oldest car in test is much older then the oldest car in train, will be marked as raritet or even super raritet"
   ]
  },
  {
   "cell_type": "code",
   "execution_count": 50,
   "metadata": {},
   "outputs": [
    {
     "data": {
      "text/plain": [
       "['model_date', 'model_age', 'prod_date', 'car_age']"
      ]
     },
     "execution_count": 50,
     "metadata": {},
     "output_type": "execute_result"
    }
   ],
   "source": [
    "# sort out:\n",
    "num_columns.append(\"car_age\")\n",
    "num_columns\n"
   ]
  },
  {
   "cell_type": "code",
   "execution_count": 51,
   "metadata": {},
   "outputs": [
    {
     "data": {
      "text/html": [
       "<div>\n",
       "<style scoped>\n",
       "    .dataframe tbody tr th:only-of-type {\n",
       "        vertical-align: middle;\n",
       "    }\n",
       "\n",
       "    .dataframe tbody tr th {\n",
       "        vertical-align: top;\n",
       "    }\n",
       "\n",
       "    .dataframe thead th {\n",
       "        text-align: right;\n",
       "    }\n",
       "</style>\n",
       "<table border=\"1\" class=\"dataframe\">\n",
       "  <thead>\n",
       "    <tr style=\"text-align: right;\">\n",
       "      <th></th>\n",
       "      <th>car_age</th>\n",
       "      <th>retro</th>\n",
       "      <th>raritet</th>\n",
       "    </tr>\n",
       "  </thead>\n",
       "  <tbody>\n",
       "    <tr>\n",
       "      <th>18581</th>\n",
       "      <td>33</td>\n",
       "      <td>yes</td>\n",
       "      <td>no</td>\n",
       "    </tr>\n",
       "    <tr>\n",
       "      <th>3209</th>\n",
       "      <td>37</td>\n",
       "      <td>yes</td>\n",
       "      <td>no</td>\n",
       "    </tr>\n",
       "    <tr>\n",
       "      <th>40197</th>\n",
       "      <td>32</td>\n",
       "      <td>yes</td>\n",
       "      <td>no</td>\n",
       "    </tr>\n",
       "    <tr>\n",
       "      <th>1099</th>\n",
       "      <td>33</td>\n",
       "      <td>yes</td>\n",
       "      <td>no</td>\n",
       "    </tr>\n",
       "    <tr>\n",
       "      <th>21496</th>\n",
       "      <td>31</td>\n",
       "      <td>yes</td>\n",
       "      <td>no</td>\n",
       "    </tr>\n",
       "    <tr>\n",
       "      <th>40133</th>\n",
       "      <td>32</td>\n",
       "      <td>yes</td>\n",
       "      <td>no</td>\n",
       "    </tr>\n",
       "    <tr>\n",
       "      <th>40929</th>\n",
       "      <td>33</td>\n",
       "      <td>yes</td>\n",
       "      <td>no</td>\n",
       "    </tr>\n",
       "    <tr>\n",
       "      <th>40202</th>\n",
       "      <td>34</td>\n",
       "      <td>yes</td>\n",
       "      <td>no</td>\n",
       "    </tr>\n",
       "    <tr>\n",
       "      <th>8282</th>\n",
       "      <td>34</td>\n",
       "      <td>yes</td>\n",
       "      <td>no</td>\n",
       "    </tr>\n",
       "    <tr>\n",
       "      <th>42347</th>\n",
       "      <td>32</td>\n",
       "      <td>yes</td>\n",
       "      <td>no</td>\n",
       "    </tr>\n",
       "  </tbody>\n",
       "</table>\n",
       "</div>"
      ],
      "text/plain": [
       "       car_age retro raritet\n",
       "18581       33   yes      no\n",
       "3209        37   yes      no\n",
       "40197       32   yes      no\n",
       "1099        33   yes      no\n",
       "21496       31   yes      no\n",
       "40133       32   yes      no\n",
       "40929       33   yes      no\n",
       "40202       34   yes      no\n",
       "8282        34   yes      no\n",
       "42347       32   yes      no"
      ]
     },
     "execution_count": 51,
     "metadata": {},
     "output_type": "execute_result"
    }
   ],
   "source": [
    "# add new column \"new_car\" for cars with car_age=0:\n",
    "data[\"new_car\"] = np.where(data[\"car_age\"]==0, \"yes\", \"no\")\n",
    "# add new column \"retro\" for cars older then 30 years\n",
    "data[\"retro\"] = np.where(data[\"car_age\"]>30, \"yes\", \"no\")\n",
    "# and new column \"raritet\" for cars older then 50 years\n",
    "data[\"raritet\"] = np.where(data[\"car_age\"]>50, \"yes\", \"no\")\n",
    "data[data.car_age>30][[\"car_age\", \"retro\", \"raritet\"]].sample(10)\n"
   ]
  },
  {
   "cell_type": "code",
   "execution_count": 52,
   "metadata": {},
   "outputs": [
    {
     "data": {
      "text/plain": [
       "['dataset_year', 'new_model', 'new_car', 'retro', 'raritet']"
      ]
     },
     "execution_count": 52,
     "metadata": {},
     "output_type": "execute_result"
    }
   ],
   "source": [
    "# sort out:\n",
    "bin_columns.append(\"new_car\")\n",
    "bin_columns.append(\"retro\")\n",
    "bin_columns.append(\"raritet\")\n",
    "bin_columns\n"
   ]
  },
  {
   "cell_type": "markdown",
   "metadata": {},
   "source": [
    "### 6. color"
   ]
  },
  {
   "cell_type": "code",
   "execution_count": 53,
   "metadata": {},
   "outputs": [
    {
     "data": {
      "text/plain": [
       "чёрный         21181\n",
       "белый          14064\n",
       "серый           8830\n",
       "серебристый     7632\n",
       "синий           6346\n",
       "коричневый      3138\n",
       "красный         3092\n",
       "зелёный         1626\n",
       "бежевый         1290\n",
       "голубой          781\n",
       "золотистый       490\n",
       "пурпурный        482\n",
       "фиолетовый       398\n",
       "жёлтый           319\n",
       "оранжевый        258\n",
       "розовый           24\n",
       "Name: color, dtype: int64"
      ]
     },
     "execution_count": 53,
     "metadata": {},
     "output_type": "execute_result"
    }
   ],
   "source": [
    "data.color.value_counts()\n"
   ]
  },
  {
   "cell_type": "code",
   "execution_count": 54,
   "metadata": {},
   "outputs": [
    {
     "data": {
      "text/plain": [
       "black         21181\n",
       "white         14064\n",
       "grey           8830\n",
       "silver         7632\n",
       "blue           6346\n",
       "braun          3138\n",
       "red            3092\n",
       "green          1626\n",
       "beige          1290\n",
       "light-blue      781\n",
       "gold            490\n",
       "purple          482\n",
       "violet          398\n",
       "yellow          319\n",
       "orange          258\n",
       "rose             24\n",
       "Name: color, dtype: int64"
      ]
     },
     "execution_count": 54,
     "metadata": {},
     "output_type": "execute_result"
    }
   ],
   "source": [
    "data.color = data.color.map(\n",
    "                {\"чёрный\" : \"black\",\n",
    "                \"белый\" : \"white\",\n",
    "                \"серый\" : \"grey\",\n",
    "                \"серебристый\" : \"silver\",\n",
    "                \"синий\" : \"blue\",\n",
    "                \"красный\" : \"red\",\n",
    "                \"коричневый\" :\"braun\",\n",
    "                \"зелёный\" : \"green\",\n",
    "                \"бежевый\" : \"beige\",\n",
    "                \"голубой\" : \"light-blue\",\n",
    "                \"золотистый\" : \"gold\",\n",
    "                \"пурпурный\" : \"purple\",\n",
    "                \"фиолетовый\" : \"violet\",\n",
    "                \"жёлтый\" : \"yellow\",\n",
    "                \"оранжевый\" : \"orange\",\n",
    "                \"розовый\" : \"rose\"})\n",
    "\n",
    "data.color.value_counts()"
   ]
  },
  {
   "cell_type": "code",
   "execution_count": 55,
   "metadata": {},
   "outputs": [
    {
     "data": {
      "text/plain": [
       "['brand', 'model_name', 'body_type', 'doors', 'color']"
      ]
     },
     "execution_count": 55,
     "metadata": {},
     "output_type": "execute_result"
    }
   ],
   "source": [
    "# sort out:\n",
    "cat_columns.append(\"color\")\n",
    "cat_columns\n"
   ]
  },
  {
   "cell_type": "markdown",
   "metadata": {},
   "source": [
    "### 7. engine_V"
   ]
  },
  {
   "cell_type": "code",
   "execution_count": 56,
   "metadata": {
    "scrolled": true
   },
   "outputs": [
    {
     "data": {
      "text/plain": [
       "2.0 LTR    16022\n",
       "1.6 LTR     9687\n",
       "3.0 LTR     7501\n",
       "1.8 LTR     5705\n",
       "2.5 LTR     4708\n",
       "2.4 LTR     3833\n",
       "1.4 LTR     3506\n",
       "3.5 LTR     3495\n",
       "1.5 LTR     1957\n",
       "1.2 LTR     1056\n",
       "1.3 LTR      914\n",
       "2.8 LTR      732\n",
       "4.7 LTR      701\n",
       "4.5 LTR      701\n",
       "4.4 LTR      700\n",
       "4.0 LTR      685\n",
       "3.2 LTR      554\n",
       "5.5 LTR      553\n",
       "2.1 LTR      532\n",
       "3.7 LTR      528\n",
       "5.7 LTR      528\n",
       "5.6 LTR      443\n",
       "2.2 LTR      432\n",
       "2.3 LTR      429\n",
       "2.7 LTR      411\n",
       "4.2 LTR      364\n",
       "4.6 LTR      360\n",
       "3.6 LTR      338\n",
       "2.9 LTR      332\n",
       "1.9 LTR      321\n",
       "5.0 LTR      265\n",
       "0.7 LTR      210\n",
       "1.7 LTR      173\n",
       "3.3 LTR      160\n",
       "3.1 LTR      136\n",
       " LTR         127\n",
       "4.8 LTR      110\n",
       "1.0 LTR      105\n",
       "3.8 LTR      101\n",
       "4.3 LTR       84\n",
       "2.6 LTR       80\n",
       "6.0 LTR       76\n",
       "3.4 LTR       69\n",
       "4.1 LTR       54\n",
       "5.4 LTR       45\n",
       "6.2 LTR       40\n",
       "5.2 LTR       23\n",
       "5.9 LTR       15\n",
       "6.3 LTR       13\n",
       "6.6 LTR       13\n",
       "5.8 LTR        9\n",
       "1.1 LTR        9\n",
       "4.9 LTR        4\n",
       "5.3 LTR        1\n",
       "3.9 LTR        1\n",
       "Name: engine_V, dtype: int64"
      ]
     },
     "execution_count": 56,
     "metadata": {},
     "output_type": "execute_result"
    }
   ],
   "source": [
    "data.engine_V.value_counts()\n"
   ]
  },
  {
   "cell_type": "code",
   "execution_count": 57,
   "metadata": {},
   "outputs": [],
   "source": [
    "# remove \"LTR\"\n",
    "data.engine_V = data.engine_V.apply(lambda x: str(x).replace(\" LTR\", \"\"))\n"
   ]
  },
  {
   "cell_type": "code",
   "execution_count": 58,
   "metadata": {},
   "outputs": [
    {
     "data": {
      "text/plain": [
       "array(['3.5', '1.5', '1.6', '3.4', '1.8', '2.4', '4.5', '4.0', '2.8',\n",
       "       '1.3', '2.5', '1.4', '2.0', '2.2', '3.0', '2.7', '4.2', '5.7',\n",
       "       '3.3', '1.0', '4.7', '4.6', '4.3', '1.2', '3.6', '3.2', '1.9',\n",
       "       '1.7', '2.3', '0.7', '4.4', '4.8', '6.6', '', '2.9', '6.0', '5.4',\n",
       "       '5.0', '2.6', '5.9', '5.2', '3.1', '3.7', '6.3', '5.6', '3.8',\n",
       "       '5.5', '2.1', '6.2', '5.8', '4.1', '1.1', '4.9', '3.9', '5.3'],\n",
       "      dtype=object)"
      ]
     },
     "execution_count": 58,
     "metadata": {},
     "output_type": "execute_result"
    }
   ],
   "source": [
    "# wonder what has happend with value \"LTR\":\n",
    "data.engine_V.unique()\n"
   ]
  },
  {
   "cell_type": "markdown",
   "metadata": {},
   "source": [
    "There is an empty value instead. Take a look:"
   ]
  },
  {
   "cell_type": "code",
   "execution_count": 59,
   "metadata": {},
   "outputs": [
    {
     "data": {
      "text/html": [
       "<div>\n",
       "<style scoped>\n",
       "    .dataframe tbody tr th:only-of-type {\n",
       "        vertical-align: middle;\n",
       "    }\n",
       "\n",
       "    .dataframe tbody tr th {\n",
       "        vertical-align: top;\n",
       "    }\n",
       "\n",
       "    .dataframe thead th {\n",
       "        text-align: right;\n",
       "    }\n",
       "</style>\n",
       "<table border=\"1\" class=\"dataframe\">\n",
       "  <thead>\n",
       "    <tr style=\"text-align: right;\">\n",
       "      <th></th>\n",
       "      <th>brand</th>\n",
       "      <th>model_name</th>\n",
       "      <th>body_type</th>\n",
       "      <th>doors</th>\n",
       "      <th>model_date</th>\n",
       "      <th>prod_date</th>\n",
       "      <th>color</th>\n",
       "      <th>engine_V</th>\n",
       "      <th>power</th>\n",
       "      <th>fuel</th>\n",
       "      <th>...</th>\n",
       "      <th>car_url</th>\n",
       "      <th>price</th>\n",
       "      <th>test_train</th>\n",
       "      <th>dataset_year</th>\n",
       "      <th>model_age</th>\n",
       "      <th>new_model</th>\n",
       "      <th>car_age</th>\n",
       "      <th>new_car</th>\n",
       "      <th>retro</th>\n",
       "      <th>raritet</th>\n",
       "    </tr>\n",
       "  </thead>\n",
       "  <tbody>\n",
       "    <tr>\n",
       "      <th>6939</th>\n",
       "      <td>BMW</td>\n",
       "      <td>other</td>\n",
       "      <td>hatchback 5 doors.</td>\n",
       "      <td>5</td>\n",
       "      <td>2017</td>\n",
       "      <td>2018</td>\n",
       "      <td>black</td>\n",
       "      <td></td>\n",
       "      <td>170 N12</td>\n",
       "      <td>электро</td>\n",
       "      <td>...</td>\n",
       "      <td>https://auto.ru/cars/used/sale/bmw/i3/11056537...</td>\n",
       "      <td>2 150 000 ₽</td>\n",
       "      <td>train</td>\n",
       "      <td>2021</td>\n",
       "      <td>4</td>\n",
       "      <td>no</td>\n",
       "      <td>4</td>\n",
       "      <td>no</td>\n",
       "      <td>no</td>\n",
       "      <td>no</td>\n",
       "    </tr>\n",
       "    <tr>\n",
       "      <th>7595</th>\n",
       "      <td>BMW</td>\n",
       "      <td>other</td>\n",
       "      <td>hatchback 5 doors.</td>\n",
       "      <td>5</td>\n",
       "      <td>2017</td>\n",
       "      <td>2019</td>\n",
       "      <td>beige</td>\n",
       "      <td></td>\n",
       "      <td>170 N12</td>\n",
       "      <td>электро</td>\n",
       "      <td>...</td>\n",
       "      <td>https://auto.ru/cars/used/sale/bmw/i3/11056231...</td>\n",
       "      <td>2 500 000 ₽</td>\n",
       "      <td>train</td>\n",
       "      <td>2021</td>\n",
       "      <td>4</td>\n",
       "      <td>no</td>\n",
       "      <td>4</td>\n",
       "      <td>no</td>\n",
       "      <td>no</td>\n",
       "      <td>no</td>\n",
       "    </tr>\n",
       "    <tr>\n",
       "      <th>7722</th>\n",
       "      <td>BMW</td>\n",
       "      <td>other</td>\n",
       "      <td>hatchback 5 doors.</td>\n",
       "      <td>5</td>\n",
       "      <td>2013</td>\n",
       "      <td>2014</td>\n",
       "      <td>grey</td>\n",
       "      <td></td>\n",
       "      <td>170 N12</td>\n",
       "      <td>электро</td>\n",
       "      <td>...</td>\n",
       "      <td>https://auto.ru/cars/used/sale/bmw/i3/11051492...</td>\n",
       "      <td>1 165 000 ₽</td>\n",
       "      <td>train</td>\n",
       "      <td>2021</td>\n",
       "      <td>8</td>\n",
       "      <td>no</td>\n",
       "      <td>8</td>\n",
       "      <td>no</td>\n",
       "      <td>no</td>\n",
       "      <td>no</td>\n",
       "    </tr>\n",
       "    <tr>\n",
       "      <th>7824</th>\n",
       "      <td>BMW</td>\n",
       "      <td>other</td>\n",
       "      <td>hatchback 5 doors.</td>\n",
       "      <td>5</td>\n",
       "      <td>2017</td>\n",
       "      <td>2018</td>\n",
       "      <td>blue</td>\n",
       "      <td></td>\n",
       "      <td>170 N12</td>\n",
       "      <td>электро</td>\n",
       "      <td>...</td>\n",
       "      <td>https://auto.ru/cars/used/sale/bmw/i3/11042281...</td>\n",
       "      <td>2 495 000 ₽</td>\n",
       "      <td>train</td>\n",
       "      <td>2021</td>\n",
       "      <td>4</td>\n",
       "      <td>no</td>\n",
       "      <td>4</td>\n",
       "      <td>no</td>\n",
       "      <td>no</td>\n",
       "      <td>no</td>\n",
       "    </tr>\n",
       "    <tr>\n",
       "      <th>7842</th>\n",
       "      <td>BMW</td>\n",
       "      <td>other</td>\n",
       "      <td>hatchback 5 doors.</td>\n",
       "      <td>5</td>\n",
       "      <td>2017</td>\n",
       "      <td>2018</td>\n",
       "      <td>black</td>\n",
       "      <td></td>\n",
       "      <td>170 N12</td>\n",
       "      <td>электро</td>\n",
       "      <td>...</td>\n",
       "      <td>https://auto.ru/cars/used/sale/bmw/i3/11016855...</td>\n",
       "      <td>1 920 000 ₽</td>\n",
       "      <td>train</td>\n",
       "      <td>2021</td>\n",
       "      <td>4</td>\n",
       "      <td>no</td>\n",
       "      <td>4</td>\n",
       "      <td>no</td>\n",
       "      <td>no</td>\n",
       "      <td>no</td>\n",
       "    </tr>\n",
       "    <tr>\n",
       "      <th>...</th>\n",
       "      <td>...</td>\n",
       "      <td>...</td>\n",
       "      <td>...</td>\n",
       "      <td>...</td>\n",
       "      <td>...</td>\n",
       "      <td>...</td>\n",
       "      <td>...</td>\n",
       "      <td>...</td>\n",
       "      <td>...</td>\n",
       "      <td>...</td>\n",
       "      <td>...</td>\n",
       "      <td>...</td>\n",
       "      <td>...</td>\n",
       "      <td>...</td>\n",
       "      <td>...</td>\n",
       "      <td>...</td>\n",
       "      <td>...</td>\n",
       "      <td>...</td>\n",
       "      <td>...</td>\n",
       "      <td>...</td>\n",
       "      <td>...</td>\n",
       "    </tr>\n",
       "    <tr>\n",
       "      <th>67933</th>\n",
       "      <td>NISSAN</td>\n",
       "      <td>LEAF</td>\n",
       "      <td>hatchback 5 doors.</td>\n",
       "      <td>5</td>\n",
       "      <td>2017</td>\n",
       "      <td>2018</td>\n",
       "      <td>black</td>\n",
       "      <td></td>\n",
       "      <td>150 N12</td>\n",
       "      <td>электро</td>\n",
       "      <td>...</td>\n",
       "      <td>https://auto.ru/cars/used/sale/nissan/leaf/110...</td>\n",
       "      <td>0</td>\n",
       "      <td>test</td>\n",
       "      <td>2020</td>\n",
       "      <td>3</td>\n",
       "      <td>no</td>\n",
       "      <td>3</td>\n",
       "      <td>no</td>\n",
       "      <td>no</td>\n",
       "      <td>no</td>\n",
       "    </tr>\n",
       "    <tr>\n",
       "      <th>67965</th>\n",
       "      <td>NISSAN</td>\n",
       "      <td>LEAF</td>\n",
       "      <td>hatchback 5 doors.</td>\n",
       "      <td>5</td>\n",
       "      <td>2010</td>\n",
       "      <td>2011</td>\n",
       "      <td>light-blue</td>\n",
       "      <td></td>\n",
       "      <td>109 N12</td>\n",
       "      <td>электро</td>\n",
       "      <td>...</td>\n",
       "      <td>https://auto.ru/cars/used/sale/nissan/leaf/110...</td>\n",
       "      <td>0</td>\n",
       "      <td>test</td>\n",
       "      <td>2020</td>\n",
       "      <td>10</td>\n",
       "      <td>no</td>\n",
       "      <td>10</td>\n",
       "      <td>no</td>\n",
       "      <td>no</td>\n",
       "      <td>no</td>\n",
       "    </tr>\n",
       "    <tr>\n",
       "      <th>68063</th>\n",
       "      <td>NISSAN</td>\n",
       "      <td>LEAF</td>\n",
       "      <td>hatchback 5 doors.</td>\n",
       "      <td>5</td>\n",
       "      <td>2010</td>\n",
       "      <td>2013</td>\n",
       "      <td>black</td>\n",
       "      <td></td>\n",
       "      <td>109 N12</td>\n",
       "      <td>электро</td>\n",
       "      <td>...</td>\n",
       "      <td>https://auto.ru/cars/used/sale/nissan/leaf/109...</td>\n",
       "      <td>0</td>\n",
       "      <td>test</td>\n",
       "      <td>2020</td>\n",
       "      <td>10</td>\n",
       "      <td>no</td>\n",
       "      <td>10</td>\n",
       "      <td>no</td>\n",
       "      <td>no</td>\n",
       "      <td>no</td>\n",
       "    </tr>\n",
       "    <tr>\n",
       "      <th>69424</th>\n",
       "      <td>MERCEDES</td>\n",
       "      <td>B_KLASSE</td>\n",
       "      <td>hatchback 5 doors.</td>\n",
       "      <td>5</td>\n",
       "      <td>2014</td>\n",
       "      <td>2016</td>\n",
       "      <td>white</td>\n",
       "      <td></td>\n",
       "      <td>179 N12</td>\n",
       "      <td>электро</td>\n",
       "      <td>...</td>\n",
       "      <td>https://auto.ru/cars/used/sale/mercedes/b_klas...</td>\n",
       "      <td>0</td>\n",
       "      <td>test</td>\n",
       "      <td>2020</td>\n",
       "      <td>6</td>\n",
       "      <td>no</td>\n",
       "      <td>6</td>\n",
       "      <td>no</td>\n",
       "      <td>no</td>\n",
       "      <td>no</td>\n",
       "    </tr>\n",
       "    <tr>\n",
       "      <th>69769</th>\n",
       "      <td>NISSAN</td>\n",
       "      <td>LEAF</td>\n",
       "      <td>hatchback 5 doors.</td>\n",
       "      <td>5</td>\n",
       "      <td>2010</td>\n",
       "      <td>2013</td>\n",
       "      <td>black</td>\n",
       "      <td></td>\n",
       "      <td>109 N12</td>\n",
       "      <td>электро</td>\n",
       "      <td>...</td>\n",
       "      <td>https://auto.ru/cars/used/sale/nissan/leaf/110...</td>\n",
       "      <td>0</td>\n",
       "      <td>test</td>\n",
       "      <td>2020</td>\n",
       "      <td>10</td>\n",
       "      <td>no</td>\n",
       "      <td>10</td>\n",
       "      <td>no</td>\n",
       "      <td>no</td>\n",
       "      <td>no</td>\n",
       "    </tr>\n",
       "  </tbody>\n",
       "</table>\n",
       "<p>127 rows × 31 columns</p>\n",
       "</div>"
      ],
      "text/plain": [
       "          brand model_name           body_type  doors  model_date  prod_date  \\\n",
       "6939        BMW      other  hatchback 5 doors.      5        2017       2018   \n",
       "7595        BMW      other  hatchback 5 doors.      5        2017       2019   \n",
       "7722        BMW      other  hatchback 5 doors.      5        2013       2014   \n",
       "7824        BMW      other  hatchback 5 doors.      5        2017       2018   \n",
       "7842        BMW      other  hatchback 5 doors.      5        2017       2018   \n",
       "...         ...        ...                 ...    ...         ...        ...   \n",
       "67933    NISSAN       LEAF  hatchback 5 doors.      5        2017       2018   \n",
       "67965    NISSAN       LEAF  hatchback 5 doors.      5        2010       2011   \n",
       "68063    NISSAN       LEAF  hatchback 5 doors.      5        2010       2013   \n",
       "69424  MERCEDES   B_KLASSE  hatchback 5 doors.      5        2014       2016   \n",
       "69769    NISSAN       LEAF  hatchback 5 doors.      5        2010       2013   \n",
       "\n",
       "            color engine_V    power     fuel  ...  \\\n",
       "6939        black           170 N12  электро  ...   \n",
       "7595        beige           170 N12  электро  ...   \n",
       "7722         grey           170 N12  электро  ...   \n",
       "7824         blue           170 N12  электро  ...   \n",
       "7842        black           170 N12  электро  ...   \n",
       "...           ...      ...      ...      ...  ...   \n",
       "67933       black           150 N12  электро  ...   \n",
       "67965  light-blue           109 N12  электро  ...   \n",
       "68063       black           109 N12  электро  ...   \n",
       "69424       white           179 N12  электро  ...   \n",
       "69769       black           109 N12  электро  ...   \n",
       "\n",
       "                                                 car_url        price  \\\n",
       "6939   https://auto.ru/cars/used/sale/bmw/i3/11056537...  2 150 000 ₽   \n",
       "7595   https://auto.ru/cars/used/sale/bmw/i3/11056231...  2 500 000 ₽   \n",
       "7722   https://auto.ru/cars/used/sale/bmw/i3/11051492...  1 165 000 ₽   \n",
       "7824   https://auto.ru/cars/used/sale/bmw/i3/11042281...  2 495 000 ₽   \n",
       "7842   https://auto.ru/cars/used/sale/bmw/i3/11016855...  1 920 000 ₽   \n",
       "...                                                  ...          ...   \n",
       "67933  https://auto.ru/cars/used/sale/nissan/leaf/110...            0   \n",
       "67965  https://auto.ru/cars/used/sale/nissan/leaf/110...            0   \n",
       "68063  https://auto.ru/cars/used/sale/nissan/leaf/109...            0   \n",
       "69424  https://auto.ru/cars/used/sale/mercedes/b_klas...            0   \n",
       "69769  https://auto.ru/cars/used/sale/nissan/leaf/110...            0   \n",
       "\n",
       "      test_train dataset_year model_age new_model car_age new_car retro  \\\n",
       "6939       train         2021         4        no       4      no    no   \n",
       "7595       train         2021         4        no       4      no    no   \n",
       "7722       train         2021         8        no       8      no    no   \n",
       "7824       train         2021         4        no       4      no    no   \n",
       "7842       train         2021         4        no       4      no    no   \n",
       "...          ...          ...       ...       ...     ...     ...   ...   \n",
       "67933       test         2020         3        no       3      no    no   \n",
       "67965       test         2020        10        no      10      no    no   \n",
       "68063       test         2020        10        no      10      no    no   \n",
       "69424       test         2020         6        no       6      no    no   \n",
       "69769       test         2020        10        no      10      no    no   \n",
       "\n",
       "      raritet  \n",
       "6939       no  \n",
       "7595       no  \n",
       "7722       no  \n",
       "7824       no  \n",
       "7842       no  \n",
       "...       ...  \n",
       "67933      no  \n",
       "67965      no  \n",
       "68063      no  \n",
       "69424      no  \n",
       "69769      no  \n",
       "\n",
       "[127 rows x 31 columns]"
      ]
     },
     "execution_count": 59,
     "metadata": {},
     "output_type": "execute_result"
    }
   ],
   "source": [
    "data[data.engine_V==\"\"]\n"
   ]
  },
  {
   "cell_type": "code",
   "execution_count": 60,
   "metadata": {
    "scrolled": true
   },
   "outputs": [
    {
     "data": {
      "text/plain": [
       "brand           0\n",
       "model_name      0\n",
       "body_type       0\n",
       "doors           0\n",
       "model_date      0\n",
       "prod_date       0\n",
       "color           0\n",
       "engine_V        0\n",
       "power           0\n",
       "fuel            0\n",
       "image           0\n",
       "mileage         0\n",
       "name            0\n",
       "config          0\n",
       "transmission    0\n",
       "owners          0\n",
       "pass            1\n",
       "drive           0\n",
       "wheel           0\n",
       "state           0\n",
       "custom          0\n",
       "car_url         0\n",
       "price           0\n",
       "test_train      0\n",
       "dataset_year    0\n",
       "model_age       0\n",
       "new_model       0\n",
       "car_age         0\n",
       "new_car         0\n",
       "retro           0\n",
       "raritet         0\n",
       "dtype: int64"
      ]
     },
     "execution_count": 60,
     "metadata": {},
     "output_type": "execute_result"
    }
   ],
   "source": [
    "data.isnull().sum()\n"
   ]
  },
  {
   "cell_type": "code",
   "execution_count": 61,
   "metadata": {},
   "outputs": [
    {
     "data": {
      "text/plain": [
       "['model_date', 'model_age', 'prod_date', 'car_age', 'engine_V']"
      ]
     },
     "execution_count": 61,
     "metadata": {},
     "output_type": "execute_result"
    }
   ],
   "source": [
    "# sort out:\n",
    "num_columns.append(\"engine_V\")\n",
    "num_columns\n"
   ]
  },
  {
   "cell_type": "markdown",
   "metadata": {},
   "source": [
    "we received empty values for electrocars"
   ]
  },
  {
   "cell_type": "code",
   "execution_count": 62,
   "metadata": {},
   "outputs": [],
   "source": [
    "### +++++++++++++ new column +++++++++++++++"
   ]
  },
  {
   "cell_type": "code",
   "execution_count": 63,
   "metadata": {},
   "outputs": [
    {
     "data": {
      "text/plain": [
       "no     69824\n",
       "yes      127\n",
       "Name: electrocar, dtype: int64"
      ]
     },
     "execution_count": 63,
     "metadata": {},
     "output_type": "execute_result"
    }
   ],
   "source": [
    "# create marker column for electrocars:\n",
    "data[\"electrocar\"] = np.where(data[\"engine_V\"]==\"\", \"yes\", \"no\")\n",
    "data.electrocar.value_counts()\n"
   ]
  },
  {
   "cell_type": "code",
   "execution_count": 64,
   "metadata": {},
   "outputs": [
    {
     "data": {
      "text/plain": [
       "['dataset_year', 'new_model', 'new_car', 'retro', 'raritet', 'electrocar']"
      ]
     },
     "execution_count": 64,
     "metadata": {},
     "output_type": "execute_result"
    }
   ],
   "source": [
    "# sort out:\n",
    "bin_columns.append(\"electrocar\")\n",
    "bin_columns\n"
   ]
  },
  {
   "cell_type": "markdown",
   "metadata": {},
   "source": [
    "### 8. power"
   ]
  },
  {
   "cell_type": "code",
   "execution_count": 65,
   "metadata": {},
   "outputs": [
    {
     "data": {
      "text/plain": [
       "150 N12    4104\n",
       "249 N12    4060\n",
       "110 N12    2557\n",
       "170 N12    1898\n",
       "140 N12    1845\n",
       "           ... \n",
       "670 N12       1\n",
       "430 N12       1\n",
       "324 N12       1\n",
       "338 N12       1\n",
       "646 N12       1\n",
       "Name: power, Length: 334, dtype: int64"
      ]
     },
     "execution_count": 65,
     "metadata": {},
     "output_type": "execute_result"
    }
   ],
   "source": [
    "data.power.value_counts()\n"
   ]
  },
  {
   "cell_type": "code",
   "execution_count": 66,
   "metadata": {
    "scrolled": true
   },
   "outputs": [
    {
     "data": {
      "text/plain": [
       "150    4104\n",
       "249    4060\n",
       "110    2557\n",
       "170    1898\n",
       "140    1845\n",
       "       ... \n",
       "236       1\n",
       "301       1\n",
       "430       1\n",
       "324       1\n",
       "44        1\n",
       "Name: power, Length: 334, dtype: int64"
      ]
     },
     "execution_count": 66,
     "metadata": {},
     "output_type": "execute_result"
    }
   ],
   "source": [
    "# remove \"N12\":\n",
    "data.power = data.power.apply(lambda x: str(x).replace(\" N12\", \"\")).astype(int)\n",
    "data.power.value_counts()\n"
   ]
  },
  {
   "cell_type": "code",
   "execution_count": 67,
   "metadata": {},
   "outputs": [
    {
     "data": {
      "text/plain": [
       "['model_date', 'model_age', 'prod_date', 'car_age', 'engine_V', 'power']"
      ]
     },
     "execution_count": 67,
     "metadata": {},
     "output_type": "execute_result"
    }
   ],
   "source": [
    "# sort out\n",
    "num_columns.append(\"power\")\n",
    "num_columns\n"
   ]
  },
  {
   "cell_type": "code",
   "execution_count": 68,
   "metadata": {},
   "outputs": [
    {
     "name": "stderr",
     "output_type": "stream",
     "text": [
      "/Users/aliona/anaconda3/lib/python3.8/site-packages/pandas/core/ops/array_ops.py:253: FutureWarning: elementwise comparison failed; returning scalar instead, but in the future will perform elementwise comparison\n",
      "  res_values = method(rvalues)\n"
     ]
    },
    {
     "data": {
      "text/html": [
       "<div>\n",
       "<style scoped>\n",
       "    .dataframe tbody tr th:only-of-type {\n",
       "        vertical-align: middle;\n",
       "    }\n",
       "\n",
       "    .dataframe tbody tr th {\n",
       "        vertical-align: top;\n",
       "    }\n",
       "\n",
       "    .dataframe thead th {\n",
       "        text-align: right;\n",
       "    }\n",
       "</style>\n",
       "<table border=\"1\" class=\"dataframe\">\n",
       "  <thead>\n",
       "    <tr style=\"text-align: right;\">\n",
       "      <th></th>\n",
       "      <th>brand</th>\n",
       "      <th>model_name</th>\n",
       "      <th>body_type</th>\n",
       "      <th>doors</th>\n",
       "      <th>model_date</th>\n",
       "      <th>prod_date</th>\n",
       "      <th>color</th>\n",
       "      <th>engine_V</th>\n",
       "      <th>power</th>\n",
       "      <th>fuel</th>\n",
       "      <th>...</th>\n",
       "      <th>price</th>\n",
       "      <th>test_train</th>\n",
       "      <th>dataset_year</th>\n",
       "      <th>model_age</th>\n",
       "      <th>new_model</th>\n",
       "      <th>car_age</th>\n",
       "      <th>new_car</th>\n",
       "      <th>retro</th>\n",
       "      <th>raritet</th>\n",
       "      <th>electrocar</th>\n",
       "    </tr>\n",
       "  </thead>\n",
       "  <tbody>\n",
       "  </tbody>\n",
       "</table>\n",
       "<p>0 rows × 32 columns</p>\n",
       "</div>"
      ],
      "text/plain": [
       "Empty DataFrame\n",
       "Columns: [brand, model_name, body_type, doors, model_date, prod_date, color, engine_V, power, fuel, image, mileage, name, config, transmission, owners, pass, drive, wheel, state, custom, car_url, price, test_train, dataset_year, model_age, new_model, car_age, new_car, retro, raritet, electrocar]\n",
       "Index: []\n",
       "\n",
       "[0 rows x 32 columns]"
      ]
     },
     "execution_count": 68,
     "metadata": {},
     "output_type": "execute_result"
    }
   ],
   "source": [
    "# check for empty values:\n",
    "data[data[\"power\"]==\"\"]\n"
   ]
  },
  {
   "cell_type": "code",
   "execution_count": 69,
   "metadata": {},
   "outputs": [
    {
     "data": {
      "text/plain": [
       "26553     98\n",
       "25026    150\n",
       "11159    144\n",
       "13506    150\n",
       "7312     184\n",
       "9976     114\n",
       "48292    249\n",
       "Name: power, dtype: int64"
      ]
     },
     "execution_count": 69,
     "metadata": {},
     "output_type": "execute_result"
    }
   ],
   "source": [
    "data.power.sample(7)\n"
   ]
  },
  {
   "cell_type": "markdown",
   "metadata": {},
   "source": [
    "looks OK now"
   ]
  },
  {
   "cell_type": "markdown",
   "metadata": {},
   "source": [
    "### 9. fuel"
   ]
  },
  {
   "cell_type": "code",
   "execution_count": 70,
   "metadata": {},
   "outputs": [
    {
     "data": {
      "text/plain": [
       "бензин     57409\n",
       "дизель     11415\n",
       "гибрид       992\n",
       "электро      127\n",
       "газ            8\n",
       "Name: fuel, dtype: int64"
      ]
     },
     "execution_count": 70,
     "metadata": {},
     "output_type": "execute_result"
    }
   ],
   "source": [
    "data.fuel.value_counts()\n"
   ]
  },
  {
   "cell_type": "code",
   "execution_count": 71,
   "metadata": {},
   "outputs": [],
   "source": [
    "data.fuel = data.fuel.map(\n",
    "            {\n",
    "                \"бензин\" : \"petrol\",\n",
    "                \"дизель\" : \"diesel\",\n",
    "                \"гибрид\" : \"hybrid\",\n",
    "                \"электро\" : \"electro\",\n",
    "                \"газ\" : \"gas\"\n",
    "            }\n",
    "                    )\n"
   ]
  },
  {
   "cell_type": "code",
   "execution_count": 72,
   "metadata": {},
   "outputs": [
    {
     "data": {
      "text/plain": [
       "petrol     57409\n",
       "diesel     11415\n",
       "hybrid       992\n",
       "electro      127\n",
       "gas            8\n",
       "Name: fuel, dtype: int64"
      ]
     },
     "execution_count": 72,
     "metadata": {},
     "output_type": "execute_result"
    }
   ],
   "source": [
    "data.fuel.value_counts()\n"
   ]
  },
  {
   "cell_type": "markdown",
   "metadata": {},
   "source": [
    "Too many petrol cars, too little of gas autos. "
   ]
  },
  {
   "cell_type": "markdown",
   "metadata": {},
   "source": [
    "### ++++++++++++ new column ++++++++++++"
   ]
  },
  {
   "cell_type": "code",
   "execution_count": 73,
   "metadata": {},
   "outputs": [],
   "source": [
    "# Add column \"petrol_car\", as it's the most wanted\n",
    "data[\"petrol_car\"] = np.where(data.fuel==\"petrol\", \"yes\", \"no\")\n"
   ]
  },
  {
   "cell_type": "code",
   "execution_count": 74,
   "metadata": {},
   "outputs": [
    {
     "data": {
      "text/plain": [
       "[['brand', 'model_name', 'body_type', 'doors', 'color', 'fuel'],\n",
       " ['dataset_year',\n",
       "  'new_model',\n",
       "  'new_car',\n",
       "  'retro',\n",
       "  'raritet',\n",
       "  'electrocar',\n",
       "  'petrol_car'],\n",
       " ['model_date', 'model_age', 'prod_date', 'car_age', 'engine_V', 'power']]"
      ]
     },
     "execution_count": 74,
     "metadata": {},
     "output_type": "execute_result"
    }
   ],
   "source": [
    "# sort out\n",
    "cat_columns.append(\"fuel\")\n",
    "bin_columns.append(\"petrol_car\")\n",
    "[cat_columns, bin_columns, num_columns]\n"
   ]
  },
  {
   "cell_type": "markdown",
   "metadata": {},
   "source": [
    "### 10. image"
   ]
  },
  {
   "cell_type": "code",
   "execution_count": 75,
   "metadata": {},
   "outputs": [
    {
     "data": {
      "text/plain": [
       "42575    https://avatars.mds.yandex.net/get-autoru-vos/...\n",
       "35627    https://autoru.naydex.net/ESooa9149/468b9eoMem...\n",
       "15118    https://avatars.mds.yandex.net/get-autoru-vos/...\n",
       "22862    https://autoru.naydex.net/Lr84PuH52/0ca95dIpb/...\n",
       "39253    https://autoru.naydex.net/ys1kR7800/fbd964zfcB...\n",
       "51111    https://autoru.naydex.net/ESooa9149/468b9eoMem...\n",
       "50969    https://avatars.mds.yandex.net/get-autoru-vos/...\n",
       "Name: image, dtype: object"
      ]
     },
     "execution_count": 75,
     "metadata": {},
     "output_type": "execute_result"
    }
   ],
   "source": [
    "data.image.sample(7)\n"
   ]
  },
  {
   "cell_type": "code",
   "execution_count": 76,
   "metadata": {},
   "outputs": [
    {
     "data": {
      "text/html": [
       "<div>\n",
       "<style scoped>\n",
       "    .dataframe tbody tr th:only-of-type {\n",
       "        vertical-align: middle;\n",
       "    }\n",
       "\n",
       "    .dataframe tbody tr th {\n",
       "        vertical-align: top;\n",
       "    }\n",
       "\n",
       "    .dataframe thead th {\n",
       "        text-align: right;\n",
       "    }\n",
       "</style>\n",
       "<table border=\"1\" class=\"dataframe\">\n",
       "  <thead>\n",
       "    <tr style=\"text-align: right;\">\n",
       "      <th></th>\n",
       "      <th>brand</th>\n",
       "      <th>model_name</th>\n",
       "      <th>body_type</th>\n",
       "      <th>doors</th>\n",
       "      <th>model_date</th>\n",
       "      <th>prod_date</th>\n",
       "      <th>color</th>\n",
       "      <th>engine_V</th>\n",
       "      <th>power</th>\n",
       "      <th>fuel</th>\n",
       "      <th>...</th>\n",
       "      <th>test_train</th>\n",
       "      <th>dataset_year</th>\n",
       "      <th>model_age</th>\n",
       "      <th>new_model</th>\n",
       "      <th>car_age</th>\n",
       "      <th>new_car</th>\n",
       "      <th>retro</th>\n",
       "      <th>raritet</th>\n",
       "      <th>electrocar</th>\n",
       "      <th>petrol_car</th>\n",
       "    </tr>\n",
       "  </thead>\n",
       "  <tbody>\n",
       "  </tbody>\n",
       "</table>\n",
       "<p>0 rows × 33 columns</p>\n",
       "</div>"
      ],
      "text/plain": [
       "Empty DataFrame\n",
       "Columns: [brand, model_name, body_type, doors, model_date, prod_date, color, engine_V, power, fuel, image, mileage, name, config, transmission, owners, pass, drive, wheel, state, custom, car_url, price, test_train, dataset_year, model_age, new_model, car_age, new_car, retro, raritet, electrocar, petrol_car]\n",
       "Index: []\n",
       "\n",
       "[0 rows x 33 columns]"
      ]
     },
     "execution_count": 76,
     "metadata": {},
     "output_type": "execute_result"
    }
   ],
   "source": [
    "# let's find out if there are empty or not valid values:\n",
    "data[data.image.str[:6]!=\"https:\"]\n"
   ]
  },
  {
   "cell_type": "code",
   "execution_count": 77,
   "metadata": {},
   "outputs": [],
   "source": [
    "data['image_len'] = data.image.astype(str).str.len()\n"
   ]
  },
  {
   "cell_type": "code",
   "execution_count": 78,
   "metadata": {},
   "outputs": [
    {
     "data": {
      "text/plain": [
       "count    69951.000000\n",
       "mean       156.511015\n",
       "std         63.468004\n",
       "min         94.000000\n",
       "25%         94.000000\n",
       "50%         95.000000\n",
       "75%        221.000000\n",
       "max        221.000000\n",
       "Name: image_len, dtype: float64"
      ]
     },
     "execution_count": 78,
     "metadata": {},
     "output_type": "execute_result"
    }
   ],
   "source": [
    "data['image_len'].describe()\n"
   ]
  },
  {
   "cell_type": "code",
   "execution_count": 79,
   "metadata": {},
   "outputs": [
    {
     "data": {
      "text/plain": [
       "21263    https://auto.ru/cars/used/sale/audi/q8/1105652...\n",
       "Name: car_url, dtype: object"
      ]
     },
     "execution_count": 79,
     "metadata": {},
     "output_type": "execute_result"
    }
   ],
   "source": [
    "data[data.image_len==94][\"car_url\"].sample()\n"
   ]
  },
  {
   "cell_type": "markdown",
   "metadata": {},
   "source": [
    "Looks like all ads have images, the colummn does not contain helpful infornation for feature analysis, will be removed "
   ]
  },
  {
   "cell_type": "markdown",
   "metadata": {},
   "source": [
    "### --------- remove column ---------"
   ]
  },
  {
   "cell_type": "code",
   "execution_count": 80,
   "metadata": {},
   "outputs": [],
   "source": [
    "# remove column:\n",
    "data.drop([\"image\"], axis=1, inplace=True)\n"
   ]
  },
  {
   "cell_type": "markdown",
   "metadata": {},
   "source": [
    "### 11. mileage"
   ]
  },
  {
   "cell_type": "code",
   "execution_count": 81,
   "metadata": {},
   "outputs": [
    {
     "data": {
      "text/plain": [
       "0     27 000 км\n",
       "1     14 000 км\n",
       "2    236 000 км\n",
       "3    242 050 км\n",
       "4    375 282 км\n",
       "Name: mileage, dtype: object"
      ]
     },
     "execution_count": 81,
     "metadata": {},
     "output_type": "execute_result"
    }
   ],
   "source": [
    "data.mileage.head()\n"
   ]
  },
  {
   "cell_type": "code",
   "execution_count": 82,
   "metadata": {},
   "outputs": [
    {
     "data": {
      "text/plain": [
       "24584    108 000 км\n",
       "50454        200000\n",
       "68223        238000\n",
       "67634         95948\n",
       "49345        110000\n",
       "59552        137881\n",
       "21632    172 000 км\n",
       "25097      1 300 км\n",
       "21730    130 000 км\n",
       "22826    121 000 км\n",
       "Name: mileage, dtype: object"
      ]
     },
     "execution_count": 82,
     "metadata": {},
     "output_type": "execute_result"
    }
   ],
   "source": [
    "data.mileage.sample(10)\n"
   ]
  },
  {
   "cell_type": "code",
   "execution_count": 83,
   "metadata": {},
   "outputs": [
    {
     "data": {
      "text/plain": [
       "'27\\xa0000\\xa0км'"
      ]
     },
     "execution_count": 83,
     "metadata": {},
     "output_type": "execute_result"
    }
   ],
   "source": [
    "data.mileage[0]\n"
   ]
  },
  {
   "cell_type": "markdown",
   "metadata": {},
   "source": [
    "data is not clean, remove spaces and letters:"
   ]
  },
  {
   "cell_type": "code",
   "execution_count": 84,
   "metadata": {},
   "outputs": [],
   "source": [
    "data.mileage = data.mileage.apply(\n",
    "    lambda x: str(x).replace(\"\\xa0\", \"\").replace(\"км\", \"\")\n",
    "    ).astype(int)                                           \n"
   ]
  },
  {
   "cell_type": "code",
   "execution_count": 85,
   "metadata": {},
   "outputs": [
    {
     "data": {
      "text/plain": [
       "count      69951.000000\n",
       "mean      153545.958843\n",
       "std        98243.455772\n",
       "min            1.000000\n",
       "25%        82918.500000\n",
       "50%       141000.000000\n",
       "75%       205000.000000\n",
       "max      1000000.000000\n",
       "Name: mileage, dtype: float64"
      ]
     },
     "execution_count": 85,
     "metadata": {},
     "output_type": "execute_result"
    }
   ],
   "source": [
    "data.mileage.describe()\n"
   ]
  },
  {
   "cell_type": "code",
   "execution_count": 86,
   "metadata": {},
   "outputs": [
    {
     "data": {
      "text/plain": [
       "['model_date',\n",
       " 'model_age',\n",
       " 'prod_date',\n",
       " 'car_age',\n",
       " 'engine_V',\n",
       " 'power',\n",
       " 'mileage']"
      ]
     },
     "execution_count": 86,
     "metadata": {},
     "output_type": "execute_result"
    }
   ],
   "source": [
    "# sort out:\n",
    "num_columns.append(\"mileage\")\n",
    "num_columns\n"
   ]
  },
  {
   "cell_type": "markdown",
   "metadata": {},
   "source": [
    "### 12. name"
   ]
  },
  {
   "cell_type": "code",
   "execution_count": 87,
   "metadata": {},
   "outputs": [
    {
     "data": {
      "text/plain": [
       "9434                                 3.0 AT\n",
       "26031                               1.6 AMT\n",
       "10923                               2.0 CVT\n",
       "20851                                2.5 MT\n",
       "67885                2.5 CVT (169 л.с.) 4WD\n",
       "68402            FX37 3.7 AT (333 л.с.) 4WD\n",
       "28395                                2.0 AT\n",
       "38004    60 TFSI Long 4.0 AT (460 л.с.) 4WD\n",
       "41410                     1.8 MT (140 л.с.)\n",
       "65869                2.5d AT (174 л.с.) 4WD\n",
       "Name: name, dtype: object"
      ]
     },
     "execution_count": 87,
     "metadata": {},
     "output_type": "execute_result"
    }
   ],
   "source": [
    "data.name.sample(10)\n"
   ]
  },
  {
   "cell_type": "code",
   "execution_count": 88,
   "metadata": {},
   "outputs": [
    {
     "data": {
      "text/plain": [
       "2905"
      ]
     },
     "execution_count": 88,
     "metadata": {},
     "output_type": "execute_result"
    }
   ],
   "source": [
    "len(data.name.value_counts())\n"
   ]
  },
  {
   "cell_type": "code",
   "execution_count": 89,
   "metadata": {},
   "outputs": [
    {
     "data": {
      "text/html": [
       "<div>\n",
       "<style scoped>\n",
       "    .dataframe tbody tr th:only-of-type {\n",
       "        vertical-align: middle;\n",
       "    }\n",
       "\n",
       "    .dataframe tbody tr th {\n",
       "        vertical-align: top;\n",
       "    }\n",
       "\n",
       "    .dataframe thead th {\n",
       "        text-align: right;\n",
       "    }\n",
       "</style>\n",
       "<table border=\"1\" class=\"dataframe\">\n",
       "  <thead>\n",
       "    <tr style=\"text-align: right;\">\n",
       "      <th></th>\n",
       "      <th>engine_V</th>\n",
       "      <th>transmission</th>\n",
       "      <th>name</th>\n",
       "      <th>power</th>\n",
       "    </tr>\n",
       "  </thead>\n",
       "  <tbody>\n",
       "    <tr>\n",
       "      <th>2640</th>\n",
       "      <td>2.0</td>\n",
       "      <td>автоматическая</td>\n",
       "      <td>2.0 AT</td>\n",
       "      <td>130</td>\n",
       "    </tr>\n",
       "    <tr>\n",
       "      <th>60941</th>\n",
       "      <td>1.8</td>\n",
       "      <td>механическая</td>\n",
       "      <td>1.8 MT (90 л.с.)</td>\n",
       "      <td>90</td>\n",
       "    </tr>\n",
       "    <tr>\n",
       "      <th>9031</th>\n",
       "      <td>2.5</td>\n",
       "      <td>механическая</td>\n",
       "      <td>2.5 MT</td>\n",
       "      <td>150</td>\n",
       "    </tr>\n",
       "    <tr>\n",
       "      <th>63969</th>\n",
       "      <td>1.5</td>\n",
       "      <td>автоматическая</td>\n",
       "      <td>1.5 AT (109 л.с.)</td>\n",
       "      <td>109</td>\n",
       "    </tr>\n",
       "    <tr>\n",
       "      <th>65204</th>\n",
       "      <td>1.4</td>\n",
       "      <td>роботизированная</td>\n",
       "      <td>1.4 AMT (125 л.с.)</td>\n",
       "      <td>125</td>\n",
       "    </tr>\n",
       "    <tr>\n",
       "      <th>31206</th>\n",
       "      <td>2.5</td>\n",
       "      <td>вариатор</td>\n",
       "      <td>2.5 CVT</td>\n",
       "      <td>152</td>\n",
       "    </tr>\n",
       "    <tr>\n",
       "      <th>20326</th>\n",
       "      <td>2.0</td>\n",
       "      <td>роботизированная</td>\n",
       "      <td>2.0 AMT</td>\n",
       "      <td>211</td>\n",
       "    </tr>\n",
       "    <tr>\n",
       "      <th>7319</th>\n",
       "      <td>3.0</td>\n",
       "      <td>автоматическая</td>\n",
       "      <td>3.0 AT</td>\n",
       "      <td>245</td>\n",
       "    </tr>\n",
       "    <tr>\n",
       "      <th>17842</th>\n",
       "      <td>2.0</td>\n",
       "      <td>автоматическая</td>\n",
       "      <td>2.0 AT</td>\n",
       "      <td>170</td>\n",
       "    </tr>\n",
       "    <tr>\n",
       "      <th>14640</th>\n",
       "      <td>1.6</td>\n",
       "      <td>роботизированная</td>\n",
       "      <td>1.6 AMT</td>\n",
       "      <td>122</td>\n",
       "    </tr>\n",
       "  </tbody>\n",
       "</table>\n",
       "</div>"
      ],
      "text/plain": [
       "      engine_V      transmission                name  power\n",
       "2640       2.0    автоматическая              2.0 AT    130\n",
       "60941      1.8      механическая    1.8 MT (90 л.с.)     90\n",
       "9031       2.5      механическая              2.5 MT    150\n",
       "63969      1.5    автоматическая   1.5 AT (109 л.с.)    109\n",
       "65204      1.4  роботизированная  1.4 AMT (125 л.с.)    125\n",
       "31206      2.5          вариатор             2.5 CVT    152\n",
       "20326      2.0  роботизированная             2.0 AMT    211\n",
       "7319       3.0    автоматическая              3.0 AT    245\n",
       "17842      2.0    автоматическая              2.0 AT    170\n",
       "14640      1.6  роботизированная             1.6 AMT    122"
      ]
     },
     "execution_count": 89,
     "metadata": {},
     "output_type": "execute_result"
    }
   ],
   "source": [
    "data[[\"engine_V\", \"transmission\", \"name\", \"power\"]].sample(10)\n"
   ]
  },
  {
   "cell_type": "markdown",
   "metadata": {},
   "source": [
    "Too many different values, column includes engine_V, transmission, power and drive. Can be deleted."
   ]
  },
  {
   "cell_type": "markdown",
   "metadata": {},
   "source": [
    "### --------- remove column ---------"
   ]
  },
  {
   "cell_type": "code",
   "execution_count": 90,
   "metadata": {},
   "outputs": [],
   "source": [
    "data.drop([\"name\"], axis=1, inplace=True)\n"
   ]
  },
  {
   "cell_type": "markdown",
   "metadata": {},
   "source": [
    "### 13. config\n"
   ]
  },
  {
   "cell_type": "code",
   "execution_count": 91,
   "metadata": {},
   "outputs": [
    {
     "data": {
      "text/plain": [
       "4672           WAGON_5_DOORS ROBOT 1.5\n",
       "3800       HATCHBACK_5_DOORS ROBOT 1.8\n",
       "30614    ALLROAD_5_DOORS AUTOMATIC 3.5\n",
       "65465               SEDAN VARIATOR 3.1\n",
       "24023          LIFTBACK MECHANICAL 1.6\n",
       "12477     ALLROAD_5_DOORS VARIATOR 1.6\n",
       "29052    ALLROAD_5_DOORS AUTOMATIC 2.4\n",
       "29895    ALLROAD_5_DOORS AUTOMATIC 5.7\n",
       "7946               SEDAN AUTOMATIC 2.0\n",
       "21984                  SEDAN ROBOT 1.4\n",
       "Name: config, dtype: object"
      ]
     },
     "execution_count": 91,
     "metadata": {},
     "output_type": "execute_result"
    }
   ],
   "source": [
    "data.config.sample(10)\n"
   ]
  },
  {
   "cell_type": "markdown",
   "metadata": {},
   "source": [
    "contains other columns, will be removed"
   ]
  },
  {
   "cell_type": "markdown",
   "metadata": {},
   "source": [
    "### --------- remove column ---------"
   ]
  },
  {
   "cell_type": "code",
   "execution_count": 92,
   "metadata": {},
   "outputs": [],
   "source": [
    "data.drop([\"config\"], axis=1, inplace=True)\n"
   ]
  },
  {
   "cell_type": "markdown",
   "metadata": {},
   "source": [
    "### 14. transmission"
   ]
  },
  {
   "cell_type": "code",
   "execution_count": 93,
   "metadata": {},
   "outputs": [
    {
     "data": {
      "text/plain": [
       "автоматическая      39203\n",
       "механическая        13287\n",
       "вариатор             9211\n",
       "роботизированная     8250\n",
       "Name: transmission, dtype: int64"
      ]
     },
     "execution_count": 93,
     "metadata": {},
     "output_type": "execute_result"
    }
   ],
   "source": [
    "data.transmission.value_counts()\n"
   ]
  },
  {
   "cell_type": "code",
   "execution_count": 94,
   "metadata": {},
   "outputs": [
    {
     "data": {
      "text/plain": [
       "AT     39203\n",
       "MT     13287\n",
       "CVT     9211\n",
       "AMT     8250\n",
       "Name: transmission, dtype: int64"
      ]
     },
     "execution_count": 94,
     "metadata": {},
     "output_type": "execute_result"
    }
   ],
   "source": [
    "# map values:\n",
    "data.transmission = data.transmission.map(\n",
    "            {\"автоматическая\" : \"AT\",\n",
    "            \"механическая\" : \"MT\",\n",
    "            \"вариатор\" : \"CVT\",\n",
    "            \"роботизированная\" : \"AMT\"}\n",
    ")\n",
    "\n",
    "data.transmission.value_counts()\n"
   ]
  },
  {
   "cell_type": "code",
   "execution_count": 95,
   "metadata": {},
   "outputs": [
    {
     "data": {
      "text/plain": [
       "['brand', 'model_name', 'body_type', 'doors', 'color', 'fuel', 'transmission']"
      ]
     },
     "execution_count": 95,
     "metadata": {},
     "output_type": "execute_result"
    }
   ],
   "source": [
    "# sort out:\n",
    "cat_columns.append(\"transmission\")\n",
    "cat_columns\n"
   ]
  },
  {
   "cell_type": "markdown",
   "metadata": {},
   "source": [
    "### 15. owners"
   ]
  },
  {
   "cell_type": "code",
   "execution_count": 96,
   "metadata": {},
   "outputs": [
    {
     "data": {
      "text/plain": [
       "3 или более    31221\n",
       "1 владелец     21146\n",
       "2 владельца    17584\n",
       "Name: owners, dtype: int64"
      ]
     },
     "execution_count": 96,
     "metadata": {},
     "output_type": "execute_result"
    }
   ],
   "source": [
    "data.owners.value_counts()\n"
   ]
  },
  {
   "cell_type": "code",
   "execution_count": 97,
   "metadata": {},
   "outputs": [
    {
     "data": {
      "text/plain": [
       "('3 или более', '1\\xa0владелец', '2\\xa0владельца')"
      ]
     },
     "execution_count": 97,
     "metadata": {},
     "output_type": "execute_result"
    }
   ],
   "source": [
    "data.owners.value_counts().keys()[0],\\\n",
    "data.owners.value_counts().keys()[1],\\\n",
    "data.owners.value_counts().keys()[2]\n"
   ]
  },
  {
   "cell_type": "markdown",
   "metadata": {},
   "source": [
    "Column contains 3 values. As 1 owner is super good, add a flag to a car record: column \"1_owner\" "
   ]
  },
  {
   "cell_type": "code",
   "execution_count": 98,
   "metadata": {},
   "outputs": [
    {
     "data": {
      "text/plain": [
       "3    31221\n",
       "1    21146\n",
       "2    17584\n",
       "Name: owners, dtype: int64"
      ]
     },
     "execution_count": 98,
     "metadata": {},
     "output_type": "execute_result"
    }
   ],
   "source": [
    "dict_owners = {\"3 или более\":3, \"1\\xa0владелец\": 1, \"2\\xa0владельца\":2}\n",
    "data.owners = data.owners.map(dict_owners)\n",
    "data.owners.value_counts()\n"
   ]
  },
  {
   "cell_type": "code",
   "execution_count": 99,
   "metadata": {},
   "outputs": [],
   "source": [
    "data[\"1_owner\"] = np.where(data.owners==1, \"yes\", \"no\")\n"
   ]
  },
  {
   "cell_type": "code",
   "execution_count": 100,
   "metadata": {},
   "outputs": [
    {
     "data": {
      "text/plain": [
       "[['brand',\n",
       "  'model_name',\n",
       "  'body_type',\n",
       "  'doors',\n",
       "  'color',\n",
       "  'fuel',\n",
       "  'transmission',\n",
       "  'owners'],\n",
       " ['dataset_year',\n",
       "  'new_model',\n",
       "  'new_car',\n",
       "  'retro',\n",
       "  'raritet',\n",
       "  'electrocar',\n",
       "  'petrol_car',\n",
       "  '1_owner']]"
      ]
     },
     "execution_count": 100,
     "metadata": {},
     "output_type": "execute_result"
    }
   ],
   "source": [
    "# sort out:\n",
    "cat_columns.append(\"owners\")\n",
    "bin_columns.append(\"1_owner\")\n",
    "[cat_columns, bin_columns]\n"
   ]
  },
  {
   "cell_type": "markdown",
   "metadata": {},
   "source": [
    "### 16. pass\n"
   ]
  },
  {
   "cell_type": "code",
   "execution_count": 101,
   "metadata": {},
   "outputs": [
    {
     "data": {
      "text/plain": [
       "Оригинал    60310\n",
       "Дубликат     9640\n",
       "Name: pass, dtype: int64"
      ]
     },
     "execution_count": 101,
     "metadata": {},
     "output_type": "execute_result"
    }
   ],
   "source": [
    "data[\"pass\"].value_counts()\n"
   ]
  },
  {
   "cell_type": "markdown",
   "metadata": {},
   "source": [
    "column contains 2 values, convert it into a flag: 1 for original passport"
   ]
  },
  {
   "cell_type": "code",
   "execution_count": 102,
   "metadata": {},
   "outputs": [
    {
     "data": {
      "text/plain": [
       "Original     60310\n",
       "Duplicate     9640\n",
       "Name: pass, dtype: int64"
      ]
     },
     "execution_count": 102,
     "metadata": {},
     "output_type": "execute_result"
    }
   ],
   "source": [
    "data[\"pass\"] = data[\"pass\"].map({\"Оригинал\":\"Original\", \"Дубликат\":\"Duplicate\"})\n",
    "data[\"pass\"].value_counts()\n"
   ]
  },
  {
   "cell_type": "code",
   "execution_count": 103,
   "metadata": {},
   "outputs": [
    {
     "data": {
      "text/plain": [
       "['dataset_year',\n",
       " 'new_model',\n",
       " 'new_car',\n",
       " 'retro',\n",
       " 'raritet',\n",
       " 'electrocar',\n",
       " 'petrol_car',\n",
       " '1_owner',\n",
       " 'pass']"
      ]
     },
     "execution_count": 103,
     "metadata": {},
     "output_type": "execute_result"
    }
   ],
   "source": [
    "# sort out:\n",
    "bin_columns.append(\"pass\")\n",
    "bin_columns\n"
   ]
  },
  {
   "cell_type": "markdown",
   "metadata": {},
   "source": [
    "### 17. drive"
   ]
  },
  {
   "cell_type": "code",
   "execution_count": 104,
   "metadata": {},
   "outputs": [
    {
     "data": {
      "text/plain": [
       "полный      32569\n",
       "передний    30711\n",
       "задний       6671\n",
       "Name: drive, dtype: int64"
      ]
     },
     "execution_count": 104,
     "metadata": {},
     "output_type": "execute_result"
    }
   ],
   "source": [
    "data[\"drive\"].value_counts()\n"
   ]
  },
  {
   "cell_type": "markdown",
   "metadata": {},
   "source": [
    "not much of rare drive cars... not suitable for winter...  process as category feature:"
   ]
  },
  {
   "cell_type": "code",
   "execution_count": 105,
   "metadata": {},
   "outputs": [
    {
     "data": {
      "text/plain": [
       "4WD    32569\n",
       "FWD    30711\n",
       "RWD     6671\n",
       "Name: drive, dtype: int64"
      ]
     },
     "execution_count": 105,
     "metadata": {},
     "output_type": "execute_result"
    }
   ],
   "source": [
    "data[\"drive\"] = data[\"drive\"].map({\"передний\":\"FWD\", \"полный\":\"4WD\", \"задний\":\"RWD\"})\n",
    "data[\"drive\"].value_counts()\n"
   ]
  },
  {
   "cell_type": "code",
   "execution_count": 106,
   "metadata": {},
   "outputs": [
    {
     "data": {
      "text/plain": [
       "['brand',\n",
       " 'model_name',\n",
       " 'body_type',\n",
       " 'doors',\n",
       " 'color',\n",
       " 'fuel',\n",
       " 'transmission',\n",
       " 'owners',\n",
       " 'drive']"
      ]
     },
     "execution_count": 106,
     "metadata": {},
     "output_type": "execute_result"
    }
   ],
   "source": [
    "cat_columns.append(\"drive\")\n",
    "cat_columns\n"
   ]
  },
  {
   "cell_type": "markdown",
   "metadata": {},
   "source": [
    "### 18. wheel"
   ]
  },
  {
   "cell_type": "code",
   "execution_count": 107,
   "metadata": {},
   "outputs": [
    {
     "data": {
      "text/plain": [
       "Левый     65907\n",
       "Правый     4044\n",
       "Name: wheel, dtype: int64"
      ]
     },
     "execution_count": 107,
     "metadata": {},
     "output_type": "execute_result"
    }
   ],
   "source": [
    "data.wheel.value_counts()\n"
   ]
  },
  {
   "cell_type": "markdown",
   "metadata": {},
   "source": [
    "binary feature, left steeering wheel will map to 1:"
   ]
  },
  {
   "cell_type": "code",
   "execution_count": 108,
   "metadata": {},
   "outputs": [
    {
     "data": {
      "text/plain": [
       "Left     65907\n",
       "Right     4044\n",
       "Name: wheel, dtype: int64"
      ]
     },
     "execution_count": 108,
     "metadata": {},
     "output_type": "execute_result"
    }
   ],
   "source": [
    "data[\"wheel\"] = data[\"wheel\"].map({\"Левый\": \"Left\", \"Правый\":\"Right\"})\n",
    "data[\"wheel\"].value_counts()\n"
   ]
  },
  {
   "cell_type": "code",
   "execution_count": 109,
   "metadata": {},
   "outputs": [
    {
     "data": {
      "text/plain": [
       "['dataset_year',\n",
       " 'new_model',\n",
       " 'new_car',\n",
       " 'retro',\n",
       " 'raritet',\n",
       " 'electrocar',\n",
       " 'petrol_car',\n",
       " '1_owner',\n",
       " 'pass',\n",
       " 'wheel']"
      ]
     },
     "execution_count": 109,
     "metadata": {},
     "output_type": "execute_result"
    }
   ],
   "source": [
    "bin_columns.append(\"wheel\")\n",
    "bin_columns\n"
   ]
  },
  {
   "cell_type": "markdown",
   "metadata": {},
   "source": [
    "### 19. state"
   ]
  },
  {
   "cell_type": "code",
   "execution_count": 110,
   "metadata": {},
   "outputs": [
    {
     "data": {
      "text/plain": [
       "Не требует ремонта    69947\n",
       "Битый / не на ходу        4\n",
       "Name: state, dtype: int64"
      ]
     },
     "execution_count": 110,
     "metadata": {},
     "output_type": "execute_result"
    }
   ],
   "source": [
    "data.state.value_counts()\n"
   ]
  },
  {
   "cell_type": "markdown",
   "metadata": {},
   "source": [
    "binary feature, the second value is too rare, but really important, it can 10 times reduce the price"
   ]
  },
  {
   "cell_type": "markdown",
   "metadata": {},
   "source": [
    "### ------------------ remove column -------------------"
   ]
  },
  {
   "cell_type": "code",
   "execution_count": 111,
   "metadata": {},
   "outputs": [],
   "source": [
    "# negative value for this column will significantly reduce price,\n",
    "# but it is too rare be counted:\n",
    "data.drop(\"state\", axis=1, inplace=True)\n"
   ]
  },
  {
   "cell_type": "markdown",
   "metadata": {},
   "source": [
    "### 20. custom"
   ]
  },
  {
   "cell_type": "code",
   "execution_count": 112,
   "metadata": {},
   "outputs": [
    {
     "data": {
      "text/plain": [
       "Растаможен       69950\n",
       "Не растаможен        1\n",
       "Name: custom, dtype: int64"
      ]
     },
     "execution_count": 112,
     "metadata": {},
     "output_type": "execute_result"
    }
   ],
   "source": [
    "data.custom.value_counts()\n"
   ]
  },
  {
   "cell_type": "markdown",
   "metadata": {},
   "source": [
    "### ------------------ remove column -------------------"
   ]
  },
  {
   "cell_type": "code",
   "execution_count": 113,
   "metadata": {},
   "outputs": [],
   "source": [
    "# negative value for this column will significantly reduce price,\n",
    "# but it is too rare be counted:\n",
    "data.drop(\"custom\", axis=1, inplace=True)\n"
   ]
  },
  {
   "cell_type": "markdown",
   "metadata": {},
   "source": [
    "### 21. car_url"
   ]
  },
  {
   "cell_type": "markdown",
   "metadata": {},
   "source": [
    "not neede for analysis, delete:"
   ]
  },
  {
   "cell_type": "code",
   "execution_count": 114,
   "metadata": {},
   "outputs": [],
   "source": [
    "data.drop(\"car_url\", axis=1, inplace=True)\n"
   ]
  },
  {
   "cell_type": "markdown",
   "metadata": {},
   "source": [
    "### 22. price"
   ]
  },
  {
   "cell_type": "code",
   "execution_count": 115,
   "metadata": {},
   "outputs": [
    {
     "data": {
      "text/plain": [
       "33962    3 350 000 ₽\n",
       "64714              0\n",
       "67039              0\n",
       "62183              0\n",
       "16133      520 000 ₽\n",
       "42140              0\n",
       "31720    1 915 000 ₽\n",
       "46604              0\n",
       "58698              0\n",
       "22739      849 000 ₽\n",
       "Name: price, dtype: object"
      ]
     },
     "execution_count": 115,
     "metadata": {},
     "output_type": "execute_result"
    }
   ],
   "source": [
    "data.price.sample(10)\n"
   ]
  },
  {
   "cell_type": "markdown",
   "metadata": {},
   "source": [
    "contains 0-values, hopefully all from test dataset, let's take a look:"
   ]
  },
  {
   "cell_type": "code",
   "execution_count": 116,
   "metadata": {},
   "outputs": [
    {
     "data": {
      "text/plain": [
       "(0, 34686)"
      ]
     },
     "execution_count": 116,
     "metadata": {},
     "output_type": "execute_result"
    }
   ],
   "source": [
    "len(data[(data.price==0 )& (data.test_train==\"train\")]), len(df_test)\n"
   ]
  },
  {
   "cell_type": "markdown",
   "metadata": {},
   "source": [
    "Train dataset doesn't contain 0 as a target value - OK"
   ]
  },
  {
   "cell_type": "code",
   "execution_count": 117,
   "metadata": {},
   "outputs": [
    {
     "data": {
      "text/plain": [
       "('2\\xa0750\\xa0000\\xa0₽', '3\\xa0250\\xa0000\\xa0₽', '650\\xa0000\\xa0₽')"
      ]
     },
     "execution_count": 117,
     "metadata": {},
     "output_type": "execute_result"
    }
   ],
   "source": [
    "# take a deeper look at values:\n",
    "data.price[0], data.price[1], data.price[3]\n"
   ]
  },
  {
   "cell_type": "markdown",
   "metadata": {},
   "source": [
    "Ooooopsss! Needs to be corrected"
   ]
  },
  {
   "cell_type": "code",
   "execution_count": 118,
   "metadata": {},
   "outputs": [
    {
     "data": {
      "text/plain": [
       "44836          0\n",
       "11730    1050000\n",
       "53302          0\n",
       "47207          0\n",
       "20638    1150000\n",
       "42970          0\n",
       "57490          0\n",
       "20062     425000\n",
       "64723          0\n",
       "37552          0\n",
       "Name: price, dtype: int64"
      ]
     },
     "execution_count": 118,
     "metadata": {},
     "output_type": "execute_result"
    }
   ],
   "source": [
    "data.price = data.price.astype(str)\n",
    "data.price = data[\"price\"].apply(lambda x: x.replace(\"\\xa0\", \"\").replace(\"₽\", \"\"))   \n",
    "data.price = data.price.astype(int)\n",
    "data.price.sample(10)\n"
   ]
  },
  {
   "cell_type": "code",
   "execution_count": 119,
   "metadata": {},
   "outputs": [
    {
     "data": {
      "text/plain": [
       "test    34686\n",
       "Name: test_train, dtype: int64"
      ]
     },
     "execution_count": 119,
     "metadata": {},
     "output_type": "execute_result"
    }
   ],
   "source": [
    "data[data.price==0].test_train.value_counts()\n"
   ]
  },
  {
   "cell_type": "markdown",
   "metadata": {},
   "source": [
    "Price column looks OK now"
   ]
  },
  {
   "cell_type": "markdown",
   "metadata": {},
   "source": [
    "### !!! For this column, will try to apply scaling, to take inflation into account"
   ]
  },
  {
   "cell_type": "code",
   "execution_count": null,
   "metadata": {},
   "outputs": [],
   "source": []
  },
  {
   "cell_type": "markdown",
   "metadata": {},
   "source": [
    "validate column lists:\n"
   ]
  },
  {
   "cell_type": "code",
   "execution_count": 120,
   "metadata": {},
   "outputs": [],
   "source": [
    "all_columns = list(data.columns)\n",
    "num_columns = list(set(num_columns))\n",
    "cat_columns = list(set(cat_columns))\n",
    "bin_columns = list(set(bin_columns))\n"
   ]
  },
  {
   "cell_type": "code",
   "execution_count": 121,
   "metadata": {},
   "outputs": [
    {
     "name": "stdout",
     "output_type": "stream",
     "text": [
      "num_columns: ['prod_date', 'model_date', 'model_age', 'engine_V', 'power', 'mileage', 'car_age']\n",
      "cat_columns: ['body_type', 'transmission', 'brand', 'fuel', 'drive', 'doors', 'model_name', 'color', 'owners']\n",
      "bin_columns: ['dataset_year', 'petrol_car', 'new_model', 'raritet', 'retro', 'electrocar', 'wheel', 'pass', '1_owner', 'new_car']\n"
     ]
    }
   ],
   "source": [
    "print(\"num_columns:\", num_columns)\n",
    "print(\"cat_columns:\", cat_columns)\n",
    "print(\"bin_columns:\", bin_columns)\n"
   ]
  },
  {
   "cell_type": "code",
   "execution_count": 122,
   "metadata": {},
   "outputs": [
    {
     "data": {
      "text/plain": [
       "set()"
      ]
     },
     "execution_count": 122,
     "metadata": {},
     "output_type": "execute_result"
    }
   ],
   "source": [
    "(set(num_columns) | set(cat_columns) | set(bin_columns)) - set(all_columns)\n"
   ]
  },
  {
   "cell_type": "code",
   "execution_count": 123,
   "metadata": {},
   "outputs": [
    {
     "data": {
      "text/plain": [
       "{'image_len', 'price', 'test_train'}"
      ]
     },
     "execution_count": 123,
     "metadata": {},
     "output_type": "execute_result"
    }
   ],
   "source": [
    "set(all_columns) - (set(num_columns) | set(cat_columns) | set(bin_columns))\n"
   ]
  },
  {
   "cell_type": "code",
   "execution_count": 124,
   "metadata": {},
   "outputs": [],
   "source": [
    "# we need price and test_train, remove image_len:\n",
    "data.drop(\"image_len\", axis=1, inplace=True)\n",
    "# Columns \"custom\" and \"state\" \"Not OK\" values will significantly \n",
    "# reduce the price But, as not_OK values are too rare, columns will be removed\n",
    "\n",
    "\n"
   ]
  },
  {
   "cell_type": "markdown",
   "metadata": {},
   "source": [
    "## SAVE DATA TO FILES:"
   ]
  },
  {
   "cell_type": "code",
   "execution_count": 125,
   "metadata": {},
   "outputs": [
    {
     "data": {
      "text/html": [
       "<div>\n",
       "<style scoped>\n",
       "    .dataframe tbody tr th:only-of-type {\n",
       "        vertical-align: middle;\n",
       "    }\n",
       "\n",
       "    .dataframe tbody tr th {\n",
       "        vertical-align: top;\n",
       "    }\n",
       "\n",
       "    .dataframe thead th {\n",
       "        text-align: right;\n",
       "    }\n",
       "</style>\n",
       "<table border=\"1\" class=\"dataframe\">\n",
       "  <thead>\n",
       "    <tr style=\"text-align: right;\">\n",
       "      <th></th>\n",
       "      <th>brand</th>\n",
       "      <th>model_name</th>\n",
       "      <th>body_type</th>\n",
       "      <th>doors</th>\n",
       "      <th>model_date</th>\n",
       "      <th>prod_date</th>\n",
       "      <th>color</th>\n",
       "      <th>engine_V</th>\n",
       "      <th>power</th>\n",
       "      <th>fuel</th>\n",
       "      <th>...</th>\n",
       "      <th>dataset_year</th>\n",
       "      <th>model_age</th>\n",
       "      <th>new_model</th>\n",
       "      <th>car_age</th>\n",
       "      <th>new_car</th>\n",
       "      <th>retro</th>\n",
       "      <th>raritet</th>\n",
       "      <th>electrocar</th>\n",
       "      <th>petrol_car</th>\n",
       "      <th>1_owner</th>\n",
       "    </tr>\n",
       "  </thead>\n",
       "  <tbody>\n",
       "    <tr>\n",
       "      <th>0</th>\n",
       "      <td>TOYOTA</td>\n",
       "      <td>Toyota Camry VIII (XV70)</td>\n",
       "      <td>sedan</td>\n",
       "      <td>4</td>\n",
       "      <td>2017</td>\n",
       "      <td>2020</td>\n",
       "      <td>black</td>\n",
       "      <td>3.5</td>\n",
       "      <td>249</td>\n",
       "      <td>petrol</td>\n",
       "      <td>...</td>\n",
       "      <td>2021</td>\n",
       "      <td>4</td>\n",
       "      <td>no</td>\n",
       "      <td>4</td>\n",
       "      <td>no</td>\n",
       "      <td>no</td>\n",
       "      <td>no</td>\n",
       "      <td>no</td>\n",
       "      <td>yes</td>\n",
       "      <td>yes</td>\n",
       "    </tr>\n",
       "    <tr>\n",
       "      <th>1</th>\n",
       "      <td>TOYOTA</td>\n",
       "      <td>other</td>\n",
       "      <td>sedan</td>\n",
       "      <td>4</td>\n",
       "      <td>2020</td>\n",
       "      <td>2021</td>\n",
       "      <td>red</td>\n",
       "      <td>3.5</td>\n",
       "      <td>249</td>\n",
       "      <td>petrol</td>\n",
       "      <td>...</td>\n",
       "      <td>2021</td>\n",
       "      <td>1</td>\n",
       "      <td>no</td>\n",
       "      <td>1</td>\n",
       "      <td>no</td>\n",
       "      <td>no</td>\n",
       "      <td>no</td>\n",
       "      <td>no</td>\n",
       "      <td>yes</td>\n",
       "      <td>yes</td>\n",
       "    </tr>\n",
       "    <tr>\n",
       "      <th>2</th>\n",
       "      <td>TOYOTA</td>\n",
       "      <td>other</td>\n",
       "      <td>hatchback 3 doors.</td>\n",
       "      <td>3</td>\n",
       "      <td>1999</td>\n",
       "      <td>2000</td>\n",
       "      <td>blue</td>\n",
       "      <td>1.5</td>\n",
       "      <td>106</td>\n",
       "      <td>petrol</td>\n",
       "      <td>...</td>\n",
       "      <td>2021</td>\n",
       "      <td>22</td>\n",
       "      <td>no</td>\n",
       "      <td>22</td>\n",
       "      <td>no</td>\n",
       "      <td>no</td>\n",
       "      <td>no</td>\n",
       "      <td>no</td>\n",
       "      <td>yes</td>\n",
       "      <td>no</td>\n",
       "    </tr>\n",
       "    <tr>\n",
       "      <th>3</th>\n",
       "      <td>TOYOTA</td>\n",
       "      <td>Toyota Corolla AMT X (E140, E150)</td>\n",
       "      <td>sedan</td>\n",
       "      <td>4</td>\n",
       "      <td>2006</td>\n",
       "      <td>2008</td>\n",
       "      <td>grey</td>\n",
       "      <td>1.6</td>\n",
       "      <td>124</td>\n",
       "      <td>petrol</td>\n",
       "      <td>...</td>\n",
       "      <td>2021</td>\n",
       "      <td>15</td>\n",
       "      <td>no</td>\n",
       "      <td>15</td>\n",
       "      <td>no</td>\n",
       "      <td>no</td>\n",
       "      <td>no</td>\n",
       "      <td>no</td>\n",
       "      <td>yes</td>\n",
       "      <td>no</td>\n",
       "    </tr>\n",
       "    <tr>\n",
       "      <th>4</th>\n",
       "      <td>TOYOTA</td>\n",
       "      <td>other</td>\n",
       "      <td>SUV 5 doors.</td>\n",
       "      <td>5</td>\n",
       "      <td>1999</td>\n",
       "      <td>1999</td>\n",
       "      <td>silver</td>\n",
       "      <td>3.4</td>\n",
       "      <td>178</td>\n",
       "      <td>petrol</td>\n",
       "      <td>...</td>\n",
       "      <td>2021</td>\n",
       "      <td>22</td>\n",
       "      <td>no</td>\n",
       "      <td>22</td>\n",
       "      <td>no</td>\n",
       "      <td>no</td>\n",
       "      <td>no</td>\n",
       "      <td>no</td>\n",
       "      <td>yes</td>\n",
       "      <td>no</td>\n",
       "    </tr>\n",
       "    <tr>\n",
       "      <th>5</th>\n",
       "      <td>TOYOTA</td>\n",
       "      <td>Toyota Camry VIII (XV70)</td>\n",
       "      <td>sedan</td>\n",
       "      <td>4</td>\n",
       "      <td>2017</td>\n",
       "      <td>2018</td>\n",
       "      <td>black</td>\n",
       "      <td>3.5</td>\n",
       "      <td>249</td>\n",
       "      <td>petrol</td>\n",
       "      <td>...</td>\n",
       "      <td>2021</td>\n",
       "      <td>4</td>\n",
       "      <td>no</td>\n",
       "      <td>4</td>\n",
       "      <td>no</td>\n",
       "      <td>no</td>\n",
       "      <td>no</td>\n",
       "      <td>no</td>\n",
       "      <td>yes</td>\n",
       "      <td>yes</td>\n",
       "    </tr>\n",
       "    <tr>\n",
       "      <th>6</th>\n",
       "      <td>TOYOTA</td>\n",
       "      <td>other</td>\n",
       "      <td>hatchback 3 doors.</td>\n",
       "      <td>3</td>\n",
       "      <td>2002</td>\n",
       "      <td>2003</td>\n",
       "      <td>black</td>\n",
       "      <td>1.8</td>\n",
       "      <td>192</td>\n",
       "      <td>petrol</td>\n",
       "      <td>...</td>\n",
       "      <td>2021</td>\n",
       "      <td>19</td>\n",
       "      <td>no</td>\n",
       "      <td>19</td>\n",
       "      <td>no</td>\n",
       "      <td>no</td>\n",
       "      <td>no</td>\n",
       "      <td>no</td>\n",
       "      <td>yes</td>\n",
       "      <td>no</td>\n",
       "    </tr>\n",
       "  </tbody>\n",
       "</table>\n",
       "<p>7 rows × 28 columns</p>\n",
       "</div>"
      ],
      "text/plain": [
       "    brand                         model_name           body_type  doors  \\\n",
       "0  TOYOTA           Toyota Camry VIII (XV70)               sedan      4   \n",
       "1  TOYOTA                              other               sedan      4   \n",
       "2  TOYOTA                              other  hatchback 3 doors.      3   \n",
       "3  TOYOTA  Toyota Corolla AMT X (E140, E150)               sedan      4   \n",
       "4  TOYOTA                              other        SUV 5 doors.      5   \n",
       "5  TOYOTA           Toyota Camry VIII (XV70)               sedan      4   \n",
       "6  TOYOTA                              other  hatchback 3 doors.      3   \n",
       "\n",
       "   model_date  prod_date   color engine_V  power    fuel  ...  dataset_year  \\\n",
       "0        2017       2020   black      3.5    249  petrol  ...          2021   \n",
       "1        2020       2021     red      3.5    249  petrol  ...          2021   \n",
       "2        1999       2000    blue      1.5    106  petrol  ...          2021   \n",
       "3        2006       2008    grey      1.6    124  petrol  ...          2021   \n",
       "4        1999       1999  silver      3.4    178  petrol  ...          2021   \n",
       "5        2017       2018   black      3.5    249  petrol  ...          2021   \n",
       "6        2002       2003   black      1.8    192  petrol  ...          2021   \n",
       "\n",
       "  model_age  new_model car_age new_car retro  raritet electrocar  petrol_car  \\\n",
       "0         4         no       4      no    no       no         no         yes   \n",
       "1         1         no       1      no    no       no         no         yes   \n",
       "2        22         no      22      no    no       no         no         yes   \n",
       "3        15         no      15      no    no       no         no         yes   \n",
       "4        22         no      22      no    no       no         no         yes   \n",
       "5         4         no       4      no    no       no         no         yes   \n",
       "6        19         no      19      no    no       no         no         yes   \n",
       "\n",
       "   1_owner  \n",
       "0      yes  \n",
       "1      yes  \n",
       "2       no  \n",
       "3       no  \n",
       "4       no  \n",
       "5      yes  \n",
       "6       no  \n",
       "\n",
       "[7 rows x 28 columns]"
      ]
     },
     "execution_count": 125,
     "metadata": {},
     "output_type": "execute_result"
    }
   ],
   "source": [
    "# make sure data is OK to be saved:\n",
    "data.head(7)#sample(7).T\n"
   ]
  },
  {
   "cell_type": "code",
   "execution_count": 126,
   "metadata": {
    "scrolled": false
   },
   "outputs": [
    {
     "name": "stdout",
     "output_type": "stream",
     "text": [
      "<class 'pandas.core.frame.DataFrame'>\n",
      "RangeIndex: 69951 entries, 0 to 69950\n",
      "Data columns (total 28 columns):\n",
      " #   Column        Non-Null Count  Dtype \n",
      "---  ------        --------------  ----- \n",
      " 0   brand         69951 non-null  object\n",
      " 1   model_name    69951 non-null  object\n",
      " 2   body_type     69951 non-null  object\n",
      " 3   doors         69951 non-null  int64 \n",
      " 4   model_date    69951 non-null  int64 \n",
      " 5   prod_date     69951 non-null  int64 \n",
      " 6   color         69951 non-null  object\n",
      " 7   engine_V      69951 non-null  object\n",
      " 8   power         69951 non-null  int64 \n",
      " 9   fuel          69951 non-null  object\n",
      " 10  mileage       69951 non-null  int64 \n",
      " 11  transmission  69951 non-null  object\n",
      " 12  owners        69951 non-null  int64 \n",
      " 13  pass          69950 non-null  object\n",
      " 14  drive         69951 non-null  object\n",
      " 15  wheel         69951 non-null  object\n",
      " 16  price         69951 non-null  int64 \n",
      " 17  test_train    69951 non-null  object\n",
      " 18  dataset_year  69951 non-null  int64 \n",
      " 19  model_age     69951 non-null  int64 \n",
      " 20  new_model     69951 non-null  object\n",
      " 21  car_age       69951 non-null  int64 \n",
      " 22  new_car       69951 non-null  object\n",
      " 23  retro         69951 non-null  object\n",
      " 24  raritet       69951 non-null  object\n",
      " 25  electrocar    69951 non-null  object\n",
      " 26  petrol_car    69951 non-null  object\n",
      " 27  1_owner       69951 non-null  object\n",
      "dtypes: int64(10), object(18)\n",
      "memory usage: 14.9+ MB\n"
     ]
    }
   ],
   "source": [
    "data.info()"
   ]
  },
  {
   "cell_type": "code",
   "execution_count": 127,
   "metadata": {},
   "outputs": [],
   "source": [
    "data.to_csv(\"PROCESSED/data.csv\", index=False)\n"
   ]
  },
  {
   "cell_type": "code",
   "execution_count": 128,
   "metadata": {},
   "outputs": [],
   "source": [
    "df_num_columns = pd.DataFrame(num_columns)\n",
    "df_cat_columns = pd.DataFrame(cat_columns)\n",
    "df_bin_columns = pd.DataFrame(bin_columns)\n",
    "\n",
    "\n",
    "df_num_columns.to_csv(\"PROCESSED/num_columns.csv\", mode='w', header=False, index=False)\n",
    "df_cat_columns.to_csv(\"PROCESSED/cat_columns.csv\", mode='w', header=False, index=False)\n",
    "df_bin_columns.to_csv(\"PROCESSED/bin_columns.csv\", mode='w', header=False, index=False)\n"
   ]
  },
  {
   "cell_type": "code",
   "execution_count": 129,
   "metadata": {},
   "outputs": [
    {
     "data": {
      "text/html": [
       "<div>\n",
       "<style scoped>\n",
       "    .dataframe tbody tr th:only-of-type {\n",
       "        vertical-align: middle;\n",
       "    }\n",
       "\n",
       "    .dataframe tbody tr th {\n",
       "        vertical-align: top;\n",
       "    }\n",
       "\n",
       "    .dataframe thead th {\n",
       "        text-align: right;\n",
       "    }\n",
       "</style>\n",
       "<table border=\"1\" class=\"dataframe\">\n",
       "  <thead>\n",
       "    <tr style=\"text-align: right;\">\n",
       "      <th></th>\n",
       "      <th>brand</th>\n",
       "      <th>model_name</th>\n",
       "      <th>body_type</th>\n",
       "      <th>doors</th>\n",
       "      <th>model_date</th>\n",
       "      <th>prod_date</th>\n",
       "      <th>color</th>\n",
       "      <th>engine_V</th>\n",
       "      <th>power</th>\n",
       "      <th>fuel</th>\n",
       "      <th>...</th>\n",
       "      <th>dataset_year</th>\n",
       "      <th>model_age</th>\n",
       "      <th>new_model</th>\n",
       "      <th>car_age</th>\n",
       "      <th>new_car</th>\n",
       "      <th>retro</th>\n",
       "      <th>raritet</th>\n",
       "      <th>electrocar</th>\n",
       "      <th>petrol_car</th>\n",
       "      <th>1_owner</th>\n",
       "    </tr>\n",
       "  </thead>\n",
       "  <tbody>\n",
       "    <tr>\n",
       "      <th>0</th>\n",
       "      <td>TOYOTA</td>\n",
       "      <td>Toyota Camry VIII (XV70)</td>\n",
       "      <td>sedan</td>\n",
       "      <td>4</td>\n",
       "      <td>2017</td>\n",
       "      <td>2020</td>\n",
       "      <td>black</td>\n",
       "      <td>3.5</td>\n",
       "      <td>249</td>\n",
       "      <td>petrol</td>\n",
       "      <td>...</td>\n",
       "      <td>2021</td>\n",
       "      <td>4</td>\n",
       "      <td>no</td>\n",
       "      <td>4</td>\n",
       "      <td>no</td>\n",
       "      <td>no</td>\n",
       "      <td>no</td>\n",
       "      <td>no</td>\n",
       "      <td>yes</td>\n",
       "      <td>yes</td>\n",
       "    </tr>\n",
       "    <tr>\n",
       "      <th>1</th>\n",
       "      <td>TOYOTA</td>\n",
       "      <td>other</td>\n",
       "      <td>sedan</td>\n",
       "      <td>4</td>\n",
       "      <td>2020</td>\n",
       "      <td>2021</td>\n",
       "      <td>red</td>\n",
       "      <td>3.5</td>\n",
       "      <td>249</td>\n",
       "      <td>petrol</td>\n",
       "      <td>...</td>\n",
       "      <td>2021</td>\n",
       "      <td>1</td>\n",
       "      <td>no</td>\n",
       "      <td>1</td>\n",
       "      <td>no</td>\n",
       "      <td>no</td>\n",
       "      <td>no</td>\n",
       "      <td>no</td>\n",
       "      <td>yes</td>\n",
       "      <td>yes</td>\n",
       "    </tr>\n",
       "    <tr>\n",
       "      <th>2</th>\n",
       "      <td>TOYOTA</td>\n",
       "      <td>other</td>\n",
       "      <td>hatchback 3 doors.</td>\n",
       "      <td>3</td>\n",
       "      <td>1999</td>\n",
       "      <td>2000</td>\n",
       "      <td>blue</td>\n",
       "      <td>1.5</td>\n",
       "      <td>106</td>\n",
       "      <td>petrol</td>\n",
       "      <td>...</td>\n",
       "      <td>2021</td>\n",
       "      <td>22</td>\n",
       "      <td>no</td>\n",
       "      <td>22</td>\n",
       "      <td>no</td>\n",
       "      <td>no</td>\n",
       "      <td>no</td>\n",
       "      <td>no</td>\n",
       "      <td>yes</td>\n",
       "      <td>no</td>\n",
       "    </tr>\n",
       "    <tr>\n",
       "      <th>3</th>\n",
       "      <td>TOYOTA</td>\n",
       "      <td>Toyota Corolla AMT X (E140, E150)</td>\n",
       "      <td>sedan</td>\n",
       "      <td>4</td>\n",
       "      <td>2006</td>\n",
       "      <td>2008</td>\n",
       "      <td>grey</td>\n",
       "      <td>1.6</td>\n",
       "      <td>124</td>\n",
       "      <td>petrol</td>\n",
       "      <td>...</td>\n",
       "      <td>2021</td>\n",
       "      <td>15</td>\n",
       "      <td>no</td>\n",
       "      <td>15</td>\n",
       "      <td>no</td>\n",
       "      <td>no</td>\n",
       "      <td>no</td>\n",
       "      <td>no</td>\n",
       "      <td>yes</td>\n",
       "      <td>no</td>\n",
       "    </tr>\n",
       "    <tr>\n",
       "      <th>4</th>\n",
       "      <td>TOYOTA</td>\n",
       "      <td>other</td>\n",
       "      <td>SUV 5 doors.</td>\n",
       "      <td>5</td>\n",
       "      <td>1999</td>\n",
       "      <td>1999</td>\n",
       "      <td>silver</td>\n",
       "      <td>3.4</td>\n",
       "      <td>178</td>\n",
       "      <td>petrol</td>\n",
       "      <td>...</td>\n",
       "      <td>2021</td>\n",
       "      <td>22</td>\n",
       "      <td>no</td>\n",
       "      <td>22</td>\n",
       "      <td>no</td>\n",
       "      <td>no</td>\n",
       "      <td>no</td>\n",
       "      <td>no</td>\n",
       "      <td>yes</td>\n",
       "      <td>no</td>\n",
       "    </tr>\n",
       "    <tr>\n",
       "      <th>5</th>\n",
       "      <td>TOYOTA</td>\n",
       "      <td>Toyota Camry VIII (XV70)</td>\n",
       "      <td>sedan</td>\n",
       "      <td>4</td>\n",
       "      <td>2017</td>\n",
       "      <td>2018</td>\n",
       "      <td>black</td>\n",
       "      <td>3.5</td>\n",
       "      <td>249</td>\n",
       "      <td>petrol</td>\n",
       "      <td>...</td>\n",
       "      <td>2021</td>\n",
       "      <td>4</td>\n",
       "      <td>no</td>\n",
       "      <td>4</td>\n",
       "      <td>no</td>\n",
       "      <td>no</td>\n",
       "      <td>no</td>\n",
       "      <td>no</td>\n",
       "      <td>yes</td>\n",
       "      <td>yes</td>\n",
       "    </tr>\n",
       "    <tr>\n",
       "      <th>6</th>\n",
       "      <td>TOYOTA</td>\n",
       "      <td>other</td>\n",
       "      <td>hatchback 3 doors.</td>\n",
       "      <td>3</td>\n",
       "      <td>2002</td>\n",
       "      <td>2003</td>\n",
       "      <td>black</td>\n",
       "      <td>1.8</td>\n",
       "      <td>192</td>\n",
       "      <td>petrol</td>\n",
       "      <td>...</td>\n",
       "      <td>2021</td>\n",
       "      <td>19</td>\n",
       "      <td>no</td>\n",
       "      <td>19</td>\n",
       "      <td>no</td>\n",
       "      <td>no</td>\n",
       "      <td>no</td>\n",
       "      <td>no</td>\n",
       "      <td>yes</td>\n",
       "      <td>no</td>\n",
       "    </tr>\n",
       "  </tbody>\n",
       "</table>\n",
       "<p>7 rows × 28 columns</p>\n",
       "</div>"
      ],
      "text/plain": [
       "    brand                         model_name           body_type  doors  \\\n",
       "0  TOYOTA           Toyota Camry VIII (XV70)               sedan      4   \n",
       "1  TOYOTA                              other               sedan      4   \n",
       "2  TOYOTA                              other  hatchback 3 doors.      3   \n",
       "3  TOYOTA  Toyota Corolla AMT X (E140, E150)               sedan      4   \n",
       "4  TOYOTA                              other        SUV 5 doors.      5   \n",
       "5  TOYOTA           Toyota Camry VIII (XV70)               sedan      4   \n",
       "6  TOYOTA                              other  hatchback 3 doors.      3   \n",
       "\n",
       "   model_date  prod_date   color  engine_V  power    fuel  ...  dataset_year  \\\n",
       "0        2017       2020   black       3.5    249  petrol  ...          2021   \n",
       "1        2020       2021     red       3.5    249  petrol  ...          2021   \n",
       "2        1999       2000    blue       1.5    106  petrol  ...          2021   \n",
       "3        2006       2008    grey       1.6    124  petrol  ...          2021   \n",
       "4        1999       1999  silver       3.4    178  petrol  ...          2021   \n",
       "5        2017       2018   black       3.5    249  petrol  ...          2021   \n",
       "6        2002       2003   black       1.8    192  petrol  ...          2021   \n",
       "\n",
       "  model_age  new_model car_age new_car retro  raritet electrocar  petrol_car  \\\n",
       "0         4         no       4      no    no       no         no         yes   \n",
       "1         1         no       1      no    no       no         no         yes   \n",
       "2        22         no      22      no    no       no         no         yes   \n",
       "3        15         no      15      no    no       no         no         yes   \n",
       "4        22         no      22      no    no       no         no         yes   \n",
       "5         4         no       4      no    no       no         no         yes   \n",
       "6        19         no      19      no    no       no         no         yes   \n",
       "\n",
       "   1_owner  \n",
       "0      yes  \n",
       "1      yes  \n",
       "2       no  \n",
       "3       no  \n",
       "4       no  \n",
       "5      yes  \n",
       "6       no  \n",
       "\n",
       "[7 rows x 28 columns]"
      ]
     },
     "execution_count": 129,
     "metadata": {},
     "output_type": "execute_result"
    }
   ],
   "source": [
    "# quick check:\n",
    "data = pd.read_csv(\"PROCESSED/data.csv\")\n",
    "data.head(7)#.T\n"
   ]
  },
  {
   "cell_type": "code",
   "execution_count": 130,
   "metadata": {
    "scrolled": true
   },
   "outputs": [
    {
     "name": "stdout",
     "output_type": "stream",
     "text": [
      "<class 'pandas.core.frame.DataFrame'>\n",
      "RangeIndex: 69951 entries, 0 to 69950\n",
      "Data columns (total 28 columns):\n",
      " #   Column        Non-Null Count  Dtype  \n",
      "---  ------        --------------  -----  \n",
      " 0   brand         69951 non-null  object \n",
      " 1   model_name    69951 non-null  object \n",
      " 2   body_type     69951 non-null  object \n",
      " 3   doors         69951 non-null  int64  \n",
      " 4   model_date    69951 non-null  int64  \n",
      " 5   prod_date     69951 non-null  int64  \n",
      " 6   color         69951 non-null  object \n",
      " 7   engine_V      69824 non-null  float64\n",
      " 8   power         69951 non-null  int64  \n",
      " 9   fuel          69951 non-null  object \n",
      " 10  mileage       69951 non-null  int64  \n",
      " 11  transmission  69951 non-null  object \n",
      " 12  owners        69951 non-null  int64  \n",
      " 13  pass          69950 non-null  object \n",
      " 14  drive         69951 non-null  object \n",
      " 15  wheel         69951 non-null  object \n",
      " 16  price         69951 non-null  int64  \n",
      " 17  test_train    69951 non-null  object \n",
      " 18  dataset_year  69951 non-null  int64  \n",
      " 19  model_age     69951 non-null  int64  \n",
      " 20  new_model     69951 non-null  object \n",
      " 21  car_age       69951 non-null  int64  \n",
      " 22  new_car       69951 non-null  object \n",
      " 23  retro         69951 non-null  object \n",
      " 24  raritet       69951 non-null  object \n",
      " 25  electrocar    69951 non-null  object \n",
      " 26  petrol_car    69951 non-null  object \n",
      " 27  1_owner       69951 non-null  object \n",
      "dtypes: float64(1), int64(10), object(17)\n",
      "memory usage: 14.9+ MB\n"
     ]
    }
   ],
   "source": [
    "data.info()\n"
   ]
  },
  {
   "cell_type": "markdown",
   "metadata": {},
   "source": [
    "Looks OK for future processing"
   ]
  },
  {
   "cell_type": "markdown",
   "metadata": {},
   "source": [
    "### Please continue with 3. EDA"
   ]
  },
  {
   "cell_type": "code",
   "execution_count": null,
   "metadata": {},
   "outputs": [],
   "source": []
  }
 ],
 "metadata": {
  "kernelspec": {
   "display_name": "Python 3 (ipykernel)",
   "language": "python",
   "name": "python3"
  },
  "language_info": {
   "codemirror_mode": {
    "name": "ipython",
    "version": 3
   },
   "file_extension": ".py",
   "mimetype": "text/x-python",
   "name": "python",
   "nbconvert_exporter": "python",
   "pygments_lexer": "ipython3",
   "version": "3.8.8"
  }
 },
 "nbformat": 4,
 "nbformat_minor": 4
}
