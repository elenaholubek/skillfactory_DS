{
  "nbformat": 4,
  "nbformat_minor": 5,
  "metadata": {
    "kernelspec": {
      "display_name": "Python 3 (ipykernel)",
      "language": "python",
      "name": "python3"
    },
    "language_info": {
      "codemirror_mode": {
        "name": "ipython",
        "version": 3
      },
      "file_extension": ".py",
      "mimetype": "text/x-python",
      "name": "python",
      "nbconvert_exporter": "python",
      "pygments_lexer": "ipython3",
      "version": "3.8.8"
    },
    "colab": {
      "name": "4. Feature engineering.ipynb",
      "provenance": []
    }
  },
  "cells": [
    {
      "cell_type": "markdown",
      "metadata": {
        "id": "d7fe58b2"
      },
      "source": [
        "## 4. Feature engineering"
      ],
      "id": "d7fe58b2"
    },
    {
      "cell_type": "markdown",
      "metadata": {
        "id": "316792f0"
      },
      "source": [
        "- create a few datasets with dummies and categogian approach\n",
        "- generate new features\n",
        "- save processed dataframes to folder ML, ..."
      ],
      "id": "316792f0"
    },
    {
      "cell_type": "code",
      "metadata": {
        "id": "442d4ea1"
      },
      "source": [
        "import numpy as np\n",
        "import pandas as pd\n",
        "import glob\n",
        "import re\n",
        "from datetime import datetime\n",
        "from sklearn.preprocessing import LabelEncoder\n",
        "from sklearn.preprocessing import FunctionTransformer\n",
        "\n",
        "import warnings\n",
        "from pandas_profiling import ProfileReport\n",
        "import seaborn as sns\n",
        "import matplotlib.pyplot as plt\n",
        "\n",
        "warnings.filterwarnings(\"ignore\")\n",
        "%matplotlib inline \n"
      ],
      "id": "442d4ea1",
      "execution_count": 1,
      "outputs": []
    },
    {
      "cell_type": "code",
      "metadata": {
        "id": "fAzq7g6iwbwi"
      },
      "source": [
        ""
      ],
      "id": "fAzq7g6iwbwi",
      "execution_count": null,
      "outputs": []
    },
    {
      "cell_type": "code",
      "metadata": {
        "id": "c338638e"
      },
      "source": [
        "def to_dummies(df, col_list):\n",
        "    for col in col_list:\n",
        "        df = pd.get_dummies(df, prefix=col+'_', columns=[col])\n",
        "    return df\n",
        "\n",
        "\n",
        "def to_categories(df, col_list):\n",
        "    for col in col_list:\n",
        "        df[col] = df[col].astype('category').cat.codes\n",
        "    return df\n",
        "\n",
        "\n",
        "def to_binary(df, col_list):\n",
        "    label_encoder = LabelEncoder()\n",
        "    for col in col_list:\n",
        "        df[col] = label_encoder.fit_transform(df[col])\n",
        "    return df\n",
        "\n",
        "\n",
        "def to_log(df, col_list):\n",
        "    ft=FunctionTransformer(func=np.log1p)\n",
        "    for col in col_list:\n",
        "        df[col] = ft.fit_transform(df[col])\n",
        "    return df\n"
      ],
      "id": "c338638e",
      "execution_count": 2,
      "outputs": []
    },
    {
      "cell_type": "markdown",
      "metadata": {
        "id": "32460ec8"
      },
      "source": [
        "## READ DATA"
      ],
      "id": "32460ec8"
    },
    {
      "cell_type": "code",
      "metadata": {
        "id": "mxRigtS8wiEG",
        "outputId": "89a2c60b-bbda-4d20-88ce-6c4145f184a4",
        "colab": {
          "base_uri": "https://localhost:8080/"
        }
      },
      "source": [
        "#local:\n",
        "#path = \"/\"\n",
        "\n",
        "# remote:\n",
        "from google.colab import drive\n",
        "drive.mount('/content/drive')\n",
        "path = \"/content/drive/My Drive/module_6/\"\n"
      ],
      "id": "mxRigtS8wiEG",
      "execution_count": 3,
      "outputs": [
        {
          "output_type": "stream",
          "name": "stdout",
          "text": [
            "Mounted at /content/drive\n"
          ]
        }
      ]
    },
    {
      "cell_type": "code",
      "metadata": {
        "id": "0e36766e",
        "outputId": "54fb3c72-4851-4d20-9aa0-7b7bb47d8509",
        "colab": {
          "base_uri": "https://localhost:8080/",
          "height": 907
        }
      },
      "source": [
        "data = pd.read_csv(path + \"PROCESSED/data.csv\")\n",
        "num_columns = list(pd.read_csv(path + \"PROCESSED/num_columns.csv\", header=None)[0])\n",
        "cat_columns = list(pd.read_csv(path + \"PROCESSED/cat_columns.csv\", header=None)[0])\n",
        "bin_columns = list(pd.read_csv(path + \"PROCESSED/bin_columns.csv\", header=None)[0])\n",
        "drop_columns = list(pd.read_csv(path + \"PROCESSED/drop_columns.csv\", header=None)[0])\n",
        "log_columns = list(pd.read_csv(path + \"PROCESSED/log_columns.csv\", header=None)[0])\n",
        "\n",
        "data.head().T"
      ],
      "id": "0e36766e",
      "execution_count": 4,
      "outputs": [
        {
          "output_type": "execute_result",
          "data": {
            "text/html": [
              "<div>\n",
              "<style scoped>\n",
              "    .dataframe tbody tr th:only-of-type {\n",
              "        vertical-align: middle;\n",
              "    }\n",
              "\n",
              "    .dataframe tbody tr th {\n",
              "        vertical-align: top;\n",
              "    }\n",
              "\n",
              "    .dataframe thead th {\n",
              "        text-align: right;\n",
              "    }\n",
              "</style>\n",
              "<table border=\"1\" class=\"dataframe\">\n",
              "  <thead>\n",
              "    <tr style=\"text-align: right;\">\n",
              "      <th></th>\n",
              "      <th>0</th>\n",
              "      <th>1</th>\n",
              "      <th>2</th>\n",
              "      <th>3</th>\n",
              "      <th>4</th>\n",
              "    </tr>\n",
              "  </thead>\n",
              "  <tbody>\n",
              "    <tr>\n",
              "      <th>brand</th>\n",
              "      <td>SKODA</td>\n",
              "      <td>SKODA</td>\n",
              "      <td>SKODA</td>\n",
              "      <td>SKODA</td>\n",
              "      <td>SKODA</td>\n",
              "    </tr>\n",
              "    <tr>\n",
              "      <th>model_name</th>\n",
              "      <td>Skoda Fabia II</td>\n",
              "      <td>Skoda Fabia I</td>\n",
              "      <td>Skoda Octavia III (A7) Рестайлинг</td>\n",
              "      <td>other</td>\n",
              "      <td>Skoda Fabia II Рестайлинг</td>\n",
              "    </tr>\n",
              "    <tr>\n",
              "      <th>body_type</th>\n",
              "      <td>station wagon 5 doors.</td>\n",
              "      <td>station wagon 5 doors.</td>\n",
              "      <td>liftback</td>\n",
              "      <td>hatchback 5 doors.</td>\n",
              "      <td>hatchback 5 doors.</td>\n",
              "    </tr>\n",
              "    <tr>\n",
              "      <th>doors</th>\n",
              "      <td>5</td>\n",
              "      <td>5</td>\n",
              "      <td>5</td>\n",
              "      <td>5</td>\n",
              "      <td>5</td>\n",
              "    </tr>\n",
              "    <tr>\n",
              "      <th>model_date</th>\n",
              "      <td>2007</td>\n",
              "      <td>1999</td>\n",
              "      <td>2017</td>\n",
              "      <td>2010</td>\n",
              "      <td>2010</td>\n",
              "    </tr>\n",
              "    <tr>\n",
              "      <th>prod_date</th>\n",
              "      <td>2009</td>\n",
              "      <td>2001</td>\n",
              "      <td>2017</td>\n",
              "      <td>2012</td>\n",
              "      <td>2011</td>\n",
              "    </tr>\n",
              "    <tr>\n",
              "      <th>color</th>\n",
              "      <td>black</td>\n",
              "      <td>silver</td>\n",
              "      <td>white</td>\n",
              "      <td>blue</td>\n",
              "      <td>black</td>\n",
              "    </tr>\n",
              "    <tr>\n",
              "      <th>engine_V</th>\n",
              "      <td>1.4</td>\n",
              "      <td>1.4</td>\n",
              "      <td>1.6</td>\n",
              "      <td>1.4</td>\n",
              "      <td>1.2</td>\n",
              "    </tr>\n",
              "    <tr>\n",
              "      <th>power</th>\n",
              "      <td>86</td>\n",
              "      <td>68</td>\n",
              "      <td>110</td>\n",
              "      <td>180</td>\n",
              "      <td>70</td>\n",
              "    </tr>\n",
              "    <tr>\n",
              "      <th>fuel</th>\n",
              "      <td>petrol</td>\n",
              "      <td>petrol</td>\n",
              "      <td>petrol</td>\n",
              "      <td>petrol</td>\n",
              "      <td>petrol</td>\n",
              "    </tr>\n",
              "    <tr>\n",
              "      <th>mileage</th>\n",
              "      <td>182200</td>\n",
              "      <td>296000</td>\n",
              "      <td>131807</td>\n",
              "      <td>192000</td>\n",
              "      <td>190000</td>\n",
              "    </tr>\n",
              "    <tr>\n",
              "      <th>transmission</th>\n",
              "      <td>MT</td>\n",
              "      <td>MT</td>\n",
              "      <td>AT</td>\n",
              "      <td>AMT</td>\n",
              "      <td>MT</td>\n",
              "    </tr>\n",
              "    <tr>\n",
              "      <th>owners</th>\n",
              "      <td>2</td>\n",
              "      <td>3</td>\n",
              "      <td>1</td>\n",
              "      <td>3</td>\n",
              "      <td>2</td>\n",
              "    </tr>\n",
              "    <tr>\n",
              "      <th>pass</th>\n",
              "      <td>Original</td>\n",
              "      <td>Duplicate</td>\n",
              "      <td>Original</td>\n",
              "      <td>Original</td>\n",
              "      <td>Original</td>\n",
              "    </tr>\n",
              "    <tr>\n",
              "      <th>drive</th>\n",
              "      <td>FWD</td>\n",
              "      <td>FWD</td>\n",
              "      <td>FWD</td>\n",
              "      <td>FWD</td>\n",
              "      <td>FWD</td>\n",
              "    </tr>\n",
              "    <tr>\n",
              "      <th>wheel</th>\n",
              "      <td>Left</td>\n",
              "      <td>Left</td>\n",
              "      <td>Left</td>\n",
              "      <td>Left</td>\n",
              "      <td>Left</td>\n",
              "    </tr>\n",
              "    <tr>\n",
              "      <th>price</th>\n",
              "      <td>370000</td>\n",
              "      <td>155000</td>\n",
              "      <td>840000</td>\n",
              "      <td>470000</td>\n",
              "      <td>290000</td>\n",
              "    </tr>\n",
              "    <tr>\n",
              "      <th>test_train</th>\n",
              "      <td>train</td>\n",
              "      <td>train</td>\n",
              "      <td>train</td>\n",
              "      <td>train</td>\n",
              "      <td>train</td>\n",
              "    </tr>\n",
              "    <tr>\n",
              "      <th>dataset_year</th>\n",
              "      <td>2021</td>\n",
              "      <td>2021</td>\n",
              "      <td>2021</td>\n",
              "      <td>2021</td>\n",
              "      <td>2021</td>\n",
              "    </tr>\n",
              "    <tr>\n",
              "      <th>model_age</th>\n",
              "      <td>14</td>\n",
              "      <td>22</td>\n",
              "      <td>4</td>\n",
              "      <td>11</td>\n",
              "      <td>11</td>\n",
              "    </tr>\n",
              "    <tr>\n",
              "      <th>new_model</th>\n",
              "      <td>no</td>\n",
              "      <td>no</td>\n",
              "      <td>no</td>\n",
              "      <td>no</td>\n",
              "      <td>no</td>\n",
              "    </tr>\n",
              "    <tr>\n",
              "      <th>car_age</th>\n",
              "      <td>14</td>\n",
              "      <td>22</td>\n",
              "      <td>4</td>\n",
              "      <td>11</td>\n",
              "      <td>11</td>\n",
              "    </tr>\n",
              "    <tr>\n",
              "      <th>new_car</th>\n",
              "      <td>no</td>\n",
              "      <td>no</td>\n",
              "      <td>no</td>\n",
              "      <td>no</td>\n",
              "      <td>no</td>\n",
              "    </tr>\n",
              "    <tr>\n",
              "      <th>retro</th>\n",
              "      <td>no</td>\n",
              "      <td>no</td>\n",
              "      <td>no</td>\n",
              "      <td>no</td>\n",
              "      <td>no</td>\n",
              "    </tr>\n",
              "    <tr>\n",
              "      <th>raritet</th>\n",
              "      <td>no</td>\n",
              "      <td>no</td>\n",
              "      <td>no</td>\n",
              "      <td>no</td>\n",
              "      <td>no</td>\n",
              "    </tr>\n",
              "    <tr>\n",
              "      <th>electrocar</th>\n",
              "      <td>no</td>\n",
              "      <td>no</td>\n",
              "      <td>no</td>\n",
              "      <td>no</td>\n",
              "      <td>no</td>\n",
              "    </tr>\n",
              "    <tr>\n",
              "      <th>petrol_car</th>\n",
              "      <td>yes</td>\n",
              "      <td>yes</td>\n",
              "      <td>yes</td>\n",
              "      <td>yes</td>\n",
              "      <td>yes</td>\n",
              "    </tr>\n",
              "    <tr>\n",
              "      <th>1_owner</th>\n",
              "      <td>no</td>\n",
              "      <td>no</td>\n",
              "      <td>yes</td>\n",
              "      <td>no</td>\n",
              "      <td>no</td>\n",
              "    </tr>\n",
              "  </tbody>\n",
              "</table>\n",
              "</div>"
            ],
            "text/plain": [
              "                                   0  ...                          4\n",
              "brand                          SKODA  ...                      SKODA\n",
              "model_name            Skoda Fabia II  ...  Skoda Fabia II Рестайлинг\n",
              "body_type     station wagon 5 doors.  ...         hatchback 5 doors.\n",
              "doors                              5  ...                          5\n",
              "model_date                      2007  ...                       2010\n",
              "prod_date                       2009  ...                       2011\n",
              "color                          black  ...                      black\n",
              "engine_V                         1.4  ...                        1.2\n",
              "power                             86  ...                         70\n",
              "fuel                          petrol  ...                     petrol\n",
              "mileage                       182200  ...                     190000\n",
              "transmission                      MT  ...                         MT\n",
              "owners                             2  ...                          2\n",
              "pass                        Original  ...                   Original\n",
              "drive                            FWD  ...                        FWD\n",
              "wheel                           Left  ...                       Left\n",
              "price                         370000  ...                     290000\n",
              "test_train                     train  ...                      train\n",
              "dataset_year                    2021  ...                       2021\n",
              "model_age                         14  ...                         11\n",
              "new_model                         no  ...                         no\n",
              "car_age                           14  ...                         11\n",
              "new_car                           no  ...                         no\n",
              "retro                             no  ...                         no\n",
              "raritet                           no  ...                         no\n",
              "electrocar                        no  ...                         no\n",
              "petrol_car                       yes  ...                        yes\n",
              "1_owner                           no  ...                         no\n",
              "\n",
              "[28 rows x 5 columns]"
            ]
          },
          "metadata": {},
          "execution_count": 4
        }
      ]
    },
    {
      "cell_type": "code",
      "metadata": {
        "id": "9a756a7d",
        "outputId": "c6b27e7b-6450-42ff-8b24-20753decab3a",
        "colab": {
          "base_uri": "https://localhost:8080/"
        }
      },
      "source": [
        "data.info()\n"
      ],
      "id": "9a756a7d",
      "execution_count": 5,
      "outputs": [
        {
          "output_type": "stream",
          "name": "stdout",
          "text": [
            "<class 'pandas.core.frame.DataFrame'>\n",
            "RangeIndex: 69951 entries, 0 to 69950\n",
            "Data columns (total 28 columns):\n",
            " #   Column        Non-Null Count  Dtype  \n",
            "---  ------        --------------  -----  \n",
            " 0   brand         69951 non-null  object \n",
            " 1   model_name    69951 non-null  object \n",
            " 2   body_type     69951 non-null  object \n",
            " 3   doors         69951 non-null  int64  \n",
            " 4   model_date    69951 non-null  int64  \n",
            " 5   prod_date     69951 non-null  int64  \n",
            " 6   color         69951 non-null  object \n",
            " 7   engine_V      69824 non-null  float64\n",
            " 8   power         69951 non-null  int64  \n",
            " 9   fuel          69951 non-null  object \n",
            " 10  mileage       69951 non-null  int64  \n",
            " 11  transmission  69951 non-null  object \n",
            " 12  owners        69951 non-null  int64  \n",
            " 13  pass          69950 non-null  object \n",
            " 14  drive         69951 non-null  object \n",
            " 15  wheel         69951 non-null  object \n",
            " 16  price         69951 non-null  int64  \n",
            " 17  test_train    69951 non-null  object \n",
            " 18  dataset_year  69951 non-null  int64  \n",
            " 19  model_age     69951 non-null  int64  \n",
            " 20  new_model     69951 non-null  object \n",
            " 21  car_age       69951 non-null  int64  \n",
            " 22  new_car       69951 non-null  object \n",
            " 23  retro         69951 non-null  object \n",
            " 24  raritet       69951 non-null  object \n",
            " 25  electrocar    69951 non-null  object \n",
            " 26  petrol_car    69951 non-null  object \n",
            " 27  1_owner       69951 non-null  object \n",
            "dtypes: float64(1), int64(10), object(17)\n",
            "memory usage: 14.9+ MB\n"
          ]
        }
      ]
    },
    {
      "cell_type": "code",
      "metadata": {
        "id": "b88c1172",
        "outputId": "a9ca7a89-3dac-449d-8761-98fce1acc5a1",
        "colab": {
          "base_uri": "https://localhost:8080/"
        }
      },
      "source": [
        "# check empty values:\n",
        "data.isnull().sum()\n"
      ],
      "id": "b88c1172",
      "execution_count": 6,
      "outputs": [
        {
          "output_type": "execute_result",
          "data": {
            "text/plain": [
              "brand             0\n",
              "model_name        0\n",
              "body_type         0\n",
              "doors             0\n",
              "model_date        0\n",
              "prod_date         0\n",
              "color             0\n",
              "engine_V        127\n",
              "power             0\n",
              "fuel              0\n",
              "mileage           0\n",
              "transmission      0\n",
              "owners            0\n",
              "pass              1\n",
              "drive             0\n",
              "wheel             0\n",
              "price             0\n",
              "test_train        0\n",
              "dataset_year      0\n",
              "model_age         0\n",
              "new_model         0\n",
              "car_age           0\n",
              "new_car           0\n",
              "retro             0\n",
              "raritet           0\n",
              "electrocar        0\n",
              "petrol_car        0\n",
              "1_owner           0\n",
              "dtype: int64"
            ]
          },
          "metadata": {},
          "execution_count": 6
        }
      ]
    },
    {
      "cell_type": "code",
      "metadata": {
        "id": "ea2fc81f"
      },
      "source": [
        "data.engine_V.fillna(round(data.engine_V.mean(), 1), inplace=True)\n"
      ],
      "id": "ea2fc81f",
      "execution_count": 7,
      "outputs": []
    },
    {
      "cell_type": "code",
      "metadata": {
        "id": "35e2e8c6",
        "outputId": "54dbc89c-ee48-4d83-e3c7-25d041e9b162",
        "colab": {
          "base_uri": "https://localhost:8080/"
        }
      },
      "source": [
        "data[\"pass\"].value_counts()\n"
      ],
      "id": "35e2e8c6",
      "execution_count": 8,
      "outputs": [
        {
          "output_type": "execute_result",
          "data": {
            "text/plain": [
              "Original     60310\n",
              "Duplicate     9640\n",
              "Name: pass, dtype: int64"
            ]
          },
          "metadata": {},
          "execution_count": 8
        }
      ]
    },
    {
      "cell_type": "code",
      "metadata": {
        "id": "e06309d4"
      },
      "source": [
        "data[\"pass\"].fillna(\"Original\", inplace=True)\n"
      ],
      "id": "e06309d4",
      "execution_count": 9,
      "outputs": []
    },
    {
      "cell_type": "code",
      "metadata": {
        "id": "084ad0cd",
        "outputId": "93a5db95-1b78-4d42-8a8a-485f2947a8af",
        "colab": {
          "base_uri": "https://localhost:8080/"
        }
      },
      "source": [
        "data.isnull().sum()\n"
      ],
      "id": "084ad0cd",
      "execution_count": 10,
      "outputs": [
        {
          "output_type": "execute_result",
          "data": {
            "text/plain": [
              "brand           0\n",
              "model_name      0\n",
              "body_type       0\n",
              "doors           0\n",
              "model_date      0\n",
              "prod_date       0\n",
              "color           0\n",
              "engine_V        0\n",
              "power           0\n",
              "fuel            0\n",
              "mileage         0\n",
              "transmission    0\n",
              "owners          0\n",
              "pass            0\n",
              "drive           0\n",
              "wheel           0\n",
              "price           0\n",
              "test_train      0\n",
              "dataset_year    0\n",
              "model_age       0\n",
              "new_model       0\n",
              "car_age         0\n",
              "new_car         0\n",
              "retro           0\n",
              "raritet         0\n",
              "electrocar      0\n",
              "petrol_car      0\n",
              "1_owner         0\n",
              "dtype: int64"
            ]
          },
          "metadata": {},
          "execution_count": 10
        }
      ]
    },
    {
      "cell_type": "markdown",
      "metadata": {
        "id": "81fbdd89"
      },
      "source": [
        "## drop_columns:"
      ],
      "id": "81fbdd89"
    },
    {
      "cell_type": "code",
      "metadata": {
        "id": "1cdd41bf",
        "outputId": "cb5e934e-66de-43b2-bded-a5d999535b44",
        "colab": {
          "base_uri": "https://localhost:8080/"
        }
      },
      "source": [
        "drop_columns\n"
      ],
      "id": "1cdd41bf",
      "execution_count": 11,
      "outputs": [
        {
          "output_type": "execute_result",
          "data": {
            "text/plain": [
              "['model_date', 'prod_date', 'dataset_year']"
            ]
          },
          "metadata": {},
          "execution_count": 11
        }
      ]
    },
    {
      "cell_type": "code",
      "metadata": {
        "id": "87f07b77"
      },
      "source": [
        "data.drop(drop_columns, axis=1, inplace=True)\n"
      ],
      "id": "87f07b77",
      "execution_count": 12,
      "outputs": []
    },
    {
      "cell_type": "code",
      "metadata": {
        "id": "157732ff"
      },
      "source": [
        "\n"
      ],
      "id": "157732ff",
      "execution_count": 13,
      "outputs": []
    },
    {
      "cell_type": "markdown",
      "metadata": {
        "id": "bc8edd9d"
      },
      "source": [
        "## binary features:"
      ],
      "id": "bc8edd9d"
    },
    {
      "cell_type": "code",
      "metadata": {
        "id": "93gsak5KxPmL"
      },
      "source": [
        "bin_columns.remove(\"dataset_year\")"
      ],
      "id": "93gsak5KxPmL",
      "execution_count": null,
      "outputs": []
    },
    {
      "cell_type": "code",
      "metadata": {
        "id": "490efa8b",
        "outputId": "1a4b5292-73b1-48b9-f289-bfec30c8b2ff",
        "colab": {
          "base_uri": "https://localhost:8080/",
          "height": 263
        }
      },
      "source": [
        "data[bin_columns].sample(7)\n"
      ],
      "id": "490efa8b",
      "execution_count": 14,
      "outputs": [
        {
          "output_type": "execute_result",
          "data": {
            "text/html": [
              "<div>\n",
              "<style scoped>\n",
              "    .dataframe tbody tr th:only-of-type {\n",
              "        vertical-align: middle;\n",
              "    }\n",
              "\n",
              "    .dataframe tbody tr th {\n",
              "        vertical-align: top;\n",
              "    }\n",
              "\n",
              "    .dataframe thead th {\n",
              "        text-align: right;\n",
              "    }\n",
              "</style>\n",
              "<table border=\"1\" class=\"dataframe\">\n",
              "  <thead>\n",
              "    <tr style=\"text-align: right;\">\n",
              "      <th></th>\n",
              "      <th>new_car</th>\n",
              "      <th>new_model</th>\n",
              "      <th>pass</th>\n",
              "      <th>retro</th>\n",
              "      <th>1_owner</th>\n",
              "      <th>wheel</th>\n",
              "      <th>electrocar</th>\n",
              "      <th>raritet</th>\n",
              "      <th>petrol_car</th>\n",
              "    </tr>\n",
              "  </thead>\n",
              "  <tbody>\n",
              "    <tr>\n",
              "      <th>65409</th>\n",
              "      <td>no</td>\n",
              "      <td>no</td>\n",
              "      <td>Original</td>\n",
              "      <td>no</td>\n",
              "      <td>no</td>\n",
              "      <td>Left</td>\n",
              "      <td>no</td>\n",
              "      <td>no</td>\n",
              "      <td>yes</td>\n",
              "    </tr>\n",
              "    <tr>\n",
              "      <th>12469</th>\n",
              "      <td>no</td>\n",
              "      <td>no</td>\n",
              "      <td>Original</td>\n",
              "      <td>no</td>\n",
              "      <td>no</td>\n",
              "      <td>Left</td>\n",
              "      <td>no</td>\n",
              "      <td>no</td>\n",
              "      <td>yes</td>\n",
              "    </tr>\n",
              "    <tr>\n",
              "      <th>63860</th>\n",
              "      <td>no</td>\n",
              "      <td>no</td>\n",
              "      <td>Duplicate</td>\n",
              "      <td>no</td>\n",
              "      <td>no</td>\n",
              "      <td>Left</td>\n",
              "      <td>no</td>\n",
              "      <td>no</td>\n",
              "      <td>yes</td>\n",
              "    </tr>\n",
              "    <tr>\n",
              "      <th>47692</th>\n",
              "      <td>no</td>\n",
              "      <td>no</td>\n",
              "      <td>Original</td>\n",
              "      <td>no</td>\n",
              "      <td>no</td>\n",
              "      <td>Left</td>\n",
              "      <td>no</td>\n",
              "      <td>no</td>\n",
              "      <td>yes</td>\n",
              "    </tr>\n",
              "    <tr>\n",
              "      <th>41890</th>\n",
              "      <td>no</td>\n",
              "      <td>no</td>\n",
              "      <td>Original</td>\n",
              "      <td>no</td>\n",
              "      <td>no</td>\n",
              "      <td>Left</td>\n",
              "      <td>no</td>\n",
              "      <td>no</td>\n",
              "      <td>yes</td>\n",
              "    </tr>\n",
              "    <tr>\n",
              "      <th>33186</th>\n",
              "      <td>no</td>\n",
              "      <td>no</td>\n",
              "      <td>Original</td>\n",
              "      <td>no</td>\n",
              "      <td>yes</td>\n",
              "      <td>Left</td>\n",
              "      <td>no</td>\n",
              "      <td>no</td>\n",
              "      <td>yes</td>\n",
              "    </tr>\n",
              "    <tr>\n",
              "      <th>45553</th>\n",
              "      <td>no</td>\n",
              "      <td>no</td>\n",
              "      <td>Original</td>\n",
              "      <td>no</td>\n",
              "      <td>no</td>\n",
              "      <td>Left</td>\n",
              "      <td>no</td>\n",
              "      <td>no</td>\n",
              "      <td>no</td>\n",
              "    </tr>\n",
              "  </tbody>\n",
              "</table>\n",
              "</div>"
            ],
            "text/plain": [
              "      new_car new_model       pass retro  ... wheel electrocar raritet petrol_car\n",
              "65409      no        no   Original    no  ...  Left         no      no        yes\n",
              "12469      no        no   Original    no  ...  Left         no      no        yes\n",
              "63860      no        no  Duplicate    no  ...  Left         no      no        yes\n",
              "47692      no        no   Original    no  ...  Left         no      no        yes\n",
              "41890      no        no   Original    no  ...  Left         no      no        yes\n",
              "33186      no        no   Original    no  ...  Left         no      no        yes\n",
              "45553      no        no   Original    no  ...  Left         no      no         no\n",
              "\n",
              "[7 rows x 9 columns]"
            ]
          },
          "metadata": {},
          "execution_count": 14
        }
      ]
    },
    {
      "cell_type": "code",
      "metadata": {
        "id": "5a443b82",
        "outputId": "b4f898d2-02ef-411d-9562-dc5f6736acba",
        "colab": {
          "base_uri": "https://localhost:8080/"
        }
      },
      "source": [
        "data[bin_columns].info()\n"
      ],
      "id": "5a443b82",
      "execution_count": 15,
      "outputs": [
        {
          "output_type": "stream",
          "name": "stdout",
          "text": [
            "<class 'pandas.core.frame.DataFrame'>\n",
            "RangeIndex: 69951 entries, 0 to 69950\n",
            "Data columns (total 9 columns):\n",
            " #   Column      Non-Null Count  Dtype \n",
            "---  ------      --------------  ----- \n",
            " 0   new_car     69951 non-null  object\n",
            " 1   new_model   69951 non-null  object\n",
            " 2   pass        69951 non-null  object\n",
            " 3   retro       69951 non-null  object\n",
            " 4   1_owner     69951 non-null  object\n",
            " 5   wheel       69951 non-null  object\n",
            " 6   electrocar  69951 non-null  object\n",
            " 7   raritet     69951 non-null  object\n",
            " 8   petrol_car  69951 non-null  object\n",
            "dtypes: object(9)\n",
            "memory usage: 4.8+ MB\n"
          ]
        }
      ]
    },
    {
      "cell_type": "code",
      "metadata": {
        "id": "9e4bf3f3",
        "outputId": "471b0ed7-da66-47b4-834f-5b3a57541ea0",
        "colab": {
          "base_uri": "https://localhost:8080/",
          "height": 263
        }
      },
      "source": [
        "# process:\n",
        "data = to_binary(data, bin_columns)\n",
        "data[bin_columns].sample(7)\n"
      ],
      "id": "9e4bf3f3",
      "execution_count": 16,
      "outputs": [
        {
          "output_type": "execute_result",
          "data": {
            "text/html": [
              "<div>\n",
              "<style scoped>\n",
              "    .dataframe tbody tr th:only-of-type {\n",
              "        vertical-align: middle;\n",
              "    }\n",
              "\n",
              "    .dataframe tbody tr th {\n",
              "        vertical-align: top;\n",
              "    }\n",
              "\n",
              "    .dataframe thead th {\n",
              "        text-align: right;\n",
              "    }\n",
              "</style>\n",
              "<table border=\"1\" class=\"dataframe\">\n",
              "  <thead>\n",
              "    <tr style=\"text-align: right;\">\n",
              "      <th></th>\n",
              "      <th>new_car</th>\n",
              "      <th>new_model</th>\n",
              "      <th>pass</th>\n",
              "      <th>retro</th>\n",
              "      <th>1_owner</th>\n",
              "      <th>wheel</th>\n",
              "      <th>electrocar</th>\n",
              "      <th>raritet</th>\n",
              "      <th>petrol_car</th>\n",
              "    </tr>\n",
              "  </thead>\n",
              "  <tbody>\n",
              "    <tr>\n",
              "      <th>13745</th>\n",
              "      <td>0</td>\n",
              "      <td>0</td>\n",
              "      <td>1</td>\n",
              "      <td>0</td>\n",
              "      <td>1</td>\n",
              "      <td>0</td>\n",
              "      <td>0</td>\n",
              "      <td>0</td>\n",
              "      <td>1</td>\n",
              "    </tr>\n",
              "    <tr>\n",
              "      <th>35694</th>\n",
              "      <td>0</td>\n",
              "      <td>0</td>\n",
              "      <td>1</td>\n",
              "      <td>0</td>\n",
              "      <td>1</td>\n",
              "      <td>0</td>\n",
              "      <td>0</td>\n",
              "      <td>0</td>\n",
              "      <td>1</td>\n",
              "    </tr>\n",
              "    <tr>\n",
              "      <th>10911</th>\n",
              "      <td>0</td>\n",
              "      <td>0</td>\n",
              "      <td>0</td>\n",
              "      <td>0</td>\n",
              "      <td>0</td>\n",
              "      <td>0</td>\n",
              "      <td>0</td>\n",
              "      <td>0</td>\n",
              "      <td>1</td>\n",
              "    </tr>\n",
              "    <tr>\n",
              "      <th>32939</th>\n",
              "      <td>0</td>\n",
              "      <td>0</td>\n",
              "      <td>1</td>\n",
              "      <td>0</td>\n",
              "      <td>0</td>\n",
              "      <td>0</td>\n",
              "      <td>0</td>\n",
              "      <td>0</td>\n",
              "      <td>1</td>\n",
              "    </tr>\n",
              "    <tr>\n",
              "      <th>47754</th>\n",
              "      <td>0</td>\n",
              "      <td>0</td>\n",
              "      <td>0</td>\n",
              "      <td>0</td>\n",
              "      <td>0</td>\n",
              "      <td>0</td>\n",
              "      <td>0</td>\n",
              "      <td>0</td>\n",
              "      <td>0</td>\n",
              "    </tr>\n",
              "    <tr>\n",
              "      <th>32384</th>\n",
              "      <td>0</td>\n",
              "      <td>0</td>\n",
              "      <td>1</td>\n",
              "      <td>0</td>\n",
              "      <td>0</td>\n",
              "      <td>0</td>\n",
              "      <td>0</td>\n",
              "      <td>0</td>\n",
              "      <td>1</td>\n",
              "    </tr>\n",
              "    <tr>\n",
              "      <th>14548</th>\n",
              "      <td>0</td>\n",
              "      <td>0</td>\n",
              "      <td>1</td>\n",
              "      <td>0</td>\n",
              "      <td>1</td>\n",
              "      <td>0</td>\n",
              "      <td>0</td>\n",
              "      <td>0</td>\n",
              "      <td>1</td>\n",
              "    </tr>\n",
              "  </tbody>\n",
              "</table>\n",
              "</div>"
            ],
            "text/plain": [
              "       new_car  new_model  pass  retro  ...  wheel  electrocar  raritet  petrol_car\n",
              "13745        0          0     1      0  ...      0           0        0           1\n",
              "35694        0          0     1      0  ...      0           0        0           1\n",
              "10911        0          0     0      0  ...      0           0        0           1\n",
              "32939        0          0     1      0  ...      0           0        0           1\n",
              "47754        0          0     0      0  ...      0           0        0           0\n",
              "32384        0          0     1      0  ...      0           0        0           1\n",
              "14548        0          0     1      0  ...      0           0        0           1\n",
              "\n",
              "[7 rows x 9 columns]"
            ]
          },
          "metadata": {},
          "execution_count": 16
        }
      ]
    },
    {
      "cell_type": "markdown",
      "metadata": {
        "id": "f5eae6e5"
      },
      "source": [
        "## numeric features:"
      ],
      "id": "f5eae6e5"
    },
    {
      "cell_type": "code",
      "metadata": {
        "id": "74b3a10b",
        "outputId": "3289e38a-9951-459c-c5d9-9d002da80e81",
        "colab": {
          "base_uri": "https://localhost:8080/"
        }
      },
      "source": [
        "num_columns, log_columns\n"
      ],
      "id": "74b3a10b",
      "execution_count": 17,
      "outputs": [
        {
          "output_type": "execute_result",
          "data": {
            "text/plain": [
              "(['car_age',\n",
              "  'power',\n",
              "  'engine_V',\n",
              "  'model_date',\n",
              "  'model_age',\n",
              "  'mileage',\n",
              "  'prod_date'],\n",
              " ['engine_V', 'power', 'mileage', 'model_age', 'car_age'])"
            ]
          },
          "metadata": {},
          "execution_count": 17
        }
      ]
    },
    {
      "cell_type": "code",
      "metadata": {
        "id": "41f0a0a0",
        "outputId": "488f05d7-b219-45e6-f136-2f3517cb234a",
        "colab": {
          "base_uri": "https://localhost:8080/"
        }
      },
      "source": [
        "# are they the same?\n",
        "num_columns = list(set(num_columns) - set(drop_columns))\n",
        "num_columns\n"
      ],
      "id": "41f0a0a0",
      "execution_count": 18,
      "outputs": [
        {
          "output_type": "execute_result",
          "data": {
            "text/plain": [
              "['engine_V', 'mileage', 'car_age', 'model_age', 'power']"
            ]
          },
          "metadata": {},
          "execution_count": 18
        }
      ]
    },
    {
      "cell_type": "markdown",
      "metadata": {
        "id": "cbba4b44"
      },
      "source": [
        "yes, we need to logarithm all numeric features Price was already processed"
      ],
      "id": "cbba4b44"
    },
    {
      "cell_type": "markdown",
      "metadata": {
        "id": "892f641d"
      },
      "source": [
        "### logarythm:"
      ],
      "id": "892f641d"
    },
    {
      "cell_type": "code",
      "metadata": {
        "id": "f546cdc3"
      },
      "source": [
        "data = to_log(data, log_columns)\n"
      ],
      "id": "f546cdc3",
      "execution_count": 19,
      "outputs": []
    },
    {
      "cell_type": "code",
      "metadata": {
        "id": "bd10851c",
        "outputId": "d6fbfe1e-b5b1-4cb8-ba0f-a22438db702c",
        "colab": {
          "base_uri": "https://localhost:8080/",
          "height": 1000
        }
      },
      "source": [
        "# check if logarythm helped:\n",
        "i=1\n",
        "plt.figure(figsize=(30,120))\n",
        "for col in num_columns:\n",
        "    plt.subplot(14,2,i)\n",
        "    sns.distplot(data[data.test_train==\"train\"][col],color=\"r\")\n",
        "    plt.xticks(fontsize=25)\n",
        "    plt.yticks(fontsize=25)\n",
        "    plt.xlabel(col,fontsize=25)\n",
        "    plt.ylabel(\"count\",fontsize=25)\n",
        "    \n",
        "    i=i+1\n",
        "    plt.subplot(14,2,i)\n",
        "    sns.boxplot(data[data.test_train==\"train\"][col],color=\"cyan\")\n",
        "    plt.xticks(fontsize=25)\n",
        "    plt.yticks(fontsize=25)\n",
        "    plt.xlabel(col,fontsize=25)\n",
        "    i=i+1\n",
        "\n",
        "plt.show()\n"
      ],
      "id": "bd10851c",
      "execution_count": 20,
      "outputs": [
        {
          "output_type": "display_data",
          "data": {
            "image/png": "[encoded data removed]",
            "text/plain": [
              "<Figure size 2160x8640 with 10 Axes>"
            ]
          },
          "metadata": {
            "needs_background": "light"
          }
        }
      ]
    },
    {
      "cell_type": "markdown",
      "metadata": {
        "id": "e2d48ba9"
      },
      "source": [
        "yes, a little bit"
      ],
      "id": "e2d48ba9"
    },
    {
      "cell_type": "markdown",
      "metadata": {
        "id": "372af2a2"
      },
      "source": [
        "### outliers:"
      ],
      "id": "372af2a2"
    },
    {
      "cell_type": "markdown",
      "metadata": {
        "id": "a3b78d72"
      },
      "source": [
        "exclude outliers from data or not? For now, I don't know I will create 2nd dataset, without outliers and process it in parallel"
      ],
      "id": "a3b78d72"
    },
    {
      "cell_type": "code",
      "metadata": {
        "id": "WbFLR9bc4-_P"
      },
      "source": [
        "train_data = data[data.test_train==\"train\"]\n",
        "test_data = data[data.test_train==\"test\"]\n"
      ],
      "id": "WbFLR9bc4-_P",
      "execution_count": 23,
      "outputs": []
    },
    {
      "cell_type": "code",
      "metadata": {
        "id": "b076e6c1"
      },
      "source": [
        "# remove outliers and save changed data to data_noouts:\n",
        "# will be saved as a separate dataset\n",
        "Q1 = train_data[num_columns].quantile(0.02)\n",
        "Q3 = train_data[num_columns].quantile(0.98)\n",
        "IQR = Q3 - Q1\n",
        "keep_idx = ~((train_data[num_columns] < (Q1 - 1.5 * IQR)) |\\\n",
        "             (train_data[num_columns] > (Q3 + 1.5 * IQR))\\\n",
        "             ).any(axis=1)\n",
        "remove_idx = ~(keep_idx)\n",
        "# 2nd dataset without outliers:\n",
        "train_data_noouts = train_data.loc[keep_idx]\n",
        "# outliers\n",
        "train_data_outliers = train_data.loc[remove_idx]\n",
        "\n",
        "data_noouts = test_data.append(\n",
        "    train_data_noouts, sort=False).reset_index(drop=True) \n"
      ],
      "id": "b076e6c1",
      "execution_count": 24,
      "outputs": []
    },
    {
      "cell_type": "code",
      "metadata": {
        "id": "89239d94",
        "outputId": "14bdcdcb-e6df-416c-9b1e-9b47cff50bc1",
        "colab": {
          "base_uri": "https://localhost:8080/"
        }
      },
      "source": [
        "print(str(len(train_data_outliers)) + \" records have been removed\")\n",
        "data.shape, data_noouts.shape, train_data_outliers.shape\n"
      ],
      "id": "89239d94",
      "execution_count": 25,
      "outputs": [
        {
          "output_type": "stream",
          "name": "stdout",
          "text": [
            "89 records have been removed\n"
          ]
        },
        {
          "output_type": "execute_result",
          "data": {
            "text/plain": [
              "((69951, 25), (69862, 25), (89, 25))"
            ]
          },
          "metadata": {},
          "execution_count": 25
        }
      ]
    },
    {
      "cell_type": "markdown",
      "metadata": {
        "id": "d09905a4"
      },
      "source": [
        "## categorical features:"
      ],
      "id": "d09905a4"
    },
    {
      "cell_type": "code",
      "metadata": {
        "id": "3983dfc2",
        "outputId": "9ba6d37f-dec4-4963-f65f-029a3d47ae77",
        "colab": {
          "base_uri": "https://localhost:8080/"
        }
      },
      "source": [
        "cat_columns\n"
      ],
      "id": "3983dfc2",
      "execution_count": 28,
      "outputs": [
        {
          "output_type": "execute_result",
          "data": {
            "text/plain": [
              "['body_type',\n",
              " 'fuel',\n",
              " 'model_name',\n",
              " 'brand',\n",
              " 'drive',\n",
              " 'doors',\n",
              " 'color',\n",
              " 'owners',\n",
              " 'transmission']"
            ]
          },
          "metadata": {},
          "execution_count": 28
        }
      ]
    },
    {
      "cell_type": "code",
      "metadata": {
        "id": "ac9455be",
        "outputId": "868e8786-6367-49a3-b809-c0eb2e120540",
        "colab": {
          "base_uri": "https://localhost:8080/",
          "height": 263
        }
      },
      "source": [
        "data[cat_columns].sample(7)\n"
      ],
      "id": "ac9455be",
      "execution_count": 29,
      "outputs": [
        {
          "output_type": "execute_result",
          "data": {
            "text/html": [
              "<div>\n",
              "<style scoped>\n",
              "    .dataframe tbody tr th:only-of-type {\n",
              "        vertical-align: middle;\n",
              "    }\n",
              "\n",
              "    .dataframe tbody tr th {\n",
              "        vertical-align: top;\n",
              "    }\n",
              "\n",
              "    .dataframe thead th {\n",
              "        text-align: right;\n",
              "    }\n",
              "</style>\n",
              "<table border=\"1\" class=\"dataframe\">\n",
              "  <thead>\n",
              "    <tr style=\"text-align: right;\">\n",
              "      <th></th>\n",
              "      <th>body_type</th>\n",
              "      <th>fuel</th>\n",
              "      <th>model_name</th>\n",
              "      <th>brand</th>\n",
              "      <th>drive</th>\n",
              "      <th>doors</th>\n",
              "      <th>color</th>\n",
              "      <th>owners</th>\n",
              "      <th>transmission</th>\n",
              "    </tr>\n",
              "  </thead>\n",
              "  <tbody>\n",
              "    <tr>\n",
              "      <th>41895</th>\n",
              "      <td>sedan</td>\n",
              "      <td>petrol</td>\n",
              "      <td>S60</td>\n",
              "      <td>VOLVO</td>\n",
              "      <td>FWD</td>\n",
              "      <td>4</td>\n",
              "      <td>white</td>\n",
              "      <td>3</td>\n",
              "      <td>AMT</td>\n",
              "    </tr>\n",
              "    <tr>\n",
              "      <th>35099</th>\n",
              "      <td>SUV 5 doors.</td>\n",
              "      <td>petrol</td>\n",
              "      <td>Mitsubishi Outlander I</td>\n",
              "      <td>MITSUBISHI</td>\n",
              "      <td>4WD</td>\n",
              "      <td>5</td>\n",
              "      <td>grey</td>\n",
              "      <td>3</td>\n",
              "      <td>MT</td>\n",
              "    </tr>\n",
              "    <tr>\n",
              "      <th>32658</th>\n",
              "      <td>SUV 5 doors.</td>\n",
              "      <td>diesel</td>\n",
              "      <td>Mitsubishi Pajero II</td>\n",
              "      <td>MITSUBISHI</td>\n",
              "      <td>4WD</td>\n",
              "      <td>5</td>\n",
              "      <td>red</td>\n",
              "      <td>2</td>\n",
              "      <td>MT</td>\n",
              "    </tr>\n",
              "    <tr>\n",
              "      <th>28805</th>\n",
              "      <td>sedan</td>\n",
              "      <td>petrol</td>\n",
              "      <td>other</td>\n",
              "      <td>LEXUS</td>\n",
              "      <td>4WD</td>\n",
              "      <td>4</td>\n",
              "      <td>black</td>\n",
              "      <td>3</td>\n",
              "      <td>AT</td>\n",
              "    </tr>\n",
              "    <tr>\n",
              "      <th>26948</th>\n",
              "      <td>SUV 5 doors.</td>\n",
              "      <td>petrol</td>\n",
              "      <td>Lexus NX 200 I Рестайлинг</td>\n",
              "      <td>LEXUS</td>\n",
              "      <td>FWD</td>\n",
              "      <td>5</td>\n",
              "      <td>white</td>\n",
              "      <td>1</td>\n",
              "      <td>CVT</td>\n",
              "    </tr>\n",
              "    <tr>\n",
              "      <th>4313</th>\n",
              "      <td>sedan</td>\n",
              "      <td>petrol</td>\n",
              "      <td>Audi A4 II (B6)</td>\n",
              "      <td>AUDI</td>\n",
              "      <td>4WD</td>\n",
              "      <td>4</td>\n",
              "      <td>blue</td>\n",
              "      <td>2</td>\n",
              "      <td>AT</td>\n",
              "    </tr>\n",
              "    <tr>\n",
              "      <th>42506</th>\n",
              "      <td>sedan</td>\n",
              "      <td>petrol</td>\n",
              "      <td>S80</td>\n",
              "      <td>VOLVO</td>\n",
              "      <td>4WD</td>\n",
              "      <td>4</td>\n",
              "      <td>black</td>\n",
              "      <td>3</td>\n",
              "      <td>AT</td>\n",
              "    </tr>\n",
              "  </tbody>\n",
              "</table>\n",
              "</div>"
            ],
            "text/plain": [
              "          body_type    fuel  ... owners transmission\n",
              "41895         sedan  petrol  ...      3          AMT\n",
              "35099  SUV 5 doors.  petrol  ...      3           MT\n",
              "32658  SUV 5 doors.  diesel  ...      2           MT\n",
              "28805         sedan  petrol  ...      3           AT\n",
              "26948  SUV 5 doors.  petrol  ...      1          CVT\n",
              "4313          sedan  petrol  ...      2           AT\n",
              "42506         sedan  petrol  ...      3           AT\n",
              "\n",
              "[7 rows x 9 columns]"
            ]
          },
          "metadata": {},
          "execution_count": 29
        }
      ]
    },
    {
      "cell_type": "code",
      "metadata": {
        "id": "934e4260"
      },
      "source": [
        "# categorical features, that will stay in both datasets:\n",
        "cat_columns_common = [\"model_name\", \"body_type\"]\n",
        "\n",
        "data = to_categories(data, cat_columns_common)\n",
        "data_noouts = to_categories(data_noouts, cat_columns_common)\n"
      ],
      "id": "934e4260",
      "execution_count": 30,
      "outputs": []
    },
    {
      "cell_type": "code",
      "metadata": {
        "id": "f0ff9159",
        "outputId": "36158ed2-fd8a-4fa3-f00c-d1d118f1dc72",
        "colab": {
          "base_uri": "https://localhost:8080/"
        }
      },
      "source": [
        "cat_columns = list(set(cat_columns) - set(cat_columns_common))\n",
        "cat_columns\n"
      ],
      "id": "f0ff9159",
      "execution_count": 31,
      "outputs": [
        {
          "output_type": "execute_result",
          "data": {
            "text/plain": [
              "['brand', 'doors', 'owners', 'color', 'fuel', 'drive', 'transmission']"
            ]
          },
          "metadata": {},
          "execution_count": 31
        }
      ]
    },
    {
      "cell_type": "code",
      "metadata": {
        "id": "17da8ba0",
        "outputId": "ce890a06-894a-46e6-f4b2-0409cdb526b8",
        "colab": {
          "base_uri": "https://localhost:8080/",
          "height": 263
        }
      },
      "source": [
        "data[cat_columns_common].sample(7)"
      ],
      "id": "17da8ba0",
      "execution_count": 32,
      "outputs": [
        {
          "output_type": "execute_result",
          "data": {
            "text/html": [
              "<div>\n",
              "<style scoped>\n",
              "    .dataframe tbody tr th:only-of-type {\n",
              "        vertical-align: middle;\n",
              "    }\n",
              "\n",
              "    .dataframe tbody tr th {\n",
              "        vertical-align: top;\n",
              "    }\n",
              "\n",
              "    .dataframe thead th {\n",
              "        text-align: right;\n",
              "    }\n",
              "</style>\n",
              "<table border=\"1\" class=\"dataframe\">\n",
              "  <thead>\n",
              "    <tr style=\"text-align: right;\">\n",
              "      <th></th>\n",
              "      <th>model_name</th>\n",
              "      <th>body_type</th>\n",
              "    </tr>\n",
              "  </thead>\n",
              "  <tbody>\n",
              "    <tr>\n",
              "      <th>29953</th>\n",
              "      <td>413</td>\n",
              "      <td>0</td>\n",
              "    </tr>\n",
              "    <tr>\n",
              "      <th>68947</th>\n",
              "      <td>2</td>\n",
              "      <td>19</td>\n",
              "    </tr>\n",
              "    <tr>\n",
              "      <th>7787</th>\n",
              "      <td>458</td>\n",
              "      <td>8</td>\n",
              "    </tr>\n",
              "    <tr>\n",
              "      <th>26756</th>\n",
              "      <td>188</td>\n",
              "      <td>19</td>\n",
              "    </tr>\n",
              "    <tr>\n",
              "      <th>33855</th>\n",
              "      <td>245</td>\n",
              "      <td>0</td>\n",
              "    </tr>\n",
              "    <tr>\n",
              "      <th>10954</th>\n",
              "      <td>435</td>\n",
              "      <td>0</td>\n",
              "    </tr>\n",
              "    <tr>\n",
              "      <th>295</th>\n",
              "      <td>346</td>\n",
              "      <td>9</td>\n",
              "    </tr>\n",
              "  </tbody>\n",
              "</table>\n",
              "</div>"
            ],
            "text/plain": [
              "       model_name  body_type\n",
              "29953         413          0\n",
              "68947           2         19\n",
              "7787          458          8\n",
              "26756         188         19\n",
              "33855         245          0\n",
              "10954         435          0\n",
              "295           346          9"
            ]
          },
          "metadata": {},
          "execution_count": 32
        }
      ]
    },
    {
      "cell_type": "code",
      "metadata": {
        "id": "fb9baa7c",
        "outputId": "3a37a891-1d8e-4ec7-eecd-eaf57819e83f",
        "colab": {
          "base_uri": "https://localhost:8080/",
          "height": 263
        }
      },
      "source": [
        "data_noouts[cat_columns_common].sample(7)\n"
      ],
      "id": "fb9baa7c",
      "execution_count": 33,
      "outputs": [
        {
          "output_type": "execute_result",
          "data": {
            "text/html": [
              "<div>\n",
              "<style scoped>\n",
              "    .dataframe tbody tr th:only-of-type {\n",
              "        vertical-align: middle;\n",
              "    }\n",
              "\n",
              "    .dataframe tbody tr th {\n",
              "        vertical-align: top;\n",
              "    }\n",
              "\n",
              "    .dataframe thead th {\n",
              "        text-align: right;\n",
              "    }\n",
              "</style>\n",
              "<table border=\"1\" class=\"dataframe\">\n",
              "  <thead>\n",
              "    <tr style=\"text-align: right;\">\n",
              "      <th></th>\n",
              "      <th>model_name</th>\n",
              "      <th>body_type</th>\n",
              "    </tr>\n",
              "  </thead>\n",
              "  <tbody>\n",
              "    <tr>\n",
              "      <th>5409</th>\n",
              "      <td>17</td>\n",
              "      <td>19</td>\n",
              "    </tr>\n",
              "    <tr>\n",
              "      <th>36198</th>\n",
              "      <td>351</td>\n",
              "      <td>9</td>\n",
              "    </tr>\n",
              "    <tr>\n",
              "      <th>67775</th>\n",
              "      <td>254</td>\n",
              "      <td>0</td>\n",
              "    </tr>\n",
              "    <tr>\n",
              "      <th>39645</th>\n",
              "      <td>37</td>\n",
              "      <td>19</td>\n",
              "    </tr>\n",
              "    <tr>\n",
              "      <th>58865</th>\n",
              "      <td>370</td>\n",
              "      <td>19</td>\n",
              "    </tr>\n",
              "    <tr>\n",
              "      <th>39929</th>\n",
              "      <td>33</td>\n",
              "      <td>19</td>\n",
              "    </tr>\n",
              "    <tr>\n",
              "      <th>17825</th>\n",
              "      <td>99</td>\n",
              "      <td>19</td>\n",
              "    </tr>\n",
              "  </tbody>\n",
              "</table>\n",
              "</div>"
            ],
            "text/plain": [
              "       model_name  body_type\n",
              "5409           17         19\n",
              "36198         351          9\n",
              "67775         254          0\n",
              "39645          37         19\n",
              "58865         370         19\n",
              "39929          33         19\n",
              "17825          99         19"
            ]
          },
          "metadata": {},
          "execution_count": 33
        }
      ]
    },
    {
      "cell_type": "markdown",
      "metadata": {
        "id": "ce896804"
      },
      "source": [
        "##  >>> dummies:"
      ],
      "id": "ce896804"
    },
    {
      "cell_type": "markdown",
      "metadata": {
        "id": "16dfe7a0"
      },
      "source": [
        "process all the rest as dummies to a separate dataset:"
      ],
      "id": "16dfe7a0"
    },
    {
      "cell_type": "code",
      "metadata": {
        "id": "faa88c02"
      },
      "source": [
        "dum_columns = cat_columns\n"
      ],
      "id": "faa88c02",
      "execution_count": 34,
      "outputs": []
    },
    {
      "cell_type": "code",
      "metadata": {
        "scrolled": true,
        "id": "0ca58aa1"
      },
      "source": [
        "data_dum = to_dummies(data, dum_columns)\n"
      ],
      "id": "0ca58aa1",
      "execution_count": 35,
      "outputs": []
    },
    {
      "cell_type": "code",
      "metadata": {
        "scrolled": true,
        "id": "da2eb5c6",
        "outputId": "08bb34df-2043-44b5-f044-ef00d997f1fe",
        "colab": {
          "base_uri": "https://localhost:8080/"
        }
      },
      "source": [
        "data_dum.info()\n"
      ],
      "id": "da2eb5c6",
      "execution_count": 36,
      "outputs": [
        {
          "output_type": "stream",
          "name": "stdout",
          "text": [
            "<class 'pandas.core.frame.DataFrame'>\n",
            "RangeIndex: 69951 entries, 0 to 69950\n",
            "Data columns (total 66 columns):\n",
            " #   Column             Non-Null Count  Dtype  \n",
            "---  ------             --------------  -----  \n",
            " 0   model_name         69951 non-null  int16  \n",
            " 1   body_type          69951 non-null  int8   \n",
            " 2   engine_V           69951 non-null  float64\n",
            " 3   power              69951 non-null  float64\n",
            " 4   mileage            69951 non-null  float64\n",
            " 5   pass               69951 non-null  int64  \n",
            " 6   wheel              69951 non-null  int64  \n",
            " 7   price              69951 non-null  int64  \n",
            " 8   test_train         69951 non-null  object \n",
            " 9   model_age          69951 non-null  float64\n",
            " 10  new_model          69951 non-null  int64  \n",
            " 11  car_age            69951 non-null  float64\n",
            " 12  new_car            69951 non-null  int64  \n",
            " 13  retro              69951 non-null  int64  \n",
            " 14  raritet            69951 non-null  int64  \n",
            " 15  electrocar         69951 non-null  int64  \n",
            " 16  petrol_car         69951 non-null  int64  \n",
            " 17  1_owner            69951 non-null  int64  \n",
            " 18  brand__AUDI        69951 non-null  uint8  \n",
            " 19  brand__BMW         69951 non-null  uint8  \n",
            " 20  brand__HONDA       69951 non-null  uint8  \n",
            " 21  brand__INFINITI    69951 non-null  uint8  \n",
            " 22  brand__LEXUS       69951 non-null  uint8  \n",
            " 23  brand__MERCEDES    69951 non-null  uint8  \n",
            " 24  brand__MITSUBISHI  69951 non-null  uint8  \n",
            " 25  brand__NISSAN      69951 non-null  uint8  \n",
            " 26  brand__SKODA       69951 non-null  uint8  \n",
            " 27  brand__TOYOTA      69951 non-null  uint8  \n",
            " 28  brand__VOLKSWAGEN  69951 non-null  uint8  \n",
            " 29  brand__VOLVO       69951 non-null  uint8  \n",
            " 30  doors__0           69951 non-null  uint8  \n",
            " 31  doors__2           69951 non-null  uint8  \n",
            " 32  doors__3           69951 non-null  uint8  \n",
            " 33  doors__4           69951 non-null  uint8  \n",
            " 34  doors__5           69951 non-null  uint8  \n",
            " 35  owners__1          69951 non-null  uint8  \n",
            " 36  owners__2          69951 non-null  uint8  \n",
            " 37  owners__3          69951 non-null  uint8  \n",
            " 38  color__beige       69951 non-null  uint8  \n",
            " 39  color__black       69951 non-null  uint8  \n",
            " 40  color__blue        69951 non-null  uint8  \n",
            " 41  color__braun       69951 non-null  uint8  \n",
            " 42  color__gold        69951 non-null  uint8  \n",
            " 43  color__green       69951 non-null  uint8  \n",
            " 44  color__grey        69951 non-null  uint8  \n",
            " 45  color__light-blue  69951 non-null  uint8  \n",
            " 46  color__orange      69951 non-null  uint8  \n",
            " 47  color__purple      69951 non-null  uint8  \n",
            " 48  color__red         69951 non-null  uint8  \n",
            " 49  color__rose        69951 non-null  uint8  \n",
            " 50  color__silver      69951 non-null  uint8  \n",
            " 51  color__violet      69951 non-null  uint8  \n",
            " 52  color__white       69951 non-null  uint8  \n",
            " 53  color__yellow      69951 non-null  uint8  \n",
            " 54  fuel__diesel       69951 non-null  uint8  \n",
            " 55  fuel__electro      69951 non-null  uint8  \n",
            " 56  fuel__gas          69951 non-null  uint8  \n",
            " 57  fuel__hybrid       69951 non-null  uint8  \n",
            " 58  fuel__petrol       69951 non-null  uint8  \n",
            " 59  drive__4WD         69951 non-null  uint8  \n",
            " 60  drive__FWD         69951 non-null  uint8  \n",
            " 61  drive__RWD         69951 non-null  uint8  \n",
            " 62  transmission__AMT  69951 non-null  uint8  \n",
            " 63  transmission__AT   69951 non-null  uint8  \n",
            " 64  transmission__CVT  69951 non-null  uint8  \n",
            " 65  transmission__MT   69951 non-null  uint8  \n",
            "dtypes: float64(5), int16(1), int64(10), int8(1), object(1), uint8(48)\n",
            "memory usage: 11.9+ MB\n"
          ]
        }
      ]
    },
    {
      "cell_type": "code",
      "metadata": {
        "id": "ad8ee9ba",
        "outputId": "370c2cb2-5ab9-4d13-9353-89794efca5ba",
        "colab": {
          "base_uri": "https://localhost:8080/",
          "height": 115
        }
      },
      "source": [
        "data_noouts_dum = to_dummies(data_noouts, dum_columns)\n",
        "data_noouts_dum.sample()\n"
      ],
      "id": "ad8ee9ba",
      "execution_count": 37,
      "outputs": [
        {
          "output_type": "execute_result",
          "data": {
            "text/html": [
              "<div>\n",
              "<style scoped>\n",
              "    .dataframe tbody tr th:only-of-type {\n",
              "        vertical-align: middle;\n",
              "    }\n",
              "\n",
              "    .dataframe tbody tr th {\n",
              "        vertical-align: top;\n",
              "    }\n",
              "\n",
              "    .dataframe thead th {\n",
              "        text-align: right;\n",
              "    }\n",
              "</style>\n",
              "<table border=\"1\" class=\"dataframe\">\n",
              "  <thead>\n",
              "    <tr style=\"text-align: right;\">\n",
              "      <th></th>\n",
              "      <th>model_name</th>\n",
              "      <th>body_type</th>\n",
              "      <th>engine_V</th>\n",
              "      <th>power</th>\n",
              "      <th>mileage</th>\n",
              "      <th>pass</th>\n",
              "      <th>wheel</th>\n",
              "      <th>price</th>\n",
              "      <th>test_train</th>\n",
              "      <th>model_age</th>\n",
              "      <th>new_model</th>\n",
              "      <th>car_age</th>\n",
              "      <th>new_car</th>\n",
              "      <th>retro</th>\n",
              "      <th>raritet</th>\n",
              "      <th>electrocar</th>\n",
              "      <th>petrol_car</th>\n",
              "      <th>1_owner</th>\n",
              "      <th>brand__AUDI</th>\n",
              "      <th>brand__BMW</th>\n",
              "      <th>brand__HONDA</th>\n",
              "      <th>brand__INFINITI</th>\n",
              "      <th>brand__LEXUS</th>\n",
              "      <th>brand__MERCEDES</th>\n",
              "      <th>brand__MITSUBISHI</th>\n",
              "      <th>brand__NISSAN</th>\n",
              "      <th>brand__SKODA</th>\n",
              "      <th>brand__TOYOTA</th>\n",
              "      <th>brand__VOLKSWAGEN</th>\n",
              "      <th>brand__VOLVO</th>\n",
              "      <th>doors__0</th>\n",
              "      <th>doors__2</th>\n",
              "      <th>doors__3</th>\n",
              "      <th>doors__4</th>\n",
              "      <th>doors__5</th>\n",
              "      <th>owners__1</th>\n",
              "      <th>owners__2</th>\n",
              "      <th>owners__3</th>\n",
              "      <th>color__beige</th>\n",
              "      <th>color__black</th>\n",
              "      <th>color__blue</th>\n",
              "      <th>color__braun</th>\n",
              "      <th>color__gold</th>\n",
              "      <th>color__green</th>\n",
              "      <th>color__grey</th>\n",
              "      <th>color__light-blue</th>\n",
              "      <th>color__orange</th>\n",
              "      <th>color__purple</th>\n",
              "      <th>color__red</th>\n",
              "      <th>color__rose</th>\n",
              "      <th>color__silver</th>\n",
              "      <th>color__violet</th>\n",
              "      <th>color__white</th>\n",
              "      <th>color__yellow</th>\n",
              "      <th>fuel__diesel</th>\n",
              "      <th>fuel__electro</th>\n",
              "      <th>fuel__gas</th>\n",
              "      <th>fuel__hybrid</th>\n",
              "      <th>fuel__petrol</th>\n",
              "      <th>drive__4WD</th>\n",
              "      <th>drive__FWD</th>\n",
              "      <th>drive__RWD</th>\n",
              "      <th>transmission__AMT</th>\n",
              "      <th>transmission__AT</th>\n",
              "      <th>transmission__CVT</th>\n",
              "      <th>transmission__MT</th>\n",
              "    </tr>\n",
              "  </thead>\n",
              "  <tbody>\n",
              "    <tr>\n",
              "      <th>60867</th>\n",
              "      <td>377</td>\n",
              "      <td>0</td>\n",
              "      <td>1.504077</td>\n",
              "      <td>5.613128</td>\n",
              "      <td>12.33271</td>\n",
              "      <td>1</td>\n",
              "      <td>0</td>\n",
              "      <td>1600000</td>\n",
              "      <td>train</td>\n",
              "      <td>2.484907</td>\n",
              "      <td>0</td>\n",
              "      <td>2.484907</td>\n",
              "      <td>0</td>\n",
              "      <td>0</td>\n",
              "      <td>0</td>\n",
              "      <td>0</td>\n",
              "      <td>1</td>\n",
              "      <td>0</td>\n",
              "      <td>0</td>\n",
              "      <td>0</td>\n",
              "      <td>0</td>\n",
              "      <td>0</td>\n",
              "      <td>0</td>\n",
              "      <td>0</td>\n",
              "      <td>0</td>\n",
              "      <td>0</td>\n",
              "      <td>0</td>\n",
              "      <td>1</td>\n",
              "      <td>0</td>\n",
              "      <td>0</td>\n",
              "      <td>0</td>\n",
              "      <td>0</td>\n",
              "      <td>0</td>\n",
              "      <td>0</td>\n",
              "      <td>1</td>\n",
              "      <td>0</td>\n",
              "      <td>1</td>\n",
              "      <td>0</td>\n",
              "      <td>0</td>\n",
              "      <td>0</td>\n",
              "      <td>0</td>\n",
              "      <td>0</td>\n",
              "      <td>0</td>\n",
              "      <td>0</td>\n",
              "      <td>1</td>\n",
              "      <td>0</td>\n",
              "      <td>0</td>\n",
              "      <td>0</td>\n",
              "      <td>0</td>\n",
              "      <td>0</td>\n",
              "      <td>0</td>\n",
              "      <td>0</td>\n",
              "      <td>0</td>\n",
              "      <td>0</td>\n",
              "      <td>0</td>\n",
              "      <td>0</td>\n",
              "      <td>0</td>\n",
              "      <td>0</td>\n",
              "      <td>1</td>\n",
              "      <td>1</td>\n",
              "      <td>0</td>\n",
              "      <td>0</td>\n",
              "      <td>0</td>\n",
              "      <td>1</td>\n",
              "      <td>0</td>\n",
              "      <td>0</td>\n",
              "    </tr>\n",
              "  </tbody>\n",
              "</table>\n",
              "</div>"
            ],
            "text/plain": [
              "       model_name  body_type  ...  transmission__CVT  transmission__MT\n",
              "60867         377          0  ...                  0                 0\n",
              "\n",
              "[1 rows x 66 columns]"
            ]
          },
          "metadata": {},
          "execution_count": 37
        }
      ]
    },
    {
      "cell_type": "code",
      "metadata": {
        "scrolled": true,
        "id": "de1b21fb",
        "outputId": "f2221094-8d19-4715-c9a1-0bbff96dd3e3",
        "colab": {
          "base_uri": "https://localhost:8080/"
        }
      },
      "source": [
        "data_noouts_dum.info()\n"
      ],
      "id": "de1b21fb",
      "execution_count": 38,
      "outputs": [
        {
          "output_type": "stream",
          "name": "stdout",
          "text": [
            "<class 'pandas.core.frame.DataFrame'>\n",
            "RangeIndex: 69862 entries, 0 to 69861\n",
            "Data columns (total 66 columns):\n",
            " #   Column             Non-Null Count  Dtype  \n",
            "---  ------             --------------  -----  \n",
            " 0   model_name         69862 non-null  int16  \n",
            " 1   body_type          69862 non-null  int8   \n",
            " 2   engine_V           69862 non-null  float64\n",
            " 3   power              69862 non-null  float64\n",
            " 4   mileage            69862 non-null  float64\n",
            " 5   pass               69862 non-null  int64  \n",
            " 6   wheel              69862 non-null  int64  \n",
            " 7   price              69862 non-null  int64  \n",
            " 8   test_train         69862 non-null  object \n",
            " 9   model_age          69862 non-null  float64\n",
            " 10  new_model          69862 non-null  int64  \n",
            " 11  car_age            69862 non-null  float64\n",
            " 12  new_car            69862 non-null  int64  \n",
            " 13  retro              69862 non-null  int64  \n",
            " 14  raritet            69862 non-null  int64  \n",
            " 15  electrocar         69862 non-null  int64  \n",
            " 16  petrol_car         69862 non-null  int64  \n",
            " 17  1_owner            69862 non-null  int64  \n",
            " 18  brand__AUDI        69862 non-null  uint8  \n",
            " 19  brand__BMW         69862 non-null  uint8  \n",
            " 20  brand__HONDA       69862 non-null  uint8  \n",
            " 21  brand__INFINITI    69862 non-null  uint8  \n",
            " 22  brand__LEXUS       69862 non-null  uint8  \n",
            " 23  brand__MERCEDES    69862 non-null  uint8  \n",
            " 24  brand__MITSUBISHI  69862 non-null  uint8  \n",
            " 25  brand__NISSAN      69862 non-null  uint8  \n",
            " 26  brand__SKODA       69862 non-null  uint8  \n",
            " 27  brand__TOYOTA      69862 non-null  uint8  \n",
            " 28  brand__VOLKSWAGEN  69862 non-null  uint8  \n",
            " 29  brand__VOLVO       69862 non-null  uint8  \n",
            " 30  doors__0           69862 non-null  uint8  \n",
            " 31  doors__2           69862 non-null  uint8  \n",
            " 32  doors__3           69862 non-null  uint8  \n",
            " 33  doors__4           69862 non-null  uint8  \n",
            " 34  doors__5           69862 non-null  uint8  \n",
            " 35  owners__1          69862 non-null  uint8  \n",
            " 36  owners__2          69862 non-null  uint8  \n",
            " 37  owners__3          69862 non-null  uint8  \n",
            " 38  color__beige       69862 non-null  uint8  \n",
            " 39  color__black       69862 non-null  uint8  \n",
            " 40  color__blue        69862 non-null  uint8  \n",
            " 41  color__braun       69862 non-null  uint8  \n",
            " 42  color__gold        69862 non-null  uint8  \n",
            " 43  color__green       69862 non-null  uint8  \n",
            " 44  color__grey        69862 non-null  uint8  \n",
            " 45  color__light-blue  69862 non-null  uint8  \n",
            " 46  color__orange      69862 non-null  uint8  \n",
            " 47  color__purple      69862 non-null  uint8  \n",
            " 48  color__red         69862 non-null  uint8  \n",
            " 49  color__rose        69862 non-null  uint8  \n",
            " 50  color__silver      69862 non-null  uint8  \n",
            " 51  color__violet      69862 non-null  uint8  \n",
            " 52  color__white       69862 non-null  uint8  \n",
            " 53  color__yellow      69862 non-null  uint8  \n",
            " 54  fuel__diesel       69862 non-null  uint8  \n",
            " 55  fuel__electro      69862 non-null  uint8  \n",
            " 56  fuel__gas          69862 non-null  uint8  \n",
            " 57  fuel__hybrid       69862 non-null  uint8  \n",
            " 58  fuel__petrol       69862 non-null  uint8  \n",
            " 59  drive__4WD         69862 non-null  uint8  \n",
            " 60  drive__FWD         69862 non-null  uint8  \n",
            " 61  drive__RWD         69862 non-null  uint8  \n",
            " 62  transmission__AMT  69862 non-null  uint8  \n",
            " 63  transmission__AT   69862 non-null  uint8  \n",
            " 64  transmission__CVT  69862 non-null  uint8  \n",
            " 65  transmission__MT   69862 non-null  uint8  \n",
            "dtypes: float64(5), int16(1), int64(10), int8(1), object(1), uint8(48)\n",
            "memory usage: 11.9+ MB\n"
          ]
        }
      ]
    },
    {
      "cell_type": "markdown",
      "metadata": {
        "id": "43bc3500"
      },
      "source": [
        "#### data_dummies datasets (with and without outliers) are ready for ML. "
      ],
      "id": "43bc3500"
    },
    {
      "cell_type": "markdown",
      "metadata": {
        "id": "db122922"
      },
      "source": [
        "## SAVE DATASETS:"
      ],
      "id": "db122922"
    },
    {
      "cell_type": "code",
      "metadata": {
        "id": "0cbe82bf"
      },
      "source": [
        "data_dum.to_csv(path + \"ML/data_dum.csv\", index=False)\n",
        "data_noouts_dum.to_csv(path + \"ML/data_noouts_dum.csv\", index=False)\n"
      ],
      "id": "0cbe82bf",
      "execution_count": 39,
      "outputs": []
    },
    {
      "cell_type": "markdown",
      "metadata": {
        "id": "88954883"
      },
      "source": [
        "Back to datasets without dummies: data and data_noouts"
      ],
      "id": "88954883"
    },
    {
      "cell_type": "code",
      "metadata": {
        "id": "89fd76cf",
        "outputId": "d1212b5d-dc0d-4548-a976-b15c3f70b614",
        "colab": {
          "base_uri": "https://localhost:8080/",
          "height": 263
        }
      },
      "source": [
        "data[cat_columns].sample(7)\n"
      ],
      "id": "89fd76cf",
      "execution_count": 40,
      "outputs": [
        {
          "output_type": "execute_result",
          "data": {
            "text/html": [
              "<div>\n",
              "<style scoped>\n",
              "    .dataframe tbody tr th:only-of-type {\n",
              "        vertical-align: middle;\n",
              "    }\n",
              "\n",
              "    .dataframe tbody tr th {\n",
              "        vertical-align: top;\n",
              "    }\n",
              "\n",
              "    .dataframe thead th {\n",
              "        text-align: right;\n",
              "    }\n",
              "</style>\n",
              "<table border=\"1\" class=\"dataframe\">\n",
              "  <thead>\n",
              "    <tr style=\"text-align: right;\">\n",
              "      <th></th>\n",
              "      <th>brand</th>\n",
              "      <th>doors</th>\n",
              "      <th>owners</th>\n",
              "      <th>color</th>\n",
              "      <th>fuel</th>\n",
              "      <th>drive</th>\n",
              "      <th>transmission</th>\n",
              "    </tr>\n",
              "  </thead>\n",
              "  <tbody>\n",
              "    <tr>\n",
              "      <th>19254</th>\n",
              "      <td>INFINITI</td>\n",
              "      <td>5</td>\n",
              "      <td>1</td>\n",
              "      <td>black</td>\n",
              "      <td>petrol</td>\n",
              "      <td>4WD</td>\n",
              "      <td>CVT</td>\n",
              "    </tr>\n",
              "    <tr>\n",
              "      <th>1711</th>\n",
              "      <td>SKODA</td>\n",
              "      <td>5</td>\n",
              "      <td>2</td>\n",
              "      <td>blue</td>\n",
              "      <td>petrol</td>\n",
              "      <td>FWD</td>\n",
              "      <td>AMT</td>\n",
              "    </tr>\n",
              "    <tr>\n",
              "      <th>42218</th>\n",
              "      <td>VOLVO</td>\n",
              "      <td>4</td>\n",
              "      <td>2</td>\n",
              "      <td>white</td>\n",
              "      <td>petrol</td>\n",
              "      <td>FWD</td>\n",
              "      <td>MT</td>\n",
              "    </tr>\n",
              "    <tr>\n",
              "      <th>5160</th>\n",
              "      <td>AUDI</td>\n",
              "      <td>4</td>\n",
              "      <td>3</td>\n",
              "      <td>grey</td>\n",
              "      <td>diesel</td>\n",
              "      <td>FWD</td>\n",
              "      <td>CVT</td>\n",
              "    </tr>\n",
              "    <tr>\n",
              "      <th>26115</th>\n",
              "      <td>TOYOTA</td>\n",
              "      <td>4</td>\n",
              "      <td>1</td>\n",
              "      <td>white</td>\n",
              "      <td>petrol</td>\n",
              "      <td>FWD</td>\n",
              "      <td>CVT</td>\n",
              "    </tr>\n",
              "    <tr>\n",
              "      <th>29607</th>\n",
              "      <td>VOLKSWAGEN</td>\n",
              "      <td>5</td>\n",
              "      <td>3</td>\n",
              "      <td>light-blue</td>\n",
              "      <td>diesel</td>\n",
              "      <td>FWD</td>\n",
              "      <td>MT</td>\n",
              "    </tr>\n",
              "    <tr>\n",
              "      <th>56223</th>\n",
              "      <td>TOYOTA</td>\n",
              "      <td>5</td>\n",
              "      <td>3</td>\n",
              "      <td>silver</td>\n",
              "      <td>petrol</td>\n",
              "      <td>FWD</td>\n",
              "      <td>AT</td>\n",
              "    </tr>\n",
              "  </tbody>\n",
              "</table>\n",
              "</div>"
            ],
            "text/plain": [
              "            brand  doors  owners       color    fuel drive transmission\n",
              "19254    INFINITI      5       1       black  petrol   4WD          CVT\n",
              "1711        SKODA      5       2        blue  petrol   FWD          AMT\n",
              "42218       VOLVO      4       2       white  petrol   FWD           MT\n",
              "5160         AUDI      4       3        grey  diesel   FWD          CVT\n",
              "26115      TOYOTA      4       1       white  petrol   FWD          CVT\n",
              "29607  VOLKSWAGEN      5       3  light-blue  diesel   FWD           MT\n",
              "56223      TOYOTA      5       3      silver  petrol   FWD           AT"
            ]
          },
          "metadata": {},
          "execution_count": 40
        }
      ]
    },
    {
      "cell_type": "code",
      "metadata": {
        "id": "14dfec07",
        "outputId": "9157f15e-118e-4b48-b9a4-b2f7f5ecfa18",
        "colab": {
          "base_uri": "https://localhost:8080/",
          "height": 263
        }
      },
      "source": [
        "data_noouts[cat_columns].sample(7)\n"
      ],
      "id": "14dfec07",
      "execution_count": 41,
      "outputs": [
        {
          "output_type": "execute_result",
          "data": {
            "text/html": [
              "<div>\n",
              "<style scoped>\n",
              "    .dataframe tbody tr th:only-of-type {\n",
              "        vertical-align: middle;\n",
              "    }\n",
              "\n",
              "    .dataframe tbody tr th {\n",
              "        vertical-align: top;\n",
              "    }\n",
              "\n",
              "    .dataframe thead th {\n",
              "        text-align: right;\n",
              "    }\n",
              "</style>\n",
              "<table border=\"1\" class=\"dataframe\">\n",
              "  <thead>\n",
              "    <tr style=\"text-align: right;\">\n",
              "      <th></th>\n",
              "      <th>brand</th>\n",
              "      <th>doors</th>\n",
              "      <th>owners</th>\n",
              "      <th>color</th>\n",
              "      <th>fuel</th>\n",
              "      <th>drive</th>\n",
              "      <th>transmission</th>\n",
              "    </tr>\n",
              "  </thead>\n",
              "  <tbody>\n",
              "    <tr>\n",
              "      <th>69669</th>\n",
              "      <td>MITSUBISHI</td>\n",
              "      <td>3</td>\n",
              "      <td>3</td>\n",
              "      <td>purple</td>\n",
              "      <td>petrol</td>\n",
              "      <td>FWD</td>\n",
              "      <td>MT</td>\n",
              "    </tr>\n",
              "    <tr>\n",
              "      <th>59176</th>\n",
              "      <td>TOYOTA</td>\n",
              "      <td>5</td>\n",
              "      <td>3</td>\n",
              "      <td>grey</td>\n",
              "      <td>petrol</td>\n",
              "      <td>4WD</td>\n",
              "      <td>AT</td>\n",
              "    </tr>\n",
              "    <tr>\n",
              "      <th>31356</th>\n",
              "      <td>VOLVO</td>\n",
              "      <td>5</td>\n",
              "      <td>3</td>\n",
              "      <td>green</td>\n",
              "      <td>petrol</td>\n",
              "      <td>4WD</td>\n",
              "      <td>AT</td>\n",
              "    </tr>\n",
              "    <tr>\n",
              "      <th>29110</th>\n",
              "      <td>MITSUBISHI</td>\n",
              "      <td>4</td>\n",
              "      <td>3</td>\n",
              "      <td>silver</td>\n",
              "      <td>petrol</td>\n",
              "      <td>FWD</td>\n",
              "      <td>AT</td>\n",
              "    </tr>\n",
              "    <tr>\n",
              "      <th>29716</th>\n",
              "      <td>BMW</td>\n",
              "      <td>4</td>\n",
              "      <td>2</td>\n",
              "      <td>white</td>\n",
              "      <td>diesel</td>\n",
              "      <td>RWD</td>\n",
              "      <td>AT</td>\n",
              "    </tr>\n",
              "    <tr>\n",
              "      <th>47574</th>\n",
              "      <td>BMW</td>\n",
              "      <td>5</td>\n",
              "      <td>2</td>\n",
              "      <td>white</td>\n",
              "      <td>diesel</td>\n",
              "      <td>4WD</td>\n",
              "      <td>AT</td>\n",
              "    </tr>\n",
              "    <tr>\n",
              "      <th>2369</th>\n",
              "      <td>SKODA</td>\n",
              "      <td>5</td>\n",
              "      <td>2</td>\n",
              "      <td>white</td>\n",
              "      <td>petrol</td>\n",
              "      <td>FWD</td>\n",
              "      <td>AT</td>\n",
              "    </tr>\n",
              "  </tbody>\n",
              "</table>\n",
              "</div>"
            ],
            "text/plain": [
              "            brand  doors  owners   color    fuel drive transmission\n",
              "69669  MITSUBISHI      3       3  purple  petrol   FWD           MT\n",
              "59176      TOYOTA      5       3    grey  petrol   4WD           AT\n",
              "31356       VOLVO      5       3   green  petrol   4WD           AT\n",
              "29110  MITSUBISHI      4       3  silver  petrol   FWD           AT\n",
              "29716         BMW      4       2   white  diesel   RWD           AT\n",
              "47574         BMW      5       2   white  diesel   4WD           AT\n",
              "2369        SKODA      5       2   white  petrol   FWD           AT"
            ]
          },
          "metadata": {},
          "execution_count": 41
        }
      ]
    },
    {
      "cell_type": "markdown",
      "metadata": {
        "id": "04b4035d"
      },
      "source": [
        "looks good, process both datasets: turn the rest categorical features to numbers\n"
      ],
      "id": "04b4035d"
    },
    {
      "cell_type": "code",
      "metadata": {
        "id": "488aab53"
      },
      "source": [
        "# process:\n",
        "data = to_categories(data, cat_columns)\n",
        "data_noouts = to_categories(data_noouts, cat_columns)\n"
      ],
      "id": "488aab53",
      "execution_count": 42,
      "outputs": []
    },
    {
      "cell_type": "code",
      "metadata": {
        "id": "5b7faa5e",
        "outputId": "ededa2d7-0c83-406f-aa78-33dfa24fd879"
      },
      "source": [
        "data[cat_columns].sample(7)\n"
      ],
      "id": "5b7faa5e",
      "execution_count": null,
      "outputs": [
        {
          "data": {
            "text/html": [
              "<div>\n",
              "<style scoped>\n",
              "    .dataframe tbody tr th:only-of-type {\n",
              "        vertical-align: middle;\n",
              "    }\n",
              "\n",
              "    .dataframe tbody tr th {\n",
              "        vertical-align: top;\n",
              "    }\n",
              "\n",
              "    .dataframe thead th {\n",
              "        text-align: right;\n",
              "    }\n",
              "</style>\n",
              "<table border=\"1\" class=\"dataframe\">\n",
              "  <thead>\n",
              "    <tr style=\"text-align: right;\">\n",
              "      <th></th>\n",
              "      <th>doors</th>\n",
              "      <th>transmission</th>\n",
              "      <th>drive</th>\n",
              "      <th>color</th>\n",
              "      <th>brand</th>\n",
              "      <th>fuel</th>\n",
              "      <th>owners</th>\n",
              "    </tr>\n",
              "  </thead>\n",
              "  <tbody>\n",
              "    <tr>\n",
              "      <th>56478</th>\n",
              "      <td>3</td>\n",
              "      <td>1</td>\n",
              "      <td>1</td>\n",
              "      <td>14</td>\n",
              "      <td>9</td>\n",
              "      <td>4</td>\n",
              "      <td>0</td>\n",
              "    </tr>\n",
              "    <tr>\n",
              "      <th>29180</th>\n",
              "      <td>4</td>\n",
              "      <td>1</td>\n",
              "      <td>0</td>\n",
              "      <td>14</td>\n",
              "      <td>6</td>\n",
              "      <td>4</td>\n",
              "      <td>2</td>\n",
              "    </tr>\n",
              "    <tr>\n",
              "      <th>38729</th>\n",
              "      <td>2</td>\n",
              "      <td>3</td>\n",
              "      <td>1</td>\n",
              "      <td>1</td>\n",
              "      <td>0</td>\n",
              "      <td>4</td>\n",
              "      <td>2</td>\n",
              "    </tr>\n",
              "    <tr>\n",
              "      <th>66553</th>\n",
              "      <td>3</td>\n",
              "      <td>1</td>\n",
              "      <td>0</td>\n",
              "      <td>8</td>\n",
              "      <td>11</td>\n",
              "      <td>4</td>\n",
              "      <td>2</td>\n",
              "    </tr>\n",
              "    <tr>\n",
              "      <th>13305</th>\n",
              "      <td>4</td>\n",
              "      <td>1</td>\n",
              "      <td>0</td>\n",
              "      <td>1</td>\n",
              "      <td>5</td>\n",
              "      <td>4</td>\n",
              "      <td>0</td>\n",
              "    </tr>\n",
              "    <tr>\n",
              "      <th>22104</th>\n",
              "      <td>1</td>\n",
              "      <td>0</td>\n",
              "      <td>0</td>\n",
              "      <td>14</td>\n",
              "      <td>0</td>\n",
              "      <td>4</td>\n",
              "      <td>2</td>\n",
              "    </tr>\n",
              "    <tr>\n",
              "      <th>17802</th>\n",
              "      <td>3</td>\n",
              "      <td>1</td>\n",
              "      <td>1</td>\n",
              "      <td>14</td>\n",
              "      <td>10</td>\n",
              "      <td>4</td>\n",
              "      <td>0</td>\n",
              "    </tr>\n",
              "  </tbody>\n",
              "</table>\n",
              "</div>"
            ],
            "text/plain": [
              "       doors  transmission  drive  color  brand  fuel  owners\n",
              "56478      3             1      1     14      9     4       0\n",
              "29180      4             1      0     14      6     4       2\n",
              "38729      2             3      1      1      0     4       2\n",
              "66553      3             1      0      8     11     4       2\n",
              "13305      4             1      0      1      5     4       0\n",
              "22104      1             0      0     14      0     4       2\n",
              "17802      3             1      1     14     10     4       0"
            ]
          },
          "execution_count": 40,
          "metadata": {},
          "output_type": "execute_result"
        }
      ]
    },
    {
      "cell_type": "code",
      "metadata": {
        "id": "04c44b74",
        "outputId": "5e959aaa-0df4-4e21-89ac-60d9604b0a73",
        "colab": {
          "base_uri": "https://localhost:8080/",
          "height": 263
        }
      },
      "source": [
        "data_noouts[cat_columns].sample(7)\n"
      ],
      "id": "04c44b74",
      "execution_count": 43,
      "outputs": [
        {
          "output_type": "execute_result",
          "data": {
            "text/html": [
              "<div>\n",
              "<style scoped>\n",
              "    .dataframe tbody tr th:only-of-type {\n",
              "        vertical-align: middle;\n",
              "    }\n",
              "\n",
              "    .dataframe tbody tr th {\n",
              "        vertical-align: top;\n",
              "    }\n",
              "\n",
              "    .dataframe thead th {\n",
              "        text-align: right;\n",
              "    }\n",
              "</style>\n",
              "<table border=\"1\" class=\"dataframe\">\n",
              "  <thead>\n",
              "    <tr style=\"text-align: right;\">\n",
              "      <th></th>\n",
              "      <th>brand</th>\n",
              "      <th>doors</th>\n",
              "      <th>owners</th>\n",
              "      <th>color</th>\n",
              "      <th>fuel</th>\n",
              "      <th>drive</th>\n",
              "      <th>transmission</th>\n",
              "    </tr>\n",
              "  </thead>\n",
              "  <tbody>\n",
              "    <tr>\n",
              "      <th>45461</th>\n",
              "      <td>11</td>\n",
              "      <td>3</td>\n",
              "      <td>2</td>\n",
              "      <td>1</td>\n",
              "      <td>4</td>\n",
              "      <td>1</td>\n",
              "      <td>1</td>\n",
              "    </tr>\n",
              "    <tr>\n",
              "      <th>55310</th>\n",
              "      <td>5</td>\n",
              "      <td>4</td>\n",
              "      <td>1</td>\n",
              "      <td>1</td>\n",
              "      <td>4</td>\n",
              "      <td>1</td>\n",
              "      <td>2</td>\n",
              "    </tr>\n",
              "    <tr>\n",
              "      <th>48405</th>\n",
              "      <td>1</td>\n",
              "      <td>3</td>\n",
              "      <td>2</td>\n",
              "      <td>14</td>\n",
              "      <td>4</td>\n",
              "      <td>2</td>\n",
              "      <td>3</td>\n",
              "    </tr>\n",
              "    <tr>\n",
              "      <th>50665</th>\n",
              "      <td>7</td>\n",
              "      <td>4</td>\n",
              "      <td>1</td>\n",
              "      <td>3</td>\n",
              "      <td>4</td>\n",
              "      <td>0</td>\n",
              "      <td>2</td>\n",
              "    </tr>\n",
              "    <tr>\n",
              "      <th>59216</th>\n",
              "      <td>9</td>\n",
              "      <td>4</td>\n",
              "      <td>2</td>\n",
              "      <td>1</td>\n",
              "      <td>4</td>\n",
              "      <td>0</td>\n",
              "      <td>1</td>\n",
              "    </tr>\n",
              "    <tr>\n",
              "      <th>4359</th>\n",
              "      <td>0</td>\n",
              "      <td>3</td>\n",
              "      <td>1</td>\n",
              "      <td>3</td>\n",
              "      <td>4</td>\n",
              "      <td>1</td>\n",
              "      <td>3</td>\n",
              "    </tr>\n",
              "    <tr>\n",
              "      <th>62938</th>\n",
              "      <td>4</td>\n",
              "      <td>3</td>\n",
              "      <td>2</td>\n",
              "      <td>12</td>\n",
              "      <td>4</td>\n",
              "      <td>2</td>\n",
              "      <td>1</td>\n",
              "    </tr>\n",
              "  </tbody>\n",
              "</table>\n",
              "</div>"
            ],
            "text/plain": [
              "       brand  doors  owners  color  fuel  drive  transmission\n",
              "45461     11      3       2      1     4      1             1\n",
              "55310      5      4       1      1     4      1             2\n",
              "48405      1      3       2     14     4      2             3\n",
              "50665      7      4       1      3     4      0             2\n",
              "59216      9      4       2      1     4      0             1\n",
              "4359       0      3       1      3     4      1             3\n",
              "62938      4      3       2     12     4      2             1"
            ]
          },
          "metadata": {},
          "execution_count": 43
        }
      ]
    },
    {
      "cell_type": "code",
      "metadata": {
        "id": "480850c2",
        "outputId": "02db984a-ddd9-402a-9f58-c1a1bfecab9d",
        "colab": {
          "base_uri": "https://localhost:8080/"
        }
      },
      "source": [
        "data.info()\n"
      ],
      "id": "480850c2",
      "execution_count": 44,
      "outputs": [
        {
          "output_type": "stream",
          "name": "stdout",
          "text": [
            "<class 'pandas.core.frame.DataFrame'>\n",
            "RangeIndex: 69951 entries, 0 to 69950\n",
            "Data columns (total 25 columns):\n",
            " #   Column        Non-Null Count  Dtype  \n",
            "---  ------        --------------  -----  \n",
            " 0   brand         69951 non-null  int8   \n",
            " 1   model_name    69951 non-null  int16  \n",
            " 2   body_type     69951 non-null  int8   \n",
            " 3   doors         69951 non-null  int8   \n",
            " 4   color         69951 non-null  int8   \n",
            " 5   engine_V      69951 non-null  float64\n",
            " 6   power         69951 non-null  float64\n",
            " 7   fuel          69951 non-null  int8   \n",
            " 8   mileage       69951 non-null  float64\n",
            " 9   transmission  69951 non-null  int8   \n",
            " 10  owners        69951 non-null  int8   \n",
            " 11  pass          69951 non-null  int64  \n",
            " 12  drive         69951 non-null  int8   \n",
            " 13  wheel         69951 non-null  int64  \n",
            " 14  price         69951 non-null  int64  \n",
            " 15  test_train    69951 non-null  object \n",
            " 16  model_age     69951 non-null  float64\n",
            " 17  new_model     69951 non-null  int64  \n",
            " 18  car_age       69951 non-null  float64\n",
            " 19  new_car       69951 non-null  int64  \n",
            " 20  retro         69951 non-null  int64  \n",
            " 21  raritet       69951 non-null  int64  \n",
            " 22  electrocar    69951 non-null  int64  \n",
            " 23  petrol_car    69951 non-null  int64  \n",
            " 24  1_owner       69951 non-null  int64  \n",
            "dtypes: float64(5), int16(1), int64(10), int8(8), object(1)\n",
            "memory usage: 9.2+ MB\n"
          ]
        }
      ]
    },
    {
      "cell_type": "code",
      "metadata": {
        "id": "4e2676b3",
        "outputId": "f4b335fd-0ee8-4806-ad3e-2d4d99457675",
        "colab": {
          "base_uri": "https://localhost:8080/"
        }
      },
      "source": [
        "data_noouts.info()\n"
      ],
      "id": "4e2676b3",
      "execution_count": 45,
      "outputs": [
        {
          "output_type": "stream",
          "name": "stdout",
          "text": [
            "<class 'pandas.core.frame.DataFrame'>\n",
            "RangeIndex: 69862 entries, 0 to 69861\n",
            "Data columns (total 25 columns):\n",
            " #   Column        Non-Null Count  Dtype  \n",
            "---  ------        --------------  -----  \n",
            " 0   brand         69862 non-null  int8   \n",
            " 1   model_name    69862 non-null  int16  \n",
            " 2   body_type     69862 non-null  int8   \n",
            " 3   doors         69862 non-null  int8   \n",
            " 4   color         69862 non-null  int8   \n",
            " 5   engine_V      69862 non-null  float64\n",
            " 6   power         69862 non-null  float64\n",
            " 7   fuel          69862 non-null  int8   \n",
            " 8   mileage       69862 non-null  float64\n",
            " 9   transmission  69862 non-null  int8   \n",
            " 10  owners        69862 non-null  int8   \n",
            " 11  pass          69862 non-null  int64  \n",
            " 12  drive         69862 non-null  int8   \n",
            " 13  wheel         69862 non-null  int64  \n",
            " 14  price         69862 non-null  int64  \n",
            " 15  test_train    69862 non-null  object \n",
            " 16  model_age     69862 non-null  float64\n",
            " 17  new_model     69862 non-null  int64  \n",
            " 18  car_age       69862 non-null  float64\n",
            " 19  new_car       69862 non-null  int64  \n",
            " 20  retro         69862 non-null  int64  \n",
            " 21  raritet       69862 non-null  int64  \n",
            " 22  electrocar    69862 non-null  int64  \n",
            " 23  petrol_car    69862 non-null  int64  \n",
            " 24  1_owner       69862 non-null  int64  \n",
            "dtypes: float64(5), int16(1), int64(10), int8(8), object(1)\n",
            "memory usage: 9.2+ MB\n"
          ]
        }
      ]
    },
    {
      "cell_type": "markdown",
      "metadata": {
        "id": "2ff2e63f"
      },
      "source": [
        "## SAVE DATASETS:"
      ],
      "id": "2ff2e63f"
    },
    {
      "cell_type": "code",
      "metadata": {
        "id": "7f5068d3"
      },
      "source": [
        "data.to_csv(path + \"ML/data_ML.csv\", index=False)\n",
        "data_noouts.to_csv(path + \"ML/data_noouts.csv\", index=False)"
      ],
      "id": "7f5068d3",
      "execution_count": 46,
      "outputs": []
    },
    {
      "cell_type": "markdown",
      "metadata": {
        "id": "f61636a5"
      },
      "source": [
        "next >>> 5. ML"
      ],
      "id": "f61636a5"
    },
    {
      "cell_type": "code",
      "metadata": {
        "id": "3a504e03"
      },
      "source": [
        ""
      ],
      "id": "3a504e03",
      "execution_count": null,
      "outputs": []
    }
  ]
}